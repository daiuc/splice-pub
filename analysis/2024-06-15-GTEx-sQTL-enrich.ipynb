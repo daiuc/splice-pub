{
 "cells": [
  {
   "cell_type": "raw",
   "metadata": {
    "vscode": {
     "languageId": "raw"
    }
   },
   "source": [
    "---\n",
    "title: GTEx sQTL enrichment analysis\n",
    "date: 2024-6-15\n",
    "categories: ['qtl']\n",
    "code-fold: true\n",
    "\n",
    "---"
   ]
  },
  {
   "cell_type": "code",
   "execution_count": 3,
   "metadata": {
    "vscode": {
     "languageId": "r"
    }
   },
   "outputs": [],
   "source": [
    "#| tabs: [parameters]\n",
    "\n",
    "FDR <- 0.1\n"
   ]
  },
  {
   "cell_type": "code",
   "execution_count": 2,
   "metadata": {
    "vscode": {
     "languageId": "r"
    }
   },
   "outputs": [],
   "source": [
    "setwd(\"/project/yangili1/cdai/splice-pub/analysis\")\n"
   ]
  },
  {
   "cell_type": "code",
   "execution_count": 115,
   "metadata": {
    "vscode": {
     "languageId": "r"
    }
   },
   "outputs": [],
   "source": [
    "#| label: setup\n",
    "#| include: false\n",
    "\n",
    "library(tidyverse)\n",
    "library(data.table)\n",
    "library(glue)\n",
    "\n",
    "library(cowplot)\n",
    "\n",
    "\n",
    "library(GenomicRanges)\n",
    "library(bedtoolsr)\n"
   ]
  },
  {
   "cell_type": "code",
   "execution_count": 243,
   "metadata": {
    "vscode": {
     "languageId": "r"
    }
   },
   "outputs": [],
   "source": [
    "multiqq <- function(pvalues) {\n",
    "  library(foreach)\n",
    "  if (is.null(names(pvalues))) {\n",
    "    names(pvalues) <- seq_along(pvalues)\n",
    "  }\n",
    "  punif <- -log10(runif(max(sapply(pvalues, length))))\n",
    "  df <- do.call(rbind, foreach(i = seq_len(length(pvalues))) %do% {\n",
    "    df <- as.data.frame(\n",
    "      qqplot(\n",
    "        x = punif[1:length(pvalues[[i]])],\n",
    "        y = -log10(pvalues[[i]]),\n",
    "        plot.it = FALSE\n",
    "      )\n",
    "    )\n",
    "    df$group <- names(pvalues)[i]\n",
    "    df\n",
    "  })\n",
    "\n",
    "  df$group <- factor(df$group, names(pvalues))\n",
    "  ggplot(df, aes(x, y, col = group)) +\n",
    "    geom_point() +\n",
    "    geom_abline(\n",
    "      intercept = 0,\n",
    "      slope = 1\n",
    "    ) +\n",
    "    xlab(\"Expected -log10(p)\") +\n",
    "    ylab(\"Observed -log10(p)\")\n",
    "}\n"
   ]
  },
  {
   "cell_type": "code",
   "execution_count": 5,
   "metadata": {
    "vscode": {
     "languageId": "r"
    }
   },
   "outputs": [],
   "source": [
    "addLabels <- function(dt) {\n",
    "  pid_split <- str_split(dt$phenotype_id, \":\")\n",
    "  dt$itype <- map_chr(pid_split, ~ .x[5])\n",
    "  dt$clu <- map_chr(pid_split, ~ .x[4])\n",
    "  dt$clu <- str_extract(dt$clu, \"clu_[0-9]+\")\n",
    "\n",
    "  dt <- dt[, ctype := paste(sort(unique(itype)), collapse = \",\"), by = clu][]\n",
    "  return(dt)\n",
    "}\n"
   ]
  },
  {
   "cell_type": "code",
   "execution_count": 82,
   "metadata": {
    "vscode": {
     "languageId": "r"
    }
   },
   "outputs": [],
   "source": [
    "tissue <- \"Liver\"\n"
   ]
  },
  {
   "cell_type": "code",
   "execution_count": 83,
   "metadata": {
    "vscode": {
     "languageId": "r"
    }
   },
   "outputs": [
    {
     "data": {
      "text/html": [
       "'Liver'"
      ],
      "text/latex": [
       "'Liver'"
      ],
      "text/markdown": [
       "'Liver'"
      ],
      "text/plain": [
       "[1] \"Liver\""
      ]
     },
     "metadata": {},
     "output_type": "display_data"
    }
   ],
   "source": [
    "tissue\n"
   ]
  },
  {
   "cell_type": "code",
   "execution_count": 84,
   "metadata": {
    "vscode": {
     "languageId": "r"
    }
   },
   "outputs": [],
   "source": [
    "readGTExSQTL <- function(tissue) {\n",
    "  base1.gtex <- \"../code/results/qtl/noisy/GTEx/\"\n",
    "  base2.gtex <- \"/cis_100000/perm\"\n",
    "  suffix <- \"addQval.txt.gz\"\n",
    "  folder <- glue(\"{base1.gtex}/{tissue}/separateNoise{base2.gtex}\")\n",
    "  files <- glue(\"{folder}/chr{1:22}.{suffix}\")\n",
    "  dt <- map_dfr(files, fread)\n",
    "}\n"
   ]
  },
  {
   "cell_type": "code",
   "execution_count": 85,
   "metadata": {
    "vscode": {
     "languageId": "r"
    }
   },
   "outputs": [],
   "source": [
    "permDF <- readGTExSQTL(tissue) %>%\n",
    "  addLabels()\n"
   ]
  },
  {
   "cell_type": "code",
   "execution_count": 86,
   "metadata": {
    "vscode": {
     "languageId": "r"
    }
   },
   "outputs": [
    {
     "data": {
      "text/html": [
       "<table class=\"dataframe\">\n",
       "<caption>A data.table: 5 × 24</caption>\n",
       "<thead>\n",
       "\t<tr><th scope=col>phenotype_id</th><th scope=col>phenotype_chr</th><th scope=col>phenotype_start</th><th scope=col>phenotype_end</th><th scope=col>phenotype_strand</th><th scope=col>num_variants</th><th scope=col>best_nom_dist</th><th scope=col>best_genotype_id</th><th scope=col>best_genotype_chr</th><th scope=col>best_genotype_start</th><th scope=col>⋯</th><th scope=col>beta_ml2</th><th scope=col>pval_nom</th><th scope=col>pval_r2</th><th scope=col>slope</th><th scope=col>pval_emp</th><th scope=col>pval_adj</th><th scope=col>q</th><th scope=col>itype</th><th scope=col>clu</th><th scope=col>ctype</th></tr>\n",
       "\t<tr><th scope=col>&lt;chr&gt;</th><th scope=col>&lt;chr&gt;</th><th scope=col>&lt;int&gt;</th><th scope=col>&lt;int&gt;</th><th scope=col>&lt;chr&gt;</th><th scope=col>&lt;int&gt;</th><th scope=col>&lt;int&gt;</th><th scope=col>&lt;chr&gt;</th><th scope=col>&lt;chr&gt;</th><th scope=col>&lt;int&gt;</th><th scope=col>⋯</th><th scope=col>&lt;dbl&gt;</th><th scope=col>&lt;dbl&gt;</th><th scope=col>&lt;dbl&gt;</th><th scope=col>&lt;dbl&gt;</th><th scope=col>&lt;dbl&gt;</th><th scope=col>&lt;dbl&gt;</th><th scope=col>&lt;dbl&gt;</th><th scope=col>&lt;chr&gt;</th><th scope=col>&lt;chr&gt;</th><th scope=col>&lt;chr&gt;</th></tr>\n",
       "</thead>\n",
       "<tbody>\n",
       "\t<tr><td>chr1:259025:261549:clu_1798_-:IN</td><td>chr1</td><td>259026</td><td>261549</td><td>-</td><td>5</td><td>-20363</td><td>chr1_281912_C_G_b38  </td><td>chr1</td><td>281912</td><td>⋯</td><td>5.06287</td><td>0.103199</td><td>0.012838400</td><td> 0.2326170</td><td>0.424575</td><td>0.424734</td><td>0.84636</td><td>IN</td><td>clu_1798</td><td>IN</td></tr>\n",
       "\t<tr><td>chr1:259025:267302:clu_1798_-:IN</td><td>chr1</td><td>259026</td><td>267302</td><td>-</td><td>5</td><td> 77361</td><td>chr1_181665_A_ATC_b38</td><td>chr1</td><td>181665</td><td>⋯</td><td>4.52409</td><td>0.290122</td><td>0.005430690</td><td>-0.2367420</td><td>0.825175</td><td>0.825387</td><td>0.94218</td><td>IN</td><td>clu_1798</td><td>IN</td></tr>\n",
       "\t<tr><td>chr1:261634:267302:clu_1798_-:IN</td><td>chr1</td><td>261635</td><td>267302</td><td>-</td><td>5</td><td>-14610</td><td>chr1_281912_C_G_b38  </td><td>chr1</td><td>281912</td><td>⋯</td><td>4.49487</td><td>0.677690</td><td>0.000840215</td><td> 0.0575004</td><td>0.995005</td><td>0.994462</td><td>0.95695</td><td>IN</td><td>clu_1798</td><td>IN</td></tr>\n",
       "\t<tr><td>chr1:497299:498072:clu_1800_-:IN</td><td>chr1</td><td>497300</td><td>498072</td><td>-</td><td>2</td><td>-93388</td><td>chr1_591460_T_C_b38  </td><td>chr1</td><td>591460</td><td>⋯</td><td>1.95112</td><td>0.190496</td><td>0.008304830</td><td>-0.2691840</td><td>0.348651</td><td>0.331589</td><td>0.79810</td><td>IN</td><td>clu_1800</td><td>IN</td></tr>\n",
       "\t<tr><td>chr1:497299:498398:clu_1800_-:IN</td><td>chr1</td><td>497300</td><td>498398</td><td>-</td><td>2</td><td> -4255</td><td>chr1_502653_G_T_b38  </td><td>chr1</td><td>502653</td><td>⋯</td><td>1.98807</td><td>0.108353</td><td>0.012467000</td><td> 0.3292840</td><td>0.217782</td><td>0.218448</td><td>0.74131</td><td>IN</td><td>clu_1800</td><td>IN</td></tr>\n",
       "</tbody>\n",
       "</table>\n"
      ],
      "text/latex": [
       "A data.table: 5 × 24\n",
       "\\begin{tabular}{lllllllllllllllllllll}\n",
       " phenotype\\_id & phenotype\\_chr & phenotype\\_start & phenotype\\_end & phenotype\\_strand & num\\_variants & best\\_nom\\_dist & best\\_genotype\\_id & best\\_genotype\\_chr & best\\_genotype\\_start & ⋯ & beta\\_ml2 & pval\\_nom & pval\\_r2 & slope & pval\\_emp & pval\\_adj & q & itype & clu & ctype\\\\\n",
       " <chr> & <chr> & <int> & <int> & <chr> & <int> & <int> & <chr> & <chr> & <int> & ⋯ & <dbl> & <dbl> & <dbl> & <dbl> & <dbl> & <dbl> & <dbl> & <chr> & <chr> & <chr>\\\\\n",
       "\\hline\n",
       "\t chr1:259025:261549:clu\\_1798\\_-:IN & chr1 & 259026 & 261549 & - & 5 & -20363 & chr1\\_281912\\_C\\_G\\_b38   & chr1 & 281912 & ⋯ & 5.06287 & 0.103199 & 0.012838400 &  0.2326170 & 0.424575 & 0.424734 & 0.84636 & IN & clu\\_1798 & IN\\\\\n",
       "\t chr1:259025:267302:clu\\_1798\\_-:IN & chr1 & 259026 & 267302 & - & 5 &  77361 & chr1\\_181665\\_A\\_ATC\\_b38 & chr1 & 181665 & ⋯ & 4.52409 & 0.290122 & 0.005430690 & -0.2367420 & 0.825175 & 0.825387 & 0.94218 & IN & clu\\_1798 & IN\\\\\n",
       "\t chr1:261634:267302:clu\\_1798\\_-:IN & chr1 & 261635 & 267302 & - & 5 & -14610 & chr1\\_281912\\_C\\_G\\_b38   & chr1 & 281912 & ⋯ & 4.49487 & 0.677690 & 0.000840215 &  0.0575004 & 0.995005 & 0.994462 & 0.95695 & IN & clu\\_1798 & IN\\\\\n",
       "\t chr1:497299:498072:clu\\_1800\\_-:IN & chr1 & 497300 & 498072 & - & 2 & -93388 & chr1\\_591460\\_T\\_C\\_b38   & chr1 & 591460 & ⋯ & 1.95112 & 0.190496 & 0.008304830 & -0.2691840 & 0.348651 & 0.331589 & 0.79810 & IN & clu\\_1800 & IN\\\\\n",
       "\t chr1:497299:498398:clu\\_1800\\_-:IN & chr1 & 497300 & 498398 & - & 2 &  -4255 & chr1\\_502653\\_G\\_T\\_b38   & chr1 & 502653 & ⋯ & 1.98807 & 0.108353 & 0.012467000 &  0.3292840 & 0.217782 & 0.218448 & 0.74131 & IN & clu\\_1800 & IN\\\\\n",
       "\\end{tabular}\n"
      ],
      "text/markdown": [
       "\n",
       "A data.table: 5 × 24\n",
       "\n",
       "| phenotype_id &lt;chr&gt; | phenotype_chr &lt;chr&gt; | phenotype_start &lt;int&gt; | phenotype_end &lt;int&gt; | phenotype_strand &lt;chr&gt; | num_variants &lt;int&gt; | best_nom_dist &lt;int&gt; | best_genotype_id &lt;chr&gt; | best_genotype_chr &lt;chr&gt; | best_genotype_start &lt;int&gt; | ⋯ ⋯ | beta_ml2 &lt;dbl&gt; | pval_nom &lt;dbl&gt; | pval_r2 &lt;dbl&gt; | slope &lt;dbl&gt; | pval_emp &lt;dbl&gt; | pval_adj &lt;dbl&gt; | q &lt;dbl&gt; | itype &lt;chr&gt; | clu &lt;chr&gt; | ctype &lt;chr&gt; |\n",
       "|---|---|---|---|---|---|---|---|---|---|---|---|---|---|---|---|---|---|---|---|---|\n",
       "| chr1:259025:261549:clu_1798_-:IN | chr1 | 259026 | 261549 | - | 5 | -20363 | chr1_281912_C_G_b38   | chr1 | 281912 | ⋯ | 5.06287 | 0.103199 | 0.012838400 |  0.2326170 | 0.424575 | 0.424734 | 0.84636 | IN | clu_1798 | IN |\n",
       "| chr1:259025:267302:clu_1798_-:IN | chr1 | 259026 | 267302 | - | 5 |  77361 | chr1_181665_A_ATC_b38 | chr1 | 181665 | ⋯ | 4.52409 | 0.290122 | 0.005430690 | -0.2367420 | 0.825175 | 0.825387 | 0.94218 | IN | clu_1798 | IN |\n",
       "| chr1:261634:267302:clu_1798_-:IN | chr1 | 261635 | 267302 | - | 5 | -14610 | chr1_281912_C_G_b38   | chr1 | 281912 | ⋯ | 4.49487 | 0.677690 | 0.000840215 |  0.0575004 | 0.995005 | 0.994462 | 0.95695 | IN | clu_1798 | IN |\n",
       "| chr1:497299:498072:clu_1800_-:IN | chr1 | 497300 | 498072 | - | 2 | -93388 | chr1_591460_T_C_b38   | chr1 | 591460 | ⋯ | 1.95112 | 0.190496 | 0.008304830 | -0.2691840 | 0.348651 | 0.331589 | 0.79810 | IN | clu_1800 | IN |\n",
       "| chr1:497299:498398:clu_1800_-:IN | chr1 | 497300 | 498398 | - | 2 |  -4255 | chr1_502653_G_T_b38   | chr1 | 502653 | ⋯ | 1.98807 | 0.108353 | 0.012467000 |  0.3292840 | 0.217782 | 0.218448 | 0.74131 | IN | clu_1800 | IN |\n",
       "\n"
      ],
      "text/plain": [
       "  phenotype_id                     phenotype_chr phenotype_start phenotype_end\n",
       "1 chr1:259025:261549:clu_1798_-:IN chr1          259026          261549       \n",
       "2 chr1:259025:267302:clu_1798_-:IN chr1          259026          267302       \n",
       "3 chr1:261634:267302:clu_1798_-:IN chr1          261635          267302       \n",
       "4 chr1:497299:498072:clu_1800_-:IN chr1          497300          498072       \n",
       "5 chr1:497299:498398:clu_1800_-:IN chr1          497300          498398       \n",
       "  phenotype_strand num_variants best_nom_dist best_genotype_id     \n",
       "1 -                5            -20363        chr1_281912_C_G_b38  \n",
       "2 -                5             77361        chr1_181665_A_ATC_b38\n",
       "3 -                5            -14610        chr1_281912_C_G_b38  \n",
       "4 -                2            -93388        chr1_591460_T_C_b38  \n",
       "5 -                2             -4255        chr1_502653_G_T_b38  \n",
       "  best_genotype_chr best_genotype_start ⋯ beta_ml2 pval_nom pval_r2    \n",
       "1 chr1              281912              ⋯ 5.06287  0.103199 0.012838400\n",
       "2 chr1              181665              ⋯ 4.52409  0.290122 0.005430690\n",
       "3 chr1              281912              ⋯ 4.49487  0.677690 0.000840215\n",
       "4 chr1              591460              ⋯ 1.95112  0.190496 0.008304830\n",
       "5 chr1              502653              ⋯ 1.98807  0.108353 0.012467000\n",
       "  slope      pval_emp pval_adj q       itype clu      ctype\n",
       "1  0.2326170 0.424575 0.424734 0.84636 IN    clu_1798 IN   \n",
       "2 -0.2367420 0.825175 0.825387 0.94218 IN    clu_1798 IN   \n",
       "3  0.0575004 0.995005 0.994462 0.95695 IN    clu_1798 IN   \n",
       "4 -0.2691840 0.348651 0.331589 0.79810 IN    clu_1800 IN   \n",
       "5  0.3292840 0.217782 0.218448 0.74131 IN    clu_1800 IN   "
      ]
     },
     "metadata": {},
     "output_type": "display_data"
    },
    {
     "data": {
      "text/html": [
       "<style>\n",
       ".list-inline {list-style: none; margin:0; padding: 0}\n",
       ".list-inline>li {display: inline-block}\n",
       ".list-inline>li:not(:last-child)::after {content: \"\\00b7\"; padding: 0 .5ex}\n",
       "</style>\n",
       "<ol class=list-inline><li>76805</li><li>24</li></ol>\n"
      ],
      "text/latex": [
       "\\begin{enumerate*}\n",
       "\\item 76805\n",
       "\\item 24\n",
       "\\end{enumerate*}\n"
      ],
      "text/markdown": [
       "1. 76805\n",
       "2. 24\n",
       "\n",
       "\n"
      ],
      "text/plain": [
       "[1] 76805    24"
      ]
     },
     "metadata": {},
     "output_type": "display_data"
    }
   ],
   "source": [
    "permDF[1:5]\n",
    "permDF %>% dim()\n"
   ]
  },
  {
   "cell_type": "code",
   "execution_count": 87,
   "metadata": {
    "vscode": {
     "languageId": "r"
    }
   },
   "outputs": [],
   "source": [
    "readGTExNOM <- function(tissue) {\n",
    "  base1.gtex <- \"../code/results/eqtl/GTEx\"\n",
    "  paths <- glue(\"{base1.gtex}/{tissue}/nom/chr{1:22}.txt.gz\")\n",
    "  df <- map_dfr(paths, fread)\n",
    "  names(df) <- c(\n",
    "    \"pid\", \"pchr\", \"pstart\", \"pend\", \"pstrand\", \"nVar\", \"dist\",\n",
    "    \"vid\", \"vchr\", \"vstart\", \"vend\", \"pval\", \"r2\", \"slope\", \"topflag\"\n",
    "  )\n",
    "  return(df)\n",
    "}\n"
   ]
  },
  {
   "cell_type": "code",
   "execution_count": 88,
   "metadata": {
    "vscode": {
     "languageId": "r"
    }
   },
   "outputs": [],
   "source": [
    "nomDF <- readGTExNOM(tissue)\n"
   ]
  },
  {
   "cell_type": "code",
   "execution_count": 89,
   "metadata": {
    "vscode": {
     "languageId": "r"
    }
   },
   "outputs": [
    {
     "data": {
      "text/html": [
       "<table class=\"dataframe\">\n",
       "<caption>A data.table: 5 × 15</caption>\n",
       "<thead>\n",
       "\t<tr><th scope=col>pid</th><th scope=col>pchr</th><th scope=col>pstart</th><th scope=col>pend</th><th scope=col>pstrand</th><th scope=col>nVar</th><th scope=col>dist</th><th scope=col>vid</th><th scope=col>vchr</th><th scope=col>vstart</th><th scope=col>vend</th><th scope=col>pval</th><th scope=col>r2</th><th scope=col>slope</th><th scope=col>topflag</th></tr>\n",
       "\t<tr><th scope=col>&lt;chr&gt;</th><th scope=col>&lt;chr&gt;</th><th scope=col>&lt;int&gt;</th><th scope=col>&lt;int&gt;</th><th scope=col>&lt;chr&gt;</th><th scope=col>&lt;int&gt;</th><th scope=col>&lt;int&gt;</th><th scope=col>&lt;chr&gt;</th><th scope=col>&lt;chr&gt;</th><th scope=col>&lt;int&gt;</th><th scope=col>&lt;int&gt;</th><th scope=col>&lt;dbl&gt;</th><th scope=col>&lt;dbl&gt;</th><th scope=col>&lt;dbl&gt;</th><th scope=col>&lt;int&gt;</th></tr>\n",
       "</thead>\n",
       "<tbody>\n",
       "\t<tr><td>ENSG00000131591.17</td><td>chr1</td><td>1081818</td><td>1116361</td><td>-</td><td>217</td><td> 900153</td><td>chr1_181665_A_ATC_b38</td><td>chr1</td><td>181665</td><td>181665</td><td>0.0147302</td><td>0.02853110</td><td>-0.1782600</td><td>0</td></tr>\n",
       "\t<tr><td>ENSG00000188290.11</td><td>chr1</td><td> 998962</td><td>1000172</td><td>-</td><td>212</td><td> 817297</td><td>chr1_181665_A_ATC_b38</td><td>chr1</td><td>181665</td><td>181665</td><td>0.2356550</td><td>0.00682040</td><td>-0.1293600</td><td>0</td></tr>\n",
       "\t<tr><td>ENSG00000187583.11</td><td>chr1</td><td> 966482</td><td> 975865</td><td>+</td><td>211</td><td>-784817</td><td>chr1_181665_A_ATC_b38</td><td>chr1</td><td>181665</td><td>181665</td><td>0.5029720</td><td>0.00218087</td><td>-0.0784723</td><td>0</td></tr>\n",
       "\t<tr><td>ENSG00000188976.11</td><td>chr1</td><td> 944203</td><td> 959309</td><td>-</td><td>211</td><td> 762538</td><td>chr1_181665_A_ATC_b38</td><td>chr1</td><td>181665</td><td>181665</td><td>0.6250190</td><td>0.00116173</td><td>-0.0396061</td><td>0</td></tr>\n",
       "\t<tr><td>ENSG00000187961.14</td><td>chr1</td><td> 960584</td><td> 965719</td><td>+</td><td>211</td><td>-778919</td><td>chr1_181665_A_ATC_b38</td><td>chr1</td><td>181665</td><td>181665</td><td>0.0737227</td><td>0.01544210</td><td>-0.1322110</td><td>0</td></tr>\n",
       "</tbody>\n",
       "</table>\n"
      ],
      "text/latex": [
       "A data.table: 5 × 15\n",
       "\\begin{tabular}{lllllllllllllll}\n",
       " pid & pchr & pstart & pend & pstrand & nVar & dist & vid & vchr & vstart & vend & pval & r2 & slope & topflag\\\\\n",
       " <chr> & <chr> & <int> & <int> & <chr> & <int> & <int> & <chr> & <chr> & <int> & <int> & <dbl> & <dbl> & <dbl> & <int>\\\\\n",
       "\\hline\n",
       "\t ENSG00000131591.17 & chr1 & 1081818 & 1116361 & - & 217 &  900153 & chr1\\_181665\\_A\\_ATC\\_b38 & chr1 & 181665 & 181665 & 0.0147302 & 0.02853110 & -0.1782600 & 0\\\\\n",
       "\t ENSG00000188290.11 & chr1 &  998962 & 1000172 & - & 212 &  817297 & chr1\\_181665\\_A\\_ATC\\_b38 & chr1 & 181665 & 181665 & 0.2356550 & 0.00682040 & -0.1293600 & 0\\\\\n",
       "\t ENSG00000187583.11 & chr1 &  966482 &  975865 & + & 211 & -784817 & chr1\\_181665\\_A\\_ATC\\_b38 & chr1 & 181665 & 181665 & 0.5029720 & 0.00218087 & -0.0784723 & 0\\\\\n",
       "\t ENSG00000188976.11 & chr1 &  944203 &  959309 & - & 211 &  762538 & chr1\\_181665\\_A\\_ATC\\_b38 & chr1 & 181665 & 181665 & 0.6250190 & 0.00116173 & -0.0396061 & 0\\\\\n",
       "\t ENSG00000187961.14 & chr1 &  960584 &  965719 & + & 211 & -778919 & chr1\\_181665\\_A\\_ATC\\_b38 & chr1 & 181665 & 181665 & 0.0737227 & 0.01544210 & -0.1322110 & 0\\\\\n",
       "\\end{tabular}\n"
      ],
      "text/markdown": [
       "\n",
       "A data.table: 5 × 15\n",
       "\n",
       "| pid &lt;chr&gt; | pchr &lt;chr&gt; | pstart &lt;int&gt; | pend &lt;int&gt; | pstrand &lt;chr&gt; | nVar &lt;int&gt; | dist &lt;int&gt; | vid &lt;chr&gt; | vchr &lt;chr&gt; | vstart &lt;int&gt; | vend &lt;int&gt; | pval &lt;dbl&gt; | r2 &lt;dbl&gt; | slope &lt;dbl&gt; | topflag &lt;int&gt; |\n",
       "|---|---|---|---|---|---|---|---|---|---|---|---|---|---|---|\n",
       "| ENSG00000131591.17 | chr1 | 1081818 | 1116361 | - | 217 |  900153 | chr1_181665_A_ATC_b38 | chr1 | 181665 | 181665 | 0.0147302 | 0.02853110 | -0.1782600 | 0 |\n",
       "| ENSG00000188290.11 | chr1 |  998962 | 1000172 | - | 212 |  817297 | chr1_181665_A_ATC_b38 | chr1 | 181665 | 181665 | 0.2356550 | 0.00682040 | -0.1293600 | 0 |\n",
       "| ENSG00000187583.11 | chr1 |  966482 |  975865 | + | 211 | -784817 | chr1_181665_A_ATC_b38 | chr1 | 181665 | 181665 | 0.5029720 | 0.00218087 | -0.0784723 | 0 |\n",
       "| ENSG00000188976.11 | chr1 |  944203 |  959309 | - | 211 |  762538 | chr1_181665_A_ATC_b38 | chr1 | 181665 | 181665 | 0.6250190 | 0.00116173 | -0.0396061 | 0 |\n",
       "| ENSG00000187961.14 | chr1 |  960584 |  965719 | + | 211 | -778919 | chr1_181665_A_ATC_b38 | chr1 | 181665 | 181665 | 0.0737227 | 0.01544210 | -0.1322110 | 0 |\n",
       "\n"
      ],
      "text/plain": [
       "  pid                pchr pstart  pend    pstrand nVar dist   \n",
       "1 ENSG00000131591.17 chr1 1081818 1116361 -       217   900153\n",
       "2 ENSG00000188290.11 chr1  998962 1000172 -       212   817297\n",
       "3 ENSG00000187583.11 chr1  966482  975865 +       211  -784817\n",
       "4 ENSG00000188976.11 chr1  944203  959309 -       211   762538\n",
       "5 ENSG00000187961.14 chr1  960584  965719 +       211  -778919\n",
       "  vid                   vchr vstart vend   pval      r2         slope     \n",
       "1 chr1_181665_A_ATC_b38 chr1 181665 181665 0.0147302 0.02853110 -0.1782600\n",
       "2 chr1_181665_A_ATC_b38 chr1 181665 181665 0.2356550 0.00682040 -0.1293600\n",
       "3 chr1_181665_A_ATC_b38 chr1 181665 181665 0.5029720 0.00218087 -0.0784723\n",
       "4 chr1_181665_A_ATC_b38 chr1 181665 181665 0.6250190 0.00116173 -0.0396061\n",
       "5 chr1_181665_A_ATC_b38 chr1 181665 181665 0.0737227 0.01544210 -0.1322110\n",
       "  topflag\n",
       "1 0      \n",
       "2 0      \n",
       "3 0      \n",
       "4 0      \n",
       "5 0      "
      ]
     },
     "metadata": {},
     "output_type": "display_data"
    },
    {
     "data": {
      "text/html": [
       "<style>\n",
       ".list-inline {list-style: none; margin:0; padding: 0}\n",
       ".list-inline>li {display: inline-block}\n",
       ".list-inline>li:not(:last-child)::after {content: \"\\00b7\"; padding: 0 .5ex}\n",
       "</style>\n",
       "<ol class=list-inline><li>1446313</li><li>15</li></ol>\n"
      ],
      "text/latex": [
       "\\begin{enumerate*}\n",
       "\\item 1446313\n",
       "\\item 15\n",
       "\\end{enumerate*}\n"
      ],
      "text/markdown": [
       "1. 1446313\n",
       "2. 15\n",
       "\n",
       "\n"
      ],
      "text/plain": [
       "[1] 1446313      15"
      ]
     },
     "metadata": {},
     "output_type": "display_data"
    }
   ],
   "source": [
    "nomDF[1:5]\n",
    "nomDF %>% dim()\n"
   ]
  },
  {
   "cell_type": "markdown",
   "metadata": {
    "vscode": {
     "languageId": "r"
    }
   },
   "source": [
    "# first determine p-sQTLs and u-sQTLs, select only 1 per cluster\n"
   ]
  },
  {
   "cell_type": "code",
   "execution_count": 90,
   "metadata": {
    "vscode": {
     "languageId": "r"
    }
   },
   "outputs": [],
   "source": [
    "sqtl <- permDF[q < FDR & itype %in% c(\"PR\", \"UP\") & ctype %in% c(\"PR\", \"PR,UP\")]\n"
   ]
  },
  {
   "cell_type": "code",
   "execution_count": 101,
   "metadata": {
    "vscode": {
     "languageId": "r"
    }
   },
   "outputs": [],
   "source": [
    "# select the best intron per cluster based on the largest effect size\n",
    "sqtl <- sqtl[, rk := frank(-abs(slope), ties.method = \"first\"), by = .(clu)][rk == 1]\n"
   ]
  },
  {
   "cell_type": "code",
   "execution_count": 103,
   "metadata": {
    "vscode": {
     "languageId": "r"
    }
   },
   "outputs": [
    {
     "data": {
      "text/html": [
       "<table class=\"dataframe\">\n",
       "<caption>A data.table: 5 × 26</caption>\n",
       "<thead>\n",
       "\t<tr><th scope=col>phenotype_id</th><th scope=col>phenotype_chr</th><th scope=col>phenotype_start</th><th scope=col>phenotype_end</th><th scope=col>phenotype_strand</th><th scope=col>num_variants</th><th scope=col>best_nom_dist</th><th scope=col>best_genotype_id</th><th scope=col>best_genotype_chr</th><th scope=col>best_genotype_start</th><th scope=col>⋯</th><th scope=col>pval_r2</th><th scope=col>slope</th><th scope=col>pval_emp</th><th scope=col>pval_adj</th><th scope=col>q</th><th scope=col>itype</th><th scope=col>clu</th><th scope=col>ctype</th><th scope=col>qtl_type</th><th scope=col>rk</th></tr>\n",
       "\t<tr><th scope=col>&lt;chr&gt;</th><th scope=col>&lt;chr&gt;</th><th scope=col>&lt;int&gt;</th><th scope=col>&lt;int&gt;</th><th scope=col>&lt;chr&gt;</th><th scope=col>&lt;int&gt;</th><th scope=col>&lt;int&gt;</th><th scope=col>&lt;chr&gt;</th><th scope=col>&lt;chr&gt;</th><th scope=col>&lt;int&gt;</th><th scope=col>⋯</th><th scope=col>&lt;dbl&gt;</th><th scope=col>&lt;dbl&gt;</th><th scope=col>&lt;dbl&gt;</th><th scope=col>&lt;dbl&gt;</th><th scope=col>&lt;dbl&gt;</th><th scope=col>&lt;chr&gt;</th><th scope=col>&lt;chr&gt;</th><th scope=col>&lt;chr&gt;</th><th scope=col>&lt;chr&gt;</th><th scope=col>&lt;int&gt;</th></tr>\n",
       "</thead>\n",
       "<tbody>\n",
       "\t<tr><td>chr1:941306:942135:clu_8_+:PR     </td><td>chr1</td><td> 941307</td><td> 942135</td><td>+</td><td>558</td><td> 58596</td><td>chr1_1000731_C_T_b38</td><td>chr1</td><td>1000731</td><td>⋯</td><td>0.0905641</td><td> 0.410522</td><td>0.002997000</td><td>3.12738e-03</td><td>0.05669000</td><td>PR</td><td>clu_8   </td><td>PR   </td><td>p-sQTL</td><td>1</td></tr>\n",
       "\t<tr><td>chr1:1082987:1084352:clu_1808_-:PR</td><td>chr1</td><td>1082988</td><td>1084352</td><td>-</td><td>596</td><td>  3532</td><td>chr1_1079456_A_G_b38</td><td>chr1</td><td>1079456</td><td>⋯</td><td>0.1161460</td><td>-0.362335</td><td>0.000999001</td><td>1.95822e-04</td><td>0.00517610</td><td>PR</td><td>clu_1808</td><td>PR,UP</td><td>u-sQTL</td><td>1</td></tr>\n",
       "\t<tr><td>chr1:1090428:1091471:clu_1810_-:PR</td><td>chr1</td><td>1090429</td><td>1091471</td><td>-</td><td>604</td><td>     0</td><td>chr1_1091327_C_A_b38</td><td>chr1</td><td>1091327</td><td>⋯</td><td>0.1350960</td><td>-0.444126</td><td>0.000999001</td><td>2.10856e-05</td><td>0.00068731</td><td>PR</td><td>clu_1810</td><td>PR   </td><td>p-sQTL</td><td>1</td></tr>\n",
       "\t<tr><td>chr1:1217804:1218457:clu_1814_-:PR</td><td>chr1</td><td>1217805</td><td>1218457</td><td>-</td><td>594</td><td>    72</td><td>chr1_1217733_G_A_b38</td><td>chr1</td><td>1217733</td><td>⋯</td><td>0.1114230</td><td>-0.615276</td><td>0.000999001</td><td>2.18888e-04</td><td>0.00572330</td><td>PR</td><td>clu_1814</td><td>PR   </td><td>p-sQTL</td><td>1</td></tr>\n",
       "\t<tr><td>chr1:1389047:1390229:clu_1835_-:UP</td><td>chr1</td><td>1389048</td><td>1390229</td><td>-</td><td>467</td><td>-63641</td><td>chr1_1453870_A_C_b38</td><td>chr1</td><td>1453870</td><td>⋯</td><td>0.0878077</td><td>-0.568726</td><td>0.002997000</td><td>2.37384e-03</td><td>0.04552800</td><td>UP</td><td>clu_1835</td><td>PR,UP</td><td>u-sQTL</td><td>1</td></tr>\n",
       "</tbody>\n",
       "</table>\n"
      ],
      "text/latex": [
       "A data.table: 5 × 26\n",
       "\\begin{tabular}{lllllllllllllllllllll}\n",
       " phenotype\\_id & phenotype\\_chr & phenotype\\_start & phenotype\\_end & phenotype\\_strand & num\\_variants & best\\_nom\\_dist & best\\_genotype\\_id & best\\_genotype\\_chr & best\\_genotype\\_start & ⋯ & pval\\_r2 & slope & pval\\_emp & pval\\_adj & q & itype & clu & ctype & qtl\\_type & rk\\\\\n",
       " <chr> & <chr> & <int> & <int> & <chr> & <int> & <int> & <chr> & <chr> & <int> & ⋯ & <dbl> & <dbl> & <dbl> & <dbl> & <dbl> & <chr> & <chr> & <chr> & <chr> & <int>\\\\\n",
       "\\hline\n",
       "\t chr1:941306:942135:clu\\_8\\_+:PR      & chr1 &  941307 &  942135 & + & 558 &  58596 & chr1\\_1000731\\_C\\_T\\_b38 & chr1 & 1000731 & ⋯ & 0.0905641 &  0.410522 & 0.002997000 & 3.12738e-03 & 0.05669000 & PR & clu\\_8    & PR    & p-sQTL & 1\\\\\n",
       "\t chr1:1082987:1084352:clu\\_1808\\_-:PR & chr1 & 1082988 & 1084352 & - & 596 &   3532 & chr1\\_1079456\\_A\\_G\\_b38 & chr1 & 1079456 & ⋯ & 0.1161460 & -0.362335 & 0.000999001 & 1.95822e-04 & 0.00517610 & PR & clu\\_1808 & PR,UP & u-sQTL & 1\\\\\n",
       "\t chr1:1090428:1091471:clu\\_1810\\_-:PR & chr1 & 1090429 & 1091471 & - & 604 &      0 & chr1\\_1091327\\_C\\_A\\_b38 & chr1 & 1091327 & ⋯ & 0.1350960 & -0.444126 & 0.000999001 & 2.10856e-05 & 0.00068731 & PR & clu\\_1810 & PR    & p-sQTL & 1\\\\\n",
       "\t chr1:1217804:1218457:clu\\_1814\\_-:PR & chr1 & 1217805 & 1218457 & - & 594 &     72 & chr1\\_1217733\\_G\\_A\\_b38 & chr1 & 1217733 & ⋯ & 0.1114230 & -0.615276 & 0.000999001 & 2.18888e-04 & 0.00572330 & PR & clu\\_1814 & PR    & p-sQTL & 1\\\\\n",
       "\t chr1:1389047:1390229:clu\\_1835\\_-:UP & chr1 & 1389048 & 1390229 & - & 467 & -63641 & chr1\\_1453870\\_A\\_C\\_b38 & chr1 & 1453870 & ⋯ & 0.0878077 & -0.568726 & 0.002997000 & 2.37384e-03 & 0.04552800 & UP & clu\\_1835 & PR,UP & u-sQTL & 1\\\\\n",
       "\\end{tabular}\n"
      ],
      "text/markdown": [
       "\n",
       "A data.table: 5 × 26\n",
       "\n",
       "| phenotype_id &lt;chr&gt; | phenotype_chr &lt;chr&gt; | phenotype_start &lt;int&gt; | phenotype_end &lt;int&gt; | phenotype_strand &lt;chr&gt; | num_variants &lt;int&gt; | best_nom_dist &lt;int&gt; | best_genotype_id &lt;chr&gt; | best_genotype_chr &lt;chr&gt; | best_genotype_start &lt;int&gt; | ⋯ ⋯ | pval_r2 &lt;dbl&gt; | slope &lt;dbl&gt; | pval_emp &lt;dbl&gt; | pval_adj &lt;dbl&gt; | q &lt;dbl&gt; | itype &lt;chr&gt; | clu &lt;chr&gt; | ctype &lt;chr&gt; | qtl_type &lt;chr&gt; | rk &lt;int&gt; |\n",
       "|---|---|---|---|---|---|---|---|---|---|---|---|---|---|---|---|---|---|---|---|---|\n",
       "| chr1:941306:942135:clu_8_+:PR      | chr1 |  941307 |  942135 | + | 558 |  58596 | chr1_1000731_C_T_b38 | chr1 | 1000731 | ⋯ | 0.0905641 |  0.410522 | 0.002997000 | 3.12738e-03 | 0.05669000 | PR | clu_8    | PR    | p-sQTL | 1 |\n",
       "| chr1:1082987:1084352:clu_1808_-:PR | chr1 | 1082988 | 1084352 | - | 596 |   3532 | chr1_1079456_A_G_b38 | chr1 | 1079456 | ⋯ | 0.1161460 | -0.362335 | 0.000999001 | 1.95822e-04 | 0.00517610 | PR | clu_1808 | PR,UP | u-sQTL | 1 |\n",
       "| chr1:1090428:1091471:clu_1810_-:PR | chr1 | 1090429 | 1091471 | - | 604 |      0 | chr1_1091327_C_A_b38 | chr1 | 1091327 | ⋯ | 0.1350960 | -0.444126 | 0.000999001 | 2.10856e-05 | 0.00068731 | PR | clu_1810 | PR    | p-sQTL | 1 |\n",
       "| chr1:1217804:1218457:clu_1814_-:PR | chr1 | 1217805 | 1218457 | - | 594 |     72 | chr1_1217733_G_A_b38 | chr1 | 1217733 | ⋯ | 0.1114230 | -0.615276 | 0.000999001 | 2.18888e-04 | 0.00572330 | PR | clu_1814 | PR    | p-sQTL | 1 |\n",
       "| chr1:1389047:1390229:clu_1835_-:UP | chr1 | 1389048 | 1390229 | - | 467 | -63641 | chr1_1453870_A_C_b38 | chr1 | 1453870 | ⋯ | 0.0878077 | -0.568726 | 0.002997000 | 2.37384e-03 | 0.04552800 | UP | clu_1835 | PR,UP | u-sQTL | 1 |\n",
       "\n"
      ],
      "text/plain": [
       "  phenotype_id                       phenotype_chr phenotype_start\n",
       "1 chr1:941306:942135:clu_8_+:PR      chr1           941307        \n",
       "2 chr1:1082987:1084352:clu_1808_-:PR chr1          1082988        \n",
       "3 chr1:1090428:1091471:clu_1810_-:PR chr1          1090429        \n",
       "4 chr1:1217804:1218457:clu_1814_-:PR chr1          1217805        \n",
       "5 chr1:1389047:1390229:clu_1835_-:UP chr1          1389048        \n",
       "  phenotype_end phenotype_strand num_variants best_nom_dist\n",
       "1  942135       +                558           58596       \n",
       "2 1084352       -                596            3532       \n",
       "3 1091471       -                604               0       \n",
       "4 1218457       -                594              72       \n",
       "5 1390229       -                467          -63641       \n",
       "  best_genotype_id     best_genotype_chr best_genotype_start ⋯ pval_r2  \n",
       "1 chr1_1000731_C_T_b38 chr1              1000731             ⋯ 0.0905641\n",
       "2 chr1_1079456_A_G_b38 chr1              1079456             ⋯ 0.1161460\n",
       "3 chr1_1091327_C_A_b38 chr1              1091327             ⋯ 0.1350960\n",
       "4 chr1_1217733_G_A_b38 chr1              1217733             ⋯ 0.1114230\n",
       "5 chr1_1453870_A_C_b38 chr1              1453870             ⋯ 0.0878077\n",
       "  slope     pval_emp    pval_adj    q          itype clu      ctype qtl_type rk\n",
       "1  0.410522 0.002997000 3.12738e-03 0.05669000 PR    clu_8    PR    p-sQTL   1 \n",
       "2 -0.362335 0.000999001 1.95822e-04 0.00517610 PR    clu_1808 PR,UP u-sQTL   1 \n",
       "3 -0.444126 0.000999001 2.10856e-05 0.00068731 PR    clu_1810 PR    p-sQTL   1 \n",
       "4 -0.615276 0.000999001 2.18888e-04 0.00572330 PR    clu_1814 PR    p-sQTL   1 \n",
       "5 -0.568726 0.002997000 2.37384e-03 0.04552800 UP    clu_1835 PR,UP u-sQTL   1 "
      ]
     },
     "metadata": {},
     "output_type": "display_data"
    },
    {
     "data": {
      "text/html": [
       "<style>\n",
       ".list-inline {list-style: none; margin:0; padding: 0}\n",
       ".list-inline>li {display: inline-block}\n",
       ".list-inline>li:not(:last-child)::after {content: \"\\00b7\"; padding: 0 .5ex}\n",
       "</style>\n",
       "<ol class=list-inline><li>2320</li><li>26</li></ol>\n"
      ],
      "text/latex": [
       "\\begin{enumerate*}\n",
       "\\item 2320\n",
       "\\item 26\n",
       "\\end{enumerate*}\n"
      ],
      "text/markdown": [
       "1. 2320\n",
       "2. 26\n",
       "\n",
       "\n"
      ],
      "text/plain": [
       "[1] 2320   26"
      ]
     },
     "metadata": {},
     "output_type": "display_data"
    }
   ],
   "source": [
    "sqtl[1:5]\n",
    "sqtl %>% dim()\n"
   ]
  },
  {
   "cell_type": "code",
   "execution_count": 179,
   "metadata": {
    "vscode": {
     "languageId": "r"
    }
   },
   "outputs": [
    {
     "data": {
      "text/html": [
       "<table class=\"dataframe\">\n",
       "<caption>A data.table: 5 × 26</caption>\n",
       "<thead>\n",
       "\t<tr><th scope=col>phenotype_id</th><th scope=col>phenotype_chr</th><th scope=col>phenotype_start</th><th scope=col>phenotype_end</th><th scope=col>phenotype_strand</th><th scope=col>num_variants</th><th scope=col>best_nom_dist</th><th scope=col>best_genotype_id</th><th scope=col>best_genotype_chr</th><th scope=col>best_genotype_start</th><th scope=col>⋯</th><th scope=col>pval_r2</th><th scope=col>slope</th><th scope=col>pval_emp</th><th scope=col>pval_adj</th><th scope=col>q</th><th scope=col>itype</th><th scope=col>clu</th><th scope=col>ctype</th><th scope=col>qtl_type</th><th scope=col>rk</th></tr>\n",
       "\t<tr><th scope=col>&lt;chr&gt;</th><th scope=col>&lt;chr&gt;</th><th scope=col>&lt;int&gt;</th><th scope=col>&lt;int&gt;</th><th scope=col>&lt;chr&gt;</th><th scope=col>&lt;int&gt;</th><th scope=col>&lt;int&gt;</th><th scope=col>&lt;chr&gt;</th><th scope=col>&lt;chr&gt;</th><th scope=col>&lt;int&gt;</th><th scope=col>⋯</th><th scope=col>&lt;dbl&gt;</th><th scope=col>&lt;dbl&gt;</th><th scope=col>&lt;dbl&gt;</th><th scope=col>&lt;dbl&gt;</th><th scope=col>&lt;dbl&gt;</th><th scope=col>&lt;chr&gt;</th><th scope=col>&lt;chr&gt;</th><th scope=col>&lt;chr&gt;</th><th scope=col>&lt;chr&gt;</th><th scope=col>&lt;int&gt;</th></tr>\n",
       "</thead>\n",
       "<tbody>\n",
       "\t<tr><td>chr1:941306:942135:clu_8_+:PR     </td><td>chr1</td><td> 941307</td><td> 942135</td><td>+</td><td>558</td><td> 58596</td><td>chr1_1000731_C_T_b38</td><td>chr1</td><td>1000731</td><td>⋯</td><td>0.0905641</td><td> 0.410522</td><td>0.002997000</td><td>3.12738e-03</td><td>0.05669000</td><td>PR</td><td>clu_8   </td><td>PR   </td><td>p-sQTL</td><td>1</td></tr>\n",
       "\t<tr><td>chr1:1082987:1084352:clu_1808_-:PR</td><td>chr1</td><td>1082988</td><td>1084352</td><td>-</td><td>596</td><td>  3532</td><td>chr1_1079456_A_G_b38</td><td>chr1</td><td>1079456</td><td>⋯</td><td>0.1161460</td><td>-0.362335</td><td>0.000999001</td><td>1.95822e-04</td><td>0.00517610</td><td>PR</td><td>clu_1808</td><td>PR,UP</td><td>u-sQTL</td><td>1</td></tr>\n",
       "\t<tr><td>chr1:1090428:1091471:clu_1810_-:PR</td><td>chr1</td><td>1090429</td><td>1091471</td><td>-</td><td>604</td><td>     0</td><td>chr1_1091327_C_A_b38</td><td>chr1</td><td>1091327</td><td>⋯</td><td>0.1350960</td><td>-0.444126</td><td>0.000999001</td><td>2.10856e-05</td><td>0.00068731</td><td>PR</td><td>clu_1810</td><td>PR   </td><td>p-sQTL</td><td>1</td></tr>\n",
       "\t<tr><td>chr1:1217804:1218457:clu_1814_-:PR</td><td>chr1</td><td>1217805</td><td>1218457</td><td>-</td><td>594</td><td>    72</td><td>chr1_1217733_G_A_b38</td><td>chr1</td><td>1217733</td><td>⋯</td><td>0.1114230</td><td>-0.615276</td><td>0.000999001</td><td>2.18888e-04</td><td>0.00572330</td><td>PR</td><td>clu_1814</td><td>PR   </td><td>p-sQTL</td><td>1</td></tr>\n",
       "\t<tr><td>chr1:1389047:1390229:clu_1835_-:UP</td><td>chr1</td><td>1389048</td><td>1390229</td><td>-</td><td>467</td><td>-63641</td><td>chr1_1453870_A_C_b38</td><td>chr1</td><td>1453870</td><td>⋯</td><td>0.0878077</td><td>-0.568726</td><td>0.002997000</td><td>2.37384e-03</td><td>0.04552800</td><td>UP</td><td>clu_1835</td><td>PR,UP</td><td>u-sQTL</td><td>1</td></tr>\n",
       "</tbody>\n",
       "</table>\n"
      ],
      "text/latex": [
       "A data.table: 5 × 26\n",
       "\\begin{tabular}{lllllllllllllllllllll}\n",
       " phenotype\\_id & phenotype\\_chr & phenotype\\_start & phenotype\\_end & phenotype\\_strand & num\\_variants & best\\_nom\\_dist & best\\_genotype\\_id & best\\_genotype\\_chr & best\\_genotype\\_start & ⋯ & pval\\_r2 & slope & pval\\_emp & pval\\_adj & q & itype & clu & ctype & qtl\\_type & rk\\\\\n",
       " <chr> & <chr> & <int> & <int> & <chr> & <int> & <int> & <chr> & <chr> & <int> & ⋯ & <dbl> & <dbl> & <dbl> & <dbl> & <dbl> & <chr> & <chr> & <chr> & <chr> & <int>\\\\\n",
       "\\hline\n",
       "\t chr1:941306:942135:clu\\_8\\_+:PR      & chr1 &  941307 &  942135 & + & 558 &  58596 & chr1\\_1000731\\_C\\_T\\_b38 & chr1 & 1000731 & ⋯ & 0.0905641 &  0.410522 & 0.002997000 & 3.12738e-03 & 0.05669000 & PR & clu\\_8    & PR    & p-sQTL & 1\\\\\n",
       "\t chr1:1082987:1084352:clu\\_1808\\_-:PR & chr1 & 1082988 & 1084352 & - & 596 &   3532 & chr1\\_1079456\\_A\\_G\\_b38 & chr1 & 1079456 & ⋯ & 0.1161460 & -0.362335 & 0.000999001 & 1.95822e-04 & 0.00517610 & PR & clu\\_1808 & PR,UP & u-sQTL & 1\\\\\n",
       "\t chr1:1090428:1091471:clu\\_1810\\_-:PR & chr1 & 1090429 & 1091471 & - & 604 &      0 & chr1\\_1091327\\_C\\_A\\_b38 & chr1 & 1091327 & ⋯ & 0.1350960 & -0.444126 & 0.000999001 & 2.10856e-05 & 0.00068731 & PR & clu\\_1810 & PR    & p-sQTL & 1\\\\\n",
       "\t chr1:1217804:1218457:clu\\_1814\\_-:PR & chr1 & 1217805 & 1218457 & - & 594 &     72 & chr1\\_1217733\\_G\\_A\\_b38 & chr1 & 1217733 & ⋯ & 0.1114230 & -0.615276 & 0.000999001 & 2.18888e-04 & 0.00572330 & PR & clu\\_1814 & PR    & p-sQTL & 1\\\\\n",
       "\t chr1:1389047:1390229:clu\\_1835\\_-:UP & chr1 & 1389048 & 1390229 & - & 467 & -63641 & chr1\\_1453870\\_A\\_C\\_b38 & chr1 & 1453870 & ⋯ & 0.0878077 & -0.568726 & 0.002997000 & 2.37384e-03 & 0.04552800 & UP & clu\\_1835 & PR,UP & u-sQTL & 1\\\\\n",
       "\\end{tabular}\n"
      ],
      "text/markdown": [
       "\n",
       "A data.table: 5 × 26\n",
       "\n",
       "| phenotype_id &lt;chr&gt; | phenotype_chr &lt;chr&gt; | phenotype_start &lt;int&gt; | phenotype_end &lt;int&gt; | phenotype_strand &lt;chr&gt; | num_variants &lt;int&gt; | best_nom_dist &lt;int&gt; | best_genotype_id &lt;chr&gt; | best_genotype_chr &lt;chr&gt; | best_genotype_start &lt;int&gt; | ⋯ ⋯ | pval_r2 &lt;dbl&gt; | slope &lt;dbl&gt; | pval_emp &lt;dbl&gt; | pval_adj &lt;dbl&gt; | q &lt;dbl&gt; | itype &lt;chr&gt; | clu &lt;chr&gt; | ctype &lt;chr&gt; | qtl_type &lt;chr&gt; | rk &lt;int&gt; |\n",
       "|---|---|---|---|---|---|---|---|---|---|---|---|---|---|---|---|---|---|---|---|---|\n",
       "| chr1:941306:942135:clu_8_+:PR      | chr1 |  941307 |  942135 | + | 558 |  58596 | chr1_1000731_C_T_b38 | chr1 | 1000731 | ⋯ | 0.0905641 |  0.410522 | 0.002997000 | 3.12738e-03 | 0.05669000 | PR | clu_8    | PR    | p-sQTL | 1 |\n",
       "| chr1:1082987:1084352:clu_1808_-:PR | chr1 | 1082988 | 1084352 | - | 596 |   3532 | chr1_1079456_A_G_b38 | chr1 | 1079456 | ⋯ | 0.1161460 | -0.362335 | 0.000999001 | 1.95822e-04 | 0.00517610 | PR | clu_1808 | PR,UP | u-sQTL | 1 |\n",
       "| chr1:1090428:1091471:clu_1810_-:PR | chr1 | 1090429 | 1091471 | - | 604 |      0 | chr1_1091327_C_A_b38 | chr1 | 1091327 | ⋯ | 0.1350960 | -0.444126 | 0.000999001 | 2.10856e-05 | 0.00068731 | PR | clu_1810 | PR    | p-sQTL | 1 |\n",
       "| chr1:1217804:1218457:clu_1814_-:PR | chr1 | 1217805 | 1218457 | - | 594 |     72 | chr1_1217733_G_A_b38 | chr1 | 1217733 | ⋯ | 0.1114230 | -0.615276 | 0.000999001 | 2.18888e-04 | 0.00572330 | PR | clu_1814 | PR    | p-sQTL | 1 |\n",
       "| chr1:1389047:1390229:clu_1835_-:UP | chr1 | 1389048 | 1390229 | - | 467 | -63641 | chr1_1453870_A_C_b38 | chr1 | 1453870 | ⋯ | 0.0878077 | -0.568726 | 0.002997000 | 2.37384e-03 | 0.04552800 | UP | clu_1835 | PR,UP | u-sQTL | 1 |\n",
       "\n"
      ],
      "text/plain": [
       "  phenotype_id                       phenotype_chr phenotype_start\n",
       "1 chr1:941306:942135:clu_8_+:PR      chr1           941307        \n",
       "2 chr1:1082987:1084352:clu_1808_-:PR chr1          1082988        \n",
       "3 chr1:1090428:1091471:clu_1810_-:PR chr1          1090429        \n",
       "4 chr1:1217804:1218457:clu_1814_-:PR chr1          1217805        \n",
       "5 chr1:1389047:1390229:clu_1835_-:UP chr1          1389048        \n",
       "  phenotype_end phenotype_strand num_variants best_nom_dist\n",
       "1  942135       +                558           58596       \n",
       "2 1084352       -                596            3532       \n",
       "3 1091471       -                604               0       \n",
       "4 1218457       -                594              72       \n",
       "5 1390229       -                467          -63641       \n",
       "  best_genotype_id     best_genotype_chr best_genotype_start ⋯ pval_r2  \n",
       "1 chr1_1000731_C_T_b38 chr1              1000731             ⋯ 0.0905641\n",
       "2 chr1_1079456_A_G_b38 chr1              1079456             ⋯ 0.1161460\n",
       "3 chr1_1091327_C_A_b38 chr1              1091327             ⋯ 0.1350960\n",
       "4 chr1_1217733_G_A_b38 chr1              1217733             ⋯ 0.1114230\n",
       "5 chr1_1453870_A_C_b38 chr1              1453870             ⋯ 0.0878077\n",
       "  slope     pval_emp    pval_adj    q          itype clu      ctype qtl_type rk\n",
       "1  0.410522 0.002997000 3.12738e-03 0.05669000 PR    clu_8    PR    p-sQTL   1 \n",
       "2 -0.362335 0.000999001 1.95822e-04 0.00517610 PR    clu_1808 PR,UP u-sQTL   1 \n",
       "3 -0.444126 0.000999001 2.10856e-05 0.00068731 PR    clu_1810 PR    p-sQTL   1 \n",
       "4 -0.615276 0.000999001 2.18888e-04 0.00572330 PR    clu_1814 PR    p-sQTL   1 \n",
       "5 -0.568726 0.002997000 2.37384e-03 0.04552800 UP    clu_1835 PR,UP u-sQTL   1 "
      ]
     },
     "metadata": {},
     "output_type": "display_data"
    }
   ],
   "source": [
    "sqtl[1:5]\n"
   ]
  },
  {
   "cell_type": "code",
   "execution_count": 106,
   "metadata": {
    "vscode": {
     "languageId": "r"
    }
   },
   "outputs": [],
   "source": [
    "sqtl.v <- sqtl[, best_genotype_id] %>% unique()\n"
   ]
  },
  {
   "cell_type": "code",
   "execution_count": 108,
   "metadata": {
    "vscode": {
     "languageId": "r"
    }
   },
   "outputs": [
    {
     "data": {
      "text/html": [
       "2295"
      ],
      "text/latex": [
       "2295"
      ],
      "text/markdown": [
       "2295"
      ],
      "text/plain": [
       "[1] 2295"
      ]
     },
     "metadata": {},
     "output_type": "display_data"
    },
    {
     "data": {
      "text/html": [
       "<style>\n",
       ".list-inline {list-style: none; margin:0; padding: 0}\n",
       ".list-inline>li {display: inline-block}\n",
       ".list-inline>li:not(:last-child)::after {content: \"\\00b7\"; padding: 0 .5ex}\n",
       "</style>\n",
       "<ol class=list-inline><li>'chr1_1000731_C_T_b38'</li><li>'chr1_1079456_A_G_b38'</li><li>'chr1_1091327_C_A_b38'</li><li>'chr1_1217733_G_A_b38'</li><li>'chr1_1453870_A_C_b38'</li></ol>\n"
      ],
      "text/latex": [
       "\\begin{enumerate*}\n",
       "\\item 'chr1\\_1000731\\_C\\_T\\_b38'\n",
       "\\item 'chr1\\_1079456\\_A\\_G\\_b38'\n",
       "\\item 'chr1\\_1091327\\_C\\_A\\_b38'\n",
       "\\item 'chr1\\_1217733\\_G\\_A\\_b38'\n",
       "\\item 'chr1\\_1453870\\_A\\_C\\_b38'\n",
       "\\end{enumerate*}\n"
      ],
      "text/markdown": [
       "1. 'chr1_1000731_C_T_b38'\n",
       "2. 'chr1_1079456_A_G_b38'\n",
       "3. 'chr1_1091327_C_A_b38'\n",
       "4. 'chr1_1217733_G_A_b38'\n",
       "5. 'chr1_1453870_A_C_b38'\n",
       "\n",
       "\n"
      ],
      "text/plain": [
       "[1] \"chr1_1000731_C_T_b38\" \"chr1_1079456_A_G_b38\" \"chr1_1091327_C_A_b38\"\n",
       "[4] \"chr1_1217733_G_A_b38\" \"chr1_1453870_A_C_b38\""
      ]
     },
     "metadata": {},
     "output_type": "display_data"
    }
   ],
   "source": [
    "length(sqtl.v)\n",
    "sqtl.v[1:5]\n"
   ]
  },
  {
   "cell_type": "markdown",
   "metadata": {},
   "source": [
    "# select only snps that are top sQTLs from nominal file\n"
   ]
  },
  {
   "cell_type": "code",
   "execution_count": 111,
   "metadata": {
    "vscode": {
     "languageId": "r"
    }
   },
   "outputs": [],
   "source": [
    "nomDF <- nomDF[vid %in% sqtl.v]\n"
   ]
  },
  {
   "cell_type": "code",
   "execution_count": 180,
   "metadata": {
    "vscode": {
     "languageId": "r"
    }
   },
   "outputs": [
    {
     "data": {
      "text/html": [
       "<table class=\"dataframe\">\n",
       "<caption>A data.table: 5 × 15</caption>\n",
       "<thead>\n",
       "\t<tr><th scope=col>pid</th><th scope=col>pchr</th><th scope=col>pstart</th><th scope=col>pend</th><th scope=col>pstrand</th><th scope=col>nVar</th><th scope=col>dist</th><th scope=col>vid</th><th scope=col>vchr</th><th scope=col>vstart</th><th scope=col>vend</th><th scope=col>pval</th><th scope=col>r2</th><th scope=col>slope</th><th scope=col>topflag</th></tr>\n",
       "\t<tr><th scope=col>&lt;chr&gt;</th><th scope=col>&lt;chr&gt;</th><th scope=col>&lt;int&gt;</th><th scope=col>&lt;int&gt;</th><th scope=col>&lt;chr&gt;</th><th scope=col>&lt;int&gt;</th><th scope=col>&lt;int&gt;</th><th scope=col>&lt;chr&gt;</th><th scope=col>&lt;chr&gt;</th><th scope=col>&lt;int&gt;</th><th scope=col>&lt;int&gt;</th><th scope=col>&lt;dbl&gt;</th><th scope=col>&lt;dbl&gt;</th><th scope=col>&lt;dbl&gt;</th><th scope=col>&lt;int&gt;</th></tr>\n",
       "</thead>\n",
       "<tbody>\n",
       "\t<tr><td>ENSG00000188290.11</td><td>chr1</td><td> 998962</td><td>1000172</td><td>-</td><td>212</td><td>   -559</td><td>chr1_1000731_C_T_b38</td><td>chr1</td><td>1000731</td><td>1000731</td><td>0.021575</td><td>0.02536470</td><td>-0.1053300</td><td>0</td></tr>\n",
       "\t<tr><td>ENSG00000187961.14</td><td>chr1</td><td> 960584</td><td> 965719</td><td>+</td><td>211</td><td>  35012</td><td>chr1_1000731_C_T_b38</td><td>chr1</td><td>1000731</td><td>1000731</td><td>0.267520</td><td>0.00596469</td><td> 0.0346937</td><td>0</td></tr>\n",
       "\t<tr><td>ENSG00000188157.15</td><td>chr1</td><td>1020120</td><td>1056118</td><td>+</td><td>215</td><td> -19389</td><td>chr1_1000731_C_T_b38</td><td>chr1</td><td>1000731</td><td>1000731</td><td>0.035142</td><td>0.02136570</td><td> 0.1183030</td><td>0</td></tr>\n",
       "\t<tr><td>ENSG00000179403.12</td><td>chr1</td><td>1434861</td><td>1442882</td><td>+</td><td>263</td><td>-434130</td><td>chr1_1000731_C_T_b38</td><td>chr1</td><td>1000731</td><td>1000731</td><td>0.411580</td><td>0.00327555</td><td> 0.0305357</td><td>0</td></tr>\n",
       "\t<tr><td>ENSG00000197785.14</td><td>chr1</td><td>1512162</td><td>1534685</td><td>+</td><td>272</td><td>-511431</td><td>chr1_1000731_C_T_b38</td><td>chr1</td><td>1000731</td><td>1000731</td><td>0.427130</td><td>0.00306397</td><td>-0.0366804</td><td>0</td></tr>\n",
       "</tbody>\n",
       "</table>\n"
      ],
      "text/latex": [
       "A data.table: 5 × 15\n",
       "\\begin{tabular}{lllllllllllllll}\n",
       " pid & pchr & pstart & pend & pstrand & nVar & dist & vid & vchr & vstart & vend & pval & r2 & slope & topflag\\\\\n",
       " <chr> & <chr> & <int> & <int> & <chr> & <int> & <int> & <chr> & <chr> & <int> & <int> & <dbl> & <dbl> & <dbl> & <int>\\\\\n",
       "\\hline\n",
       "\t ENSG00000188290.11 & chr1 &  998962 & 1000172 & - & 212 &    -559 & chr1\\_1000731\\_C\\_T\\_b38 & chr1 & 1000731 & 1000731 & 0.021575 & 0.02536470 & -0.1053300 & 0\\\\\n",
       "\t ENSG00000187961.14 & chr1 &  960584 &  965719 & + & 211 &   35012 & chr1\\_1000731\\_C\\_T\\_b38 & chr1 & 1000731 & 1000731 & 0.267520 & 0.00596469 &  0.0346937 & 0\\\\\n",
       "\t ENSG00000188157.15 & chr1 & 1020120 & 1056118 & + & 215 &  -19389 & chr1\\_1000731\\_C\\_T\\_b38 & chr1 & 1000731 & 1000731 & 0.035142 & 0.02136570 &  0.1183030 & 0\\\\\n",
       "\t ENSG00000179403.12 & chr1 & 1434861 & 1442882 & + & 263 & -434130 & chr1\\_1000731\\_C\\_T\\_b38 & chr1 & 1000731 & 1000731 & 0.411580 & 0.00327555 &  0.0305357 & 0\\\\\n",
       "\t ENSG00000197785.14 & chr1 & 1512162 & 1534685 & + & 272 & -511431 & chr1\\_1000731\\_C\\_T\\_b38 & chr1 & 1000731 & 1000731 & 0.427130 & 0.00306397 & -0.0366804 & 0\\\\\n",
       "\\end{tabular}\n"
      ],
      "text/markdown": [
       "\n",
       "A data.table: 5 × 15\n",
       "\n",
       "| pid &lt;chr&gt; | pchr &lt;chr&gt; | pstart &lt;int&gt; | pend &lt;int&gt; | pstrand &lt;chr&gt; | nVar &lt;int&gt; | dist &lt;int&gt; | vid &lt;chr&gt; | vchr &lt;chr&gt; | vstart &lt;int&gt; | vend &lt;int&gt; | pval &lt;dbl&gt; | r2 &lt;dbl&gt; | slope &lt;dbl&gt; | topflag &lt;int&gt; |\n",
       "|---|---|---|---|---|---|---|---|---|---|---|---|---|---|---|\n",
       "| ENSG00000188290.11 | chr1 |  998962 | 1000172 | - | 212 |    -559 | chr1_1000731_C_T_b38 | chr1 | 1000731 | 1000731 | 0.021575 | 0.02536470 | -0.1053300 | 0 |\n",
       "| ENSG00000187961.14 | chr1 |  960584 |  965719 | + | 211 |   35012 | chr1_1000731_C_T_b38 | chr1 | 1000731 | 1000731 | 0.267520 | 0.00596469 |  0.0346937 | 0 |\n",
       "| ENSG00000188157.15 | chr1 | 1020120 | 1056118 | + | 215 |  -19389 | chr1_1000731_C_T_b38 | chr1 | 1000731 | 1000731 | 0.035142 | 0.02136570 |  0.1183030 | 0 |\n",
       "| ENSG00000179403.12 | chr1 | 1434861 | 1442882 | + | 263 | -434130 | chr1_1000731_C_T_b38 | chr1 | 1000731 | 1000731 | 0.411580 | 0.00327555 |  0.0305357 | 0 |\n",
       "| ENSG00000197785.14 | chr1 | 1512162 | 1534685 | + | 272 | -511431 | chr1_1000731_C_T_b38 | chr1 | 1000731 | 1000731 | 0.427130 | 0.00306397 | -0.0366804 | 0 |\n",
       "\n"
      ],
      "text/plain": [
       "  pid                pchr pstart  pend    pstrand nVar dist   \n",
       "1 ENSG00000188290.11 chr1  998962 1000172 -       212     -559\n",
       "2 ENSG00000187961.14 chr1  960584  965719 +       211    35012\n",
       "3 ENSG00000188157.15 chr1 1020120 1056118 +       215   -19389\n",
       "4 ENSG00000179403.12 chr1 1434861 1442882 +       263  -434130\n",
       "5 ENSG00000197785.14 chr1 1512162 1534685 +       272  -511431\n",
       "  vid                  vchr vstart  vend    pval     r2         slope     \n",
       "1 chr1_1000731_C_T_b38 chr1 1000731 1000731 0.021575 0.02536470 -0.1053300\n",
       "2 chr1_1000731_C_T_b38 chr1 1000731 1000731 0.267520 0.00596469  0.0346937\n",
       "3 chr1_1000731_C_T_b38 chr1 1000731 1000731 0.035142 0.02136570  0.1183030\n",
       "4 chr1_1000731_C_T_b38 chr1 1000731 1000731 0.411580 0.00327555  0.0305357\n",
       "5 chr1_1000731_C_T_b38 chr1 1000731 1000731 0.427130 0.00306397 -0.0366804\n",
       "  topflag\n",
       "1 0      \n",
       "2 0      \n",
       "3 0      \n",
       "4 0      \n",
       "5 0      "
      ]
     },
     "metadata": {},
     "output_type": "display_data"
    }
   ],
   "source": [
    "nomDF[1:5, ]\n"
   ]
  },
  {
   "cell_type": "markdown",
   "metadata": {},
   "source": [
    "# join the top SQTLs and eQTL nominal\n"
   ]
  },
  {
   "cell_type": "code",
   "execution_count": 201,
   "metadata": {
    "vscode": {
     "languageId": "r"
    }
   },
   "outputs": [],
   "source": [
    "mergeDF <- inner_join(sqtl[, .(phenotype_id, phenotype_chr, phenotype_start, phenotype_end, phenotype_strand, best_genotype_id, best_nom_dist, pval_nom, slope, itype, ctype)],\n",
    "  nomDF[, .(pid, pchr, pstart, pend, pstrand, vid, dist, pval, slope, topflag)],\n",
    "  by = c(\"best_genotype_id\" = \"vid\"),\n",
    "  suffix = c(\"_sqtl\", \"_eqtl\"),\n",
    "  relationship = \"many-to-many\"\n",
    ")\n"
   ]
  },
  {
   "cell_type": "code",
   "execution_count": 202,
   "metadata": {
    "vscode": {
     "languageId": "r"
    }
   },
   "outputs": [],
   "source": [
    "# a eQTL (gene) must encompass the sQTL (intron)\n",
    "# thus, the start and end of the eQTL must be within the start and end of the sQTL\n",
    "# the strand must be the same, and the chromosome must be the same\n",
    "\n",
    "mergeDF <- mergeDF[phenotype_chr == pchr & phenotype_strand == pstrand]\n",
    "mergeDF <- mergeDF[phenotype_start >= pstart & phenotype_end <= pend]\n"
   ]
  },
  {
   "cell_type": "code",
   "execution_count": 203,
   "metadata": {
    "vscode": {
     "languageId": "r"
    }
   },
   "outputs": [
    {
     "data": {
      "text/html": [
       "<style>\n",
       ".list-inline {list-style: none; margin:0; padding: 0}\n",
       ".list-inline>li {display: inline-block}\n",
       ".list-inline>li:not(:last-child)::after {content: \"\\00b7\"; padding: 0 .5ex}\n",
       "</style>\n",
       "<ol class=list-inline><li>2320</li><li>26</li></ol>\n"
      ],
      "text/latex": [
       "\\begin{enumerate*}\n",
       "\\item 2320\n",
       "\\item 26\n",
       "\\end{enumerate*}\n"
      ],
      "text/markdown": [
       "1. 2320\n",
       "2. 26\n",
       "\n",
       "\n"
      ],
      "text/plain": [
       "[1] 2320   26"
      ]
     },
     "metadata": {},
     "output_type": "display_data"
    }
   ],
   "source": [
    "dim(sqtl)\n"
   ]
  },
  {
   "cell_type": "code",
   "execution_count": 204,
   "metadata": {
    "vscode": {
     "languageId": "r"
    }
   },
   "outputs": [
    {
     "data": {
      "text/html": [
       "<table class=\"dataframe\">\n",
       "<caption>A data.table: 3 × 20</caption>\n",
       "<thead>\n",
       "\t<tr><th scope=col>phenotype_id</th><th scope=col>phenotype_chr</th><th scope=col>phenotype_start</th><th scope=col>phenotype_end</th><th scope=col>phenotype_strand</th><th scope=col>best_genotype_id</th><th scope=col>best_nom_dist</th><th scope=col>pval_nom</th><th scope=col>slope_sqtl</th><th scope=col>itype</th><th scope=col>ctype</th><th scope=col>pid</th><th scope=col>pchr</th><th scope=col>pstart</th><th scope=col>pend</th><th scope=col>pstrand</th><th scope=col>dist</th><th scope=col>pval</th><th scope=col>slope_eqtl</th><th scope=col>topflag</th></tr>\n",
       "\t<tr><th scope=col>&lt;chr&gt;</th><th scope=col>&lt;chr&gt;</th><th scope=col>&lt;int&gt;</th><th scope=col>&lt;int&gt;</th><th scope=col>&lt;chr&gt;</th><th scope=col>&lt;chr&gt;</th><th scope=col>&lt;int&gt;</th><th scope=col>&lt;dbl&gt;</th><th scope=col>&lt;dbl&gt;</th><th scope=col>&lt;chr&gt;</th><th scope=col>&lt;chr&gt;</th><th scope=col>&lt;chr&gt;</th><th scope=col>&lt;chr&gt;</th><th scope=col>&lt;int&gt;</th><th scope=col>&lt;int&gt;</th><th scope=col>&lt;chr&gt;</th><th scope=col>&lt;int&gt;</th><th scope=col>&lt;dbl&gt;</th><th scope=col>&lt;dbl&gt;</th><th scope=col>&lt;int&gt;</th></tr>\n",
       "</thead>\n",
       "<tbody>\n",
       "\t<tr><td>chr1:1082987:1084352:clu_1808_-:PR</td><td>chr1</td><td>1082988</td><td>1084352</td><td>-</td><td>chr1_1079456_A_G_b38</td><td>3532</td><td>4.72618e-07</td><td>-0.362335</td><td>PR</td><td>PR,UP</td><td>ENSG00000131591.17</td><td>chr1</td><td>1081818</td><td>1116361</td><td>-</td><td>2362</td><td>0.010969000</td><td>0.0819196</td><td>0</td></tr>\n",
       "\t<tr><td>chr1:1090428:1091471:clu_1810_-:PR</td><td>chr1</td><td>1090429</td><td>1091471</td><td>-</td><td>chr1_1091327_C_A_b38</td><td>   0</td><td>4.72455e-08</td><td>-0.444126</td><td>PR</td><td>PR   </td><td>ENSG00000131591.17</td><td>chr1</td><td>1081818</td><td>1116361</td><td>-</td><td>   0</td><td>0.000171671</td><td>0.1175260</td><td>1</td></tr>\n",
       "\t<tr><td>chr1:1217804:1218457:clu_1814_-:PR</td><td>chr1</td><td>1217805</td><td>1218457</td><td>-</td><td>chr1_1217733_G_A_b38</td><td>  72</td><td>8.34233e-07</td><td>-0.615276</td><td>PR</td><td>PR   </td><td>ENSG00000078808.18</td><td>chr1</td><td>1216908</td><td>1232067</td><td>-</td><td>   0</td><td>0.035935800</td><td>0.1984900</td><td>0</td></tr>\n",
       "</tbody>\n",
       "</table>\n"
      ],
      "text/latex": [
       "A data.table: 3 × 20\n",
       "\\begin{tabular}{llllllllllllllllllll}\n",
       " phenotype\\_id & phenotype\\_chr & phenotype\\_start & phenotype\\_end & phenotype\\_strand & best\\_genotype\\_id & best\\_nom\\_dist & pval\\_nom & slope\\_sqtl & itype & ctype & pid & pchr & pstart & pend & pstrand & dist & pval & slope\\_eqtl & topflag\\\\\n",
       " <chr> & <chr> & <int> & <int> & <chr> & <chr> & <int> & <dbl> & <dbl> & <chr> & <chr> & <chr> & <chr> & <int> & <int> & <chr> & <int> & <dbl> & <dbl> & <int>\\\\\n",
       "\\hline\n",
       "\t chr1:1082987:1084352:clu\\_1808\\_-:PR & chr1 & 1082988 & 1084352 & - & chr1\\_1079456\\_A\\_G\\_b38 & 3532 & 4.72618e-07 & -0.362335 & PR & PR,UP & ENSG00000131591.17 & chr1 & 1081818 & 1116361 & - & 2362 & 0.010969000 & 0.0819196 & 0\\\\\n",
       "\t chr1:1090428:1091471:clu\\_1810\\_-:PR & chr1 & 1090429 & 1091471 & - & chr1\\_1091327\\_C\\_A\\_b38 &    0 & 4.72455e-08 & -0.444126 & PR & PR    & ENSG00000131591.17 & chr1 & 1081818 & 1116361 & - &    0 & 0.000171671 & 0.1175260 & 1\\\\\n",
       "\t chr1:1217804:1218457:clu\\_1814\\_-:PR & chr1 & 1217805 & 1218457 & - & chr1\\_1217733\\_G\\_A\\_b38 &   72 & 8.34233e-07 & -0.615276 & PR & PR    & ENSG00000078808.18 & chr1 & 1216908 & 1232067 & - &    0 & 0.035935800 & 0.1984900 & 0\\\\\n",
       "\\end{tabular}\n"
      ],
      "text/markdown": [
       "\n",
       "A data.table: 3 × 20\n",
       "\n",
       "| phenotype_id &lt;chr&gt; | phenotype_chr &lt;chr&gt; | phenotype_start &lt;int&gt; | phenotype_end &lt;int&gt; | phenotype_strand &lt;chr&gt; | best_genotype_id &lt;chr&gt; | best_nom_dist &lt;int&gt; | pval_nom &lt;dbl&gt; | slope_sqtl &lt;dbl&gt; | itype &lt;chr&gt; | ctype &lt;chr&gt; | pid &lt;chr&gt; | pchr &lt;chr&gt; | pstart &lt;int&gt; | pend &lt;int&gt; | pstrand &lt;chr&gt; | dist &lt;int&gt; | pval &lt;dbl&gt; | slope_eqtl &lt;dbl&gt; | topflag &lt;int&gt; |\n",
       "|---|---|---|---|---|---|---|---|---|---|---|---|---|---|---|---|---|---|---|---|\n",
       "| chr1:1082987:1084352:clu_1808_-:PR | chr1 | 1082988 | 1084352 | - | chr1_1079456_A_G_b38 | 3532 | 4.72618e-07 | -0.362335 | PR | PR,UP | ENSG00000131591.17 | chr1 | 1081818 | 1116361 | - | 2362 | 0.010969000 | 0.0819196 | 0 |\n",
       "| chr1:1090428:1091471:clu_1810_-:PR | chr1 | 1090429 | 1091471 | - | chr1_1091327_C_A_b38 |    0 | 4.72455e-08 | -0.444126 | PR | PR    | ENSG00000131591.17 | chr1 | 1081818 | 1116361 | - |    0 | 0.000171671 | 0.1175260 | 1 |\n",
       "| chr1:1217804:1218457:clu_1814_-:PR | chr1 | 1217805 | 1218457 | - | chr1_1217733_G_A_b38 |   72 | 8.34233e-07 | -0.615276 | PR | PR    | ENSG00000078808.18 | chr1 | 1216908 | 1232067 | - |    0 | 0.035935800 | 0.1984900 | 0 |\n",
       "\n"
      ],
      "text/plain": [
       "  phenotype_id                       phenotype_chr phenotype_start\n",
       "1 chr1:1082987:1084352:clu_1808_-:PR chr1          1082988        \n",
       "2 chr1:1090428:1091471:clu_1810_-:PR chr1          1090429        \n",
       "3 chr1:1217804:1218457:clu_1814_-:PR chr1          1217805        \n",
       "  phenotype_end phenotype_strand best_genotype_id     best_nom_dist pval_nom   \n",
       "1 1084352       -                chr1_1079456_A_G_b38 3532          4.72618e-07\n",
       "2 1091471       -                chr1_1091327_C_A_b38    0          4.72455e-08\n",
       "3 1218457       -                chr1_1217733_G_A_b38   72          8.34233e-07\n",
       "  slope_sqtl itype ctype pid                pchr pstart  pend    pstrand dist\n",
       "1 -0.362335  PR    PR,UP ENSG00000131591.17 chr1 1081818 1116361 -       2362\n",
       "2 -0.444126  PR    PR    ENSG00000131591.17 chr1 1081818 1116361 -          0\n",
       "3 -0.615276  PR    PR    ENSG00000078808.18 chr1 1216908 1232067 -          0\n",
       "  pval        slope_eqtl topflag\n",
       "1 0.010969000 0.0819196  0      \n",
       "2 0.000171671 0.1175260  1      \n",
       "3 0.035935800 0.1984900  0      "
      ]
     },
     "metadata": {},
     "output_type": "display_data"
    },
    {
     "data": {
      "text/html": [
       "<style>\n",
       ".list-inline {list-style: none; margin:0; padding: 0}\n",
       ".list-inline>li {display: inline-block}\n",
       ".list-inline>li:not(:last-child)::after {content: \"\\00b7\"; padding: 0 .5ex}\n",
       "</style>\n",
       "<ol class=list-inline><li>2166</li><li>20</li></ol>\n"
      ],
      "text/latex": [
       "\\begin{enumerate*}\n",
       "\\item 2166\n",
       "\\item 20\n",
       "\\end{enumerate*}\n"
      ],
      "text/markdown": [
       "1. 2166\n",
       "2. 20\n",
       "\n",
       "\n"
      ],
      "text/plain": [
       "[1] 2166   20"
      ]
     },
     "metadata": {},
     "output_type": "display_data"
    }
   ],
   "source": [
    "mergeDF[1:3]\n",
    "mergeDF %>% dim()\n"
   ]
  },
  {
   "cell_type": "code",
   "execution_count": 266,
   "metadata": {
    "vscode": {
     "languageId": "r"
    }
   },
   "outputs": [],
   "source": [
    "plotDF <- mergeDF[, .(\n",
    "  gid = best_genotype_id,\n",
    "  intron_id = phenotype_id,\n",
    "  gene_id = pid,\n",
    "  pval_sqtl = pval_nom,\n",
    "  pval_eqtl = pval,\n",
    "  slope_sqtl,\n",
    "  slope_eqtl,\n",
    "  ctype,\n",
    "  topflag\n",
    ")]\n"
   ]
  },
  {
   "cell_type": "code",
   "execution_count": 267,
   "metadata": {
    "vscode": {
     "languageId": "r"
    }
   },
   "outputs": [
    {
     "data": {
      "text/html": [
       "<style>\n",
       ".list-inline {list-style: none; margin:0; padding: 0}\n",
       ".list-inline>li {display: inline-block}\n",
       ".list-inline>li:not(:last-child)::after {content: \"\\00b7\"; padding: 0 .5ex}\n",
       "</style>\n",
       "<ol class=list-inline><li>2166</li><li>9</li></ol>\n"
      ],
      "text/latex": [
       "\\begin{enumerate*}\n",
       "\\item 2166\n",
       "\\item 9\n",
       "\\end{enumerate*}\n"
      ],
      "text/markdown": [
       "1. 2166\n",
       "2. 9\n",
       "\n",
       "\n"
      ],
      "text/plain": [
       "[1] 2166    9"
      ]
     },
     "metadata": {},
     "output_type": "display_data"
    },
    {
     "data": {
      "text/html": [
       "<table class=\"dataframe\">\n",
       "<caption>A data.table: 5 × 9</caption>\n",
       "<thead>\n",
       "\t<tr><th scope=col>gid</th><th scope=col>intron_id</th><th scope=col>gene_id</th><th scope=col>pval_sqtl</th><th scope=col>pval_eqtl</th><th scope=col>slope_sqtl</th><th scope=col>slope_eqtl</th><th scope=col>ctype</th><th scope=col>topflag</th></tr>\n",
       "\t<tr><th scope=col>&lt;chr&gt;</th><th scope=col>&lt;chr&gt;</th><th scope=col>&lt;chr&gt;</th><th scope=col>&lt;dbl&gt;</th><th scope=col>&lt;dbl&gt;</th><th scope=col>&lt;dbl&gt;</th><th scope=col>&lt;dbl&gt;</th><th scope=col>&lt;chr&gt;</th><th scope=col>&lt;int&gt;</th></tr>\n",
       "</thead>\n",
       "<tbody>\n",
       "\t<tr><td>chr1_1079456_A_G_b38</td><td>chr1:1082987:1084352:clu_1808_-:PR</td><td>ENSG00000131591.17</td><td>4.72618e-07</td><td>0.010969000</td><td>-0.362335</td><td>0.0819196</td><td>PR,UP</td><td>0</td></tr>\n",
       "\t<tr><td>chr1_1091327_C_A_b38</td><td>chr1:1090428:1091471:clu_1810_-:PR</td><td>ENSG00000131591.17</td><td>4.72455e-08</td><td>0.000171671</td><td>-0.444126</td><td>0.1175260</td><td>PR   </td><td>1</td></tr>\n",
       "\t<tr><td>chr1_1217733_G_A_b38</td><td>chr1:1217804:1218457:clu_1814_-:PR</td><td>ENSG00000078808.18</td><td>8.34233e-07</td><td>0.035935800</td><td>-0.615276</td><td>0.1984900</td><td>PR   </td><td>0</td></tr>\n",
       "\t<tr><td>chr1_1453870_A_C_b38</td><td>chr1:1389047:1390229:clu_1835_-:UP</td><td>ENSG00000221978.12</td><td>1.38712e-05</td><td>0.275098000</td><td>-0.568726</td><td>0.0444945</td><td>PR,UP</td><td>0</td></tr>\n",
       "\t<tr><td>chr1_1609890_C_T_b38</td><td>chr1:1642001:1642346:clu_1843_-:PR</td><td>ENSG00000248333.8 </td><td>1.90325e-06</td><td>0.049742600</td><td>-0.540764</td><td>0.1371800</td><td>PR   </td><td>0</td></tr>\n",
       "</tbody>\n",
       "</table>\n"
      ],
      "text/latex": [
       "A data.table: 5 × 9\n",
       "\\begin{tabular}{lllllllll}\n",
       " gid & intron\\_id & gene\\_id & pval\\_sqtl & pval\\_eqtl & slope\\_sqtl & slope\\_eqtl & ctype & topflag\\\\\n",
       " <chr> & <chr> & <chr> & <dbl> & <dbl> & <dbl> & <dbl> & <chr> & <int>\\\\\n",
       "\\hline\n",
       "\t chr1\\_1079456\\_A\\_G\\_b38 & chr1:1082987:1084352:clu\\_1808\\_-:PR & ENSG00000131591.17 & 4.72618e-07 & 0.010969000 & -0.362335 & 0.0819196 & PR,UP & 0\\\\\n",
       "\t chr1\\_1091327\\_C\\_A\\_b38 & chr1:1090428:1091471:clu\\_1810\\_-:PR & ENSG00000131591.17 & 4.72455e-08 & 0.000171671 & -0.444126 & 0.1175260 & PR    & 1\\\\\n",
       "\t chr1\\_1217733\\_G\\_A\\_b38 & chr1:1217804:1218457:clu\\_1814\\_-:PR & ENSG00000078808.18 & 8.34233e-07 & 0.035935800 & -0.615276 & 0.1984900 & PR    & 0\\\\\n",
       "\t chr1\\_1453870\\_A\\_C\\_b38 & chr1:1389047:1390229:clu\\_1835\\_-:UP & ENSG00000221978.12 & 1.38712e-05 & 0.275098000 & -0.568726 & 0.0444945 & PR,UP & 0\\\\\n",
       "\t chr1\\_1609890\\_C\\_T\\_b38 & chr1:1642001:1642346:clu\\_1843\\_-:PR & ENSG00000248333.8  & 1.90325e-06 & 0.049742600 & -0.540764 & 0.1371800 & PR    & 0\\\\\n",
       "\\end{tabular}\n"
      ],
      "text/markdown": [
       "\n",
       "A data.table: 5 × 9\n",
       "\n",
       "| gid &lt;chr&gt; | intron_id &lt;chr&gt; | gene_id &lt;chr&gt; | pval_sqtl &lt;dbl&gt; | pval_eqtl &lt;dbl&gt; | slope_sqtl &lt;dbl&gt; | slope_eqtl &lt;dbl&gt; | ctype &lt;chr&gt; | topflag &lt;int&gt; |\n",
       "|---|---|---|---|---|---|---|---|---|\n",
       "| chr1_1079456_A_G_b38 | chr1:1082987:1084352:clu_1808_-:PR | ENSG00000131591.17 | 4.72618e-07 | 0.010969000 | -0.362335 | 0.0819196 | PR,UP | 0 |\n",
       "| chr1_1091327_C_A_b38 | chr1:1090428:1091471:clu_1810_-:PR | ENSG00000131591.17 | 4.72455e-08 | 0.000171671 | -0.444126 | 0.1175260 | PR    | 1 |\n",
       "| chr1_1217733_G_A_b38 | chr1:1217804:1218457:clu_1814_-:PR | ENSG00000078808.18 | 8.34233e-07 | 0.035935800 | -0.615276 | 0.1984900 | PR    | 0 |\n",
       "| chr1_1453870_A_C_b38 | chr1:1389047:1390229:clu_1835_-:UP | ENSG00000221978.12 | 1.38712e-05 | 0.275098000 | -0.568726 | 0.0444945 | PR,UP | 0 |\n",
       "| chr1_1609890_C_T_b38 | chr1:1642001:1642346:clu_1843_-:PR | ENSG00000248333.8  | 1.90325e-06 | 0.049742600 | -0.540764 | 0.1371800 | PR    | 0 |\n",
       "\n"
      ],
      "text/plain": [
       "  gid                  intron_id                          gene_id           \n",
       "1 chr1_1079456_A_G_b38 chr1:1082987:1084352:clu_1808_-:PR ENSG00000131591.17\n",
       "2 chr1_1091327_C_A_b38 chr1:1090428:1091471:clu_1810_-:PR ENSG00000131591.17\n",
       "3 chr1_1217733_G_A_b38 chr1:1217804:1218457:clu_1814_-:PR ENSG00000078808.18\n",
       "4 chr1_1453870_A_C_b38 chr1:1389047:1390229:clu_1835_-:UP ENSG00000221978.12\n",
       "5 chr1_1609890_C_T_b38 chr1:1642001:1642346:clu_1843_-:PR ENSG00000248333.8 \n",
       "  pval_sqtl   pval_eqtl   slope_sqtl slope_eqtl ctype topflag\n",
       "1 4.72618e-07 0.010969000 -0.362335  0.0819196  PR,UP 0      \n",
       "2 4.72455e-08 0.000171671 -0.444126  0.1175260  PR    1      \n",
       "3 8.34233e-07 0.035935800 -0.615276  0.1984900  PR    0      \n",
       "4 1.38712e-05 0.275098000 -0.568726  0.0444945  PR,UP 0      \n",
       "5 1.90325e-06 0.049742600 -0.540764  0.1371800  PR    0      "
      ]
     },
     "metadata": {},
     "output_type": "display_data"
    },
    {
     "data": {
      "text/html": [
       "<style>\n",
       ".list-inline {list-style: none; margin:0; padding: 0}\n",
       ".list-inline>li {display: inline-block}\n",
       ".list-inline>li:not(:last-child)::after {content: \"\\00b7\"; padding: 0 .5ex}\n",
       "</style>\n",
       "<ol class=list-inline><li>2166</li><li>9</li></ol>\n"
      ],
      "text/latex": [
       "\\begin{enumerate*}\n",
       "\\item 2166\n",
       "\\item 9\n",
       "\\end{enumerate*}\n"
      ],
      "text/markdown": [
       "1. 2166\n",
       "2. 9\n",
       "\n",
       "\n"
      ],
      "text/plain": [
       "[1] 2166    9"
      ]
     },
     "metadata": {},
     "output_type": "display_data"
    }
   ],
   "source": [
    "dim(plotDF)\n",
    "plotDF[1:5]\n",
    "unique(plotDF) %>% dim()\n"
   ]
  },
  {
   "cell_type": "code",
   "execution_count": 277,
   "metadata": {
    "vscode": {
     "languageId": "r"
    }
   },
   "outputs": [],
   "source": [
    "qqplot <- list(\n",
    "  Productive = plotDF[ctype == \"PR\", pval_eqtl],\n",
    "  Unproductive = plotDF[ctype == \"PR,UP\", pval_eqtl]\n",
    ") %>%\n",
    "  multiqq()\n"
   ]
  },
  {
   "cell_type": "code",
   "execution_count": 284,
   "metadata": {
    "vscode": {
     "languageId": "r"
    }
   },
   "outputs": [
    {
     "data": {
      "image/png": "[encoded data removed]",
      "text/plain": [
       "plot without title"
      ]
     },
     "metadata": {
      "image/png": {
       "height": 420,
       "width": 420
      }
     },
     "output_type": "display_data"
    }
   ],
   "source": [
    "Title <- glue(\"{tissue}\")\n",
    "\n",
    "qqplot + theme_cowplot() +\n",
    "  labs(title = Title) +\n",
    "  theme(legend.title = element_blank())\n"
   ]
  },
  {
   "cell_type": "code",
   "execution_count": null,
   "metadata": {
    "vscode": {
     "languageId": "r"
    }
   },
   "outputs": [],
   "source": []
  },
  {
   "cell_type": "code",
   "execution_count": null,
   "metadata": {
    "vscode": {
     "languageId": "r"
    }
   },
   "outputs": [
    {
     "data": {
      "text/html": [
       "<style>\n",
       ".list-inline {list-style: none; margin:0; padding: 0}\n",
       ".list-inline>li {display: inline-block}\n",
       ".list-inline>li:not(:last-child)::after {content: \"\\00b7\"; padding: 0 .5ex}\n",
       "</style>\n",
       "<ol class=list-inline><li>2166</li><li>9</li></ol>\n"
      ],
      "text/latex": [
       "\\begin{enumerate*}\n",
       "\\item 2166\n",
       "\\item 9\n",
       "\\end{enumerate*}\n"
      ],
      "text/markdown": [
       "1. 2166\n",
       "2. 9\n",
       "\n",
       "\n"
      ],
      "text/plain": [
       "[1] 2166    9"
      ]
     },
     "metadata": {},
     "output_type": "display_data"
    },
    {
     "data": {
      "text/html": [
       "<table class=\"dataframe\">\n",
       "<caption>A data.table: 5 × 9</caption>\n",
       "<thead>\n",
       "\t<tr><th scope=col>gid</th><th scope=col>intron_id</th><th scope=col>gene_id</th><th scope=col>pval_sqtl</th><th scope=col>pval_eqtl</th><th scope=col>slope_sqtl</th><th scope=col>slope_eqtl</th><th scope=col>ctype</th><th scope=col>topflag</th></tr>\n",
       "\t<tr><th scope=col>&lt;chr&gt;</th><th scope=col>&lt;chr&gt;</th><th scope=col>&lt;chr&gt;</th><th scope=col>&lt;dbl&gt;</th><th scope=col>&lt;dbl&gt;</th><th scope=col>&lt;dbl&gt;</th><th scope=col>&lt;dbl&gt;</th><th scope=col>&lt;chr&gt;</th><th scope=col>&lt;int&gt;</th></tr>\n",
       "</thead>\n",
       "<tbody>\n",
       "\t<tr><td>chr1_1079456_A_G_b38</td><td>chr1:1082987:1084352:clu_1808_-:PR</td><td>ENSG00000131591.17</td><td>4.72618e-07</td><td>0.010969000</td><td>-0.362335</td><td>0.0819196</td><td>PR,UP</td><td>0</td></tr>\n",
       "\t<tr><td>chr1_1091327_C_A_b38</td><td>chr1:1090428:1091471:clu_1810_-:PR</td><td>ENSG00000131591.17</td><td>4.72455e-08</td><td>0.000171671</td><td>-0.444126</td><td>0.1175260</td><td>PR   </td><td>1</td></tr>\n",
       "\t<tr><td>chr1_1217733_G_A_b38</td><td>chr1:1217804:1218457:clu_1814_-:PR</td><td>ENSG00000078808.18</td><td>8.34233e-07</td><td>0.035935800</td><td>-0.615276</td><td>0.1984900</td><td>PR   </td><td>0</td></tr>\n",
       "\t<tr><td>chr1_1453870_A_C_b38</td><td>chr1:1389047:1390229:clu_1835_-:UP</td><td>ENSG00000221978.12</td><td>1.38712e-05</td><td>0.275098000</td><td>-0.568726</td><td>0.0444945</td><td>PR,UP</td><td>0</td></tr>\n",
       "\t<tr><td>chr1_1609890_C_T_b38</td><td>chr1:1642001:1642346:clu_1843_-:PR</td><td>ENSG00000248333.8 </td><td>1.90325e-06</td><td>0.049742600</td><td>-0.540764</td><td>0.1371800</td><td>PR   </td><td>0</td></tr>\n",
       "</tbody>\n",
       "</table>\n"
      ],
      "text/latex": [
       "A data.table: 5 × 9\n",
       "\\begin{tabular}{lllllllll}\n",
       " gid & intron\\_id & gene\\_id & pval\\_sqtl & pval\\_eqtl & slope\\_sqtl & slope\\_eqtl & ctype & topflag\\\\\n",
       " <chr> & <chr> & <chr> & <dbl> & <dbl> & <dbl> & <dbl> & <chr> & <int>\\\\\n",
       "\\hline\n",
       "\t chr1\\_1079456\\_A\\_G\\_b38 & chr1:1082987:1084352:clu\\_1808\\_-:PR & ENSG00000131591.17 & 4.72618e-07 & 0.010969000 & -0.362335 & 0.0819196 & PR,UP & 0\\\\\n",
       "\t chr1\\_1091327\\_C\\_A\\_b38 & chr1:1090428:1091471:clu\\_1810\\_-:PR & ENSG00000131591.17 & 4.72455e-08 & 0.000171671 & -0.444126 & 0.1175260 & PR    & 1\\\\\n",
       "\t chr1\\_1217733\\_G\\_A\\_b38 & chr1:1217804:1218457:clu\\_1814\\_-:PR & ENSG00000078808.18 & 8.34233e-07 & 0.035935800 & -0.615276 & 0.1984900 & PR    & 0\\\\\n",
       "\t chr1\\_1453870\\_A\\_C\\_b38 & chr1:1389047:1390229:clu\\_1835\\_-:UP & ENSG00000221978.12 & 1.38712e-05 & 0.275098000 & -0.568726 & 0.0444945 & PR,UP & 0\\\\\n",
       "\t chr1\\_1609890\\_C\\_T\\_b38 & chr1:1642001:1642346:clu\\_1843\\_-:PR & ENSG00000248333.8  & 1.90325e-06 & 0.049742600 & -0.540764 & 0.1371800 & PR    & 0\\\\\n",
       "\\end{tabular}\n"
      ],
      "text/markdown": [
       "\n",
       "A data.table: 5 × 9\n",
       "\n",
       "| gid &lt;chr&gt; | intron_id &lt;chr&gt; | gene_id &lt;chr&gt; | pval_sqtl &lt;dbl&gt; | pval_eqtl &lt;dbl&gt; | slope_sqtl &lt;dbl&gt; | slope_eqtl &lt;dbl&gt; | ctype &lt;chr&gt; | topflag &lt;int&gt; |\n",
       "|---|---|---|---|---|---|---|---|---|\n",
       "| chr1_1079456_A_G_b38 | chr1:1082987:1084352:clu_1808_-:PR | ENSG00000131591.17 | 4.72618e-07 | 0.010969000 | -0.362335 | 0.0819196 | PR,UP | 0 |\n",
       "| chr1_1091327_C_A_b38 | chr1:1090428:1091471:clu_1810_-:PR | ENSG00000131591.17 | 4.72455e-08 | 0.000171671 | -0.444126 | 0.1175260 | PR    | 1 |\n",
       "| chr1_1217733_G_A_b38 | chr1:1217804:1218457:clu_1814_-:PR | ENSG00000078808.18 | 8.34233e-07 | 0.035935800 | -0.615276 | 0.1984900 | PR    | 0 |\n",
       "| chr1_1453870_A_C_b38 | chr1:1389047:1390229:clu_1835_-:UP | ENSG00000221978.12 | 1.38712e-05 | 0.275098000 | -0.568726 | 0.0444945 | PR,UP | 0 |\n",
       "| chr1_1609890_C_T_b38 | chr1:1642001:1642346:clu_1843_-:PR | ENSG00000248333.8  | 1.90325e-06 | 0.049742600 | -0.540764 | 0.1371800 | PR    | 0 |\n",
       "\n"
      ],
      "text/plain": [
       "  gid                  intron_id                          gene_id           \n",
       "1 chr1_1079456_A_G_b38 chr1:1082987:1084352:clu_1808_-:PR ENSG00000131591.17\n",
       "2 chr1_1091327_C_A_b38 chr1:1090428:1091471:clu_1810_-:PR ENSG00000131591.17\n",
       "3 chr1_1217733_G_A_b38 chr1:1217804:1218457:clu_1814_-:PR ENSG00000078808.18\n",
       "4 chr1_1453870_A_C_b38 chr1:1389047:1390229:clu_1835_-:UP ENSG00000221978.12\n",
       "5 chr1_1609890_C_T_b38 chr1:1642001:1642346:clu_1843_-:PR ENSG00000248333.8 \n",
       "  pval_sqtl   pval_eqtl   slope_sqtl slope_eqtl ctype topflag\n",
       "1 4.72618e-07 0.010969000 -0.362335  0.0819196  PR,UP 0      \n",
       "2 4.72455e-08 0.000171671 -0.444126  0.1175260  PR    1      \n",
       "3 8.34233e-07 0.035935800 -0.615276  0.1984900  PR    0      \n",
       "4 1.38712e-05 0.275098000 -0.568726  0.0444945  PR,UP 0      \n",
       "5 1.90325e-06 0.049742600 -0.540764  0.1371800  PR    0      "
      ]
     },
     "metadata": {},
     "output_type": "display_data"
    },
    {
     "data": {
      "text/html": [
       "<style>\n",
       ".list-inline {list-style: none; margin:0; padding: 0}\n",
       ".list-inline>li {display: inline-block}\n",
       ".list-inline>li:not(:last-child)::after {content: \"\\00b7\"; padding: 0 .5ex}\n",
       "</style>\n",
       "<ol class=list-inline><li>2166</li><li>9</li></ol>\n"
      ],
      "text/latex": [
       "\\begin{enumerate*}\n",
       "\\item 2166\n",
       "\\item 9\n",
       "\\end{enumerate*}\n"
      ],
      "text/markdown": [
       "1. 2166\n",
       "2. 9\n",
       "\n",
       "\n"
      ],
      "text/plain": [
       "[1] 2166    9"
      ]
     },
     "metadata": {},
     "output_type": "display_data"
    }
   ],
   "source": [
    "dim(plotDF)\n",
    "plotDF[1:5]\n",
    "unique(plotDF) %>% dim()\n"
   ]
  },
  {
   "cell_type": "code",
   "execution_count": 301,
   "metadata": {
    "vscode": {
     "languageId": "r"
    }
   },
   "outputs": [
    {
     "name": "stderr",
     "output_type": "stream",
     "text": [
      "Warning message in cor.test.default(x = .x$slope_eqtl, y = .x$slope_sqtl, method = \"s\"):\n",
      "“Cannot compute exact p-value with ties”\n",
      "Warning message in cor.test.default(x = .x$slope_eqtl, y = .x$slope_sqtl, method = \"s\"):\n",
      "“Cannot compute exact p-value with ties”\n"
     ]
    }
   ],
   "source": [
    "corr <- plotDF[, .(slope_sqtl, slope_eqtl, ctype = if_else(ctype == \"PR\", \"PR\", \"UP\"))]  %>% \n",
    "  split( by = \"ctype\")  %>% \n",
    "  map(~cor.test(x = .x$slope_eqtl, y = .x$slope_sqtl, method = \"s\"))"
   ]
  },
  {
   "cell_type": "code",
   "execution_count": 300,
   "metadata": {
    "vscode": {
     "languageId": "r"
    }
   },
   "outputs": [
    {
     "data": {
      "text/html": [
       "0.000148114918593562"
      ],
      "text/latex": [
       "0.000148114918593562"
      ],
      "text/markdown": [
       "0.000148114918593562"
      ],
      "text/plain": [
       "[1] 0.0001481149"
      ]
     },
     "metadata": {},
     "output_type": "display_data"
    }
   ],
   "source": [
    "corr$UP$p.value"
   ]
  },
  {
   "cell_type": "code",
   "execution_count": 302,
   "metadata": {
    "vscode": {
     "languageId": "r"
    }
   },
   "outputs": [
    {
     "data": {
      "text/plain": [
       "$UP\n",
       "\n",
       "\tSpearman's rank correlation rho\n",
       "\n",
       "data:  .x$slope_eqtl and .x$slope_sqtl\n",
       "S = 156006739, p-value = 0.0001481\n",
       "alternative hypothesis: true rho is not equal to 0\n",
       "sample estimates:\n",
       "       rho \n",
       "-0.1233788 \n",
       "\n",
       "\n",
       "$PR\n",
       "\n",
       "\tSpearman's rank correlation rho\n",
       "\n",
       "data:  .x$slope_eqtl and .x$slope_sqtl\n",
       "S = 327026633, p-value = 0.01831\n",
       "alternative hypothesis: true rho is not equal to 0\n",
       "sample estimates:\n",
       "        rho \n",
       "-0.06739803 \n",
       "\n"
      ]
     },
     "metadata": {},
     "output_type": "display_data"
    }
   ],
   "source": [
    "corr"
   ]
  },
  {
   "cell_type": "code",
   "execution_count": 310,
   "metadata": {
    "vscode": {
     "languageId": "r"
    }
   },
   "outputs": [
    {
     "data": {
      "text/plain": [
       "\n",
       "\tSpearman's rank correlation rho\n",
       "\n",
       "data:  .x$slope_eqtl and .x$slope_sqtl\n",
       "S = 327026633, p-value = 0.01831\n",
       "alternative hypothesis: true rho is not equal to 0\n",
       "sample estimates:\n",
       "        rho \n",
       "-0.06739803 \n"
      ]
     },
     "metadata": {},
     "output_type": "display_data"
    }
   ],
   "source": [
    "corr$PR"
   ]
  },
  {
   "cell_type": "code",
   "execution_count": 316,
   "metadata": {
    "vscode": {
     "languageId": "r"
    }
   },
   "outputs": [],
   "source": [
    "library(ggpointdensity)"
   ]
  },
  {
   "cell_type": "code",
   "execution_count": 390,
   "metadata": {
    "vscode": {
     "languageId": "r"
    }
   },
   "outputs": [],
   "source": [
    "\n",
    "corr <- plotDF[, .(slope_sqtl, slope_eqtl, ctype = if_else(ctype == \"PR\", \"PR\", \"UP\"))]  %>% \n",
    "  split( by = \"ctype\")  %>% \n",
    "  map(~cor.test(x = .x$slope_eqtl, y = .x$slope_sqtl, method = \"p\"))\n",
    "\n",
    "corr.pvals <- map(corr, ~.x$p.value) %>% unlist\n",
    "corr.estimates <- map(corr, ~.x$estimate[[1]]) %>% unlist\n",
    "\n",
    "if (all(names(corr.pvals) == names(corr.estimates))) {\n",
    "  corr.df <- data.frame(\n",
    "    ctype = if_else(names(corr.pvals) == \"PR\", \"Productive\", \"Unproductive\"),\n",
    "    pval = corr.pvals,\n",
    "    estimate = corr.estimates\n",
    "  )\n",
    "} else {\n",
    "  stop(\"names of pvals and estimates do not match\")\n",
    "}\n",
    "\n"
   ]
  },
  {
   "cell_type": "code",
   "execution_count": 391,
   "metadata": {
    "vscode": {
     "languageId": "r"
    }
   },
   "outputs": [
    {
     "data": {
      "text/html": [
       "<table class=\"dataframe\">\n",
       "<caption>A data.frame: 2 × 5</caption>\n",
       "<thead>\n",
       "\t<tr><th></th><th scope=col>ctype</th><th scope=col>pval</th><th scope=col>estimate</th><th scope=col>xpos</th><th scope=col>ypos</th></tr>\n",
       "\t<tr><th></th><th scope=col>&lt;chr&gt;</th><th scope=col>&lt;dbl&gt;</th><th scope=col>&lt;dbl&gt;</th><th scope=col>&lt;dbl&gt;</th><th scope=col>&lt;dbl&gt;</th></tr>\n",
       "</thead>\n",
       "<tbody>\n",
       "\t<tr><th scope=row>UP</th><td>Unproductive</td><td>1.988646e-08</td><td>-0.18169452</td><td>0</td><td>0</td></tr>\n",
       "\t<tr><th scope=row>PR</th><td>Productive  </td><td>1.563543e-02</td><td>-0.06905422</td><td>0</td><td>0</td></tr>\n",
       "</tbody>\n",
       "</table>\n"
      ],
      "text/latex": [
       "A data.frame: 2 × 5\n",
       "\\begin{tabular}{r|lllll}\n",
       "  & ctype & pval & estimate & xpos & ypos\\\\\n",
       "  & <chr> & <dbl> & <dbl> & <dbl> & <dbl>\\\\\n",
       "\\hline\n",
       "\tUP & Unproductive & 1.988646e-08 & -0.18169452 & 0 & 0\\\\\n",
       "\tPR & Productive   & 1.563543e-02 & -0.06905422 & 0 & 0\\\\\n",
       "\\end{tabular}\n"
      ],
      "text/markdown": [
       "\n",
       "A data.frame: 2 × 5\n",
       "\n",
       "| <!--/--> | ctype &lt;chr&gt; | pval &lt;dbl&gt; | estimate &lt;dbl&gt; | xpos &lt;dbl&gt; | ypos &lt;dbl&gt; |\n",
       "|---|---|---|---|---|---|\n",
       "| UP | Unproductive | 1.988646e-08 | -0.18169452 | 0 | 0 |\n",
       "| PR | Productive   | 1.563543e-02 | -0.06905422 | 0 | 0 |\n",
       "\n"
      ],
      "text/plain": [
       "   ctype        pval         estimate    xpos ypos\n",
       "UP Unproductive 1.988646e-08 -0.18169452 0    0   \n",
       "PR Productive   1.563543e-02 -0.06905422 0    0   "
      ]
     },
     "metadata": {},
     "output_type": "display_data"
    }
   ],
   "source": [
    "corr.df <- corr.df %>% \n",
    "  mutate(xpos = c(0,0), ypos = c(0,0))\n",
    "corr.df"
   ]
  },
  {
   "cell_type": "code",
   "execution_count": 387,
   "metadata": {
    "vscode": {
     "languageId": "r"
    }
   },
   "outputs": [
    {
     "data": {
      "image/png": "[encoded data removed]",
      "text/plain": [
       "plot without title"
      ]
     },
     "metadata": {
      "image/png": {
       "height": 420,
       "width": 420
      }
     },
     "output_type": "display_data"
    }
   ],
   "source": [
    "ggplot(corr.df) + \n",
    "  geom_text(aes(x = xpos, y = ypos, \n",
    "                label = glue(\"cor: {corr}\\np: {pvalue}\", \n",
    "                              corr = if_else(abs(estimate) > .001, scales::number(estimate, .01), scales::scientific(estimate)),\n",
    "                              pvalue = if_else(pval > .001, scales::number(pval, .01), scales::scientific(pval)),\n",
    "                            )\n",
    "                )\n",
    "            ) +\n",
    "  facet_wrap(~type)"
   ]
  },
  {
   "cell_type": "code",
   "execution_count": 405,
   "metadata": {
    "vscode": {
     "languageId": "r"
    }
   },
   "outputs": [
    {
     "data": {
      "image/png": "[encoded data removed]",
      "text/plain": [
       "plot without title"
      ]
     },
     "metadata": {
      "image/png": {
       "height": 420,
       "width": 420
      }
     },
     "output_type": "display_data"
    }
   ],
   "source": [
    "plotDF[, .(slope_sqtl, slope_eqtl, ctype)] %>% \n",
    "  mutate(ctype = if_else(ctype == \"PR\", \"Productive\", \"Unproductive\")) %>%\n",
    "  ggplot() + geom_pointdensity(aes(slope_eqtl, slope_sqtl), alpha = .6) +\n",
    "    geom_smooth(aes(slope_eqtl, slope_sqtl), method = \"lm\", se = F, formula = y~x) +\n",
    "    geom_text(data = corr.df, mapping = aes(x = xpos, y = ypos, \n",
    "                label = glue(\"cor: {corr}\\np: {pvalue}\", \n",
    "                              corr = if_else(abs(estimate) > .001, scales::number(estimate, .01), scales::scientific(estimate)),\n",
    "                              pvalue = if_else(pval > .001, scales::number(pval, .01), scales::scientific(pval)),\n",
    "                            )\n",
    "                ), size = 5, hjust = 0, vjust = -6\n",
    "            ) +\n",
    "    labs(x = \"eQTL effect size\", y = \"sQTL effect size\") +\n",
    "    facet_wrap(~ctype) + theme_cowplot()"
   ]
  },
  {
   "cell_type": "code",
   "execution_count": null,
   "metadata": {
    "vscode": {
     "languageId": "r"
    }
   },
   "outputs": [],
   "source": []
  },
  {
   "cell_type": "code",
   "execution_count": 117,
   "metadata": {
    "vscode": {
     "languageId": "r"
    }
   },
   "outputs": [],
   "source": [
    "sqtl.gr <- sqtl[, .(phenotype_chr, phenotype_start, phenotype_end, phenotype_strand, phenotype_id)]\n",
    "sqtl.gr <- makeGRangesFromDataFrame(sqtl.gr,\n",
    "  keep.extra.columns = TRUE, seqnames.field = \"phenotype_chr\",\n",
    "  start.field = \"phenotype_start\", end.field = \"phenotype_end\",\n",
    "  strand.field = \"phenotype_strand\"\n",
    ")\n"
   ]
  },
  {
   "cell_type": "code",
   "execution_count": 132,
   "metadata": {
    "vscode": {
     "languageId": "r"
    }
   },
   "outputs": [
    {
     "data": {
      "text/plain": [
       "GRanges object with 2320 ranges and 1 metadata column:\n",
       "         seqnames            ranges strand |           phenotype_id\n",
       "            <Rle>         <IRanges>  <Rle> |            <character>\n",
       "     [1]     chr1     941307-942135      + | chr1:941306:942135:c..\n",
       "     [2]     chr1   2156093-2169517      + | chr1:2156092:2169517..\n",
       "     [3]     chr1   6448562-6448640      + | chr1:6448561:6448640..\n",
       "     [4]     chr1   6449092-6451602      + | chr1:6449091:6451602..\n",
       "     [5]     chr1   6580050-6580540      + | chr1:6580049:6580540..\n",
       "     ...      ...               ...    ... .                    ...\n",
       "  [2316]    chr22 50284666-50285799      - | chr22:50284665:50285..\n",
       "  [2317]    chr22 50526142-50526245      - | chr22:50526141:50526..\n",
       "  [2318]    chr22 50571293-50571374      - | chr22:50571292:50571..\n",
       "  [2319]    chr22 50571534-50572005      - | chr22:50571533:50572..\n",
       "  [2320]    chr22 50782348-50783500      - | chr22:50782347:50783..\n",
       "  -------\n",
       "  seqinfo: 22 sequences from an unspecified genome; no seqlengths"
      ]
     },
     "metadata": {},
     "output_type": "display_data"
    }
   ],
   "source": [
    "sqtl.gr %>% sort()\n"
   ]
  },
  {
   "cell_type": "code",
   "execution_count": 121,
   "metadata": {
    "vscode": {
     "languageId": "r"
    }
   },
   "outputs": [],
   "source": [
    "nom.gr <- nomDF[, .(pid, pchr, pstart, pend, pstrand)] %>% unique()\n",
    "nom.gr <- makeGRangesFromDataFrame(nom.gr,\n",
    "  keep.extra.columns = TRUE, seqnames.field = \"pchr\",\n",
    "  start.field = \"pstart\", end.field = \"pend\",\n",
    "  strand.field = \"pstrand\"\n",
    ")\n"
   ]
  },
  {
   "cell_type": "code",
   "execution_count": 124,
   "metadata": {
    "vscode": {
     "languageId": "r"
    }
   },
   "outputs": [
    {
     "data": {
      "text/plain": [
       "GRanges object with 2320 ranges and 1 metadata column:\n",
       "         seqnames            ranges strand |           phenotype_id\n",
       "            <Rle>         <IRanges>  <Rle> |            <character>\n",
       "     [1]     chr1     941307-942135      + | chr1:941306:942135:c..\n",
       "     [2]     chr1   2156093-2169517      + | chr1:2156092:2169517..\n",
       "     [3]     chr1   6448562-6448640      + | chr1:6448561:6448640..\n",
       "     [4]     chr1   6449092-6451602      + | chr1:6449091:6451602..\n",
       "     [5]     chr1   6580050-6580540      + | chr1:6580049:6580540..\n",
       "     ...      ...               ...    ... .                    ...\n",
       "  [2316]    chr22 50284666-50285799      - | chr22:50284665:50285..\n",
       "  [2317]    chr22 50526142-50526245      - | chr22:50526141:50526..\n",
       "  [2318]    chr22 50571293-50571374      - | chr22:50571292:50571..\n",
       "  [2319]    chr22 50571534-50572005      - | chr22:50571533:50572..\n",
       "  [2320]    chr22 50782348-50783500      - | chr22:50782347:50783..\n",
       "  -------\n",
       "  seqinfo: 22 sequences from an unspecified genome; no seqlengths"
      ]
     },
     "metadata": {},
     "output_type": "display_data"
    }
   ],
   "source": [
    "sort(sqtl.gr)\n"
   ]
  },
  {
   "cell_type": "code",
   "execution_count": 140,
   "metadata": {
    "vscode": {
     "languageId": "r"
    }
   },
   "outputs": [],
   "source": [
    "x <- GenomicRanges::distanceToNearest(sqtl.gr, nom.gr, select = \"arbitrary\", ignore.strand = TRUE)\n"
   ]
  },
  {
   "cell_type": "code",
   "execution_count": 141,
   "metadata": {
    "vscode": {
     "languageId": "r"
    }
   },
   "outputs": [
    {
     "data": {
      "text/plain": [
       "Hits object with 2320 hits and 1 metadata column:\n",
       "         queryHits subjectHits |  distance\n",
       "         <integer>   <integer> | <integer>\n",
       "     [1]         1          38 |      2067\n",
       "     [2]         2          31 |         0\n",
       "     [3]         3          31 |         0\n",
       "     [4]         4          22 |         0\n",
       "     [5]         5          15 |         0\n",
       "     ...       ...         ... .       ...\n",
       "  [2316]      2316       11556 |         0\n",
       "  [2317]      2317       11563 |         0\n",
       "  [2318]      2318       11558 |         0\n",
       "  [2319]      2319       11558 |         0\n",
       "  [2320]      2320       11560 |         0\n",
       "  -------\n",
       "  queryLength: 2320 / subjectLength: 11586"
      ]
     },
     "metadata": {},
     "output_type": "display_data"
    }
   ],
   "source": [
    "x\n"
   ]
  },
  {
   "cell_type": "code",
   "execution_count": 143,
   "metadata": {
    "vscode": {
     "languageId": "r"
    }
   },
   "outputs": [
    {
     "ename": "ERROR",
     "evalue": "Error in x$metadata: $ operator not defined for this S4 class\n",
     "output_type": "error",
     "traceback": [
      "Error in x$metadata: $ operator not defined for this S4 class\nTraceback:\n"
     ]
    }
   ],
   "source": [
    "x$metada\n"
   ]
  },
  {
   "cell_type": "code",
   "execution_count": null,
   "metadata": {
    "vscode": {
     "languageId": "r"
    }
   },
   "outputs": [],
   "source": []
  },
  {
   "cell_type": "code",
   "execution_count": 98,
   "metadata": {
    "vscode": {
     "languageId": "r"
    }
   },
   "outputs": [
    {
     "data": {
      "text/html": [
       "<table class=\"dataframe\">\n",
       "<caption>A data.table: 2 × 2</caption>\n",
       "<thead>\n",
       "\t<tr><th scope=col>ctype</th><th scope=col>Nclu</th></tr>\n",
       "\t<tr><th scope=col>&lt;chr&gt;</th><th scope=col>&lt;int&gt;</th></tr>\n",
       "</thead>\n",
       "<tbody>\n",
       "\t<tr><td>PR   </td><td>1313</td></tr>\n",
       "\t<tr><td>PR,UP</td><td>1007</td></tr>\n",
       "</tbody>\n",
       "</table>\n"
      ],
      "text/latex": [
       "A data.table: 2 × 2\n",
       "\\begin{tabular}{ll}\n",
       " ctype & Nclu\\\\\n",
       " <chr> & <int>\\\\\n",
       "\\hline\n",
       "\t PR    & 1313\\\\\n",
       "\t PR,UP & 1007\\\\\n",
       "\\end{tabular}\n"
      ],
      "text/markdown": [
       "\n",
       "A data.table: 2 × 2\n",
       "\n",
       "| ctype &lt;chr&gt; | Nclu &lt;int&gt; |\n",
       "|---|---|\n",
       "| PR    | 1313 |\n",
       "| PR,UP | 1007 |\n",
       "\n"
      ],
      "text/plain": [
       "  ctype Nclu\n",
       "1 PR    1313\n",
       "2 PR,UP 1007"
      ]
     },
     "metadata": {},
     "output_type": "display_data"
    },
    {
     "data": {
      "text/html": [
       "<table class=\"dataframe\">\n",
       "<caption>A data.table: 2 × 2</caption>\n",
       "<thead>\n",
       "\t<tr><th scope=col>qtl_type</th><th scope=col>Nclu</th></tr>\n",
       "\t<tr><th scope=col>&lt;chr&gt;</th><th scope=col>&lt;int&gt;</th></tr>\n",
       "</thead>\n",
       "<tbody>\n",
       "\t<tr><td>p-sQTL</td><td>1313</td></tr>\n",
       "\t<tr><td>u-sQTL</td><td>1007</td></tr>\n",
       "</tbody>\n",
       "</table>\n"
      ],
      "text/latex": [
       "A data.table: 2 × 2\n",
       "\\begin{tabular}{ll}\n",
       " qtl\\_type & Nclu\\\\\n",
       " <chr> & <int>\\\\\n",
       "\\hline\n",
       "\t p-sQTL & 1313\\\\\n",
       "\t u-sQTL & 1007\\\\\n",
       "\\end{tabular}\n"
      ],
      "text/markdown": [
       "\n",
       "A data.table: 2 × 2\n",
       "\n",
       "| qtl_type &lt;chr&gt; | Nclu &lt;int&gt; |\n",
       "|---|---|\n",
       "| p-sQTL | 1313 |\n",
       "| u-sQTL | 1007 |\n",
       "\n"
      ],
      "text/plain": [
       "  qtl_type Nclu\n",
       "1 p-sQTL   1313\n",
       "2 u-sQTL   1007"
      ]
     },
     "metadata": {},
     "output_type": "display_data"
    }
   ],
   "source": [
    "sqtl[, .(Nclu = uniqueN(clu)), by = .(ctype)]\n",
    "sqtl[, .(Nclu = uniqueN(clu)), by = .(qtl_type)]\n"
   ]
  },
  {
   "cell_type": "code",
   "execution_count": 95,
   "metadata": {
    "vscode": {
     "languageId": "r"
    }
   },
   "outputs": [
    {
     "data": {
      "text/html": [
       "<table class=\"dataframe\">\n",
       "<caption>A data.table: 2 × 2</caption>\n",
       "<thead>\n",
       "\t<tr><th scope=col>itype</th><th scope=col>N</th></tr>\n",
       "\t<tr><th scope=col>&lt;chr&gt;</th><th scope=col>&lt;int&gt;</th></tr>\n",
       "</thead>\n",
       "<tbody>\n",
       "\t<tr><td>PR</td><td>1041</td></tr>\n",
       "\t<tr><td>UP</td><td> 870</td></tr>\n",
       "</tbody>\n",
       "</table>\n"
      ],
      "text/latex": [
       "A data.table: 2 × 2\n",
       "\\begin{tabular}{ll}\n",
       " itype & N\\\\\n",
       " <chr> & <int>\\\\\n",
       "\\hline\n",
       "\t PR & 1041\\\\\n",
       "\t UP &  870\\\\\n",
       "\\end{tabular}\n"
      ],
      "text/markdown": [
       "\n",
       "A data.table: 2 × 2\n",
       "\n",
       "| itype &lt;chr&gt; | N &lt;int&gt; |\n",
       "|---|---|\n",
       "| PR | 1041 |\n",
       "| UP |  870 |\n",
       "\n"
      ],
      "text/plain": [
       "  itype N   \n",
       "1 PR    1041\n",
       "2 UP     870"
      ]
     },
     "metadata": {},
     "output_type": "display_data"
    }
   ],
   "source": [
    "sqtl[ctype == \"PR,UP\"][, .N, by = itype]\n"
   ]
  }
 ],
 "metadata": {
  "kernelspec": {
   "display_name": "R",
   "language": "R",
   "name": "ir"
  },
  "language_info": {
   "codemirror_mode": "r",
   "file_extension": ".r",
   "mimetype": "text/x-r-source",
   "name": "R",
   "pygments_lexer": "r",
   "version": "4.3.1"
  }
 },
 "nbformat": 4,
 "nbformat_minor": 2
}
