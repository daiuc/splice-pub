{
 "cells": [
  {
   "cell_type": "raw",
   "metadata": {
    "vscode": {
     "languageId": "raw"
    }
   },
   "source": [
    "---\n",
    "title: GTEx sQTL enrichment analysis\n",
    "date: 2024-6-15\n",
    "categories: ['qtl']\n",
    "code-fold: true\n",
    "\n",
    "---"
   ]
  },
  {
   "cell_type": "code",
   "execution_count": 1,
   "metadata": {
    "vscode": {
     "languageId": "r"
    }
   },
   "outputs": [],
   "source": [
    "#| tabs: [parameters]\n",
    "\n",
    "FDR <- 0.1\n"
   ]
  },
  {
   "cell_type": "code",
   "execution_count": 2,
   "metadata": {
    "vscode": {
     "languageId": "r"
    }
   },
   "outputs": [],
   "source": [
    "setwd(\"/project/yangili1/cdai/splice-pub/analysis\")\n"
   ]
  },
  {
   "cell_type": "code",
   "execution_count": 3,
   "metadata": {
    "vscode": {
     "languageId": "r"
    }
   },
   "outputs": [
    {
     "name": "stderr",
     "output_type": "stream",
     "text": [
      "── \u001b[1mAttaching core tidyverse packages\u001b[22m ──────────────────────── tidyverse 2.0.0 ──\n",
      "\u001b[32m✔\u001b[39m \u001b[34mdplyr    \u001b[39m 1.1.3     \u001b[32m✔\u001b[39m \u001b[34mreadr    \u001b[39m 2.1.4\n",
      "\u001b[32m✔\u001b[39m \u001b[34mforcats  \u001b[39m 1.0.0     \u001b[32m✔\u001b[39m \u001b[34mstringr  \u001b[39m 1.5.0\n",
      "\u001b[32m✔\u001b[39m \u001b[34mggplot2  \u001b[39m 3.4.3     \u001b[32m✔\u001b[39m \u001b[34mtibble   \u001b[39m 3.2.1\n",
      "\u001b[32m✔\u001b[39m \u001b[34mlubridate\u001b[39m 1.9.3     \u001b[32m✔\u001b[39m \u001b[34mtidyr    \u001b[39m 1.3.0\n",
      "\u001b[32m✔\u001b[39m \u001b[34mpurrr    \u001b[39m 1.0.2     \n",
      "── \u001b[1mConflicts\u001b[22m ────────────────────────────────────────── tidyverse_conflicts() ──\n",
      "\u001b[31m✖\u001b[39m \u001b[34mdplyr\u001b[39m::\u001b[32mfilter()\u001b[39m masks \u001b[34mstats\u001b[39m::filter()\n",
      "\u001b[31m✖\u001b[39m \u001b[34mdplyr\u001b[39m::\u001b[32mlag()\u001b[39m    masks \u001b[34mstats\u001b[39m::lag()\n",
      "\u001b[36mℹ\u001b[39m Use the conflicted package (\u001b[3m\u001b[34m<http://conflicted.r-lib.org/>\u001b[39m\u001b[23m) to force all conflicts to become errors\n",
      "\n",
      "Attaching package: ‘data.table’\n",
      "\n",
      "\n",
      "The following objects are masked from ‘package:lubridate’:\n",
      "\n",
      "    hour, isoweek, mday, minute, month, quarter, second, wday, week,\n",
      "    yday, year\n",
      "\n",
      "\n",
      "The following objects are masked from ‘package:dplyr’:\n",
      "\n",
      "    between, first, last\n",
      "\n",
      "\n",
      "The following object is masked from ‘package:purrr’:\n",
      "\n",
      "    transpose\n",
      "\n",
      "\n",
      "\n",
      "Attaching package: ‘cowplot’\n",
      "\n",
      "\n",
      "The following object is masked from ‘package:lubridate’:\n",
      "\n",
      "    stamp\n",
      "\n",
      "\n",
      "Loading required package: stats4\n",
      "\n",
      "Loading required package: BiocGenerics\n",
      "\n",
      "\n",
      "Attaching package: ‘BiocGenerics’\n",
      "\n",
      "\n",
      "The following objects are masked from ‘package:lubridate’:\n",
      "\n",
      "    intersect, setdiff, union\n",
      "\n",
      "\n",
      "The following objects are masked from ‘package:dplyr’:\n",
      "\n",
      "    combine, intersect, setdiff, union\n",
      "\n",
      "\n",
      "The following objects are masked from ‘package:stats’:\n",
      "\n",
      "    IQR, mad, sd, var, xtabs\n",
      "\n",
      "\n",
      "The following objects are masked from ‘package:base’:\n",
      "\n",
      "    anyDuplicated, aperm, append, as.data.frame, basename, cbind,\n",
      "    colnames, dirname, do.call, duplicated, eval, evalq, Filter, Find,\n",
      "    get, grep, grepl, intersect, is.unsorted, lapply, Map, mapply,\n",
      "    match, mget, order, paste, pmax, pmax.int, pmin, pmin.int,\n",
      "    Position, rank, rbind, Reduce, rownames, sapply, setdiff, sort,\n",
      "    table, tapply, union, unique, unsplit, which.max, which.min\n",
      "\n",
      "\n",
      "Loading required package: S4Vectors\n",
      "\n",
      "\n",
      "Attaching package: ‘S4Vectors’\n",
      "\n",
      "\n",
      "The following objects are masked from ‘package:data.table’:\n",
      "\n",
      "    first, second\n",
      "\n",
      "\n",
      "The following objects are masked from ‘package:lubridate’:\n",
      "\n",
      "    second, second<-\n",
      "\n",
      "\n",
      "The following objects are masked from ‘package:dplyr’:\n",
      "\n",
      "    first, rename\n",
      "\n",
      "\n",
      "The following object is masked from ‘package:tidyr’:\n",
      "\n",
      "    expand\n",
      "\n",
      "\n",
      "The following object is masked from ‘package:utils’:\n",
      "\n",
      "    findMatches\n",
      "\n",
      "\n",
      "The following objects are masked from ‘package:base’:\n",
      "\n",
      "    expand.grid, I, unname\n",
      "\n",
      "\n",
      "Loading required package: IRanges\n",
      "\n",
      "\n",
      "Attaching package: ‘IRanges’\n",
      "\n",
      "\n",
      "The following object is masked from ‘package:glue’:\n",
      "\n",
      "    trim\n",
      "\n",
      "\n",
      "The following object is masked from ‘package:data.table’:\n",
      "\n",
      "    shift\n",
      "\n",
      "\n",
      "The following object is masked from ‘package:lubridate’:\n",
      "\n",
      "    %within%\n",
      "\n",
      "\n",
      "The following objects are masked from ‘package:dplyr’:\n",
      "\n",
      "    collapse, desc, slice\n",
      "\n",
      "\n",
      "The following object is masked from ‘package:purrr’:\n",
      "\n",
      "    reduce\n",
      "\n",
      "\n",
      "Loading required package: GenomeInfoDb\n",
      "\n"
     ]
    }
   ],
   "source": [
    "#| label: setup\n",
    "#| include: false\n",
    "\n",
    "library(tidyverse)\n",
    "library(data.table)\n",
    "library(glue)\n",
    "\n",
    "library(cowplot)\n",
    "\n",
    "\n",
    "library(GenomicRanges)\n",
    "library(bedtoolsr)\n"
   ]
  },
  {
   "cell_type": "code",
   "execution_count": 4,
   "metadata": {
    "vscode": {
     "languageId": "r"
    }
   },
   "outputs": [],
   "source": [
    "multiqq <- function(pvalues, flipY = FALSE) {\n",
    "  library(foreach)\n",
    "  if (is.null(names(pvalues))) {\n",
    "    names(pvalues) <- seq_along(pvalues)\n",
    "  }\n",
    "  punif <- -log10(runif(max(sapply(pvalues, length))))\n",
    "  df <- do.call(rbind, foreach(i = seq_len(length(pvalues))) %do% {\n",
    "    df <- as.data.frame(\n",
    "      qqplot(\n",
    "        x = punif[1:length(pvalues[[i]])],\n",
    "        y = -log10(pvalues[[i]]),\n",
    "        plot.it = FALSE\n",
    "      )\n",
    "    )\n",
    "    df$group <- names(pvalues)[i]\n",
    "    df\n",
    "  })\n",
    "\n",
    "  if (flipY) {\n",
    "    df$y <- -df$y\n",
    "  }\n",
    "\n",
    "  df$group <- factor(df$group, names(pvalues))\n",
    "  ggplot(df, aes(x, y, col = group)) +\n",
    "    geom_point() +\n",
    "    geom_abline(\n",
    "      intercept = 0,\n",
    "      slope = 1\n",
    "    ) +\n",
    "    xlab(\"Expected -log10(p)\") +\n",
    "    ylab(\"Observed -log10(p)\")\n",
    "}\n"
   ]
  },
  {
   "cell_type": "code",
   "execution_count": 5,
   "metadata": {
    "vscode": {
     "languageId": "r"
    }
   },
   "outputs": [],
   "source": [
    "addLabels <- function(dt) {\n",
    "  pid_split <- str_split(dt$phenotype_id, \":\")\n",
    "  dt$itype <- map_chr(pid_split, ~ .x[5])\n",
    "  dt$clu <- map_chr(pid_split, ~ .x[4])\n",
    "  dt$clu <- str_extract(dt$clu, \"clu_[0-9]+\")\n",
    "\n",
    "  dt <- dt[, ctype := paste(sort(unique(itype)), collapse = \",\"), by = clu][]\n",
    "  return(dt)\n",
    "}\n"
   ]
  },
  {
   "cell_type": "code",
   "execution_count": 6,
   "metadata": {
    "vscode": {
     "languageId": "r"
    }
   },
   "outputs": [],
   "source": [
    "tissue <- \"Brain-Hypothalamus\"\n"
   ]
  },
  {
   "cell_type": "code",
   "execution_count": 7,
   "metadata": {
    "vscode": {
     "languageId": "r"
    }
   },
   "outputs": [
    {
     "data": {
      "text/html": [
       "'Brain-Hypothalamus'"
      ],
      "text/latex": [
       "'Brain-Hypothalamus'"
      ],
      "text/markdown": [
       "'Brain-Hypothalamus'"
      ],
      "text/plain": [
       "[1] \"Brain-Hypothalamus\""
      ]
     },
     "metadata": {},
     "output_type": "display_data"
    }
   ],
   "source": [
    "tissue\n"
   ]
  },
  {
   "cell_type": "code",
   "execution_count": 8,
   "metadata": {
    "vscode": {
     "languageId": "r"
    }
   },
   "outputs": [],
   "source": [
    "readGTExSQTL <- function(tissue) {\n",
    "  base1.gtex <- \"../code/results/qtl/noisy/GTEx/\"\n",
    "  base2.gtex <- \"/cis_100000/perm\"\n",
    "  suffix <- \"addQval.txt.gz\"\n",
    "  folder <- glue(\"{base1.gtex}/{tissue}/separateNoise{base2.gtex}\")\n",
    "  files <- glue(\"{folder}/chr{1:22}.{suffix}\")\n",
    "  dt <- map_dfr(files, fread)\n",
    "}\n"
   ]
  },
  {
   "cell_type": "code",
   "execution_count": 9,
   "metadata": {
    "vscode": {
     "languageId": "r"
    }
   },
   "outputs": [],
   "source": [
    "permDF <- readGTExSQTL(tissue) %>%\n",
    "  addLabels()\n"
   ]
  },
  {
   "cell_type": "code",
   "execution_count": 10,
   "metadata": {
    "vscode": {
     "languageId": "r"
    }
   },
   "outputs": [
    {
     "data": {
      "text/html": [
       "<table class=\"dataframe\">\n",
       "<caption>A data.table: 5 × 24</caption>\n",
       "<thead>\n",
       "\t<tr><th scope=col>phenotype_id</th><th scope=col>phenotype_chr</th><th scope=col>phenotype_start</th><th scope=col>phenotype_end</th><th scope=col>phenotype_strand</th><th scope=col>num_variants</th><th scope=col>best_nom_dist</th><th scope=col>best_genotype_id</th><th scope=col>best_genotype_chr</th><th scope=col>best_genotype_start</th><th scope=col>⋯</th><th scope=col>beta_ml2</th><th scope=col>pval_nom</th><th scope=col>pval_r2</th><th scope=col>slope</th><th scope=col>pval_emp</th><th scope=col>pval_adj</th><th scope=col>q</th><th scope=col>itype</th><th scope=col>clu</th><th scope=col>ctype</th></tr>\n",
       "\t<tr><th scope=col>&lt;chr&gt;</th><th scope=col>&lt;chr&gt;</th><th scope=col>&lt;int&gt;</th><th scope=col>&lt;int&gt;</th><th scope=col>&lt;chr&gt;</th><th scope=col>&lt;int&gt;</th><th scope=col>&lt;int&gt;</th><th scope=col>&lt;chr&gt;</th><th scope=col>&lt;chr&gt;</th><th scope=col>&lt;int&gt;</th><th scope=col>⋯</th><th scope=col>&lt;dbl&gt;</th><th scope=col>&lt;dbl&gt;</th><th scope=col>&lt;dbl&gt;</th><th scope=col>&lt;dbl&gt;</th><th scope=col>&lt;dbl&gt;</th><th scope=col>&lt;dbl&gt;</th><th scope=col>&lt;dbl&gt;</th><th scope=col>&lt;chr&gt;</th><th scope=col>&lt;chr&gt;</th><th scope=col>&lt;chr&gt;</th></tr>\n",
       "</thead>\n",
       "<tbody>\n",
       "\t<tr><td>chr1:168165:168609:clu_1917_-:IN</td><td>chr1</td><td>168166</td><td>168609</td><td>-</td><td>15</td><td> 75416</td><td>chr1_92750_G_A_b38 </td><td>chr1</td><td> 92750</td><td>⋯</td><td>8.44113</td><td>0.07849460</td><td>0.01831250</td><td> 0.362324</td><td>0.516484</td><td>0.5315410</td><td>0.91550</td><td>IN</td><td>clu_1917</td><td>IN</td></tr>\n",
       "\t<tr><td>chr1:259025:261549:clu_1918_-:IN</td><td>chr1</td><td>259026</td><td>261549</td><td>-</td><td> 5</td><td>-20363</td><td>chr1_281912_C_G_b38</td><td>chr1</td><td>281912</td><td>⋯</td><td>4.67401</td><td>0.06457140</td><td>0.02018670</td><td> 0.276295</td><td>0.309690</td><td>0.3036590</td><td>0.82067</td><td>IN</td><td>clu_1918</td><td>IN</td></tr>\n",
       "\t<tr><td>chr1:259025:264603:clu_1918_-:IN</td><td>chr1</td><td>259026</td><td>264603</td><td>-</td><td> 5</td><td>-17309</td><td>chr1_281912_C_G_b38</td><td>chr1</td><td>281912</td><td>⋯</td><td>4.63026</td><td>0.00330439</td><td>0.05022400</td><td>-0.373097</td><td>0.015984</td><td>0.0144453</td><td>0.21076</td><td>IN</td><td>clu_1918</td><td>IN</td></tr>\n",
       "\t<tr><td>chr1:259025:267302:clu_1918_-:IN</td><td>chr1</td><td>259026</td><td>267302</td><td>-</td><td> 5</td><td>-14610</td><td>chr1_281912_C_G_b38</td><td>chr1</td><td>281912</td><td>⋯</td><td>5.13978</td><td>0.02234630</td><td>0.03067520</td><td>-0.304870</td><td>0.111888</td><td>0.1113210</td><td>0.62325</td><td>IN</td><td>clu_1918</td><td>IN</td></tr>\n",
       "\t<tr><td>chr1:261634:267302:clu_1918_-:IN</td><td>chr1</td><td>261635</td><td>267302</td><td>-</td><td> 5</td><td>-18084</td><td>chr1_285386_T_G_b38</td><td>chr1</td><td>285386</td><td>⋯</td><td>5.05934</td><td>0.52690100</td><td>0.00238737</td><td>-0.166146</td><td>0.978022</td><td>0.9771930</td><td>0.97978</td><td>IN</td><td>clu_1918</td><td>IN</td></tr>\n",
       "</tbody>\n",
       "</table>\n"
      ],
      "text/latex": [
       "A data.table: 5 × 24\n",
       "\\begin{tabular}{lllllllllllllllllllll}\n",
       " phenotype\\_id & phenotype\\_chr & phenotype\\_start & phenotype\\_end & phenotype\\_strand & num\\_variants & best\\_nom\\_dist & best\\_genotype\\_id & best\\_genotype\\_chr & best\\_genotype\\_start & ⋯ & beta\\_ml2 & pval\\_nom & pval\\_r2 & slope & pval\\_emp & pval\\_adj & q & itype & clu & ctype\\\\\n",
       " <chr> & <chr> & <int> & <int> & <chr> & <int> & <int> & <chr> & <chr> & <int> & ⋯ & <dbl> & <dbl> & <dbl> & <dbl> & <dbl> & <dbl> & <dbl> & <chr> & <chr> & <chr>\\\\\n",
       "\\hline\n",
       "\t chr1:168165:168609:clu\\_1917\\_-:IN & chr1 & 168166 & 168609 & - & 15 &  75416 & chr1\\_92750\\_G\\_A\\_b38  & chr1 &  92750 & ⋯ & 8.44113 & 0.07849460 & 0.01831250 &  0.362324 & 0.516484 & 0.5315410 & 0.91550 & IN & clu\\_1917 & IN\\\\\n",
       "\t chr1:259025:261549:clu\\_1918\\_-:IN & chr1 & 259026 & 261549 & - &  5 & -20363 & chr1\\_281912\\_C\\_G\\_b38 & chr1 & 281912 & ⋯ & 4.67401 & 0.06457140 & 0.02018670 &  0.276295 & 0.309690 & 0.3036590 & 0.82067 & IN & clu\\_1918 & IN\\\\\n",
       "\t chr1:259025:264603:clu\\_1918\\_-:IN & chr1 & 259026 & 264603 & - &  5 & -17309 & chr1\\_281912\\_C\\_G\\_b38 & chr1 & 281912 & ⋯ & 4.63026 & 0.00330439 & 0.05022400 & -0.373097 & 0.015984 & 0.0144453 & 0.21076 & IN & clu\\_1918 & IN\\\\\n",
       "\t chr1:259025:267302:clu\\_1918\\_-:IN & chr1 & 259026 & 267302 & - &  5 & -14610 & chr1\\_281912\\_C\\_G\\_b38 & chr1 & 281912 & ⋯ & 5.13978 & 0.02234630 & 0.03067520 & -0.304870 & 0.111888 & 0.1113210 & 0.62325 & IN & clu\\_1918 & IN\\\\\n",
       "\t chr1:261634:267302:clu\\_1918\\_-:IN & chr1 & 261635 & 267302 & - &  5 & -18084 & chr1\\_285386\\_T\\_G\\_b38 & chr1 & 285386 & ⋯ & 5.05934 & 0.52690100 & 0.00238737 & -0.166146 & 0.978022 & 0.9771930 & 0.97978 & IN & clu\\_1918 & IN\\\\\n",
       "\\end{tabular}\n"
      ],
      "text/markdown": [
       "\n",
       "A data.table: 5 × 24\n",
       "\n",
       "| phenotype_id &lt;chr&gt; | phenotype_chr &lt;chr&gt; | phenotype_start &lt;int&gt; | phenotype_end &lt;int&gt; | phenotype_strand &lt;chr&gt; | num_variants &lt;int&gt; | best_nom_dist &lt;int&gt; | best_genotype_id &lt;chr&gt; | best_genotype_chr &lt;chr&gt; | best_genotype_start &lt;int&gt; | ⋯ ⋯ | beta_ml2 &lt;dbl&gt; | pval_nom &lt;dbl&gt; | pval_r2 &lt;dbl&gt; | slope &lt;dbl&gt; | pval_emp &lt;dbl&gt; | pval_adj &lt;dbl&gt; | q &lt;dbl&gt; | itype &lt;chr&gt; | clu &lt;chr&gt; | ctype &lt;chr&gt; |\n",
       "|---|---|---|---|---|---|---|---|---|---|---|---|---|---|---|---|---|---|---|---|---|\n",
       "| chr1:168165:168609:clu_1917_-:IN | chr1 | 168166 | 168609 | - | 15 |  75416 | chr1_92750_G_A_b38  | chr1 |  92750 | ⋯ | 8.44113 | 0.07849460 | 0.01831250 |  0.362324 | 0.516484 | 0.5315410 | 0.91550 | IN | clu_1917 | IN |\n",
       "| chr1:259025:261549:clu_1918_-:IN | chr1 | 259026 | 261549 | - |  5 | -20363 | chr1_281912_C_G_b38 | chr1 | 281912 | ⋯ | 4.67401 | 0.06457140 | 0.02018670 |  0.276295 | 0.309690 | 0.3036590 | 0.82067 | IN | clu_1918 | IN |\n",
       "| chr1:259025:264603:clu_1918_-:IN | chr1 | 259026 | 264603 | - |  5 | -17309 | chr1_281912_C_G_b38 | chr1 | 281912 | ⋯ | 4.63026 | 0.00330439 | 0.05022400 | -0.373097 | 0.015984 | 0.0144453 | 0.21076 | IN | clu_1918 | IN |\n",
       "| chr1:259025:267302:clu_1918_-:IN | chr1 | 259026 | 267302 | - |  5 | -14610 | chr1_281912_C_G_b38 | chr1 | 281912 | ⋯ | 5.13978 | 0.02234630 | 0.03067520 | -0.304870 | 0.111888 | 0.1113210 | 0.62325 | IN | clu_1918 | IN |\n",
       "| chr1:261634:267302:clu_1918_-:IN | chr1 | 261635 | 267302 | - |  5 | -18084 | chr1_285386_T_G_b38 | chr1 | 285386 | ⋯ | 5.05934 | 0.52690100 | 0.00238737 | -0.166146 | 0.978022 | 0.9771930 | 0.97978 | IN | clu_1918 | IN |\n",
       "\n"
      ],
      "text/plain": [
       "  phenotype_id                     phenotype_chr phenotype_start phenotype_end\n",
       "1 chr1:168165:168609:clu_1917_-:IN chr1          168166          168609       \n",
       "2 chr1:259025:261549:clu_1918_-:IN chr1          259026          261549       \n",
       "3 chr1:259025:264603:clu_1918_-:IN chr1          259026          264603       \n",
       "4 chr1:259025:267302:clu_1918_-:IN chr1          259026          267302       \n",
       "5 chr1:261634:267302:clu_1918_-:IN chr1          261635          267302       \n",
       "  phenotype_strand num_variants best_nom_dist best_genotype_id   \n",
       "1 -                15            75416        chr1_92750_G_A_b38 \n",
       "2 -                 5           -20363        chr1_281912_C_G_b38\n",
       "3 -                 5           -17309        chr1_281912_C_G_b38\n",
       "4 -                 5           -14610        chr1_281912_C_G_b38\n",
       "5 -                 5           -18084        chr1_285386_T_G_b38\n",
       "  best_genotype_chr best_genotype_start ⋯ beta_ml2 pval_nom   pval_r2   \n",
       "1 chr1               92750              ⋯ 8.44113  0.07849460 0.01831250\n",
       "2 chr1              281912              ⋯ 4.67401  0.06457140 0.02018670\n",
       "3 chr1              281912              ⋯ 4.63026  0.00330439 0.05022400\n",
       "4 chr1              281912              ⋯ 5.13978  0.02234630 0.03067520\n",
       "5 chr1              285386              ⋯ 5.05934  0.52690100 0.00238737\n",
       "  slope     pval_emp pval_adj  q       itype clu      ctype\n",
       "1  0.362324 0.516484 0.5315410 0.91550 IN    clu_1917 IN   \n",
       "2  0.276295 0.309690 0.3036590 0.82067 IN    clu_1918 IN   \n",
       "3 -0.373097 0.015984 0.0144453 0.21076 IN    clu_1918 IN   \n",
       "4 -0.304870 0.111888 0.1113210 0.62325 IN    clu_1918 IN   \n",
       "5 -0.166146 0.978022 0.9771930 0.97978 IN    clu_1918 IN   "
      ]
     },
     "metadata": {},
     "output_type": "display_data"
    },
    {
     "data": {
      "text/html": [
       "<style>\n",
       ".list-inline {list-style: none; margin:0; padding: 0}\n",
       ".list-inline>li {display: inline-block}\n",
       ".list-inline>li:not(:last-child)::after {content: \"\\00b7\"; padding: 0 .5ex}\n",
       "</style>\n",
       "<ol class=list-inline><li>92108</li><li>24</li></ol>\n"
      ],
      "text/latex": [
       "\\begin{enumerate*}\n",
       "\\item 92108\n",
       "\\item 24\n",
       "\\end{enumerate*}\n"
      ],
      "text/markdown": [
       "1. 92108\n",
       "2. 24\n",
       "\n",
       "\n"
      ],
      "text/plain": [
       "[1] 92108    24"
      ]
     },
     "metadata": {},
     "output_type": "display_data"
    }
   ],
   "source": [
    "permDF[1:5]\n",
    "permDF %>% dim()\n"
   ]
  },
  {
   "cell_type": "code",
   "execution_count": 11,
   "metadata": {
    "vscode": {
     "languageId": "r"
    }
   },
   "outputs": [],
   "source": [
    "readGTExNOM <- function(tissue) {\n",
    "  base1.gtex <- \"../code/results/eqtl/GTEx\"\n",
    "  paths <- glue(\"{base1.gtex}/{tissue}/nom/chr{1:22}.txt.gz\")\n",
    "  df <- map_dfr(paths, fread)\n",
    "  names(df) <- c(\n",
    "    \"pid\", \"pchr\", \"pstart\", \"pend\", \"pstrand\", \"nVar\", \"dist\",\n",
    "    \"vid\", \"vchr\", \"vstart\", \"vend\", \"pval\", \"r2\", \"slope\", \"topflag\"\n",
    "  )\n",
    "  return(df)\n",
    "}\n"
   ]
  },
  {
   "cell_type": "code",
   "execution_count": 16,
   "metadata": {
    "vscode": {
     "languageId": "r"
    }
   },
   "outputs": [],
   "source": [
    "readGTExNOM_allSnps <- function(tissue) {\n",
    "  base1.gtex <- \"../code/results/eqtl/GTEx\"\n",
    "  paths <- glue(\"{base1.gtex}/{tissue}/nom-all-snps/chr{1:22}.txt.gz\")\n",
    "  df <- map_dfr(paths, fread)\n",
    "  names(df) <- c(\n",
    "    \"pid\", \"pchr\", \"pstart\", \"pend\", \"pstrand\", \"nVar\", \"dist\",\n",
    "    \"vid\", \"vchr\", \"vstart\", \"vend\", \"pval\", \"r2\", \"slope\", \"topflag\"\n",
    "  )\n",
    "  # randomly select 2000 snps\n",
    "  set.seed(123)\n",
    "  df <- df[sample(nrow(df), 2000), ]\n",
    "  return(df)\n",
    "}"
   ]
  },
  {
   "cell_type": "code",
   "execution_count": 13,
   "metadata": {
    "vscode": {
     "languageId": "r"
    }
   },
   "outputs": [],
   "source": [
    "nomDF <- readGTExNOM(tissue)\n"
   ]
  },
  {
   "cell_type": "code",
   "execution_count": 14,
   "metadata": {
    "vscode": {
     "languageId": "r"
    }
   },
   "outputs": [
    {
     "data": {
      "text/html": [
       "<table class=\"dataframe\">\n",
       "<caption>A data.table: 5 × 15</caption>\n",
       "<thead>\n",
       "\t<tr><th scope=col>pid</th><th scope=col>pchr</th><th scope=col>pstart</th><th scope=col>pend</th><th scope=col>pstrand</th><th scope=col>nVar</th><th scope=col>dist</th><th scope=col>vid</th><th scope=col>vchr</th><th scope=col>vstart</th><th scope=col>vend</th><th scope=col>pval</th><th scope=col>r2</th><th scope=col>slope</th><th scope=col>topflag</th></tr>\n",
       "\t<tr><th scope=col>&lt;chr&gt;</th><th scope=col>&lt;chr&gt;</th><th scope=col>&lt;int&gt;</th><th scope=col>&lt;int&gt;</th><th scope=col>&lt;chr&gt;</th><th scope=col>&lt;int&gt;</th><th scope=col>&lt;int&gt;</th><th scope=col>&lt;chr&gt;</th><th scope=col>&lt;chr&gt;</th><th scope=col>&lt;int&gt;</th><th scope=col>&lt;int&gt;</th><th scope=col>&lt;dbl&gt;</th><th scope=col>&lt;dbl&gt;</th><th scope=col>&lt;dbl&gt;</th><th scope=col>&lt;int&gt;</th></tr>\n",
       "</thead>\n",
       "<tbody>\n",
       "\t<tr><td>ENSG00000131591.17</td><td>chr1</td><td>1081818</td><td>1116361</td><td>-</td><td>235</td><td> 989068</td><td>chr1_92750_G_A_b38</td><td>chr1</td><td>92750</td><td>92750</td><td>0.3829500</td><td>0.00453421</td><td>0.1022060</td><td>0</td></tr>\n",
       "\t<tr><td>ENSG00000188290.11</td><td>chr1</td><td> 998962</td><td>1000172</td><td>-</td><td>215</td><td> 906212</td><td>chr1_92750_G_A_b38</td><td>chr1</td><td>92750</td><td>92750</td><td>0.2603890</td><td>0.00753375</td><td>0.1515820</td><td>0</td></tr>\n",
       "\t<tr><td>ENSG00000187608.10</td><td>chr1</td><td>1001138</td><td>1014540</td><td>+</td><td>218</td><td>-908388</td><td>chr1_92750_G_A_b38</td><td>chr1</td><td>92750</td><td>92750</td><td>0.0329694</td><td>0.02678300</td><td>0.3304360</td><td>0</td></tr>\n",
       "\t<tr><td>ENSG00000187583.11</td><td>chr1</td><td> 966482</td><td> 975865</td><td>+</td><td>210</td><td>-873732</td><td>chr1_92750_G_A_b38</td><td>chr1</td><td>92750</td><td>92750</td><td>0.0568989</td><td>0.02141230</td><td>0.3687840</td><td>0</td></tr>\n",
       "\t<tr><td>ENSG00000188976.11</td><td>chr1</td><td> 944203</td><td> 959309</td><td>-</td><td>209</td><td> 851453</td><td>chr1_92750_G_A_b38</td><td>chr1</td><td>92750</td><td>92750</td><td>0.5772550</td><td>0.00185316</td><td>0.0512374</td><td>0</td></tr>\n",
       "</tbody>\n",
       "</table>\n"
      ],
      "text/latex": [
       "A data.table: 5 × 15\n",
       "\\begin{tabular}{lllllllllllllll}\n",
       " pid & pchr & pstart & pend & pstrand & nVar & dist & vid & vchr & vstart & vend & pval & r2 & slope & topflag\\\\\n",
       " <chr> & <chr> & <int> & <int> & <chr> & <int> & <int> & <chr> & <chr> & <int> & <int> & <dbl> & <dbl> & <dbl> & <int>\\\\\n",
       "\\hline\n",
       "\t ENSG00000131591.17 & chr1 & 1081818 & 1116361 & - & 235 &  989068 & chr1\\_92750\\_G\\_A\\_b38 & chr1 & 92750 & 92750 & 0.3829500 & 0.00453421 & 0.1022060 & 0\\\\\n",
       "\t ENSG00000188290.11 & chr1 &  998962 & 1000172 & - & 215 &  906212 & chr1\\_92750\\_G\\_A\\_b38 & chr1 & 92750 & 92750 & 0.2603890 & 0.00753375 & 0.1515820 & 0\\\\\n",
       "\t ENSG00000187608.10 & chr1 & 1001138 & 1014540 & + & 218 & -908388 & chr1\\_92750\\_G\\_A\\_b38 & chr1 & 92750 & 92750 & 0.0329694 & 0.02678300 & 0.3304360 & 0\\\\\n",
       "\t ENSG00000187583.11 & chr1 &  966482 &  975865 & + & 210 & -873732 & chr1\\_92750\\_G\\_A\\_b38 & chr1 & 92750 & 92750 & 0.0568989 & 0.02141230 & 0.3687840 & 0\\\\\n",
       "\t ENSG00000188976.11 & chr1 &  944203 &  959309 & - & 209 &  851453 & chr1\\_92750\\_G\\_A\\_b38 & chr1 & 92750 & 92750 & 0.5772550 & 0.00185316 & 0.0512374 & 0\\\\\n",
       "\\end{tabular}\n"
      ],
      "text/markdown": [
       "\n",
       "A data.table: 5 × 15\n",
       "\n",
       "| pid &lt;chr&gt; | pchr &lt;chr&gt; | pstart &lt;int&gt; | pend &lt;int&gt; | pstrand &lt;chr&gt; | nVar &lt;int&gt; | dist &lt;int&gt; | vid &lt;chr&gt; | vchr &lt;chr&gt; | vstart &lt;int&gt; | vend &lt;int&gt; | pval &lt;dbl&gt; | r2 &lt;dbl&gt; | slope &lt;dbl&gt; | topflag &lt;int&gt; |\n",
       "|---|---|---|---|---|---|---|---|---|---|---|---|---|---|---|\n",
       "| ENSG00000131591.17 | chr1 | 1081818 | 1116361 | - | 235 |  989068 | chr1_92750_G_A_b38 | chr1 | 92750 | 92750 | 0.3829500 | 0.00453421 | 0.1022060 | 0 |\n",
       "| ENSG00000188290.11 | chr1 |  998962 | 1000172 | - | 215 |  906212 | chr1_92750_G_A_b38 | chr1 | 92750 | 92750 | 0.2603890 | 0.00753375 | 0.1515820 | 0 |\n",
       "| ENSG00000187608.10 | chr1 | 1001138 | 1014540 | + | 218 | -908388 | chr1_92750_G_A_b38 | chr1 | 92750 | 92750 | 0.0329694 | 0.02678300 | 0.3304360 | 0 |\n",
       "| ENSG00000187583.11 | chr1 |  966482 |  975865 | + | 210 | -873732 | chr1_92750_G_A_b38 | chr1 | 92750 | 92750 | 0.0568989 | 0.02141230 | 0.3687840 | 0 |\n",
       "| ENSG00000188976.11 | chr1 |  944203 |  959309 | - | 209 |  851453 | chr1_92750_G_A_b38 | chr1 | 92750 | 92750 | 0.5772550 | 0.00185316 | 0.0512374 | 0 |\n",
       "\n"
      ],
      "text/plain": [
       "  pid                pchr pstart  pend    pstrand nVar dist   \n",
       "1 ENSG00000131591.17 chr1 1081818 1116361 -       235   989068\n",
       "2 ENSG00000188290.11 chr1  998962 1000172 -       215   906212\n",
       "3 ENSG00000187608.10 chr1 1001138 1014540 +       218  -908388\n",
       "4 ENSG00000187583.11 chr1  966482  975865 +       210  -873732\n",
       "5 ENSG00000188976.11 chr1  944203  959309 -       209   851453\n",
       "  vid                vchr vstart vend  pval      r2         slope     topflag\n",
       "1 chr1_92750_G_A_b38 chr1 92750  92750 0.3829500 0.00453421 0.1022060 0      \n",
       "2 chr1_92750_G_A_b38 chr1 92750  92750 0.2603890 0.00753375 0.1515820 0      \n",
       "3 chr1_92750_G_A_b38 chr1 92750  92750 0.0329694 0.02678300 0.3304360 0      \n",
       "4 chr1_92750_G_A_b38 chr1 92750  92750 0.0568989 0.02141230 0.3687840 0      \n",
       "5 chr1_92750_G_A_b38 chr1 92750  92750 0.5772550 0.00185316 0.0512374 0      "
      ]
     },
     "metadata": {},
     "output_type": "display_data"
    },
    {
     "data": {
      "text/html": [
       "<style>\n",
       ".list-inline {list-style: none; margin:0; padding: 0}\n",
       ".list-inline>li {display: inline-block}\n",
       ".list-inline>li:not(:last-child)::after {content: \"\\00b7\"; padding: 0 .5ex}\n",
       "</style>\n",
       "<ol class=list-inline><li>1647071</li><li>15</li></ol>\n"
      ],
      "text/latex": [
       "\\begin{enumerate*}\n",
       "\\item 1647071\n",
       "\\item 15\n",
       "\\end{enumerate*}\n"
      ],
      "text/markdown": [
       "1. 1647071\n",
       "2. 15\n",
       "\n",
       "\n"
      ],
      "text/plain": [
       "[1] 1647071      15"
      ]
     },
     "metadata": {},
     "output_type": "display_data"
    }
   ],
   "source": [
    "nomDF[1:5]\n",
    "nomDF %>% dim()\n"
   ]
  },
  {
   "cell_type": "code",
   "execution_count": 17,
   "metadata": {
    "vscode": {
     "languageId": "r"
    }
   },
   "outputs": [],
   "source": [
    "# genomewide snps, randomly select 2000\n",
    "nomDF_genome <- readGTExNOM_allSnps(tissue)"
   ]
  },
  {
   "cell_type": "code",
   "execution_count": 18,
   "metadata": {
    "vscode": {
     "languageId": "r"
    }
   },
   "outputs": [
    {
     "data": {
      "text/html": [
       "<style>\n",
       ".list-inline {list-style: none; margin:0; padding: 0}\n",
       ".list-inline>li {display: inline-block}\n",
       ".list-inline>li:not(:last-child)::after {content: \"\\00b7\"; padding: 0 .5ex}\n",
       "</style>\n",
       "<ol class=list-inline><li>2000</li><li>15</li></ol>\n"
      ],
      "text/latex": [
       "\\begin{enumerate*}\n",
       "\\item 2000\n",
       "\\item 15\n",
       "\\end{enumerate*}\n"
      ],
      "text/markdown": [
       "1. 2000\n",
       "2. 15\n",
       "\n",
       "\n"
      ],
      "text/plain": [
       "[1] 2000   15"
      ]
     },
     "metadata": {},
     "output_type": "display_data"
    },
    {
     "data": {
      "text/html": [
       "<table class=\"dataframe\">\n",
       "<caption>A data.table: 5 × 15</caption>\n",
       "<thead>\n",
       "\t<tr><th scope=col>pid</th><th scope=col>pchr</th><th scope=col>pstart</th><th scope=col>pend</th><th scope=col>pstrand</th><th scope=col>nVar</th><th scope=col>dist</th><th scope=col>vid</th><th scope=col>vchr</th><th scope=col>vstart</th><th scope=col>vend</th><th scope=col>pval</th><th scope=col>r2</th><th scope=col>slope</th><th scope=col>topflag</th></tr>\n",
       "\t<tr><th scope=col>&lt;chr&gt;</th><th scope=col>&lt;chr&gt;</th><th scope=col>&lt;int&gt;</th><th scope=col>&lt;int&gt;</th><th scope=col>&lt;chr&gt;</th><th scope=col>&lt;int&gt;</th><th scope=col>&lt;int&gt;</th><th scope=col>&lt;chr&gt;</th><th scope=col>&lt;chr&gt;</th><th scope=col>&lt;int&gt;</th><th scope=col>&lt;int&gt;</th><th scope=col>&lt;dbl&gt;</th><th scope=col>&lt;dbl&gt;</th><th scope=col>&lt;dbl&gt;</th><th scope=col>&lt;int&gt;</th></tr>\n",
       "</thead>\n",
       "<tbody>\n",
       "\t<tr><td>ENSG00000119705.10</td><td>chr14</td><td> 77708071</td><td> 77761104</td><td>+</td><td>1655</td><td>  8387</td><td>chr14_77769491_G_A_b38</td><td>chr14</td><td> 77769491</td><td> 77769491</td><td>0.589160000</td><td>0.00173972</td><td>-0.0519211</td><td>0</td></tr>\n",
       "\t<tr><td>ENSG00000141258.13</td><td>chr17</td><td>  2337498</td><td>  2381058</td><td>+</td><td> 930</td><td>     0</td><td>chr17_2346610_C_T_b38 </td><td>chr17</td><td>  2346610</td><td>  2346610</td><td>0.336384000</td><td>0.00550218</td><td> 0.0323494</td><td>0</td></tr>\n",
       "\t<tr><td>ENSG00000221887.6 </td><td>chr18</td><td> 63949301</td><td> 63981774</td><td>+</td><td>1111</td><td>     0</td><td>chr18_63954734_C_T_b38</td><td>chr18</td><td> 63954734</td><td> 63954734</td><td>0.034524800</td><td>0.02632480</td><td>-0.2028980</td><td>0</td></tr>\n",
       "\t<tr><td>ENSG00000072840.13</td><td>chr4 </td><td>  5711201</td><td>  5814305</td><td>+</td><td>2015</td><td>     0</td><td>chr4_5732234_G_A_b38  </td><td>chr4 </td><td>  5732234</td><td>  5732234</td><td>0.000282756</td><td>0.07567590</td><td>-0.3046910</td><td>0</td></tr>\n",
       "\t<tr><td>ENSG00000114529.12</td><td>chr3 </td><td>112086335</td><td>112131004</td><td>+</td><td>1707</td><td>-61806</td><td>chr3_112024529_C_G_b38</td><td>chr3 </td><td>112024529</td><td>112024529</td><td>0.034029100</td><td>0.02646840</td><td>-0.1677630</td><td>0</td></tr>\n",
       "</tbody>\n",
       "</table>\n"
      ],
      "text/latex": [
       "A data.table: 5 × 15\n",
       "\\begin{tabular}{lllllllllllllll}\n",
       " pid & pchr & pstart & pend & pstrand & nVar & dist & vid & vchr & vstart & vend & pval & r2 & slope & topflag\\\\\n",
       " <chr> & <chr> & <int> & <int> & <chr> & <int> & <int> & <chr> & <chr> & <int> & <int> & <dbl> & <dbl> & <dbl> & <int>\\\\\n",
       "\\hline\n",
       "\t ENSG00000119705.10 & chr14 &  77708071 &  77761104 & + & 1655 &   8387 & chr14\\_77769491\\_G\\_A\\_b38 & chr14 &  77769491 &  77769491 & 0.589160000 & 0.00173972 & -0.0519211 & 0\\\\\n",
       "\t ENSG00000141258.13 & chr17 &   2337498 &   2381058 & + &  930 &      0 & chr17\\_2346610\\_C\\_T\\_b38  & chr17 &   2346610 &   2346610 & 0.336384000 & 0.00550218 &  0.0323494 & 0\\\\\n",
       "\t ENSG00000221887.6  & chr18 &  63949301 &  63981774 & + & 1111 &      0 & chr18\\_63954734\\_C\\_T\\_b38 & chr18 &  63954734 &  63954734 & 0.034524800 & 0.02632480 & -0.2028980 & 0\\\\\n",
       "\t ENSG00000072840.13 & chr4  &   5711201 &   5814305 & + & 2015 &      0 & chr4\\_5732234\\_G\\_A\\_b38   & chr4  &   5732234 &   5732234 & 0.000282756 & 0.07567590 & -0.3046910 & 0\\\\\n",
       "\t ENSG00000114529.12 & chr3  & 112086335 & 112131004 & + & 1707 & -61806 & chr3\\_112024529\\_C\\_G\\_b38 & chr3  & 112024529 & 112024529 & 0.034029100 & 0.02646840 & -0.1677630 & 0\\\\\n",
       "\\end{tabular}\n"
      ],
      "text/markdown": [
       "\n",
       "A data.table: 5 × 15\n",
       "\n",
       "| pid &lt;chr&gt; | pchr &lt;chr&gt; | pstart &lt;int&gt; | pend &lt;int&gt; | pstrand &lt;chr&gt; | nVar &lt;int&gt; | dist &lt;int&gt; | vid &lt;chr&gt; | vchr &lt;chr&gt; | vstart &lt;int&gt; | vend &lt;int&gt; | pval &lt;dbl&gt; | r2 &lt;dbl&gt; | slope &lt;dbl&gt; | topflag &lt;int&gt; |\n",
       "|---|---|---|---|---|---|---|---|---|---|---|---|---|---|---|\n",
       "| ENSG00000119705.10 | chr14 |  77708071 |  77761104 | + | 1655 |   8387 | chr14_77769491_G_A_b38 | chr14 |  77769491 |  77769491 | 0.589160000 | 0.00173972 | -0.0519211 | 0 |\n",
       "| ENSG00000141258.13 | chr17 |   2337498 |   2381058 | + |  930 |      0 | chr17_2346610_C_T_b38  | chr17 |   2346610 |   2346610 | 0.336384000 | 0.00550218 |  0.0323494 | 0 |\n",
       "| ENSG00000221887.6  | chr18 |  63949301 |  63981774 | + | 1111 |      0 | chr18_63954734_C_T_b38 | chr18 |  63954734 |  63954734 | 0.034524800 | 0.02632480 | -0.2028980 | 0 |\n",
       "| ENSG00000072840.13 | chr4  |   5711201 |   5814305 | + | 2015 |      0 | chr4_5732234_G_A_b38   | chr4  |   5732234 |   5732234 | 0.000282756 | 0.07567590 | -0.3046910 | 0 |\n",
       "| ENSG00000114529.12 | chr3  | 112086335 | 112131004 | + | 1707 | -61806 | chr3_112024529_C_G_b38 | chr3  | 112024529 | 112024529 | 0.034029100 | 0.02646840 | -0.1677630 | 0 |\n",
       "\n"
      ],
      "text/plain": [
       "  pid                pchr  pstart    pend      pstrand nVar dist  \n",
       "1 ENSG00000119705.10 chr14  77708071  77761104 +       1655   8387\n",
       "2 ENSG00000141258.13 chr17   2337498   2381058 +        930      0\n",
       "3 ENSG00000221887.6  chr18  63949301  63981774 +       1111      0\n",
       "4 ENSG00000072840.13 chr4    5711201   5814305 +       2015      0\n",
       "5 ENSG00000114529.12 chr3  112086335 112131004 +       1707 -61806\n",
       "  vid                    vchr  vstart    vend      pval        r2        \n",
       "1 chr14_77769491_G_A_b38 chr14  77769491  77769491 0.589160000 0.00173972\n",
       "2 chr17_2346610_C_T_b38  chr17   2346610   2346610 0.336384000 0.00550218\n",
       "3 chr18_63954734_C_T_b38 chr18  63954734  63954734 0.034524800 0.02632480\n",
       "4 chr4_5732234_G_A_b38   chr4    5732234   5732234 0.000282756 0.07567590\n",
       "5 chr3_112024529_C_G_b38 chr3  112024529 112024529 0.034029100 0.02646840\n",
       "  slope      topflag\n",
       "1 -0.0519211 0      \n",
       "2  0.0323494 0      \n",
       "3 -0.2028980 0      \n",
       "4 -0.3046910 0      \n",
       "5 -0.1677630 0      "
      ]
     },
     "metadata": {},
     "output_type": "display_data"
    }
   ],
   "source": [
    "dim(nomDF_genome)\n",
    "nomDF_genome[1:5]"
   ]
  },
  {
   "cell_type": "markdown",
   "metadata": {
    "vscode": {
     "languageId": "r"
    }
   },
   "source": [
    "# first determine p-sQTLs and u-sQTLs, select only 1 per cluster\n"
   ]
  },
  {
   "cell_type": "code",
   "execution_count": 19,
   "metadata": {
    "vscode": {
     "languageId": "r"
    }
   },
   "outputs": [],
   "source": [
    "sqtl <- permDF[q < FDR & itype %in% c(\"PR\", \"UP\") & ctype %in% c(\"PR\", \"PR,UP\")]\n"
   ]
  },
  {
   "cell_type": "code",
   "execution_count": 20,
   "metadata": {
    "vscode": {
     "languageId": "r"
    }
   },
   "outputs": [],
   "source": [
    "# select the best intron per cluster based on the largest effect size\n",
    "sqtl <- sqtl[, rk := frank(-abs(slope), ties.method = \"first\"), by = .(clu, itype)]\n"
   ]
  },
  {
   "cell_type": "code",
   "execution_count": 21,
   "metadata": {
    "vscode": {
     "languageId": "r"
    }
   },
   "outputs": [
    {
     "data": {
      "text/html": [
       "<table class=\"dataframe\">\n",
       "<caption>A data.table: 5 × 25</caption>\n",
       "<thead>\n",
       "\t<tr><th scope=col>phenotype_id</th><th scope=col>phenotype_chr</th><th scope=col>phenotype_start</th><th scope=col>phenotype_end</th><th scope=col>phenotype_strand</th><th scope=col>num_variants</th><th scope=col>best_nom_dist</th><th scope=col>best_genotype_id</th><th scope=col>best_genotype_chr</th><th scope=col>best_genotype_start</th><th scope=col>⋯</th><th scope=col>pval_nom</th><th scope=col>pval_r2</th><th scope=col>slope</th><th scope=col>pval_emp</th><th scope=col>pval_adj</th><th scope=col>q</th><th scope=col>itype</th><th scope=col>clu</th><th scope=col>ctype</th><th scope=col>rk</th></tr>\n",
       "\t<tr><th scope=col>&lt;chr&gt;</th><th scope=col>&lt;chr&gt;</th><th scope=col>&lt;int&gt;</th><th scope=col>&lt;int&gt;</th><th scope=col>&lt;chr&gt;</th><th scope=col>&lt;int&gt;</th><th scope=col>&lt;int&gt;</th><th scope=col>&lt;chr&gt;</th><th scope=col>&lt;chr&gt;</th><th scope=col>&lt;int&gt;</th><th scope=col>⋯</th><th scope=col>&lt;dbl&gt;</th><th scope=col>&lt;dbl&gt;</th><th scope=col>&lt;dbl&gt;</th><th scope=col>&lt;dbl&gt;</th><th scope=col>&lt;dbl&gt;</th><th scope=col>&lt;dbl&gt;</th><th scope=col>&lt;chr&gt;</th><th scope=col>&lt;chr&gt;</th><th scope=col>&lt;chr&gt;</th><th scope=col>&lt;int&gt;</th></tr>\n",
       "</thead>\n",
       "<tbody>\n",
       "\t<tr><td>chr1:999613:999691:clu_1926_-:PR  </td><td>chr1</td><td> 999614</td><td> 999691</td><td>-</td><td>571</td><td> -6066</td><td>chr1_1005757_AGCCCCCGCAGCAGT_A_b38</td><td>chr1</td><td>1005757</td><td>⋯</td><td>1.05207e-17</td><td>0.354825</td><td> 0.764603</td><td>0.000999001</td><td>1.49688e-13</td><td>1.9078e-11</td><td>PR</td><td>clu_1926</td><td>PR</td><td>2</td></tr>\n",
       "\t<tr><td>chr1:999787:999865:clu_1926_-:PR  </td><td>chr1</td><td> 999788</td><td> 999865</td><td>-</td><td>570</td><td> -5892</td><td>chr1_1005757_AGCCCCCGCAGCAGT_A_b38</td><td>chr1</td><td>1005757</td><td>⋯</td><td>1.18220e-20</td><td>0.404482</td><td>-0.823307</td><td>0.000999001</td><td>3.50393e-17</td><td>6.4612e-15</td><td>PR</td><td>clu_1926</td><td>PR</td><td>1</td></tr>\n",
       "\t<tr><td>chr1:1106049:1116059:clu_1931_-:PR</td><td>chr1</td><td>1106050</td><td>1116059</td><td>-</td><td>632</td><td>  7187</td><td>chr1_1098863_C_T_b38              </td><td>chr1</td><td>1098863</td><td>⋯</td><td>9.29591e-06</td><td>0.110695</td><td> 0.634475</td><td>0.003996000</td><td>3.51530e-03</td><td>7.3236e-02</td><td>PR</td><td>clu_1931</td><td>PR</td><td>1</td></tr>\n",
       "\t<tr><td>chr1:1217688:1218457:clu_1933_-:PR</td><td>chr1</td><td>1217689</td><td>1218457</td><td>-</td><td>594</td><td>-20669</td><td>chr1_1239126_C_CT_b38             </td><td>chr1</td><td>1239126</td><td>⋯</td><td>3.58611e-06</td><td>0.120322</td><td> 0.724967</td><td>0.002997000</td><td>1.02545e-03</td><td>2.6450e-02</td><td>PR</td><td>clu_1933</td><td>PR</td><td>2</td></tr>\n",
       "\t<tr><td>chr1:1217804:1218457:clu_1933_-:PR</td><td>chr1</td><td>1217805</td><td>1218457</td><td>-</td><td>594</td><td>-20669</td><td>chr1_1239126_C_CT_b38             </td><td>chr1</td><td>1239126</td><td>⋯</td><td>7.39121e-07</td><td>0.136123</td><td>-0.755286</td><td>0.000999001</td><td>2.37972e-04</td><td>7.6957e-03</td><td>PR</td><td>clu_1933</td><td>PR</td><td>1</td></tr>\n",
       "</tbody>\n",
       "</table>\n"
      ],
      "text/latex": [
       "A data.table: 5 × 25\n",
       "\\begin{tabular}{lllllllllllllllllllll}\n",
       " phenotype\\_id & phenotype\\_chr & phenotype\\_start & phenotype\\_end & phenotype\\_strand & num\\_variants & best\\_nom\\_dist & best\\_genotype\\_id & best\\_genotype\\_chr & best\\_genotype\\_start & ⋯ & pval\\_nom & pval\\_r2 & slope & pval\\_emp & pval\\_adj & q & itype & clu & ctype & rk\\\\\n",
       " <chr> & <chr> & <int> & <int> & <chr> & <int> & <int> & <chr> & <chr> & <int> & ⋯ & <dbl> & <dbl> & <dbl> & <dbl> & <dbl> & <dbl> & <chr> & <chr> & <chr> & <int>\\\\\n",
       "\\hline\n",
       "\t chr1:999613:999691:clu\\_1926\\_-:PR   & chr1 &  999614 &  999691 & - & 571 &  -6066 & chr1\\_1005757\\_AGCCCCCGCAGCAGT\\_A\\_b38 & chr1 & 1005757 & ⋯ & 1.05207e-17 & 0.354825 &  0.764603 & 0.000999001 & 1.49688e-13 & 1.9078e-11 & PR & clu\\_1926 & PR & 2\\\\\n",
       "\t chr1:999787:999865:clu\\_1926\\_-:PR   & chr1 &  999788 &  999865 & - & 570 &  -5892 & chr1\\_1005757\\_AGCCCCCGCAGCAGT\\_A\\_b38 & chr1 & 1005757 & ⋯ & 1.18220e-20 & 0.404482 & -0.823307 & 0.000999001 & 3.50393e-17 & 6.4612e-15 & PR & clu\\_1926 & PR & 1\\\\\n",
       "\t chr1:1106049:1116059:clu\\_1931\\_-:PR & chr1 & 1106050 & 1116059 & - & 632 &   7187 & chr1\\_1098863\\_C\\_T\\_b38               & chr1 & 1098863 & ⋯ & 9.29591e-06 & 0.110695 &  0.634475 & 0.003996000 & 3.51530e-03 & 7.3236e-02 & PR & clu\\_1931 & PR & 1\\\\\n",
       "\t chr1:1217688:1218457:clu\\_1933\\_-:PR & chr1 & 1217689 & 1218457 & - & 594 & -20669 & chr1\\_1239126\\_C\\_CT\\_b38              & chr1 & 1239126 & ⋯ & 3.58611e-06 & 0.120322 &  0.724967 & 0.002997000 & 1.02545e-03 & 2.6450e-02 & PR & clu\\_1933 & PR & 2\\\\\n",
       "\t chr1:1217804:1218457:clu\\_1933\\_-:PR & chr1 & 1217805 & 1218457 & - & 594 & -20669 & chr1\\_1239126\\_C\\_CT\\_b38              & chr1 & 1239126 & ⋯ & 7.39121e-07 & 0.136123 & -0.755286 & 0.000999001 & 2.37972e-04 & 7.6957e-03 & PR & clu\\_1933 & PR & 1\\\\\n",
       "\\end{tabular}\n"
      ],
      "text/markdown": [
       "\n",
       "A data.table: 5 × 25\n",
       "\n",
       "| phenotype_id &lt;chr&gt; | phenotype_chr &lt;chr&gt; | phenotype_start &lt;int&gt; | phenotype_end &lt;int&gt; | phenotype_strand &lt;chr&gt; | num_variants &lt;int&gt; | best_nom_dist &lt;int&gt; | best_genotype_id &lt;chr&gt; | best_genotype_chr &lt;chr&gt; | best_genotype_start &lt;int&gt; | ⋯ ⋯ | pval_nom &lt;dbl&gt; | pval_r2 &lt;dbl&gt; | slope &lt;dbl&gt; | pval_emp &lt;dbl&gt; | pval_adj &lt;dbl&gt; | q &lt;dbl&gt; | itype &lt;chr&gt; | clu &lt;chr&gt; | ctype &lt;chr&gt; | rk &lt;int&gt; |\n",
       "|---|---|---|---|---|---|---|---|---|---|---|---|---|---|---|---|---|---|---|---|---|\n",
       "| chr1:999613:999691:clu_1926_-:PR   | chr1 |  999614 |  999691 | - | 571 |  -6066 | chr1_1005757_AGCCCCCGCAGCAGT_A_b38 | chr1 | 1005757 | ⋯ | 1.05207e-17 | 0.354825 |  0.764603 | 0.000999001 | 1.49688e-13 | 1.9078e-11 | PR | clu_1926 | PR | 2 |\n",
       "| chr1:999787:999865:clu_1926_-:PR   | chr1 |  999788 |  999865 | - | 570 |  -5892 | chr1_1005757_AGCCCCCGCAGCAGT_A_b38 | chr1 | 1005757 | ⋯ | 1.18220e-20 | 0.404482 | -0.823307 | 0.000999001 | 3.50393e-17 | 6.4612e-15 | PR | clu_1926 | PR | 1 |\n",
       "| chr1:1106049:1116059:clu_1931_-:PR | chr1 | 1106050 | 1116059 | - | 632 |   7187 | chr1_1098863_C_T_b38               | chr1 | 1098863 | ⋯ | 9.29591e-06 | 0.110695 |  0.634475 | 0.003996000 | 3.51530e-03 | 7.3236e-02 | PR | clu_1931 | PR | 1 |\n",
       "| chr1:1217688:1218457:clu_1933_-:PR | chr1 | 1217689 | 1218457 | - | 594 | -20669 | chr1_1239126_C_CT_b38              | chr1 | 1239126 | ⋯ | 3.58611e-06 | 0.120322 |  0.724967 | 0.002997000 | 1.02545e-03 | 2.6450e-02 | PR | clu_1933 | PR | 2 |\n",
       "| chr1:1217804:1218457:clu_1933_-:PR | chr1 | 1217805 | 1218457 | - | 594 | -20669 | chr1_1239126_C_CT_b38              | chr1 | 1239126 | ⋯ | 7.39121e-07 | 0.136123 | -0.755286 | 0.000999001 | 2.37972e-04 | 7.6957e-03 | PR | clu_1933 | PR | 1 |\n",
       "\n"
      ],
      "text/plain": [
       "  phenotype_id                       phenotype_chr phenotype_start\n",
       "1 chr1:999613:999691:clu_1926_-:PR   chr1           999614        \n",
       "2 chr1:999787:999865:clu_1926_-:PR   chr1           999788        \n",
       "3 chr1:1106049:1116059:clu_1931_-:PR chr1          1106050        \n",
       "4 chr1:1217688:1218457:clu_1933_-:PR chr1          1217689        \n",
       "5 chr1:1217804:1218457:clu_1933_-:PR chr1          1217805        \n",
       "  phenotype_end phenotype_strand num_variants best_nom_dist\n",
       "1  999691       -                571           -6066       \n",
       "2  999865       -                570           -5892       \n",
       "3 1116059       -                632            7187       \n",
       "4 1218457       -                594          -20669       \n",
       "5 1218457       -                594          -20669       \n",
       "  best_genotype_id                   best_genotype_chr best_genotype_start ⋯\n",
       "1 chr1_1005757_AGCCCCCGCAGCAGT_A_b38 chr1              1005757             ⋯\n",
       "2 chr1_1005757_AGCCCCCGCAGCAGT_A_b38 chr1              1005757             ⋯\n",
       "3 chr1_1098863_C_T_b38               chr1              1098863             ⋯\n",
       "4 chr1_1239126_C_CT_b38              chr1              1239126             ⋯\n",
       "5 chr1_1239126_C_CT_b38              chr1              1239126             ⋯\n",
       "  pval_nom    pval_r2  slope     pval_emp    pval_adj    q          itype\n",
       "1 1.05207e-17 0.354825  0.764603 0.000999001 1.49688e-13 1.9078e-11 PR   \n",
       "2 1.18220e-20 0.404482 -0.823307 0.000999001 3.50393e-17 6.4612e-15 PR   \n",
       "3 9.29591e-06 0.110695  0.634475 0.003996000 3.51530e-03 7.3236e-02 PR   \n",
       "4 3.58611e-06 0.120322  0.724967 0.002997000 1.02545e-03 2.6450e-02 PR   \n",
       "5 7.39121e-07 0.136123 -0.755286 0.000999001 2.37972e-04 7.6957e-03 PR   \n",
       "  clu      ctype rk\n",
       "1 clu_1926 PR    2 \n",
       "2 clu_1926 PR    1 \n",
       "3 clu_1931 PR    1 \n",
       "4 clu_1933 PR    2 \n",
       "5 clu_1933 PR    1 "
      ]
     },
     "metadata": {},
     "output_type": "display_data"
    },
    {
     "data": {
      "text/html": [
       "<style>\n",
       ".list-inline {list-style: none; margin:0; padding: 0}\n",
       ".list-inline>li {display: inline-block}\n",
       ".list-inline>li:not(:last-child)::after {content: \"\\00b7\"; padding: 0 .5ex}\n",
       "</style>\n",
       "<ol class=list-inline><li>3961</li><li>25</li></ol>\n"
      ],
      "text/latex": [
       "\\begin{enumerate*}\n",
       "\\item 3961\n",
       "\\item 25\n",
       "\\end{enumerate*}\n"
      ],
      "text/markdown": [
       "1. 3961\n",
       "2. 25\n",
       "\n",
       "\n"
      ],
      "text/plain": [
       "[1] 3961   25"
      ]
     },
     "metadata": {},
     "output_type": "display_data"
    }
   ],
   "source": [
    "sqtl[1:5]\n",
    "sqtl %>% dim()\n"
   ]
  },
  {
   "cell_type": "code",
   "execution_count": 22,
   "metadata": {
    "vscode": {
     "languageId": "r"
    }
   },
   "outputs": [],
   "source": [
    "sqtl <- rbind(\n",
    "  sqtl[ctype == \"PR\"][rk == 1][order(clu)], # best intron for PR cluster\n",
    "  sqtl[ctype == \"PR,UP\"][itype == \"UP\" & rk == 1][order(clu)] # best intron for PR,UP cluster\n",
    ") %>%\n",
    "  .[naturalsort::naturalorder(phenotype_id)]\n"
   ]
  },
  {
   "cell_type": "code",
   "execution_count": 23,
   "metadata": {
    "vscode": {
     "languageId": "r"
    }
   },
   "outputs": [
    {
     "data": {
      "text/html": [
       "<style>\n",
       ".list-inline {list-style: none; margin:0; padding: 0}\n",
       ".list-inline>li {display: inline-block}\n",
       ".list-inline>li:not(:last-child)::after {content: \"\\00b7\"; padding: 0 .5ex}\n",
       "</style>\n",
       "<ol class=list-inline><li>1958</li><li>25</li></ol>\n"
      ],
      "text/latex": [
       "\\begin{enumerate*}\n",
       "\\item 1958\n",
       "\\item 25\n",
       "\\end{enumerate*}\n"
      ],
      "text/markdown": [
       "1. 1958\n",
       "2. 25\n",
       "\n",
       "\n"
      ],
      "text/plain": [
       "[1] 1958   25"
      ]
     },
     "metadata": {},
     "output_type": "display_data"
    },
    {
     "data": {
      "text/html": [
       "<table class=\"dataframe\">\n",
       "<caption>A data.table: 5 × 25</caption>\n",
       "<thead>\n",
       "\t<tr><th scope=col>phenotype_id</th><th scope=col>phenotype_chr</th><th scope=col>phenotype_start</th><th scope=col>phenotype_end</th><th scope=col>phenotype_strand</th><th scope=col>num_variants</th><th scope=col>best_nom_dist</th><th scope=col>best_genotype_id</th><th scope=col>best_genotype_chr</th><th scope=col>best_genotype_start</th><th scope=col>⋯</th><th scope=col>pval_nom</th><th scope=col>pval_r2</th><th scope=col>slope</th><th scope=col>pval_emp</th><th scope=col>pval_adj</th><th scope=col>q</th><th scope=col>itype</th><th scope=col>clu</th><th scope=col>ctype</th><th scope=col>rk</th></tr>\n",
       "\t<tr><th scope=col>&lt;chr&gt;</th><th scope=col>&lt;chr&gt;</th><th scope=col>&lt;int&gt;</th><th scope=col>&lt;int&gt;</th><th scope=col>&lt;chr&gt;</th><th scope=col>&lt;int&gt;</th><th scope=col>&lt;int&gt;</th><th scope=col>&lt;chr&gt;</th><th scope=col>&lt;chr&gt;</th><th scope=col>&lt;int&gt;</th><th scope=col>⋯</th><th scope=col>&lt;dbl&gt;</th><th scope=col>&lt;dbl&gt;</th><th scope=col>&lt;dbl&gt;</th><th scope=col>&lt;dbl&gt;</th><th scope=col>&lt;dbl&gt;</th><th scope=col>&lt;dbl&gt;</th><th scope=col>&lt;chr&gt;</th><th scope=col>&lt;chr&gt;</th><th scope=col>&lt;chr&gt;</th><th scope=col>&lt;int&gt;</th></tr>\n",
       "</thead>\n",
       "<tbody>\n",
       "\t<tr><td>chr1:999787:999865:clu_1926_-:PR  </td><td>chr1</td><td> 999788</td><td> 999865</td><td>-</td><td>570</td><td> -5892</td><td>chr1_1005757_AGCCCCCGCAGCAGT_A_b38</td><td>chr1</td><td>1005757</td><td>⋯</td><td>1.18220e-20</td><td>0.404482</td><td>-0.823307</td><td>0.000999001</td><td>3.50393e-17</td><td>6.4612e-15</td><td>PR</td><td>clu_1926</td><td>PR   </td><td>1</td></tr>\n",
       "\t<tr><td>chr1:1106049:1116059:clu_1931_-:PR</td><td>chr1</td><td>1106050</td><td>1116059</td><td>-</td><td>632</td><td>  7187</td><td>chr1_1098863_C_T_b38              </td><td>chr1</td><td>1098863</td><td>⋯</td><td>9.29591e-06</td><td>0.110695</td><td> 0.634475</td><td>0.003996000</td><td>3.51530e-03</td><td>7.3236e-02</td><td>PR</td><td>clu_1931</td><td>PR   </td><td>1</td></tr>\n",
       "\t<tr><td>chr1:1217804:1218457:clu_1933_-:PR</td><td>chr1</td><td>1217805</td><td>1218457</td><td>-</td><td>594</td><td>-20669</td><td>chr1_1239126_C_CT_b38             </td><td>chr1</td><td>1239126</td><td>⋯</td><td>7.39121e-07</td><td>0.136123</td><td>-0.755286</td><td>0.000999001</td><td>2.37972e-04</td><td>7.6957e-03</td><td>PR</td><td>clu_1933</td><td>PR   </td><td>1</td></tr>\n",
       "\t<tr><td>chr1:1487914:1489203:clu_29_+:PR  </td><td>chr1</td><td>1487915</td><td>1489203</td><td>+</td><td>384</td><td>   713</td><td>chr1_1489916_C_T_b38              </td><td>chr1</td><td>1489916</td><td>⋯</td><td>2.07228e-06</td><td>0.125833</td><td>-0.687844</td><td>0.000999001</td><td>4.13963e-04</td><td>1.2545e-02</td><td>PR</td><td>clu_29  </td><td>PR   </td><td>1</td></tr>\n",
       "\t<tr><td>chr1:1707599:1708179:clu_1970_-:UP</td><td>chr1</td><td>1707600</td><td>1708179</td><td>-</td><td>405</td><td> 20718</td><td>chr1_1686882_T_C_b38              </td><td>chr1</td><td>1686882</td><td>⋯</td><td>4.49999e-07</td><td>0.141042</td><td> 0.416030</td><td>0.001998000</td><td>3.48085e-04</td><td>1.0930e-02</td><td>UP</td><td>clu_1970</td><td>PR,UP</td><td>1</td></tr>\n",
       "</tbody>\n",
       "</table>\n"
      ],
      "text/latex": [
       "A data.table: 5 × 25\n",
       "\\begin{tabular}{lllllllllllllllllllll}\n",
       " phenotype\\_id & phenotype\\_chr & phenotype\\_start & phenotype\\_end & phenotype\\_strand & num\\_variants & best\\_nom\\_dist & best\\_genotype\\_id & best\\_genotype\\_chr & best\\_genotype\\_start & ⋯ & pval\\_nom & pval\\_r2 & slope & pval\\_emp & pval\\_adj & q & itype & clu & ctype & rk\\\\\n",
       " <chr> & <chr> & <int> & <int> & <chr> & <int> & <int> & <chr> & <chr> & <int> & ⋯ & <dbl> & <dbl> & <dbl> & <dbl> & <dbl> & <dbl> & <chr> & <chr> & <chr> & <int>\\\\\n",
       "\\hline\n",
       "\t chr1:999787:999865:clu\\_1926\\_-:PR   & chr1 &  999788 &  999865 & - & 570 &  -5892 & chr1\\_1005757\\_AGCCCCCGCAGCAGT\\_A\\_b38 & chr1 & 1005757 & ⋯ & 1.18220e-20 & 0.404482 & -0.823307 & 0.000999001 & 3.50393e-17 & 6.4612e-15 & PR & clu\\_1926 & PR    & 1\\\\\n",
       "\t chr1:1106049:1116059:clu\\_1931\\_-:PR & chr1 & 1106050 & 1116059 & - & 632 &   7187 & chr1\\_1098863\\_C\\_T\\_b38               & chr1 & 1098863 & ⋯ & 9.29591e-06 & 0.110695 &  0.634475 & 0.003996000 & 3.51530e-03 & 7.3236e-02 & PR & clu\\_1931 & PR    & 1\\\\\n",
       "\t chr1:1217804:1218457:clu\\_1933\\_-:PR & chr1 & 1217805 & 1218457 & - & 594 & -20669 & chr1\\_1239126\\_C\\_CT\\_b38              & chr1 & 1239126 & ⋯ & 7.39121e-07 & 0.136123 & -0.755286 & 0.000999001 & 2.37972e-04 & 7.6957e-03 & PR & clu\\_1933 & PR    & 1\\\\\n",
       "\t chr1:1487914:1489203:clu\\_29\\_+:PR   & chr1 & 1487915 & 1489203 & + & 384 &    713 & chr1\\_1489916\\_C\\_T\\_b38               & chr1 & 1489916 & ⋯ & 2.07228e-06 & 0.125833 & -0.687844 & 0.000999001 & 4.13963e-04 & 1.2545e-02 & PR & clu\\_29   & PR    & 1\\\\\n",
       "\t chr1:1707599:1708179:clu\\_1970\\_-:UP & chr1 & 1707600 & 1708179 & - & 405 &  20718 & chr1\\_1686882\\_T\\_C\\_b38               & chr1 & 1686882 & ⋯ & 4.49999e-07 & 0.141042 &  0.416030 & 0.001998000 & 3.48085e-04 & 1.0930e-02 & UP & clu\\_1970 & PR,UP & 1\\\\\n",
       "\\end{tabular}\n"
      ],
      "text/markdown": [
       "\n",
       "A data.table: 5 × 25\n",
       "\n",
       "| phenotype_id &lt;chr&gt; | phenotype_chr &lt;chr&gt; | phenotype_start &lt;int&gt; | phenotype_end &lt;int&gt; | phenotype_strand &lt;chr&gt; | num_variants &lt;int&gt; | best_nom_dist &lt;int&gt; | best_genotype_id &lt;chr&gt; | best_genotype_chr &lt;chr&gt; | best_genotype_start &lt;int&gt; | ⋯ ⋯ | pval_nom &lt;dbl&gt; | pval_r2 &lt;dbl&gt; | slope &lt;dbl&gt; | pval_emp &lt;dbl&gt; | pval_adj &lt;dbl&gt; | q &lt;dbl&gt; | itype &lt;chr&gt; | clu &lt;chr&gt; | ctype &lt;chr&gt; | rk &lt;int&gt; |\n",
       "|---|---|---|---|---|---|---|---|---|---|---|---|---|---|---|---|---|---|---|---|---|\n",
       "| chr1:999787:999865:clu_1926_-:PR   | chr1 |  999788 |  999865 | - | 570 |  -5892 | chr1_1005757_AGCCCCCGCAGCAGT_A_b38 | chr1 | 1005757 | ⋯ | 1.18220e-20 | 0.404482 | -0.823307 | 0.000999001 | 3.50393e-17 | 6.4612e-15 | PR | clu_1926 | PR    | 1 |\n",
       "| chr1:1106049:1116059:clu_1931_-:PR | chr1 | 1106050 | 1116059 | - | 632 |   7187 | chr1_1098863_C_T_b38               | chr1 | 1098863 | ⋯ | 9.29591e-06 | 0.110695 |  0.634475 | 0.003996000 | 3.51530e-03 | 7.3236e-02 | PR | clu_1931 | PR    | 1 |\n",
       "| chr1:1217804:1218457:clu_1933_-:PR | chr1 | 1217805 | 1218457 | - | 594 | -20669 | chr1_1239126_C_CT_b38              | chr1 | 1239126 | ⋯ | 7.39121e-07 | 0.136123 | -0.755286 | 0.000999001 | 2.37972e-04 | 7.6957e-03 | PR | clu_1933 | PR    | 1 |\n",
       "| chr1:1487914:1489203:clu_29_+:PR   | chr1 | 1487915 | 1489203 | + | 384 |    713 | chr1_1489916_C_T_b38               | chr1 | 1489916 | ⋯ | 2.07228e-06 | 0.125833 | -0.687844 | 0.000999001 | 4.13963e-04 | 1.2545e-02 | PR | clu_29   | PR    | 1 |\n",
       "| chr1:1707599:1708179:clu_1970_-:UP | chr1 | 1707600 | 1708179 | - | 405 |  20718 | chr1_1686882_T_C_b38               | chr1 | 1686882 | ⋯ | 4.49999e-07 | 0.141042 |  0.416030 | 0.001998000 | 3.48085e-04 | 1.0930e-02 | UP | clu_1970 | PR,UP | 1 |\n",
       "\n"
      ],
      "text/plain": [
       "  phenotype_id                       phenotype_chr phenotype_start\n",
       "1 chr1:999787:999865:clu_1926_-:PR   chr1           999788        \n",
       "2 chr1:1106049:1116059:clu_1931_-:PR chr1          1106050        \n",
       "3 chr1:1217804:1218457:clu_1933_-:PR chr1          1217805        \n",
       "4 chr1:1487914:1489203:clu_29_+:PR   chr1          1487915        \n",
       "5 chr1:1707599:1708179:clu_1970_-:UP chr1          1707600        \n",
       "  phenotype_end phenotype_strand num_variants best_nom_dist\n",
       "1  999865       -                570           -5892       \n",
       "2 1116059       -                632            7187       \n",
       "3 1218457       -                594          -20669       \n",
       "4 1489203       +                384             713       \n",
       "5 1708179       -                405           20718       \n",
       "  best_genotype_id                   best_genotype_chr best_genotype_start ⋯\n",
       "1 chr1_1005757_AGCCCCCGCAGCAGT_A_b38 chr1              1005757             ⋯\n",
       "2 chr1_1098863_C_T_b38               chr1              1098863             ⋯\n",
       "3 chr1_1239126_C_CT_b38              chr1              1239126             ⋯\n",
       "4 chr1_1489916_C_T_b38               chr1              1489916             ⋯\n",
       "5 chr1_1686882_T_C_b38               chr1              1686882             ⋯\n",
       "  pval_nom    pval_r2  slope     pval_emp    pval_adj    q          itype\n",
       "1 1.18220e-20 0.404482 -0.823307 0.000999001 3.50393e-17 6.4612e-15 PR   \n",
       "2 9.29591e-06 0.110695  0.634475 0.003996000 3.51530e-03 7.3236e-02 PR   \n",
       "3 7.39121e-07 0.136123 -0.755286 0.000999001 2.37972e-04 7.6957e-03 PR   \n",
       "4 2.07228e-06 0.125833 -0.687844 0.000999001 4.13963e-04 1.2545e-02 PR   \n",
       "5 4.49999e-07 0.141042  0.416030 0.001998000 3.48085e-04 1.0930e-02 UP   \n",
       "  clu      ctype rk\n",
       "1 clu_1926 PR    1 \n",
       "2 clu_1931 PR    1 \n",
       "3 clu_1933 PR    1 \n",
       "4 clu_29   PR    1 \n",
       "5 clu_1970 PR,UP 1 "
      ]
     },
     "metadata": {},
     "output_type": "display_data"
    }
   ],
   "source": [
    "dim(sqtl)\n",
    "sqtl[1:5]\n"
   ]
  },
  {
   "cell_type": "code",
   "execution_count": 24,
   "metadata": {
    "vscode": {
     "languageId": "r"
    }
   },
   "outputs": [],
   "source": [
    "sqtl.v <- sqtl[, best_genotype_id] %>% unique()\n"
   ]
  },
  {
   "cell_type": "code",
   "execution_count": 25,
   "metadata": {
    "vscode": {
     "languageId": "r"
    }
   },
   "outputs": [
    {
     "data": {
      "text/html": [
       "1941"
      ],
      "text/latex": [
       "1941"
      ],
      "text/markdown": [
       "1941"
      ],
      "text/plain": [
       "[1] 1941"
      ]
     },
     "metadata": {},
     "output_type": "display_data"
    },
    {
     "data": {
      "text/html": [
       "<style>\n",
       ".list-inline {list-style: none; margin:0; padding: 0}\n",
       ".list-inline>li {display: inline-block}\n",
       ".list-inline>li:not(:last-child)::after {content: \"\\00b7\"; padding: 0 .5ex}\n",
       "</style>\n",
       "<ol class=list-inline><li>'chr1_1005757_AGCCCCCGCAGCAGT_A_b38'</li><li>'chr1_1098863_C_T_b38'</li><li>'chr1_1239126_C_CT_b38'</li><li>'chr1_1489916_C_T_b38'</li><li>'chr1_1686882_T_C_b38'</li></ol>\n"
      ],
      "text/latex": [
       "\\begin{enumerate*}\n",
       "\\item 'chr1\\_1005757\\_AGCCCCCGCAGCAGT\\_A\\_b38'\n",
       "\\item 'chr1\\_1098863\\_C\\_T\\_b38'\n",
       "\\item 'chr1\\_1239126\\_C\\_CT\\_b38'\n",
       "\\item 'chr1\\_1489916\\_C\\_T\\_b38'\n",
       "\\item 'chr1\\_1686882\\_T\\_C\\_b38'\n",
       "\\end{enumerate*}\n"
      ],
      "text/markdown": [
       "1. 'chr1_1005757_AGCCCCCGCAGCAGT_A_b38'\n",
       "2. 'chr1_1098863_C_T_b38'\n",
       "3. 'chr1_1239126_C_CT_b38'\n",
       "4. 'chr1_1489916_C_T_b38'\n",
       "5. 'chr1_1686882_T_C_b38'\n",
       "\n",
       "\n"
      ],
      "text/plain": [
       "[1] \"chr1_1005757_AGCCCCCGCAGCAGT_A_b38\" \"chr1_1098863_C_T_b38\"              \n",
       "[3] \"chr1_1239126_C_CT_b38\"              \"chr1_1489916_C_T_b38\"              \n",
       "[5] \"chr1_1686882_T_C_b38\"              "
      ]
     },
     "metadata": {},
     "output_type": "display_data"
    }
   ],
   "source": [
    "length(sqtl.v)\n",
    "sqtl.v[1:5]\n"
   ]
  },
  {
   "cell_type": "markdown",
   "metadata": {},
   "source": [
    "# select only snps that are top sQTLs from nominal file\n"
   ]
  },
  {
   "cell_type": "code",
   "execution_count": 26,
   "metadata": {
    "vscode": {
     "languageId": "r"
    }
   },
   "outputs": [],
   "source": [
    "nomDF <- nomDF[vid %in% sqtl.v]\n"
   ]
  },
  {
   "cell_type": "code",
   "execution_count": 27,
   "metadata": {
    "vscode": {
     "languageId": "r"
    }
   },
   "outputs": [
    {
     "data": {
      "text/html": [
       "<table class=\"dataframe\">\n",
       "<caption>A data.table: 5 × 15</caption>\n",
       "<thead>\n",
       "\t<tr><th scope=col>pid</th><th scope=col>pchr</th><th scope=col>pstart</th><th scope=col>pend</th><th scope=col>pstrand</th><th scope=col>nVar</th><th scope=col>dist</th><th scope=col>vid</th><th scope=col>vchr</th><th scope=col>vstart</th><th scope=col>vend</th><th scope=col>pval</th><th scope=col>r2</th><th scope=col>slope</th><th scope=col>topflag</th></tr>\n",
       "\t<tr><th scope=col>&lt;chr&gt;</th><th scope=col>&lt;chr&gt;</th><th scope=col>&lt;int&gt;</th><th scope=col>&lt;int&gt;</th><th scope=col>&lt;chr&gt;</th><th scope=col>&lt;int&gt;</th><th scope=col>&lt;int&gt;</th><th scope=col>&lt;chr&gt;</th><th scope=col>&lt;chr&gt;</th><th scope=col>&lt;int&gt;</th><th scope=col>&lt;int&gt;</th><th scope=col>&lt;dbl&gt;</th><th scope=col>&lt;dbl&gt;</th><th scope=col>&lt;dbl&gt;</th><th scope=col>&lt;int&gt;</th></tr>\n",
       "</thead>\n",
       "<tbody>\n",
       "\t<tr><td>ENSG00000178821.13</td><td>chr1</td><td>1917590</td><td>1919279</td><td>-</td><td>280</td><td>911819</td><td>chr1_1005757_AGCCCCCGCAGCAGT_A_b38</td><td>chr1</td><td>1005757</td><td>1005771</td><td>0.01408900</td><td>0.03534170</td><td>-0.1275940</td><td>0</td></tr>\n",
       "\t<tr><td>ENSG00000131584.19</td><td>chr1</td><td>1292390</td><td>1309609</td><td>-</td><td>242</td><td>286619</td><td>chr1_1005757_AGCCCCCGCAGCAGT_A_b38</td><td>chr1</td><td>1005757</td><td>1005771</td><td>0.20444000</td><td>0.00956799</td><td> 0.0476719</td><td>0</td></tr>\n",
       "\t<tr><td>ENSG00000160075.12</td><td>chr1</td><td>1541673</td><td>1574863</td><td>-</td><td>290</td><td>535902</td><td>chr1_1005757_AGCCCCCGCAGCAGT_A_b38</td><td>chr1</td><td>1005757</td><td>1005771</td><td>0.53157000</td><td>0.00233392</td><td>-0.0229486</td><td>0</td></tr>\n",
       "\t<tr><td>ENSG00000221978.12</td><td>chr1</td><td>1385711</td><td>1399335</td><td>-</td><td>254</td><td>379940</td><td>chr1_1005757_AGCCCCCGCAGCAGT_A_b38</td><td>chr1</td><td>1005757</td><td>1005771</td><td>0.00100034</td><td>0.06259240</td><td>-0.0929750</td><td>0</td></tr>\n",
       "\t<tr><td>ENSG00000078369.18</td><td>chr1</td><td>1785285</td><td>1891117</td><td>-</td><td>298</td><td>779514</td><td>chr1_1005757_AGCCCCCGCAGCAGT_A_b38</td><td>chr1</td><td>1005757</td><td>1005771</td><td>0.10537500</td><td>0.01553320</td><td> 0.0620075</td><td>0</td></tr>\n",
       "</tbody>\n",
       "</table>\n"
      ],
      "text/latex": [
       "A data.table: 5 × 15\n",
       "\\begin{tabular}{lllllllllllllll}\n",
       " pid & pchr & pstart & pend & pstrand & nVar & dist & vid & vchr & vstart & vend & pval & r2 & slope & topflag\\\\\n",
       " <chr> & <chr> & <int> & <int> & <chr> & <int> & <int> & <chr> & <chr> & <int> & <int> & <dbl> & <dbl> & <dbl> & <int>\\\\\n",
       "\\hline\n",
       "\t ENSG00000178821.13 & chr1 & 1917590 & 1919279 & - & 280 & 911819 & chr1\\_1005757\\_AGCCCCCGCAGCAGT\\_A\\_b38 & chr1 & 1005757 & 1005771 & 0.01408900 & 0.03534170 & -0.1275940 & 0\\\\\n",
       "\t ENSG00000131584.19 & chr1 & 1292390 & 1309609 & - & 242 & 286619 & chr1\\_1005757\\_AGCCCCCGCAGCAGT\\_A\\_b38 & chr1 & 1005757 & 1005771 & 0.20444000 & 0.00956799 &  0.0476719 & 0\\\\\n",
       "\t ENSG00000160075.12 & chr1 & 1541673 & 1574863 & - & 290 & 535902 & chr1\\_1005757\\_AGCCCCCGCAGCAGT\\_A\\_b38 & chr1 & 1005757 & 1005771 & 0.53157000 & 0.00233392 & -0.0229486 & 0\\\\\n",
       "\t ENSG00000221978.12 & chr1 & 1385711 & 1399335 & - & 254 & 379940 & chr1\\_1005757\\_AGCCCCCGCAGCAGT\\_A\\_b38 & chr1 & 1005757 & 1005771 & 0.00100034 & 0.06259240 & -0.0929750 & 0\\\\\n",
       "\t ENSG00000078369.18 & chr1 & 1785285 & 1891117 & - & 298 & 779514 & chr1\\_1005757\\_AGCCCCCGCAGCAGT\\_A\\_b38 & chr1 & 1005757 & 1005771 & 0.10537500 & 0.01553320 &  0.0620075 & 0\\\\\n",
       "\\end{tabular}\n"
      ],
      "text/markdown": [
       "\n",
       "A data.table: 5 × 15\n",
       "\n",
       "| pid &lt;chr&gt; | pchr &lt;chr&gt; | pstart &lt;int&gt; | pend &lt;int&gt; | pstrand &lt;chr&gt; | nVar &lt;int&gt; | dist &lt;int&gt; | vid &lt;chr&gt; | vchr &lt;chr&gt; | vstart &lt;int&gt; | vend &lt;int&gt; | pval &lt;dbl&gt; | r2 &lt;dbl&gt; | slope &lt;dbl&gt; | topflag &lt;int&gt; |\n",
       "|---|---|---|---|---|---|---|---|---|---|---|---|---|---|---|\n",
       "| ENSG00000178821.13 | chr1 | 1917590 | 1919279 | - | 280 | 911819 | chr1_1005757_AGCCCCCGCAGCAGT_A_b38 | chr1 | 1005757 | 1005771 | 0.01408900 | 0.03534170 | -0.1275940 | 0 |\n",
       "| ENSG00000131584.19 | chr1 | 1292390 | 1309609 | - | 242 | 286619 | chr1_1005757_AGCCCCCGCAGCAGT_A_b38 | chr1 | 1005757 | 1005771 | 0.20444000 | 0.00956799 |  0.0476719 | 0 |\n",
       "| ENSG00000160075.12 | chr1 | 1541673 | 1574863 | - | 290 | 535902 | chr1_1005757_AGCCCCCGCAGCAGT_A_b38 | chr1 | 1005757 | 1005771 | 0.53157000 | 0.00233392 | -0.0229486 | 0 |\n",
       "| ENSG00000221978.12 | chr1 | 1385711 | 1399335 | - | 254 | 379940 | chr1_1005757_AGCCCCCGCAGCAGT_A_b38 | chr1 | 1005757 | 1005771 | 0.00100034 | 0.06259240 | -0.0929750 | 0 |\n",
       "| ENSG00000078369.18 | chr1 | 1785285 | 1891117 | - | 298 | 779514 | chr1_1005757_AGCCCCCGCAGCAGT_A_b38 | chr1 | 1005757 | 1005771 | 0.10537500 | 0.01553320 |  0.0620075 | 0 |\n",
       "\n"
      ],
      "text/plain": [
       "  pid                pchr pstart  pend    pstrand nVar dist  \n",
       "1 ENSG00000178821.13 chr1 1917590 1919279 -       280  911819\n",
       "2 ENSG00000131584.19 chr1 1292390 1309609 -       242  286619\n",
       "3 ENSG00000160075.12 chr1 1541673 1574863 -       290  535902\n",
       "4 ENSG00000221978.12 chr1 1385711 1399335 -       254  379940\n",
       "5 ENSG00000078369.18 chr1 1785285 1891117 -       298  779514\n",
       "  vid                                vchr vstart  vend    pval       r2        \n",
       "1 chr1_1005757_AGCCCCCGCAGCAGT_A_b38 chr1 1005757 1005771 0.01408900 0.03534170\n",
       "2 chr1_1005757_AGCCCCCGCAGCAGT_A_b38 chr1 1005757 1005771 0.20444000 0.00956799\n",
       "3 chr1_1005757_AGCCCCCGCAGCAGT_A_b38 chr1 1005757 1005771 0.53157000 0.00233392\n",
       "4 chr1_1005757_AGCCCCCGCAGCAGT_A_b38 chr1 1005757 1005771 0.00100034 0.06259240\n",
       "5 chr1_1005757_AGCCCCCGCAGCAGT_A_b38 chr1 1005757 1005771 0.10537500 0.01553320\n",
       "  slope      topflag\n",
       "1 -0.1275940 0      \n",
       "2  0.0476719 0      \n",
       "3 -0.0229486 0      \n",
       "4 -0.0929750 0      \n",
       "5  0.0620075 0      "
      ]
     },
     "metadata": {},
     "output_type": "display_data"
    },
    {
     "data": {
      "text/html": [
       "<style>\n",
       ".list-inline {list-style: none; margin:0; padding: 0}\n",
       ".list-inline>li {display: inline-block}\n",
       ".list-inline>li:not(:last-child)::after {content: \"\\00b7\"; padding: 0 .5ex}\n",
       "</style>\n",
       "<ol class=list-inline><li>47866</li><li>15</li></ol>\n"
      ],
      "text/latex": [
       "\\begin{enumerate*}\n",
       "\\item 47866\n",
       "\\item 15\n",
       "\\end{enumerate*}\n"
      ],
      "text/markdown": [
       "1. 47866\n",
       "2. 15\n",
       "\n",
       "\n"
      ],
      "text/plain": [
       "[1] 47866    15"
      ]
     },
     "metadata": {},
     "output_type": "display_data"
    }
   ],
   "source": [
    "nomDF[1:5, ]\n",
    "dim(nomDF)\n"
   ]
  },
  {
   "cell_type": "markdown",
   "metadata": {},
   "source": [
    "# join the top SQTLs and eQTL nominal\n"
   ]
  },
  {
   "cell_type": "code",
   "execution_count": 28,
   "metadata": {
    "vscode": {
     "languageId": "r"
    }
   },
   "outputs": [],
   "source": [
    "mergeDF <- inner_join(sqtl[, .(phenotype_id, phenotype_chr, phenotype_start, phenotype_end, phenotype_strand, best_genotype_id, best_nom_dist, pval_nom, slope, itype, ctype)],\n",
    "  nomDF[, .(pid, pchr, pstart, pend, pstrand, vid, dist, pval, slope, topflag)],\n",
    "  by = c(\"best_genotype_id\" = \"vid\"),\n",
    "  suffix = c(\"_sqtl\", \"_eqtl\"),\n",
    "  relationship = \"many-to-many\"\n",
    ")\n"
   ]
  },
  {
   "cell_type": "code",
   "execution_count": 29,
   "metadata": {
    "vscode": {
     "languageId": "r"
    }
   },
   "outputs": [],
   "source": [
    "# a eQTL (gene) must encompass the sQTL (intron)\n",
    "# thus, the start and end of the eQTL must be within the start and end of the sQTL\n",
    "# the strand must be the same, and the chromosome must be the same\n",
    "\n",
    "mergeDF <- mergeDF[phenotype_chr == pchr & phenotype_strand == pstrand]\n",
    "mergeDF <- mergeDF[phenotype_start >= pstart & phenotype_end <= pend]\n"
   ]
  },
  {
   "cell_type": "code",
   "execution_count": 30,
   "metadata": {
    "vscode": {
     "languageId": "r"
    }
   },
   "outputs": [
    {
     "data": {
      "text/html": [
       "<style>\n",
       ".list-inline {list-style: none; margin:0; padding: 0}\n",
       ".list-inline>li {display: inline-block}\n",
       ".list-inline>li:not(:last-child)::after {content: \"\\00b7\"; padding: 0 .5ex}\n",
       "</style>\n",
       "<ol class=list-inline><li>1958</li><li>25</li></ol>\n"
      ],
      "text/latex": [
       "\\begin{enumerate*}\n",
       "\\item 1958\n",
       "\\item 25\n",
       "\\end{enumerate*}\n"
      ],
      "text/markdown": [
       "1. 1958\n",
       "2. 25\n",
       "\n",
       "\n"
      ],
      "text/plain": [
       "[1] 1958   25"
      ]
     },
     "metadata": {},
     "output_type": "display_data"
    }
   ],
   "source": [
    "dim(sqtl)\n"
   ]
  },
  {
   "cell_type": "code",
   "execution_count": 31,
   "metadata": {
    "vscode": {
     "languageId": "r"
    }
   },
   "outputs": [
    {
     "data": {
      "text/html": [
       "<table class=\"dataframe\">\n",
       "<caption>A data.table: 3 × 20</caption>\n",
       "<thead>\n",
       "\t<tr><th scope=col>phenotype_id</th><th scope=col>phenotype_chr</th><th scope=col>phenotype_start</th><th scope=col>phenotype_end</th><th scope=col>phenotype_strand</th><th scope=col>best_genotype_id</th><th scope=col>best_nom_dist</th><th scope=col>pval_nom</th><th scope=col>slope_sqtl</th><th scope=col>itype</th><th scope=col>ctype</th><th scope=col>pid</th><th scope=col>pchr</th><th scope=col>pstart</th><th scope=col>pend</th><th scope=col>pstrand</th><th scope=col>dist</th><th scope=col>pval</th><th scope=col>slope_eqtl</th><th scope=col>topflag</th></tr>\n",
       "\t<tr><th scope=col>&lt;chr&gt;</th><th scope=col>&lt;chr&gt;</th><th scope=col>&lt;int&gt;</th><th scope=col>&lt;int&gt;</th><th scope=col>&lt;chr&gt;</th><th scope=col>&lt;chr&gt;</th><th scope=col>&lt;int&gt;</th><th scope=col>&lt;dbl&gt;</th><th scope=col>&lt;dbl&gt;</th><th scope=col>&lt;chr&gt;</th><th scope=col>&lt;chr&gt;</th><th scope=col>&lt;chr&gt;</th><th scope=col>&lt;chr&gt;</th><th scope=col>&lt;int&gt;</th><th scope=col>&lt;int&gt;</th><th scope=col>&lt;chr&gt;</th><th scope=col>&lt;int&gt;</th><th scope=col>&lt;dbl&gt;</th><th scope=col>&lt;dbl&gt;</th><th scope=col>&lt;int&gt;</th></tr>\n",
       "</thead>\n",
       "<tbody>\n",
       "\t<tr><td>chr1:999787:999865:clu_1926_-:PR  </td><td>chr1</td><td> 999788</td><td> 999865</td><td>-</td><td>chr1_1005757_AGCCCCCGCAGCAGT_A_b38</td><td> -5892</td><td>1.18220e-20</td><td>-0.823307</td><td>PR</td><td>PR</td><td>ENSG00000188290.11</td><td>chr1</td><td> 998962</td><td>1000172</td><td>-</td><td>-5585</td><td>4.48026e-03</td><td> 0.182951</td><td>0</td></tr>\n",
       "\t<tr><td>chr1:1106049:1116059:clu_1931_-:PR</td><td>chr1</td><td>1106050</td><td>1116059</td><td>-</td><td>chr1_1098863_C_T_b38              </td><td>  7187</td><td>9.29591e-06</td><td> 0.634475</td><td>PR</td><td>PR</td><td>ENSG00000131591.17</td><td>chr1</td><td>1081818</td><td>1116361</td><td>-</td><td>    0</td><td>3.53651e-11</td><td>-0.513621</td><td>0</td></tr>\n",
       "\t<tr><td>chr1:1217804:1218457:clu_1933_-:PR</td><td>chr1</td><td>1217805</td><td>1218457</td><td>-</td><td>chr1_1239126_C_CT_b38             </td><td>-20669</td><td>7.39121e-07</td><td>-0.755286</td><td>PR</td><td>PR</td><td>ENSG00000078808.18</td><td>chr1</td><td>1216908</td><td>1232067</td><td>-</td><td>-7059</td><td>8.46434e-03</td><td> 0.249504</td><td>0</td></tr>\n",
       "</tbody>\n",
       "</table>\n"
      ],
      "text/latex": [
       "A data.table: 3 × 20\n",
       "\\begin{tabular}{llllllllllllllllllll}\n",
       " phenotype\\_id & phenotype\\_chr & phenotype\\_start & phenotype\\_end & phenotype\\_strand & best\\_genotype\\_id & best\\_nom\\_dist & pval\\_nom & slope\\_sqtl & itype & ctype & pid & pchr & pstart & pend & pstrand & dist & pval & slope\\_eqtl & topflag\\\\\n",
       " <chr> & <chr> & <int> & <int> & <chr> & <chr> & <int> & <dbl> & <dbl> & <chr> & <chr> & <chr> & <chr> & <int> & <int> & <chr> & <int> & <dbl> & <dbl> & <int>\\\\\n",
       "\\hline\n",
       "\t chr1:999787:999865:clu\\_1926\\_-:PR   & chr1 &  999788 &  999865 & - & chr1\\_1005757\\_AGCCCCCGCAGCAGT\\_A\\_b38 &  -5892 & 1.18220e-20 & -0.823307 & PR & PR & ENSG00000188290.11 & chr1 &  998962 & 1000172 & - & -5585 & 4.48026e-03 &  0.182951 & 0\\\\\n",
       "\t chr1:1106049:1116059:clu\\_1931\\_-:PR & chr1 & 1106050 & 1116059 & - & chr1\\_1098863\\_C\\_T\\_b38               &   7187 & 9.29591e-06 &  0.634475 & PR & PR & ENSG00000131591.17 & chr1 & 1081818 & 1116361 & - &     0 & 3.53651e-11 & -0.513621 & 0\\\\\n",
       "\t chr1:1217804:1218457:clu\\_1933\\_-:PR & chr1 & 1217805 & 1218457 & - & chr1\\_1239126\\_C\\_CT\\_b38              & -20669 & 7.39121e-07 & -0.755286 & PR & PR & ENSG00000078808.18 & chr1 & 1216908 & 1232067 & - & -7059 & 8.46434e-03 &  0.249504 & 0\\\\\n",
       "\\end{tabular}\n"
      ],
      "text/markdown": [
       "\n",
       "A data.table: 3 × 20\n",
       "\n",
       "| phenotype_id &lt;chr&gt; | phenotype_chr &lt;chr&gt; | phenotype_start &lt;int&gt; | phenotype_end &lt;int&gt; | phenotype_strand &lt;chr&gt; | best_genotype_id &lt;chr&gt; | best_nom_dist &lt;int&gt; | pval_nom &lt;dbl&gt; | slope_sqtl &lt;dbl&gt; | itype &lt;chr&gt; | ctype &lt;chr&gt; | pid &lt;chr&gt; | pchr &lt;chr&gt; | pstart &lt;int&gt; | pend &lt;int&gt; | pstrand &lt;chr&gt; | dist &lt;int&gt; | pval &lt;dbl&gt; | slope_eqtl &lt;dbl&gt; | topflag &lt;int&gt; |\n",
       "|---|---|---|---|---|---|---|---|---|---|---|---|---|---|---|---|---|---|---|---|\n",
       "| chr1:999787:999865:clu_1926_-:PR   | chr1 |  999788 |  999865 | - | chr1_1005757_AGCCCCCGCAGCAGT_A_b38 |  -5892 | 1.18220e-20 | -0.823307 | PR | PR | ENSG00000188290.11 | chr1 |  998962 | 1000172 | - | -5585 | 4.48026e-03 |  0.182951 | 0 |\n",
       "| chr1:1106049:1116059:clu_1931_-:PR | chr1 | 1106050 | 1116059 | - | chr1_1098863_C_T_b38               |   7187 | 9.29591e-06 |  0.634475 | PR | PR | ENSG00000131591.17 | chr1 | 1081818 | 1116361 | - |     0 | 3.53651e-11 | -0.513621 | 0 |\n",
       "| chr1:1217804:1218457:clu_1933_-:PR | chr1 | 1217805 | 1218457 | - | chr1_1239126_C_CT_b38              | -20669 | 7.39121e-07 | -0.755286 | PR | PR | ENSG00000078808.18 | chr1 | 1216908 | 1232067 | - | -7059 | 8.46434e-03 |  0.249504 | 0 |\n",
       "\n"
      ],
      "text/plain": [
       "  phenotype_id                       phenotype_chr phenotype_start\n",
       "1 chr1:999787:999865:clu_1926_-:PR   chr1           999788        \n",
       "2 chr1:1106049:1116059:clu_1931_-:PR chr1          1106050        \n",
       "3 chr1:1217804:1218457:clu_1933_-:PR chr1          1217805        \n",
       "  phenotype_end phenotype_strand best_genotype_id                  \n",
       "1  999865       -                chr1_1005757_AGCCCCCGCAGCAGT_A_b38\n",
       "2 1116059       -                chr1_1098863_C_T_b38              \n",
       "3 1218457       -                chr1_1239126_C_CT_b38             \n",
       "  best_nom_dist pval_nom    slope_sqtl itype ctype pid                pchr\n",
       "1  -5892        1.18220e-20 -0.823307  PR    PR    ENSG00000188290.11 chr1\n",
       "2   7187        9.29591e-06  0.634475  PR    PR    ENSG00000131591.17 chr1\n",
       "3 -20669        7.39121e-07 -0.755286  PR    PR    ENSG00000078808.18 chr1\n",
       "  pstart  pend    pstrand dist  pval        slope_eqtl topflag\n",
       "1  998962 1000172 -       -5585 4.48026e-03  0.182951  0      \n",
       "2 1081818 1116361 -           0 3.53651e-11 -0.513621  0      \n",
       "3 1216908 1232067 -       -7059 8.46434e-03  0.249504  0      "
      ]
     },
     "metadata": {},
     "output_type": "display_data"
    },
    {
     "data": {
      "text/html": [
       "<style>\n",
       ".list-inline {list-style: none; margin:0; padding: 0}\n",
       ".list-inline>li {display: inline-block}\n",
       ".list-inline>li:not(:last-child)::after {content: \"\\00b7\"; padding: 0 .5ex}\n",
       "</style>\n",
       "<ol class=list-inline><li>1851</li><li>20</li></ol>\n"
      ],
      "text/latex": [
       "\\begin{enumerate*}\n",
       "\\item 1851\n",
       "\\item 20\n",
       "\\end{enumerate*}\n"
      ],
      "text/markdown": [
       "1. 1851\n",
       "2. 20\n",
       "\n",
       "\n"
      ],
      "text/plain": [
       "[1] 1851   20"
      ]
     },
     "metadata": {},
     "output_type": "display_data"
    }
   ],
   "source": [
    "mergeDF[1:3]\n",
    "mergeDF %>% dim()\n"
   ]
  },
  {
   "cell_type": "code",
   "execution_count": 32,
   "metadata": {
    "vscode": {
     "languageId": "r"
    }
   },
   "outputs": [],
   "source": [
    "plotDF <- mergeDF[, .(\n",
    "  gid = best_genotype_id,\n",
    "  intron_id = phenotype_id,\n",
    "  gene_id = pid,\n",
    "  pval_sqtl = pval_nom,\n",
    "  pval_eqtl = pval,\n",
    "  slope_sqtl,\n",
    "  slope_eqtl,\n",
    "  ctype,\n",
    "  topflag\n",
    ")]\n"
   ]
  },
  {
   "cell_type": "code",
   "execution_count": 33,
   "metadata": {
    "vscode": {
     "languageId": "r"
    }
   },
   "outputs": [
    {
     "data": {
      "text/html": [
       "<style>\n",
       ".list-inline {list-style: none; margin:0; padding: 0}\n",
       ".list-inline>li {display: inline-block}\n",
       ".list-inline>li:not(:last-child)::after {content: \"\\00b7\"; padding: 0 .5ex}\n",
       "</style>\n",
       "<ol class=list-inline><li>1851</li><li>9</li></ol>\n"
      ],
      "text/latex": [
       "\\begin{enumerate*}\n",
       "\\item 1851\n",
       "\\item 9\n",
       "\\end{enumerate*}\n"
      ],
      "text/markdown": [
       "1. 1851\n",
       "2. 9\n",
       "\n",
       "\n"
      ],
      "text/plain": [
       "[1] 1851    9"
      ]
     },
     "metadata": {},
     "output_type": "display_data"
    },
    {
     "data": {
      "text/html": [
       "<table class=\"dataframe\">\n",
       "<caption>A data.table: 5 × 9</caption>\n",
       "<thead>\n",
       "\t<tr><th scope=col>gid</th><th scope=col>intron_id</th><th scope=col>gene_id</th><th scope=col>pval_sqtl</th><th scope=col>pval_eqtl</th><th scope=col>slope_sqtl</th><th scope=col>slope_eqtl</th><th scope=col>ctype</th><th scope=col>topflag</th></tr>\n",
       "\t<tr><th scope=col>&lt;chr&gt;</th><th scope=col>&lt;chr&gt;</th><th scope=col>&lt;chr&gt;</th><th scope=col>&lt;dbl&gt;</th><th scope=col>&lt;dbl&gt;</th><th scope=col>&lt;dbl&gt;</th><th scope=col>&lt;dbl&gt;</th><th scope=col>&lt;chr&gt;</th><th scope=col>&lt;int&gt;</th></tr>\n",
       "</thead>\n",
       "<tbody>\n",
       "\t<tr><td>chr1_1005757_AGCCCCCGCAGCAGT_A_b38</td><td>chr1:999787:999865:clu_1926_-:PR  </td><td>ENSG00000188290.11</td><td>1.18220e-20</td><td>4.48026e-03</td><td>-0.823307</td><td> 0.182951</td><td>PR   </td><td>0</td></tr>\n",
       "\t<tr><td>chr1_1098863_C_T_b38              </td><td>chr1:1106049:1116059:clu_1931_-:PR</td><td>ENSG00000131591.17</td><td>9.29591e-06</td><td>3.53651e-11</td><td> 0.634475</td><td>-0.513621</td><td>PR   </td><td>0</td></tr>\n",
       "\t<tr><td>chr1_1239126_C_CT_b38             </td><td>chr1:1217804:1218457:clu_1933_-:PR</td><td>ENSG00000078808.18</td><td>7.39121e-07</td><td>8.46434e-03</td><td>-0.755286</td><td> 0.249504</td><td>PR   </td><td>0</td></tr>\n",
       "\t<tr><td>chr1_1489916_C_T_b38              </td><td>chr1:1487914:1489203:clu_29_+:PR  </td><td>ENSG00000160072.20</td><td>2.07228e-06</td><td>2.89073e-04</td><td>-0.687844</td><td> 0.296692</td><td>PR   </td><td>0</td></tr>\n",
       "\t<tr><td>chr1_1686882_T_C_b38              </td><td>chr1:1707599:1708179:clu_1970_-:UP</td><td>ENSG00000008128.23</td><td>4.49999e-07</td><td>1.70568e-01</td><td> 0.416030</td><td>-0.109808</td><td>PR,UP</td><td>0</td></tr>\n",
       "</tbody>\n",
       "</table>\n"
      ],
      "text/latex": [
       "A data.table: 5 × 9\n",
       "\\begin{tabular}{lllllllll}\n",
       " gid & intron\\_id & gene\\_id & pval\\_sqtl & pval\\_eqtl & slope\\_sqtl & slope\\_eqtl & ctype & topflag\\\\\n",
       " <chr> & <chr> & <chr> & <dbl> & <dbl> & <dbl> & <dbl> & <chr> & <int>\\\\\n",
       "\\hline\n",
       "\t chr1\\_1005757\\_AGCCCCCGCAGCAGT\\_A\\_b38 & chr1:999787:999865:clu\\_1926\\_-:PR   & ENSG00000188290.11 & 1.18220e-20 & 4.48026e-03 & -0.823307 &  0.182951 & PR    & 0\\\\\n",
       "\t chr1\\_1098863\\_C\\_T\\_b38               & chr1:1106049:1116059:clu\\_1931\\_-:PR & ENSG00000131591.17 & 9.29591e-06 & 3.53651e-11 &  0.634475 & -0.513621 & PR    & 0\\\\\n",
       "\t chr1\\_1239126\\_C\\_CT\\_b38              & chr1:1217804:1218457:clu\\_1933\\_-:PR & ENSG00000078808.18 & 7.39121e-07 & 8.46434e-03 & -0.755286 &  0.249504 & PR    & 0\\\\\n",
       "\t chr1\\_1489916\\_C\\_T\\_b38               & chr1:1487914:1489203:clu\\_29\\_+:PR   & ENSG00000160072.20 & 2.07228e-06 & 2.89073e-04 & -0.687844 &  0.296692 & PR    & 0\\\\\n",
       "\t chr1\\_1686882\\_T\\_C\\_b38               & chr1:1707599:1708179:clu\\_1970\\_-:UP & ENSG00000008128.23 & 4.49999e-07 & 1.70568e-01 &  0.416030 & -0.109808 & PR,UP & 0\\\\\n",
       "\\end{tabular}\n"
      ],
      "text/markdown": [
       "\n",
       "A data.table: 5 × 9\n",
       "\n",
       "| gid &lt;chr&gt; | intron_id &lt;chr&gt; | gene_id &lt;chr&gt; | pval_sqtl &lt;dbl&gt; | pval_eqtl &lt;dbl&gt; | slope_sqtl &lt;dbl&gt; | slope_eqtl &lt;dbl&gt; | ctype &lt;chr&gt; | topflag &lt;int&gt; |\n",
       "|---|---|---|---|---|---|---|---|---|\n",
       "| chr1_1005757_AGCCCCCGCAGCAGT_A_b38 | chr1:999787:999865:clu_1926_-:PR   | ENSG00000188290.11 | 1.18220e-20 | 4.48026e-03 | -0.823307 |  0.182951 | PR    | 0 |\n",
       "| chr1_1098863_C_T_b38               | chr1:1106049:1116059:clu_1931_-:PR | ENSG00000131591.17 | 9.29591e-06 | 3.53651e-11 |  0.634475 | -0.513621 | PR    | 0 |\n",
       "| chr1_1239126_C_CT_b38              | chr1:1217804:1218457:clu_1933_-:PR | ENSG00000078808.18 | 7.39121e-07 | 8.46434e-03 | -0.755286 |  0.249504 | PR    | 0 |\n",
       "| chr1_1489916_C_T_b38               | chr1:1487914:1489203:clu_29_+:PR   | ENSG00000160072.20 | 2.07228e-06 | 2.89073e-04 | -0.687844 |  0.296692 | PR    | 0 |\n",
       "| chr1_1686882_T_C_b38               | chr1:1707599:1708179:clu_1970_-:UP | ENSG00000008128.23 | 4.49999e-07 | 1.70568e-01 |  0.416030 | -0.109808 | PR,UP | 0 |\n",
       "\n"
      ],
      "text/plain": [
       "  gid                                intron_id                         \n",
       "1 chr1_1005757_AGCCCCCGCAGCAGT_A_b38 chr1:999787:999865:clu_1926_-:PR  \n",
       "2 chr1_1098863_C_T_b38               chr1:1106049:1116059:clu_1931_-:PR\n",
       "3 chr1_1239126_C_CT_b38              chr1:1217804:1218457:clu_1933_-:PR\n",
       "4 chr1_1489916_C_T_b38               chr1:1487914:1489203:clu_29_+:PR  \n",
       "5 chr1_1686882_T_C_b38               chr1:1707599:1708179:clu_1970_-:UP\n",
       "  gene_id            pval_sqtl   pval_eqtl   slope_sqtl slope_eqtl ctype\n",
       "1 ENSG00000188290.11 1.18220e-20 4.48026e-03 -0.823307   0.182951  PR   \n",
       "2 ENSG00000131591.17 9.29591e-06 3.53651e-11  0.634475  -0.513621  PR   \n",
       "3 ENSG00000078808.18 7.39121e-07 8.46434e-03 -0.755286   0.249504  PR   \n",
       "4 ENSG00000160072.20 2.07228e-06 2.89073e-04 -0.687844   0.296692  PR   \n",
       "5 ENSG00000008128.23 4.49999e-07 1.70568e-01  0.416030  -0.109808  PR,UP\n",
       "  topflag\n",
       "1 0      \n",
       "2 0      \n",
       "3 0      \n",
       "4 0      \n",
       "5 0      "
      ]
     },
     "metadata": {},
     "output_type": "display_data"
    },
    {
     "data": {
      "text/html": [
       "<style>\n",
       ".list-inline {list-style: none; margin:0; padding: 0}\n",
       ".list-inline>li {display: inline-block}\n",
       ".list-inline>li:not(:last-child)::after {content: \"\\00b7\"; padding: 0 .5ex}\n",
       "</style>\n",
       "<ol class=list-inline><li>1851</li><li>9</li></ol>\n"
      ],
      "text/latex": [
       "\\begin{enumerate*}\n",
       "\\item 1851\n",
       "\\item 9\n",
       "\\end{enumerate*}\n"
      ],
      "text/markdown": [
       "1. 1851\n",
       "2. 9\n",
       "\n",
       "\n"
      ],
      "text/plain": [
       "[1] 1851    9"
      ]
     },
     "metadata": {},
     "output_type": "display_data"
    }
   ],
   "source": [
    "dim(plotDF)\n",
    "plotDF[1:5]\n",
    "unique(plotDF) %>% dim()\n"
   ]
  },
  {
   "cell_type": "code",
   "execution_count": 34,
   "metadata": {
    "vscode": {
     "languageId": "r"
    }
   },
   "outputs": [
    {
     "name": "stderr",
     "output_type": "stream",
     "text": [
      "\n",
      "Attaching package: ‘foreach’\n",
      "\n",
      "\n",
      "The following objects are masked from ‘package:purrr’:\n",
      "\n",
      "    accumulate, when\n",
      "\n",
      "\n"
     ]
    }
   ],
   "source": [
    "qqplot <- list(\n",
    "  Productive = plotDF[ctype == \"PR\" & slope_sqtl > 0, pval_eqtl],\n",
    "  Unproductive = plotDF[ctype == \"PR,UP\" & slope_sqtl > 0, pval_eqtl]\n",
    ") %>%\n",
    "  multiqq()\n"
   ]
  },
  {
   "cell_type": "code",
   "execution_count": 35,
   "metadata": {
    "vscode": {
     "languageId": "r"
    }
   },
   "outputs": [],
   "source": [
    "qqplotNeg <- list(\n",
    "  Productive = plotDF[ctype == \"PR\" & slope_sqtl < 0, pval_eqtl],\n",
    "  Unproductive = plotDF[ctype == \"PR,UP\" & slope_sqtl < 0, pval_eqtl]\n",
    ") %>%\n",
    "  multiqq(flipY = TRUE)\n"
   ]
  },
  {
   "cell_type": "code",
   "execution_count": 36,
   "metadata": {
    "vscode": {
     "languageId": "r"
    }
   },
   "outputs": [],
   "source": [
    "# first plot sQTL_slope > 0\n",
    "qqplot <- list(\n",
    "  Productive = plotDF[ctype == \"PR\" & slope_sqtl > 0, pval_eqtl],\n",
    "  Unproductive = plotDF[ctype == \"PR,UP\" & slope_sqtl > 0, pval_eqtl]\n",
    ") %>%\n",
    "  multiqq()\n"
   ]
  },
  {
   "cell_type": "code",
   "execution_count": 37,
   "metadata": {
    "vscode": {
     "languageId": "r"
    }
   },
   "outputs": [],
   "source": [
    "\n",
    "# then plot sQTL_slope < 0\n",
    "qqplotNeg <- list(\n",
    "  Productive = plotDF[ctype == \"PR\" & slope_sqtl < 0, pval_eqtl],\n",
    "  Unproductive = plotDF[ctype == \"PR,UP\" & slope_sqtl < 0, pval_eqtl]\n",
    ") %>%\n",
    "  multiqq(flipY = TRUE)\n"
   ]
  },
  {
   "cell_type": "code",
   "execution_count": 38,
   "metadata": {
    "vscode": {
     "languageId": "r"
    }
   },
   "outputs": [],
   "source": [
    "\n",
    "# randomly selected genome-wide snps\n",
    "qqplot_gw <- rbind(\n",
    "  multiqq(list(GenomeWide = nomDF_genome[slope < 0, pval]))$data,\n",
    "  multiqq(list(GenomeWide = nomDF_genome[slope > 0, pval]), flipY = T)$data\n",
    ")\n"
   ]
  },
  {
   "cell_type": "code",
   "execution_count": 39,
   "metadata": {
    "vscode": {
     "languageId": "r"
    }
   },
   "outputs": [],
   "source": [
    "\n",
    "Title <- glue(\"{tissue}\")\n",
    "COLORS <- c(RColorBrewer::brewer.pal(9, \"Blues\")[c(4,6)], \"grey\")\n",
    "names(COLORS) <- c(\"Productive\", \"Unproductive\", \"GenomeWide\")\n",
    "\n",
    "qqplot <- rbind(qqplot$data, qqplotNeg$data, qqplot_gw) %>%\n",
    "  ggplot(aes(x, y, col = group)) + geom_point() +\n",
    "    geom_abline(intercept = 0, slope = 1, color = 'grey40', linetype = 'dashed') +\n",
    "    geom_abline(intercept = 0, slope = -1, color = 'grey40', linetype = 'dashed') +\n",
    "    labs(x = \"Expected -log10(p)\", y = \"Observed -log10(p)\") +\n",
    "    scale_color_manual(values = COLORS) + \n",
    "    theme_cowplot() +\n",
    "    theme(legend.title = element_blank())"
   ]
  },
  {
   "cell_type": "code",
   "execution_count": 40,
   "metadata": {
    "vscode": {
     "languageId": "r"
    }
   },
   "outputs": [
    {
     "data": {
      "text/html": [
       "<table class=\"dataframe\">\n",
       "<caption>A data.frame: 5 × 3</caption>\n",
       "<thead>\n",
       "\t<tr><th></th><th scope=col>x</th><th scope=col>y</th><th scope=col>group</th></tr>\n",
       "\t<tr><th></th><th scope=col>&lt;dbl&gt;</th><th scope=col>&lt;dbl&gt;</th><th scope=col>&lt;fct&gt;</th></tr>\n",
       "</thead>\n",
       "<tbody>\n",
       "\t<tr><th scope=row>1</th><td>0.0009834522</td><td>-0.0002697806</td><td>Productive</td></tr>\n",
       "\t<tr><th scope=row>2</th><td>0.0011808563</td><td>-0.0026450747</td><td>Productive</td></tr>\n",
       "\t<tr><th scope=row>3</th><td>0.0017320481</td><td>-0.0061746220</td><td>Productive</td></tr>\n",
       "\t<tr><th scope=row>4</th><td>0.0022500678</td><td>-0.0086724531</td><td>Productive</td></tr>\n",
       "\t<tr><th scope=row>5</th><td>0.0030932720</td><td>-0.0089849186</td><td>Productive</td></tr>\n",
       "</tbody>\n",
       "</table>\n"
      ],
      "text/latex": [
       "A data.frame: 5 × 3\n",
       "\\begin{tabular}{r|lll}\n",
       "  & x & y & group\\\\\n",
       "  & <dbl> & <dbl> & <fct>\\\\\n",
       "\\hline\n",
       "\t1 & 0.0009834522 & -0.0002697806 & Productive\\\\\n",
       "\t2 & 0.0011808563 & -0.0026450747 & Productive\\\\\n",
       "\t3 & 0.0017320481 & -0.0061746220 & Productive\\\\\n",
       "\t4 & 0.0022500678 & -0.0086724531 & Productive\\\\\n",
       "\t5 & 0.0030932720 & -0.0089849186 & Productive\\\\\n",
       "\\end{tabular}\n"
      ],
      "text/markdown": [
       "\n",
       "A data.frame: 5 × 3\n",
       "\n",
       "| <!--/--> | x &lt;dbl&gt; | y &lt;dbl&gt; | group &lt;fct&gt; |\n",
       "|---|---|---|---|\n",
       "| 1 | 0.0009834522 | -0.0002697806 | Productive |\n",
       "| 2 | 0.0011808563 | -0.0026450747 | Productive |\n",
       "| 3 | 0.0017320481 | -0.0061746220 | Productive |\n",
       "| 4 | 0.0022500678 | -0.0086724531 | Productive |\n",
       "| 5 | 0.0030932720 | -0.0089849186 | Productive |\n",
       "\n"
      ],
      "text/plain": [
       "  x            y             group     \n",
       "1 0.0009834522 -0.0002697806 Productive\n",
       "2 0.0011808563 -0.0026450747 Productive\n",
       "3 0.0017320481 -0.0061746220 Productive\n",
       "4 0.0022500678 -0.0086724531 Productive\n",
       "5 0.0030932720 -0.0089849186 Productive"
      ]
     },
     "metadata": {},
     "output_type": "display_data"
    }
   ],
   "source": [
    "qqplotNeg$data %>% .[1:5,]"
   ]
  },
  {
   "cell_type": "code",
   "execution_count": 41,
   "metadata": {
    "vscode": {
     "languageId": "r"
    }
   },
   "outputs": [
    {
     "data": {
      "text/html": [
       "<table class=\"dataframe\">\n",
       "<caption>A data.table: 5 × 15</caption>\n",
       "<thead>\n",
       "\t<tr><th scope=col>pid</th><th scope=col>pchr</th><th scope=col>pstart</th><th scope=col>pend</th><th scope=col>pstrand</th><th scope=col>nVar</th><th scope=col>dist</th><th scope=col>vid</th><th scope=col>vchr</th><th scope=col>vstart</th><th scope=col>vend</th><th scope=col>pval</th><th scope=col>r2</th><th scope=col>slope</th><th scope=col>topflag</th></tr>\n",
       "\t<tr><th scope=col>&lt;chr&gt;</th><th scope=col>&lt;chr&gt;</th><th scope=col>&lt;int&gt;</th><th scope=col>&lt;int&gt;</th><th scope=col>&lt;chr&gt;</th><th scope=col>&lt;int&gt;</th><th scope=col>&lt;int&gt;</th><th scope=col>&lt;chr&gt;</th><th scope=col>&lt;chr&gt;</th><th scope=col>&lt;int&gt;</th><th scope=col>&lt;int&gt;</th><th scope=col>&lt;dbl&gt;</th><th scope=col>&lt;dbl&gt;</th><th scope=col>&lt;dbl&gt;</th><th scope=col>&lt;int&gt;</th></tr>\n",
       "</thead>\n",
       "<tbody>\n",
       "\t<tr><td>ENSG00000119705.10</td><td>chr14</td><td> 77708071</td><td> 77761104</td><td>+</td><td>1655</td><td>  8387</td><td>chr14_77769491_G_A_b38</td><td>chr14</td><td> 77769491</td><td> 77769491</td><td>0.589160000</td><td>0.00173972</td><td>-0.0519211</td><td>0</td></tr>\n",
       "\t<tr><td>ENSG00000141258.13</td><td>chr17</td><td>  2337498</td><td>  2381058</td><td>+</td><td> 930</td><td>     0</td><td>chr17_2346610_C_T_b38 </td><td>chr17</td><td>  2346610</td><td>  2346610</td><td>0.336384000</td><td>0.00550218</td><td> 0.0323494</td><td>0</td></tr>\n",
       "\t<tr><td>ENSG00000221887.6 </td><td>chr18</td><td> 63949301</td><td> 63981774</td><td>+</td><td>1111</td><td>     0</td><td>chr18_63954734_C_T_b38</td><td>chr18</td><td> 63954734</td><td> 63954734</td><td>0.034524800</td><td>0.02632480</td><td>-0.2028980</td><td>0</td></tr>\n",
       "\t<tr><td>ENSG00000072840.13</td><td>chr4 </td><td>  5711201</td><td>  5814305</td><td>+</td><td>2015</td><td>     0</td><td>chr4_5732234_G_A_b38  </td><td>chr4 </td><td>  5732234</td><td>  5732234</td><td>0.000282756</td><td>0.07567590</td><td>-0.3046910</td><td>0</td></tr>\n",
       "\t<tr><td>ENSG00000114529.12</td><td>chr3 </td><td>112086335</td><td>112131004</td><td>+</td><td>1707</td><td>-61806</td><td>chr3_112024529_C_G_b38</td><td>chr3 </td><td>112024529</td><td>112024529</td><td>0.034029100</td><td>0.02646840</td><td>-0.1677630</td><td>0</td></tr>\n",
       "</tbody>\n",
       "</table>\n"
      ],
      "text/latex": [
       "A data.table: 5 × 15\n",
       "\\begin{tabular}{lllllllllllllll}\n",
       " pid & pchr & pstart & pend & pstrand & nVar & dist & vid & vchr & vstart & vend & pval & r2 & slope & topflag\\\\\n",
       " <chr> & <chr> & <int> & <int> & <chr> & <int> & <int> & <chr> & <chr> & <int> & <int> & <dbl> & <dbl> & <dbl> & <int>\\\\\n",
       "\\hline\n",
       "\t ENSG00000119705.10 & chr14 &  77708071 &  77761104 & + & 1655 &   8387 & chr14\\_77769491\\_G\\_A\\_b38 & chr14 &  77769491 &  77769491 & 0.589160000 & 0.00173972 & -0.0519211 & 0\\\\\n",
       "\t ENSG00000141258.13 & chr17 &   2337498 &   2381058 & + &  930 &      0 & chr17\\_2346610\\_C\\_T\\_b38  & chr17 &   2346610 &   2346610 & 0.336384000 & 0.00550218 &  0.0323494 & 0\\\\\n",
       "\t ENSG00000221887.6  & chr18 &  63949301 &  63981774 & + & 1111 &      0 & chr18\\_63954734\\_C\\_T\\_b38 & chr18 &  63954734 &  63954734 & 0.034524800 & 0.02632480 & -0.2028980 & 0\\\\\n",
       "\t ENSG00000072840.13 & chr4  &   5711201 &   5814305 & + & 2015 &      0 & chr4\\_5732234\\_G\\_A\\_b38   & chr4  &   5732234 &   5732234 & 0.000282756 & 0.07567590 & -0.3046910 & 0\\\\\n",
       "\t ENSG00000114529.12 & chr3  & 112086335 & 112131004 & + & 1707 & -61806 & chr3\\_112024529\\_C\\_G\\_b38 & chr3  & 112024529 & 112024529 & 0.034029100 & 0.02646840 & -0.1677630 & 0\\\\\n",
       "\\end{tabular}\n"
      ],
      "text/markdown": [
       "\n",
       "A data.table: 5 × 15\n",
       "\n",
       "| pid &lt;chr&gt; | pchr &lt;chr&gt; | pstart &lt;int&gt; | pend &lt;int&gt; | pstrand &lt;chr&gt; | nVar &lt;int&gt; | dist &lt;int&gt; | vid &lt;chr&gt; | vchr &lt;chr&gt; | vstart &lt;int&gt; | vend &lt;int&gt; | pval &lt;dbl&gt; | r2 &lt;dbl&gt; | slope &lt;dbl&gt; | topflag &lt;int&gt; |\n",
       "|---|---|---|---|---|---|---|---|---|---|---|---|---|---|---|\n",
       "| ENSG00000119705.10 | chr14 |  77708071 |  77761104 | + | 1655 |   8387 | chr14_77769491_G_A_b38 | chr14 |  77769491 |  77769491 | 0.589160000 | 0.00173972 | -0.0519211 | 0 |\n",
       "| ENSG00000141258.13 | chr17 |   2337498 |   2381058 | + |  930 |      0 | chr17_2346610_C_T_b38  | chr17 |   2346610 |   2346610 | 0.336384000 | 0.00550218 |  0.0323494 | 0 |\n",
       "| ENSG00000221887.6  | chr18 |  63949301 |  63981774 | + | 1111 |      0 | chr18_63954734_C_T_b38 | chr18 |  63954734 |  63954734 | 0.034524800 | 0.02632480 | -0.2028980 | 0 |\n",
       "| ENSG00000072840.13 | chr4  |   5711201 |   5814305 | + | 2015 |      0 | chr4_5732234_G_A_b38   | chr4  |   5732234 |   5732234 | 0.000282756 | 0.07567590 | -0.3046910 | 0 |\n",
       "| ENSG00000114529.12 | chr3  | 112086335 | 112131004 | + | 1707 | -61806 | chr3_112024529_C_G_b38 | chr3  | 112024529 | 112024529 | 0.034029100 | 0.02646840 | -0.1677630 | 0 |\n",
       "\n"
      ],
      "text/plain": [
       "  pid                pchr  pstart    pend      pstrand nVar dist  \n",
       "1 ENSG00000119705.10 chr14  77708071  77761104 +       1655   8387\n",
       "2 ENSG00000141258.13 chr17   2337498   2381058 +        930      0\n",
       "3 ENSG00000221887.6  chr18  63949301  63981774 +       1111      0\n",
       "4 ENSG00000072840.13 chr4    5711201   5814305 +       2015      0\n",
       "5 ENSG00000114529.12 chr3  112086335 112131004 +       1707 -61806\n",
       "  vid                    vchr  vstart    vend      pval        r2        \n",
       "1 chr14_77769491_G_A_b38 chr14  77769491  77769491 0.589160000 0.00173972\n",
       "2 chr17_2346610_C_T_b38  chr17   2346610   2346610 0.336384000 0.00550218\n",
       "3 chr18_63954734_C_T_b38 chr18  63954734  63954734 0.034524800 0.02632480\n",
       "4 chr4_5732234_G_A_b38   chr4    5732234   5732234 0.000282756 0.07567590\n",
       "5 chr3_112024529_C_G_b38 chr3  112024529 112024529 0.034029100 0.02646840\n",
       "  slope      topflag\n",
       "1 -0.0519211 0      \n",
       "2  0.0323494 0      \n",
       "3 -0.2028980 0      \n",
       "4 -0.3046910 0      \n",
       "5 -0.1677630 0      "
      ]
     },
     "metadata": {},
     "output_type": "display_data"
    }
   ],
   "source": [
    "nomDF_genome[1:5]"
   ]
  },
  {
   "cell_type": "code",
   "execution_count": 42,
   "metadata": {
    "vscode": {
     "languageId": "r"
    }
   },
   "outputs": [
    {
     "data": {
      "image/png": "[encoded data removed]",
      "text/plain": [
       "plot without title"
      ]
     },
     "metadata": {
      "image/png": {
       "height": 420,
       "width": 420
      }
     },
     "output_type": "display_data"
    }
   ],
   "source": [
    "qqplot"
   ]
  },
  {
   "cell_type": "code",
   "execution_count": 43,
   "metadata": {
    "vscode": {
     "languageId": "r"
    }
   },
   "outputs": [
    {
     "data": {
      "text/html": [
       "<style>\n",
       ".list-inline {list-style: none; margin:0; padding: 0}\n",
       ".list-inline>li {display: inline-block}\n",
       ".list-inline>li:not(:last-child)::after {content: \"\\00b7\"; padding: 0 .5ex}\n",
       "</style>\n",
       "<ol class=list-inline><li>1851</li><li>9</li></ol>\n"
      ],
      "text/latex": [
       "\\begin{enumerate*}\n",
       "\\item 1851\n",
       "\\item 9\n",
       "\\end{enumerate*}\n"
      ],
      "text/markdown": [
       "1. 1851\n",
       "2. 9\n",
       "\n",
       "\n"
      ],
      "text/plain": [
       "[1] 1851    9"
      ]
     },
     "metadata": {},
     "output_type": "display_data"
    },
    {
     "data": {
      "text/html": [
       "<table class=\"dataframe\">\n",
       "<caption>A data.table: 5 × 9</caption>\n",
       "<thead>\n",
       "\t<tr><th scope=col>gid</th><th scope=col>intron_id</th><th scope=col>gene_id</th><th scope=col>pval_sqtl</th><th scope=col>pval_eqtl</th><th scope=col>slope_sqtl</th><th scope=col>slope_eqtl</th><th scope=col>ctype</th><th scope=col>topflag</th></tr>\n",
       "\t<tr><th scope=col>&lt;chr&gt;</th><th scope=col>&lt;chr&gt;</th><th scope=col>&lt;chr&gt;</th><th scope=col>&lt;dbl&gt;</th><th scope=col>&lt;dbl&gt;</th><th scope=col>&lt;dbl&gt;</th><th scope=col>&lt;dbl&gt;</th><th scope=col>&lt;chr&gt;</th><th scope=col>&lt;int&gt;</th></tr>\n",
       "</thead>\n",
       "<tbody>\n",
       "\t<tr><td>chr1_1005757_AGCCCCCGCAGCAGT_A_b38</td><td>chr1:999787:999865:clu_1926_-:PR  </td><td>ENSG00000188290.11</td><td>1.18220e-20</td><td>4.48026e-03</td><td>-0.823307</td><td> 0.182951</td><td>PR   </td><td>0</td></tr>\n",
       "\t<tr><td>chr1_1098863_C_T_b38              </td><td>chr1:1106049:1116059:clu_1931_-:PR</td><td>ENSG00000131591.17</td><td>9.29591e-06</td><td>3.53651e-11</td><td> 0.634475</td><td>-0.513621</td><td>PR   </td><td>0</td></tr>\n",
       "\t<tr><td>chr1_1239126_C_CT_b38             </td><td>chr1:1217804:1218457:clu_1933_-:PR</td><td>ENSG00000078808.18</td><td>7.39121e-07</td><td>8.46434e-03</td><td>-0.755286</td><td> 0.249504</td><td>PR   </td><td>0</td></tr>\n",
       "\t<tr><td>chr1_1489916_C_T_b38              </td><td>chr1:1487914:1489203:clu_29_+:PR  </td><td>ENSG00000160072.20</td><td>2.07228e-06</td><td>2.89073e-04</td><td>-0.687844</td><td> 0.296692</td><td>PR   </td><td>0</td></tr>\n",
       "\t<tr><td>chr1_1686882_T_C_b38              </td><td>chr1:1707599:1708179:clu_1970_-:UP</td><td>ENSG00000008128.23</td><td>4.49999e-07</td><td>1.70568e-01</td><td> 0.416030</td><td>-0.109808</td><td>PR,UP</td><td>0</td></tr>\n",
       "</tbody>\n",
       "</table>\n"
      ],
      "text/latex": [
       "A data.table: 5 × 9\n",
       "\\begin{tabular}{lllllllll}\n",
       " gid & intron\\_id & gene\\_id & pval\\_sqtl & pval\\_eqtl & slope\\_sqtl & slope\\_eqtl & ctype & topflag\\\\\n",
       " <chr> & <chr> & <chr> & <dbl> & <dbl> & <dbl> & <dbl> & <chr> & <int>\\\\\n",
       "\\hline\n",
       "\t chr1\\_1005757\\_AGCCCCCGCAGCAGT\\_A\\_b38 & chr1:999787:999865:clu\\_1926\\_-:PR   & ENSG00000188290.11 & 1.18220e-20 & 4.48026e-03 & -0.823307 &  0.182951 & PR    & 0\\\\\n",
       "\t chr1\\_1098863\\_C\\_T\\_b38               & chr1:1106049:1116059:clu\\_1931\\_-:PR & ENSG00000131591.17 & 9.29591e-06 & 3.53651e-11 &  0.634475 & -0.513621 & PR    & 0\\\\\n",
       "\t chr1\\_1239126\\_C\\_CT\\_b38              & chr1:1217804:1218457:clu\\_1933\\_-:PR & ENSG00000078808.18 & 7.39121e-07 & 8.46434e-03 & -0.755286 &  0.249504 & PR    & 0\\\\\n",
       "\t chr1\\_1489916\\_C\\_T\\_b38               & chr1:1487914:1489203:clu\\_29\\_+:PR   & ENSG00000160072.20 & 2.07228e-06 & 2.89073e-04 & -0.687844 &  0.296692 & PR    & 0\\\\\n",
       "\t chr1\\_1686882\\_T\\_C\\_b38               & chr1:1707599:1708179:clu\\_1970\\_-:UP & ENSG00000008128.23 & 4.49999e-07 & 1.70568e-01 &  0.416030 & -0.109808 & PR,UP & 0\\\\\n",
       "\\end{tabular}\n"
      ],
      "text/markdown": [
       "\n",
       "A data.table: 5 × 9\n",
       "\n",
       "| gid &lt;chr&gt; | intron_id &lt;chr&gt; | gene_id &lt;chr&gt; | pval_sqtl &lt;dbl&gt; | pval_eqtl &lt;dbl&gt; | slope_sqtl &lt;dbl&gt; | slope_eqtl &lt;dbl&gt; | ctype &lt;chr&gt; | topflag &lt;int&gt; |\n",
       "|---|---|---|---|---|---|---|---|---|\n",
       "| chr1_1005757_AGCCCCCGCAGCAGT_A_b38 | chr1:999787:999865:clu_1926_-:PR   | ENSG00000188290.11 | 1.18220e-20 | 4.48026e-03 | -0.823307 |  0.182951 | PR    | 0 |\n",
       "| chr1_1098863_C_T_b38               | chr1:1106049:1116059:clu_1931_-:PR | ENSG00000131591.17 | 9.29591e-06 | 3.53651e-11 |  0.634475 | -0.513621 | PR    | 0 |\n",
       "| chr1_1239126_C_CT_b38              | chr1:1217804:1218457:clu_1933_-:PR | ENSG00000078808.18 | 7.39121e-07 | 8.46434e-03 | -0.755286 |  0.249504 | PR    | 0 |\n",
       "| chr1_1489916_C_T_b38               | chr1:1487914:1489203:clu_29_+:PR   | ENSG00000160072.20 | 2.07228e-06 | 2.89073e-04 | -0.687844 |  0.296692 | PR    | 0 |\n",
       "| chr1_1686882_T_C_b38               | chr1:1707599:1708179:clu_1970_-:UP | ENSG00000008128.23 | 4.49999e-07 | 1.70568e-01 |  0.416030 | -0.109808 | PR,UP | 0 |\n",
       "\n"
      ],
      "text/plain": [
       "  gid                                intron_id                         \n",
       "1 chr1_1005757_AGCCCCCGCAGCAGT_A_b38 chr1:999787:999865:clu_1926_-:PR  \n",
       "2 chr1_1098863_C_T_b38               chr1:1106049:1116059:clu_1931_-:PR\n",
       "3 chr1_1239126_C_CT_b38              chr1:1217804:1218457:clu_1933_-:PR\n",
       "4 chr1_1489916_C_T_b38               chr1:1487914:1489203:clu_29_+:PR  \n",
       "5 chr1_1686882_T_C_b38               chr1:1707599:1708179:clu_1970_-:UP\n",
       "  gene_id            pval_sqtl   pval_eqtl   slope_sqtl slope_eqtl ctype\n",
       "1 ENSG00000188290.11 1.18220e-20 4.48026e-03 -0.823307   0.182951  PR   \n",
       "2 ENSG00000131591.17 9.29591e-06 3.53651e-11  0.634475  -0.513621  PR   \n",
       "3 ENSG00000078808.18 7.39121e-07 8.46434e-03 -0.755286   0.249504  PR   \n",
       "4 ENSG00000160072.20 2.07228e-06 2.89073e-04 -0.687844   0.296692  PR   \n",
       "5 ENSG00000008128.23 4.49999e-07 1.70568e-01  0.416030  -0.109808  PR,UP\n",
       "  topflag\n",
       "1 0      \n",
       "2 0      \n",
       "3 0      \n",
       "4 0      \n",
       "5 0      "
      ]
     },
     "metadata": {},
     "output_type": "display_data"
    },
    {
     "data": {
      "text/html": [
       "<style>\n",
       ".list-inline {list-style: none; margin:0; padding: 0}\n",
       ".list-inline>li {display: inline-block}\n",
       ".list-inline>li:not(:last-child)::after {content: \"\\00b7\"; padding: 0 .5ex}\n",
       "</style>\n",
       "<ol class=list-inline><li>1851</li><li>9</li></ol>\n"
      ],
      "text/latex": [
       "\\begin{enumerate*}\n",
       "\\item 1851\n",
       "\\item 9\n",
       "\\end{enumerate*}\n"
      ],
      "text/markdown": [
       "1. 1851\n",
       "2. 9\n",
       "\n",
       "\n"
      ],
      "text/plain": [
       "[1] 1851    9"
      ]
     },
     "metadata": {},
     "output_type": "display_data"
    }
   ],
   "source": [
    "dim(plotDF)\n",
    "plotDF[1:5]\n",
    "unique(plotDF) %>% dim()\n"
   ]
  },
  {
   "cell_type": "code",
   "execution_count": 44,
   "metadata": {
    "vscode": {
     "languageId": "r"
    }
   },
   "outputs": [],
   "source": [
    "corr <- plotDF[, .(slope_sqtl, slope_eqtl, ctype = if_else(ctype == \"PR\", \"PR\", \"UP\"))] %>%\n",
    "  split(by = \"ctype\") %>%\n",
    "  map(~ cor.test(x = .x$slope_eqtl, y = .x$slope_sqtl, method = \"pearson\"))\n"
   ]
  },
  {
   "cell_type": "code",
   "execution_count": 45,
   "metadata": {
    "vscode": {
     "languageId": "r"
    }
   },
   "outputs": [
    {
     "data": {
      "text/html": [
       "2.11758131644236e-08"
      ],
      "text/latex": [
       "2.11758131644236e-08"
      ],
      "text/markdown": [
       "2.11758131644236e-08"
      ],
      "text/plain": [
       "[1] 2.117581e-08"
      ]
     },
     "metadata": {},
     "output_type": "display_data"
    }
   ],
   "source": [
    "corr$UP$p.value\n"
   ]
  },
  {
   "cell_type": "code",
   "execution_count": 46,
   "metadata": {
    "vscode": {
     "languageId": "r"
    }
   },
   "outputs": [
    {
     "data": {
      "text/plain": [
       "$PR\n",
       "\n",
       "\tPearson's product-moment correlation\n",
       "\n",
       "data:  .x$slope_eqtl and .x$slope_sqtl\n",
       "t = -0.56184, df = 1238, p-value = 0.5743\n",
       "alternative hypothesis: true correlation is not equal to 0\n",
       "95 percent confidence interval:\n",
       " -0.07157155  0.03973831\n",
       "sample estimates:\n",
       "        cor \n",
       "-0.01596609 \n",
       "\n",
       "\n",
       "$UP\n",
       "\n",
       "\tPearson's product-moment correlation\n",
       "\n",
       "data:  .x$slope_eqtl and .x$slope_sqtl\n",
       "t = -5.6774, df = 609, p-value = 2.118e-08\n",
       "alternative hypothesis: true correlation is not equal to 0\n",
       "95 percent confidence interval:\n",
       " -0.2982213 -0.1475080\n",
       "sample estimates:\n",
       "       cor \n",
       "-0.2242048 \n",
       "\n"
      ]
     },
     "metadata": {},
     "output_type": "display_data"
    }
   ],
   "source": [
    "corr\n"
   ]
  },
  {
   "cell_type": "code",
   "execution_count": 47,
   "metadata": {
    "vscode": {
     "languageId": "r"
    }
   },
   "outputs": [],
   "source": [
    "library(ggpointdensity)\n"
   ]
  },
  {
   "cell_type": "code",
   "execution_count": 48,
   "metadata": {
    "vscode": {
     "languageId": "r"
    }
   },
   "outputs": [
    {
     "name": "stderr",
     "output_type": "stream",
     "text": [
      "Warning message in cor.test.default(x = .x$slope_eqtl, y = .x$slope_sqtl, method = \"s\"):\n",
      "“Cannot compute exact p-value with ties”\n",
      "Warning message in cor.test.default(x = .x$slope_eqtl, y = .x$slope_sqtl, method = \"s\"):\n",
      "“Cannot compute exact p-value with ties”\n"
     ]
    }
   ],
   "source": [
    "corr <- plotDF[, .(slope_sqtl, slope_eqtl, ctype = if_else(ctype == \"PR\", \"PR\", \"UP\"))] %>%\n",
    "  split(by = \"ctype\") %>%\n",
    "  map(~ cor.test(x = .x$slope_eqtl, y = .x$slope_sqtl, method = \"s\"))\n",
    "\n",
    "corr.pvals <- map(corr, ~ .x$p.value) %>% unlist()\n",
    "corr.estimates <- map(corr, ~ .x$estimate[[1]]) %>% unlist()\n",
    "\n",
    "if (all(names(corr.pvals) == names(corr.estimates))) {\n",
    "  corr.df <- data.frame(\n",
    "    ctype = if_else(names(corr.pvals) == \"PR\", \"Productive\", \"Unproductive\"),\n",
    "    pval = corr.pvals,\n",
    "    estimate = corr.estimates\n",
    "  )\n",
    "} else {\n",
    "  stop(\"names of pvals and estimates do not match\")\n",
    "}\n"
   ]
  },
  {
   "cell_type": "code",
   "execution_count": 49,
   "metadata": {
    "vscode": {
     "languageId": "r"
    }
   },
   "outputs": [
    {
     "data": {
      "text/html": [
       "<table class=\"dataframe\">\n",
       "<caption>A data.frame: 2 × 5</caption>\n",
       "<thead>\n",
       "\t<tr><th></th><th scope=col>ctype</th><th scope=col>pval</th><th scope=col>estimate</th><th scope=col>xpos</th><th scope=col>ypos</th></tr>\n",
       "\t<tr><th></th><th scope=col>&lt;chr&gt;</th><th scope=col>&lt;dbl&gt;</th><th scope=col>&lt;dbl&gt;</th><th scope=col>&lt;dbl&gt;</th><th scope=col>&lt;dbl&gt;</th></tr>\n",
       "</thead>\n",
       "<tbody>\n",
       "\t<tr><th scope=row>PR</th><td>Productive  </td><td>6.892108e-01</td><td>-0.01136824</td><td>0</td><td>0</td></tr>\n",
       "\t<tr><th scope=row>UP</th><td>Unproductive</td><td>4.225541e-05</td><td>-0.16486019</td><td>0</td><td>0</td></tr>\n",
       "</tbody>\n",
       "</table>\n"
      ],
      "text/latex": [
       "A data.frame: 2 × 5\n",
       "\\begin{tabular}{r|lllll}\n",
       "  & ctype & pval & estimate & xpos & ypos\\\\\n",
       "  & <chr> & <dbl> & <dbl> & <dbl> & <dbl>\\\\\n",
       "\\hline\n",
       "\tPR & Productive   & 6.892108e-01 & -0.01136824 & 0 & 0\\\\\n",
       "\tUP & Unproductive & 4.225541e-05 & -0.16486019 & 0 & 0\\\\\n",
       "\\end{tabular}\n"
      ],
      "text/markdown": [
       "\n",
       "A data.frame: 2 × 5\n",
       "\n",
       "| <!--/--> | ctype &lt;chr&gt; | pval &lt;dbl&gt; | estimate &lt;dbl&gt; | xpos &lt;dbl&gt; | ypos &lt;dbl&gt; |\n",
       "|---|---|---|---|---|---|\n",
       "| PR | Productive   | 6.892108e-01 | -0.01136824 | 0 | 0 |\n",
       "| UP | Unproductive | 4.225541e-05 | -0.16486019 | 0 | 0 |\n",
       "\n"
      ],
      "text/plain": [
       "   ctype        pval         estimate    xpos ypos\n",
       "PR Productive   6.892108e-01 -0.01136824 0    0   \n",
       "UP Unproductive 4.225541e-05 -0.16486019 0    0   "
      ]
     },
     "metadata": {},
     "output_type": "display_data"
    }
   ],
   "source": [
    "corr.df <- corr.df %>%\n",
    "  mutate(xpos = c(0, 0), ypos = c(0, 0))\n",
    "corr.df\n"
   ]
  },
  {
   "cell_type": "code",
   "execution_count": 50,
   "metadata": {
    "vscode": {
     "languageId": "r"
    }
   },
   "outputs": [
    {
     "data": {
      "image/png": "[encoded data removed]",
      "text/plain": [
       "plot without title"
      ]
     },
     "metadata": {
      "image/png": {
       "height": 420,
       "width": 420
      }
     },
     "output_type": "display_data"
    }
   ],
   "source": [
    "plotDF[, .(slope_sqtl, slope_eqtl, ctype)] %>%\n",
    "  mutate(ctype = if_else(ctype == \"PR\", \"Productive\", \"Unproductive\")) %>%\n",
    "  # .[ctype == \"Productive\"] %>%\n",
    "  ggplot() +\n",
    "  geom_pointdensity(aes(slope_eqtl, slope_sqtl), alpha = .8) +\n",
    "  geom_abline(aes(intercept = 0, slope = estimate), data = corr.df, linetype = \"dashed\", color = 'navy', linewidth = 1) +\n",
    "  scale_color_viridis_c() +\n",
    "  labs(x = \"eQTL effect size\", y = \"sQTL effect size\") +\n",
    "  geom_text(\n",
    "    aes(\n",
    "      x = xpos, y = ypos,\n",
    "      label = glue(\"cor: {corr}, p: {pvalue}\",\n",
    "        corr = if_else(abs(estimate) > .001, scales::number(estimate, .01), scales::scientific(estimate)),\n",
    "        pvalue = if_else(pval > .001, scales::number(pval, .01), scales::scientific(pval))\n",
    "      )\n",
    "    ),\n",
    "    data = corr.df, size = 6, hjust = .5, vjust = 1\n",
    "  ) +\n",
    "  theme_cowplot() +\n",
    "  facet_wrap(~ctype) +\n",
    "  theme(strip.background = element_rect(fill = \"white\"))\n"
   ]
  },
  {
   "cell_type": "code",
   "execution_count": null,
   "metadata": {
    "vscode": {
     "languageId": "r"
    }
   },
   "outputs": [],
   "source": []
  },
  {
   "cell_type": "code",
   "execution_count": null,
   "metadata": {
    "vscode": {
     "languageId": "r"
    }
   },
   "outputs": [],
   "source": []
  },
  {
   "cell_type": "code",
   "execution_count": null,
   "metadata": {
    "vscode": {
     "languageId": "r"
    }
   },
   "outputs": [],
   "source": []
  },
  {
   "cell_type": "code",
   "execution_count": 117,
   "metadata": {
    "vscode": {
     "languageId": "r"
    }
   },
   "outputs": [],
   "source": [
    "sqtl.gr <- sqtl[, .(phenotype_chr, phenotype_start, phenotype_end, phenotype_strand, phenotype_id)]\n",
    "sqtl.gr <- makeGRangesFromDataFrame(sqtl.gr,\n",
    "  keep.extra.columns = TRUE, seqnames.field = \"phenotype_chr\",\n",
    "  start.field = \"phenotype_start\", end.field = \"phenotype_end\",\n",
    "  strand.field = \"phenotype_strand\"\n",
    ")\n"
   ]
  },
  {
   "cell_type": "code",
   "execution_count": 132,
   "metadata": {
    "vscode": {
     "languageId": "r"
    }
   },
   "outputs": [
    {
     "data": {
      "text/plain": [
       "GRanges object with 2320 ranges and 1 metadata column:\n",
       "         seqnames            ranges strand |           phenotype_id\n",
       "            <Rle>         <IRanges>  <Rle> |            <character>\n",
       "     [1]     chr1     941307-942135      + | chr1:941306:942135:c..\n",
       "     [2]     chr1   2156093-2169517      + | chr1:2156092:2169517..\n",
       "     [3]     chr1   6448562-6448640      + | chr1:6448561:6448640..\n",
       "     [4]     chr1   6449092-6451602      + | chr1:6449091:6451602..\n",
       "     [5]     chr1   6580050-6580540      + | chr1:6580049:6580540..\n",
       "     ...      ...               ...    ... .                    ...\n",
       "  [2316]    chr22 50284666-50285799      - | chr22:50284665:50285..\n",
       "  [2317]    chr22 50526142-50526245      - | chr22:50526141:50526..\n",
       "  [2318]    chr22 50571293-50571374      - | chr22:50571292:50571..\n",
       "  [2319]    chr22 50571534-50572005      - | chr22:50571533:50572..\n",
       "  [2320]    chr22 50782348-50783500      - | chr22:50782347:50783..\n",
       "  -------\n",
       "  seqinfo: 22 sequences from an unspecified genome; no seqlengths"
      ]
     },
     "metadata": {},
     "output_type": "display_data"
    }
   ],
   "source": [
    "sqtl.gr %>% sort()\n"
   ]
  },
  {
   "cell_type": "code",
   "execution_count": 121,
   "metadata": {
    "vscode": {
     "languageId": "r"
    }
   },
   "outputs": [],
   "source": [
    "nom.gr <- nomDF[, .(pid, pchr, pstart, pend, pstrand)] %>% unique()\n",
    "nom.gr <- makeGRangesFromDataFrame(nom.gr,\n",
    "  keep.extra.columns = TRUE, seqnames.field = \"pchr\",\n",
    "  start.field = \"pstart\", end.field = \"pend\",\n",
    "  strand.field = \"pstrand\"\n",
    ")\n"
   ]
  },
  {
   "cell_type": "code",
   "execution_count": 124,
   "metadata": {
    "vscode": {
     "languageId": "r"
    }
   },
   "outputs": [
    {
     "data": {
      "text/plain": [
       "GRanges object with 2320 ranges and 1 metadata column:\n",
       "         seqnames            ranges strand |           phenotype_id\n",
       "            <Rle>         <IRanges>  <Rle> |            <character>\n",
       "     [1]     chr1     941307-942135      + | chr1:941306:942135:c..\n",
       "     [2]     chr1   2156093-2169517      + | chr1:2156092:2169517..\n",
       "     [3]     chr1   6448562-6448640      + | chr1:6448561:6448640..\n",
       "     [4]     chr1   6449092-6451602      + | chr1:6449091:6451602..\n",
       "     [5]     chr1   6580050-6580540      + | chr1:6580049:6580540..\n",
       "     ...      ...               ...    ... .                    ...\n",
       "  [2316]    chr22 50284666-50285799      - | chr22:50284665:50285..\n",
       "  [2317]    chr22 50526142-50526245      - | chr22:50526141:50526..\n",
       "  [2318]    chr22 50571293-50571374      - | chr22:50571292:50571..\n",
       "  [2319]    chr22 50571534-50572005      - | chr22:50571533:50572..\n",
       "  [2320]    chr22 50782348-50783500      - | chr22:50782347:50783..\n",
       "  -------\n",
       "  seqinfo: 22 sequences from an unspecified genome; no seqlengths"
      ]
     },
     "metadata": {},
     "output_type": "display_data"
    }
   ],
   "source": [
    "sort(sqtl.gr)\n"
   ]
  },
  {
   "cell_type": "code",
   "execution_count": 140,
   "metadata": {
    "vscode": {
     "languageId": "r"
    }
   },
   "outputs": [],
   "source": [
    "x <- GenomicRanges::distanceToNearest(sqtl.gr, nom.gr, select = \"arbitrary\", ignore.strand = TRUE)\n"
   ]
  },
  {
   "cell_type": "code",
   "execution_count": 141,
   "metadata": {
    "vscode": {
     "languageId": "r"
    }
   },
   "outputs": [
    {
     "data": {
      "text/plain": [
       "Hits object with 2320 hits and 1 metadata column:\n",
       "         queryHits subjectHits |  distance\n",
       "         <integer>   <integer> | <integer>\n",
       "     [1]         1          38 |      2067\n",
       "     [2]         2          31 |         0\n",
       "     [3]         3          31 |         0\n",
       "     [4]         4          22 |         0\n",
       "     [5]         5          15 |         0\n",
       "     ...       ...         ... .       ...\n",
       "  [2316]      2316       11556 |         0\n",
       "  [2317]      2317       11563 |         0\n",
       "  [2318]      2318       11558 |         0\n",
       "  [2319]      2319       11558 |         0\n",
       "  [2320]      2320       11560 |         0\n",
       "  -------\n",
       "  queryLength: 2320 / subjectLength: 11586"
      ]
     },
     "metadata": {},
     "output_type": "display_data"
    }
   ],
   "source": [
    "x\n"
   ]
  },
  {
   "cell_type": "code",
   "execution_count": 143,
   "metadata": {
    "vscode": {
     "languageId": "r"
    }
   },
   "outputs": [
    {
     "ename": "ERROR",
     "evalue": "Error in x$metadata: $ operator not defined for this S4 class\n",
     "output_type": "error",
     "traceback": [
      "Error in x$metadata: $ operator not defined for this S4 class\nTraceback:\n"
     ]
    }
   ],
   "source": [
    "x$metada\n"
   ]
  },
  {
   "cell_type": "code",
   "execution_count": null,
   "metadata": {
    "vscode": {
     "languageId": "r"
    }
   },
   "outputs": [],
   "source": []
  },
  {
   "cell_type": "code",
   "execution_count": 98,
   "metadata": {
    "vscode": {
     "languageId": "r"
    }
   },
   "outputs": [
    {
     "data": {
      "text/html": [
       "<table class=\"dataframe\">\n",
       "<caption>A data.table: 2 × 2</caption>\n",
       "<thead>\n",
       "\t<tr><th scope=col>ctype</th><th scope=col>Nclu</th></tr>\n",
       "\t<tr><th scope=col>&lt;chr&gt;</th><th scope=col>&lt;int&gt;</th></tr>\n",
       "</thead>\n",
       "<tbody>\n",
       "\t<tr><td>PR   </td><td>1313</td></tr>\n",
       "\t<tr><td>PR,UP</td><td>1007</td></tr>\n",
       "</tbody>\n",
       "</table>\n"
      ],
      "text/latex": [
       "A data.table: 2 × 2\n",
       "\\begin{tabular}{ll}\n",
       " ctype & Nclu\\\\\n",
       " <chr> & <int>\\\\\n",
       "\\hline\n",
       "\t PR    & 1313\\\\\n",
       "\t PR,UP & 1007\\\\\n",
       "\\end{tabular}\n"
      ],
      "text/markdown": [
       "\n",
       "A data.table: 2 × 2\n",
       "\n",
       "| ctype &lt;chr&gt; | Nclu &lt;int&gt; |\n",
       "|---|---|\n",
       "| PR    | 1313 |\n",
       "| PR,UP | 1007 |\n",
       "\n"
      ],
      "text/plain": [
       "  ctype Nclu\n",
       "1 PR    1313\n",
       "2 PR,UP 1007"
      ]
     },
     "metadata": {},
     "output_type": "display_data"
    },
    {
     "data": {
      "text/html": [
       "<table class=\"dataframe\">\n",
       "<caption>A data.table: 2 × 2</caption>\n",
       "<thead>\n",
       "\t<tr><th scope=col>qtl_type</th><th scope=col>Nclu</th></tr>\n",
       "\t<tr><th scope=col>&lt;chr&gt;</th><th scope=col>&lt;int&gt;</th></tr>\n",
       "</thead>\n",
       "<tbody>\n",
       "\t<tr><td>p-sQTL</td><td>1313</td></tr>\n",
       "\t<tr><td>u-sQTL</td><td>1007</td></tr>\n",
       "</tbody>\n",
       "</table>\n"
      ],
      "text/latex": [
       "A data.table: 2 × 2\n",
       "\\begin{tabular}{ll}\n",
       " qtl\\_type & Nclu\\\\\n",
       " <chr> & <int>\\\\\n",
       "\\hline\n",
       "\t p-sQTL & 1313\\\\\n",
       "\t u-sQTL & 1007\\\\\n",
       "\\end{tabular}\n"
      ],
      "text/markdown": [
       "\n",
       "A data.table: 2 × 2\n",
       "\n",
       "| qtl_type &lt;chr&gt; | Nclu &lt;int&gt; |\n",
       "|---|---|\n",
       "| p-sQTL | 1313 |\n",
       "| u-sQTL | 1007 |\n",
       "\n"
      ],
      "text/plain": [
       "  qtl_type Nclu\n",
       "1 p-sQTL   1313\n",
       "2 u-sQTL   1007"
      ]
     },
     "metadata": {},
     "output_type": "display_data"
    }
   ],
   "source": [
    "sqtl[, .(Nclu = uniqueN(clu)), by = .(ctype)]\n",
    "sqtl[, .(Nclu = uniqueN(clu)), by = .(qtl_type)]\n"
   ]
  },
  {
   "cell_type": "code",
   "execution_count": 443,
   "metadata": {
    "vscode": {
     "languageId": "r"
    }
   },
   "outputs": [],
   "source": [
    "cnts <- fread('../code/resources/GTEx/expression/Brain-Hypothalamus_gene_reads.tsv.gz')"
   ]
  },
  {
   "cell_type": "code",
   "execution_count": 444,
   "metadata": {
    "vscode": {
     "languageId": "r"
    }
   },
   "outputs": [
    {
     "data": {
      "text/html": [
       "<style>\n",
       ".list-inline {list-style: none; margin:0; padding: 0}\n",
       ".list-inline>li {display: inline-block}\n",
       ".list-inline>li:not(:last-child)::after {content: \"\\00b7\"; padding: 0 .5ex}\n",
       "</style>\n",
       "<ol class=list-inline><li>56200</li><li>204</li></ol>\n"
      ],
      "text/latex": [
       "\\begin{enumerate*}\n",
       "\\item 56200\n",
       "\\item 204\n",
       "\\end{enumerate*}\n"
      ],
      "text/markdown": [
       "1. 56200\n",
       "2. 204\n",
       "\n",
       "\n"
      ],
      "text/plain": [
       "[1] 56200   204"
      ]
     },
     "metadata": {},
     "output_type": "display_data"
    },
    {
     "data": {
      "text/html": [
       "<table class=\"dataframe\">\n",
       "<caption>A data.table: 5 × 204</caption>\n",
       "<thead>\n",
       "\t<tr><th scope=col>Name</th><th scope=col>Description</th><th scope=col>GTEX-1192X-0011-R8b-SM-DO11U</th><th scope=col>GTEX-11DXY-0011-R8a-SM-DO11M</th><th scope=col>GTEX-11DYG-0011-R8a-SM-DO93F</th><th scope=col>GTEX-11DZ1-0011-R8b-SM-DNZZI</th><th scope=col>GTEX-11EI6-0011-R8a-SM-DO93M</th><th scope=col>GTEX-11EMC-0011-R8b-SM-DO91Z</th><th scope=col>GTEX-11GSP-0011-R8b-SM-5NQ79</th><th scope=col>GTEX-11H98-0011-R8a-SM-5NQ8V</th><th scope=col>⋯</th><th scope=col>GTEX-YFC4-0011-R8a-SM-4SOK3</th><th scope=col>GTEX-YJ89-0011-R8b-SM-4SOK8</th><th scope=col>GTEX-Z93S-0011-R8a-SM-4RGNL</th><th scope=col>GTEX-ZAB4-0011-R8b-SM-4SOKF</th><th scope=col>GTEX-ZDXO-0011-R8a-SM-4WWD7</th><th scope=col>GTEX-ZF28-0011-R8a-SM-4WWFW</th><th scope=col>GTEX-ZUA1-0011-R8b-SM-51MST</th><th scope=col>GTEX-ZVT3-0011-R8b-SM-57WDJ</th><th scope=col>GTEX-ZVZQ-0011-R8a-SM-51MR5</th><th scope=col>GTEX-ZXG5-0011-R8a-SM-57WD1</th></tr>\n",
       "\t<tr><th scope=col>&lt;chr&gt;</th><th scope=col>&lt;chr&gt;</th><th scope=col>&lt;int&gt;</th><th scope=col>&lt;int&gt;</th><th scope=col>&lt;int&gt;</th><th scope=col>&lt;int&gt;</th><th scope=col>&lt;int&gt;</th><th scope=col>&lt;int&gt;</th><th scope=col>&lt;int&gt;</th><th scope=col>&lt;int&gt;</th><th scope=col>⋯</th><th scope=col>&lt;int&gt;</th><th scope=col>&lt;int&gt;</th><th scope=col>&lt;int&gt;</th><th scope=col>&lt;int&gt;</th><th scope=col>&lt;int&gt;</th><th scope=col>&lt;int&gt;</th><th scope=col>&lt;int&gt;</th><th scope=col>&lt;int&gt;</th><th scope=col>&lt;int&gt;</th><th scope=col>&lt;int&gt;</th></tr>\n",
       "</thead>\n",
       "<tbody>\n",
       "\t<tr><td>ENSG00000223972.5</td><td>DDX11L1    </td><td> 0</td><td> 0</td><td>  0</td><td> 0</td><td> 0</td><td> 0</td><td> 1</td><td> 0</td><td>⋯</td><td>  0</td><td>  0</td><td> 0</td><td>  0</td><td> 0</td><td> 0</td><td> 0</td><td> 0</td><td> 0</td><td>  1</td></tr>\n",
       "\t<tr><td>ENSG00000227232.5</td><td>WASH7P     </td><td>86</td><td>89</td><td>108</td><td>52</td><td>42</td><td>54</td><td>70</td><td>31</td><td>⋯</td><td>114</td><td>101</td><td>67</td><td>172</td><td>95</td><td>71</td><td>96</td><td>45</td><td>89</td><td>159</td></tr>\n",
       "\t<tr><td>ENSG00000278267.1</td><td>MIR6859-1  </td><td> 0</td><td> 0</td><td>  0</td><td> 0</td><td> 0</td><td> 0</td><td> 0</td><td> 0</td><td>⋯</td><td>  0</td><td>  0</td><td> 0</td><td>  0</td><td> 0</td><td> 0</td><td> 0</td><td> 0</td><td> 0</td><td>  0</td></tr>\n",
       "\t<tr><td>ENSG00000243485.5</td><td>MIR1302-2HG</td><td> 1</td><td> 2</td><td>  1</td><td> 0</td><td> 1</td><td> 0</td><td> 1</td><td> 1</td><td>⋯</td><td>  1</td><td>  0</td><td> 0</td><td>  0</td><td> 0</td><td> 0</td><td> 2</td><td> 5</td><td> 1</td><td>  2</td></tr>\n",
       "\t<tr><td>ENSG00000237613.2</td><td>FAM138A    </td><td> 1</td><td> 0</td><td>  1</td><td> 0</td><td> 0</td><td> 0</td><td> 1</td><td> 0</td><td>⋯</td><td>  0</td><td>  1</td><td> 0</td><td>  0</td><td> 0</td><td> 0</td><td> 0</td><td> 0</td><td> 0</td><td>  3</td></tr>\n",
       "</tbody>\n",
       "</table>\n"
      ],
      "text/latex": [
       "A data.table: 5 × 204\n",
       "\\begin{tabular}{lllllllllllllllllllll}\n",
       " Name & Description & GTEX-1192X-0011-R8b-SM-DO11U & GTEX-11DXY-0011-R8a-SM-DO11M & GTEX-11DYG-0011-R8a-SM-DO93F & GTEX-11DZ1-0011-R8b-SM-DNZZI & GTEX-11EI6-0011-R8a-SM-DO93M & GTEX-11EMC-0011-R8b-SM-DO91Z & GTEX-11GSP-0011-R8b-SM-5NQ79 & GTEX-11H98-0011-R8a-SM-5NQ8V & ⋯ & GTEX-YFC4-0011-R8a-SM-4SOK3 & GTEX-YJ89-0011-R8b-SM-4SOK8 & GTEX-Z93S-0011-R8a-SM-4RGNL & GTEX-ZAB4-0011-R8b-SM-4SOKF & GTEX-ZDXO-0011-R8a-SM-4WWD7 & GTEX-ZF28-0011-R8a-SM-4WWFW & GTEX-ZUA1-0011-R8b-SM-51MST & GTEX-ZVT3-0011-R8b-SM-57WDJ & GTEX-ZVZQ-0011-R8a-SM-51MR5 & GTEX-ZXG5-0011-R8a-SM-57WD1\\\\\n",
       " <chr> & <chr> & <int> & <int> & <int> & <int> & <int> & <int> & <int> & <int> & ⋯ & <int> & <int> & <int> & <int> & <int> & <int> & <int> & <int> & <int> & <int>\\\\\n",
       "\\hline\n",
       "\t ENSG00000223972.5 & DDX11L1     &  0 &  0 &   0 &  0 &  0 &  0 &  1 &  0 & ⋯ &   0 &   0 &  0 &   0 &  0 &  0 &  0 &  0 &  0 &   1\\\\\n",
       "\t ENSG00000227232.5 & WASH7P      & 86 & 89 & 108 & 52 & 42 & 54 & 70 & 31 & ⋯ & 114 & 101 & 67 & 172 & 95 & 71 & 96 & 45 & 89 & 159\\\\\n",
       "\t ENSG00000278267.1 & MIR6859-1   &  0 &  0 &   0 &  0 &  0 &  0 &  0 &  0 & ⋯ &   0 &   0 &  0 &   0 &  0 &  0 &  0 &  0 &  0 &   0\\\\\n",
       "\t ENSG00000243485.5 & MIR1302-2HG &  1 &  2 &   1 &  0 &  1 &  0 &  1 &  1 & ⋯ &   1 &   0 &  0 &   0 &  0 &  0 &  2 &  5 &  1 &   2\\\\\n",
       "\t ENSG00000237613.2 & FAM138A     &  1 &  0 &   1 &  0 &  0 &  0 &  1 &  0 & ⋯ &   0 &   1 &  0 &   0 &  0 &  0 &  0 &  0 &  0 &   3\\\\\n",
       "\\end{tabular}\n"
      ],
      "text/markdown": [
       "\n",
       "A data.table: 5 × 204\n",
       "\n",
       "| Name &lt;chr&gt; | Description &lt;chr&gt; | GTEX-1192X-0011-R8b-SM-DO11U &lt;int&gt; | GTEX-11DXY-0011-R8a-SM-DO11M &lt;int&gt; | GTEX-11DYG-0011-R8a-SM-DO93F &lt;int&gt; | GTEX-11DZ1-0011-R8b-SM-DNZZI &lt;int&gt; | GTEX-11EI6-0011-R8a-SM-DO93M &lt;int&gt; | GTEX-11EMC-0011-R8b-SM-DO91Z &lt;int&gt; | GTEX-11GSP-0011-R8b-SM-5NQ79 &lt;int&gt; | GTEX-11H98-0011-R8a-SM-5NQ8V &lt;int&gt; | ⋯ ⋯ | GTEX-YFC4-0011-R8a-SM-4SOK3 &lt;int&gt; | GTEX-YJ89-0011-R8b-SM-4SOK8 &lt;int&gt; | GTEX-Z93S-0011-R8a-SM-4RGNL &lt;int&gt; | GTEX-ZAB4-0011-R8b-SM-4SOKF &lt;int&gt; | GTEX-ZDXO-0011-R8a-SM-4WWD7 &lt;int&gt; | GTEX-ZF28-0011-R8a-SM-4WWFW &lt;int&gt; | GTEX-ZUA1-0011-R8b-SM-51MST &lt;int&gt; | GTEX-ZVT3-0011-R8b-SM-57WDJ &lt;int&gt; | GTEX-ZVZQ-0011-R8a-SM-51MR5 &lt;int&gt; | GTEX-ZXG5-0011-R8a-SM-57WD1 &lt;int&gt; |\n",
       "|---|---|---|---|---|---|---|---|---|---|---|---|---|---|---|---|---|---|---|---|---|\n",
       "| ENSG00000223972.5 | DDX11L1     |  0 |  0 |   0 |  0 |  0 |  0 |  1 |  0 | ⋯ |   0 |   0 |  0 |   0 |  0 |  0 |  0 |  0 |  0 |   1 |\n",
       "| ENSG00000227232.5 | WASH7P      | 86 | 89 | 108 | 52 | 42 | 54 | 70 | 31 | ⋯ | 114 | 101 | 67 | 172 | 95 | 71 | 96 | 45 | 89 | 159 |\n",
       "| ENSG00000278267.1 | MIR6859-1   |  0 |  0 |   0 |  0 |  0 |  0 |  0 |  0 | ⋯ |   0 |   0 |  0 |   0 |  0 |  0 |  0 |  0 |  0 |   0 |\n",
       "| ENSG00000243485.5 | MIR1302-2HG |  1 |  2 |   1 |  0 |  1 |  0 |  1 |  1 | ⋯ |   1 |   0 |  0 |   0 |  0 |  0 |  2 |  5 |  1 |   2 |\n",
       "| ENSG00000237613.2 | FAM138A     |  1 |  0 |   1 |  0 |  0 |  0 |  1 |  0 | ⋯ |   0 |   1 |  0 |   0 |  0 |  0 |  0 |  0 |  0 |   3 |\n",
       "\n"
      ],
      "text/plain": [
       "  Name              Description GTEX-1192X-0011-R8b-SM-DO11U\n",
       "1 ENSG00000223972.5 DDX11L1      0                          \n",
       "2 ENSG00000227232.5 WASH7P      86                          \n",
       "3 ENSG00000278267.1 MIR6859-1    0                          \n",
       "4 ENSG00000243485.5 MIR1302-2HG  1                          \n",
       "5 ENSG00000237613.2 FAM138A      1                          \n",
       "  GTEX-11DXY-0011-R8a-SM-DO11M GTEX-11DYG-0011-R8a-SM-DO93F\n",
       "1  0                             0                         \n",
       "2 89                           108                         \n",
       "3  0                             0                         \n",
       "4  2                             1                         \n",
       "5  0                             1                         \n",
       "  GTEX-11DZ1-0011-R8b-SM-DNZZI GTEX-11EI6-0011-R8a-SM-DO93M\n",
       "1  0                            0                          \n",
       "2 52                           42                          \n",
       "3  0                            0                          \n",
       "4  0                            1                          \n",
       "5  0                            0                          \n",
       "  GTEX-11EMC-0011-R8b-SM-DO91Z GTEX-11GSP-0011-R8b-SM-5NQ79\n",
       "1  0                            1                          \n",
       "2 54                           70                          \n",
       "3  0                            0                          \n",
       "4  0                            1                          \n",
       "5  0                            1                          \n",
       "  GTEX-11H98-0011-R8a-SM-5NQ8V ⋯ GTEX-YFC4-0011-R8a-SM-4SOK3\n",
       "1  0                           ⋯   0                        \n",
       "2 31                           ⋯ 114                        \n",
       "3  0                           ⋯   0                        \n",
       "4  1                           ⋯   1                        \n",
       "5  0                           ⋯   0                        \n",
       "  GTEX-YJ89-0011-R8b-SM-4SOK8 GTEX-Z93S-0011-R8a-SM-4RGNL\n",
       "1   0                          0                         \n",
       "2 101                         67                         \n",
       "3   0                          0                         \n",
       "4   0                          0                         \n",
       "5   1                          0                         \n",
       "  GTEX-ZAB4-0011-R8b-SM-4SOKF GTEX-ZDXO-0011-R8a-SM-4WWD7\n",
       "1   0                          0                         \n",
       "2 172                         95                         \n",
       "3   0                          0                         \n",
       "4   0                          0                         \n",
       "5   0                          0                         \n",
       "  GTEX-ZF28-0011-R8a-SM-4WWFW GTEX-ZUA1-0011-R8b-SM-51MST\n",
       "1  0                           0                         \n",
       "2 71                          96                         \n",
       "3  0                           0                         \n",
       "4  0                           2                         \n",
       "5  0                           0                         \n",
       "  GTEX-ZVT3-0011-R8b-SM-57WDJ GTEX-ZVZQ-0011-R8a-SM-51MR5\n",
       "1  0                           0                         \n",
       "2 45                          89                         \n",
       "3  0                           0                         \n",
       "4  5                           1                         \n",
       "5  0                           0                         \n",
       "  GTEX-ZXG5-0011-R8a-SM-57WD1\n",
       "1   1                        \n",
       "2 159                        \n",
       "3   0                        \n",
       "4   2                        \n",
       "5   3                        "
      ]
     },
     "metadata": {},
     "output_type": "display_data"
    }
   ],
   "source": [
    "dim(cnts)\n",
    "cnts[1:5]"
   ]
  },
  {
   "cell_type": "code",
   "execution_count": 448,
   "metadata": {
    "vscode": {
     "languageId": "r"
    }
   },
   "outputs": [
    {
     "data": {
      "text/html": [
       "<style>\n",
       ".list-inline {list-style: none; margin:0; padding: 0}\n",
       ".list-inline>li {display: inline-block}\n",
       ".list-inline>li:not(:last-child)::after {content: \"\\00b7\"; padding: 0 .5ex}\n",
       "</style>\n",
       "<ol class=list-inline><li>'Name'</li><li>'Description'</li><li>'GTEX-1192X-0011-R8b-SM-DO11U'</li><li>'GTEX-11DXY-0011-R8a-SM-DO11M'</li><li>'GTEX-11DYG-0011-R8a-SM-DO93F'</li><li>'GTEX-11DZ1-0011-R8b-SM-DNZZI'</li><li>'GTEX-11EI6-0011-R8a-SM-DO93M'</li><li>'GTEX-11EMC-0011-R8b-SM-DO91Z'</li><li>'GTEX-11GSP-0011-R8b-SM-5NQ79'</li><li>'GTEX-11H98-0011-R8a-SM-5NQ8V'</li></ol>\n"
      ],
      "text/latex": [
       "\\begin{enumerate*}\n",
       "\\item 'Name'\n",
       "\\item 'Description'\n",
       "\\item 'GTEX-1192X-0011-R8b-SM-DO11U'\n",
       "\\item 'GTEX-11DXY-0011-R8a-SM-DO11M'\n",
       "\\item 'GTEX-11DYG-0011-R8a-SM-DO93F'\n",
       "\\item 'GTEX-11DZ1-0011-R8b-SM-DNZZI'\n",
       "\\item 'GTEX-11EI6-0011-R8a-SM-DO93M'\n",
       "\\item 'GTEX-11EMC-0011-R8b-SM-DO91Z'\n",
       "\\item 'GTEX-11GSP-0011-R8b-SM-5NQ79'\n",
       "\\item 'GTEX-11H98-0011-R8a-SM-5NQ8V'\n",
       "\\end{enumerate*}\n"
      ],
      "text/markdown": [
       "1. 'Name'\n",
       "2. 'Description'\n",
       "3. 'GTEX-1192X-0011-R8b-SM-DO11U'\n",
       "4. 'GTEX-11DXY-0011-R8a-SM-DO11M'\n",
       "5. 'GTEX-11DYG-0011-R8a-SM-DO93F'\n",
       "6. 'GTEX-11DZ1-0011-R8b-SM-DNZZI'\n",
       "7. 'GTEX-11EI6-0011-R8a-SM-DO93M'\n",
       "8. 'GTEX-11EMC-0011-R8b-SM-DO91Z'\n",
       "9. 'GTEX-11GSP-0011-R8b-SM-5NQ79'\n",
       "10. 'GTEX-11H98-0011-R8a-SM-5NQ8V'\n",
       "\n",
       "\n"
      ],
      "text/plain": [
       " [1] \"Name\"                         \"Description\"                 \n",
       " [3] \"GTEX-1192X-0011-R8b-SM-DO11U\" \"GTEX-11DXY-0011-R8a-SM-DO11M\"\n",
       " [5] \"GTEX-11DYG-0011-R8a-SM-DO93F\" \"GTEX-11DZ1-0011-R8b-SM-DNZZI\"\n",
       " [7] \"GTEX-11EI6-0011-R8a-SM-DO93M\" \"GTEX-11EMC-0011-R8b-SM-DO91Z\"\n",
       " [9] \"GTEX-11GSP-0011-R8b-SM-5NQ79\" \"GTEX-11H98-0011-R8a-SM-5NQ8V\""
      ]
     },
     "metadata": {},
     "output_type": "display_data"
    }
   ],
   "source": [
    "colnames(cnts) %>% head(10)"
   ]
  },
  {
   "cell_type": "code",
   "execution_count": 449,
   "metadata": {
    "vscode": {
     "languageId": "r"
    }
   },
   "outputs": [
    {
     "data": {
      "text/html": [
       "<style>\n",
       ".list-inline {list-style: none; margin:0; padding: 0}\n",
       ".list-inline>li {display: inline-block}\n",
       ".list-inline>li:not(:last-child)::after {content: \"\\00b7\"; padding: 0 .5ex}\n",
       "</style>\n",
       "<ol class=list-inline><li>'Name'</li><li>'Description'</li><li>'GTEX-1192X-DO11U'</li><li>'GTEX-11DXY-DO11M'</li><li>'GTEX-11DYG-DO93F'</li><li>'GTEX-11DZ1-DNZZI'</li><li>'GTEX-11EI6-DO93M'</li><li>'GTEX-11EMC-DO91Z'</li><li>'GTEX-11GSP-5NQ79'</li><li>'GTEX-11H98-5NQ8V'</li></ol>\n"
      ],
      "text/latex": [
       "\\begin{enumerate*}\n",
       "\\item 'Name'\n",
       "\\item 'Description'\n",
       "\\item 'GTEX-1192X-DO11U'\n",
       "\\item 'GTEX-11DXY-DO11M'\n",
       "\\item 'GTEX-11DYG-DO93F'\n",
       "\\item 'GTEX-11DZ1-DNZZI'\n",
       "\\item 'GTEX-11EI6-DO93M'\n",
       "\\item 'GTEX-11EMC-DO91Z'\n",
       "\\item 'GTEX-11GSP-5NQ79'\n",
       "\\item 'GTEX-11H98-5NQ8V'\n",
       "\\end{enumerate*}\n"
      ],
      "text/markdown": [
       "1. 'Name'\n",
       "2. 'Description'\n",
       "3. 'GTEX-1192X-DO11U'\n",
       "4. 'GTEX-11DXY-DO11M'\n",
       "5. 'GTEX-11DYG-DO93F'\n",
       "6. 'GTEX-11DZ1-DNZZI'\n",
       "7. 'GTEX-11EI6-DO93M'\n",
       "8. 'GTEX-11EMC-DO91Z'\n",
       "9. 'GTEX-11GSP-5NQ79'\n",
       "10. 'GTEX-11H98-5NQ8V'\n",
       "\n",
       "\n"
      ],
      "text/plain": [
       " [1] \"Name\"             \"Description\"      \"GTEX-1192X-DO11U\" \"GTEX-11DXY-DO11M\"\n",
       " [5] \"GTEX-11DYG-DO93F\" \"GTEX-11DZ1-DNZZI\" \"GTEX-11EI6-DO93M\" \"GTEX-11EMC-DO91Z\"\n",
       " [9] \"GTEX-11GSP-5NQ79\" \"GTEX-11H98-5NQ8V\""
      ]
     },
     "metadata": {},
     "output_type": "display_data"
    }
   ],
   "source": [
    "colnames(cnts) %>% head(10) %>% \n",
    "gsub(\"-(\\\\w+)-(\\\\w+)-(\\\\w+)-(\\\\w+)\", \"-\\\\1\", .)"
   ]
  },
  {
   "cell_type": "code",
   "execution_count": 1,
   "metadata": {
    "vscode": {
     "languageId": "r"
    }
   },
   "outputs": [
    {
     "ename": "ERROR",
     "evalue": "Error in colnames(cnts) %>% str_extract(\"Name|Description|GTEX\\\\-[\\\\w\\\\d]+\"): could not find function \"%>%\"\n",
     "output_type": "error",
     "traceback": [
      "Error in colnames(cnts) %>% str_extract(\"Name|Description|GTEX\\\\-[\\\\w\\\\d]+\"): could not find function \"%>%\"\nTraceback:\n"
     ]
    }
   ],
   "source": [
    "colnames(cnts) %>% \n",
    "str_extract(\"Name|Description|GTEX\\\\-[\\\\w\\\\d]+\")"
   ]
  },
  {
   "cell_type": "code",
   "execution_count": null,
   "metadata": {
    "vscode": {
     "languageId": "r"
    }
   },
   "outputs": [],
   "source": []
  },
  {
   "cell_type": "code",
   "execution_count": null,
   "metadata": {
    "vscode": {
     "languageId": "r"
    }
   },
   "outputs": [],
   "source": []
  },
  {
   "cell_type": "code",
   "execution_count": null,
   "metadata": {
    "vscode": {
     "languageId": "r"
    }
   },
   "outputs": [],
   "source": []
  }
 ],
 "metadata": {
  "kernelspec": {
   "display_name": "R",
   "language": "R",
   "name": "ir"
  },
  "language_info": {
   "codemirror_mode": "r",
   "file_extension": ".r",
   "mimetype": "text/x-r-source",
   "name": "R",
   "pygments_lexer": "r",
   "version": "4.3.1"
  }
 },
 "nbformat": 4,
 "nbformat_minor": 2
}
