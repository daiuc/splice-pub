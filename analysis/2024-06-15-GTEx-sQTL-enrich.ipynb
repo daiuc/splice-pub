{
 "cells": [
  {
   "cell_type": "raw",
   "metadata": {
    "vscode": {
     "languageId": "raw"
    }
   },
   "source": [
    "---\n",
    "title: GTEx sQTL enrichment analysis\n",
    "date: 2024-6-15\n",
    "categories: ['qtl']\n",
    "code-fold: true\n",
    "\n",
    "---"
   ]
  },
  {
   "cell_type": "code",
   "execution_count": 1,
   "metadata": {
    "vscode": {
     "languageId": "r"
    }
   },
   "outputs": [],
   "source": [
    "#| tabs: [parameters]\n",
    "\n",
    "FDR <- 0.1\n"
   ]
  },
  {
   "cell_type": "code",
   "execution_count": 2,
   "metadata": {
    "vscode": {
     "languageId": "r"
    }
   },
   "outputs": [],
   "source": [
    "setwd(\"/project/yangili1/cdai/splice-pub/analysis\")\n"
   ]
  },
  {
   "cell_type": "code",
   "execution_count": 104,
   "metadata": {
    "vscode": {
     "languageId": "r"
    }
   },
   "outputs": [],
   "source": [
    "#| label: setup\n",
    "#| include: false\n",
    "\n",
    "library(tidyverse)\n",
    "library(data.table)\n",
    "library(glue)\n",
    "\n",
    "library(cowplot)\n",
    "\n",
    "\n",
    "library(GenomicRanges)\n",
    "library(bedtoolsr)\n"
   ]
  },
  {
   "cell_type": "code",
   "execution_count": 289,
   "metadata": {
    "vscode": {
     "languageId": "r"
    }
   },
   "outputs": [],
   "source": [
    "multiqq <- function(pvalues, flipY = FALSE) {\n",
    "  library(foreach)\n",
    "  if (is.null(names(pvalues))) {\n",
    "    names(pvalues) <- seq_along(pvalues)\n",
    "  }\n",
    "  punif <- -log10(runif(max(sapply(pvalues, length))))\n",
    "  df <- do.call(rbind, foreach(i = seq_len(length(pvalues))) %do% {\n",
    "    df <- as.data.frame(\n",
    "      qqplot(\n",
    "        x = punif[1:length(pvalues[[i]])],\n",
    "        y = -log10(pvalues[[i]]),\n",
    "        plot.it = FALSE\n",
    "      )\n",
    "    )\n",
    "    df$group <- names(pvalues)[i]\n",
    "    df\n",
    "  })\n",
    "\n",
    "  if (flipY) {\n",
    "    df$y <- -df$y\n",
    "  }\n",
    "\n",
    "  df$group <- factor(df$group, names(pvalues))\n",
    "  ggplot(df, aes(x, y, col = group)) +\n",
    "    geom_point() +\n",
    "    geom_abline(\n",
    "      intercept = 0,\n",
    "      slope = 1\n",
    "    ) +\n",
    "    xlab(\"Expected -log10(p)\") +\n",
    "    ylab(\"Observed -log10(p)\")\n",
    "}\n"
   ]
  },
  {
   "cell_type": "code",
   "execution_count": 5,
   "metadata": {
    "vscode": {
     "languageId": "r"
    }
   },
   "outputs": [],
   "source": [
    "addLabels <- function(dt) {\n",
    "  pid_split <- str_split(dt$phenotype_id, \":\")\n",
    "  dt$itype <- map_chr(pid_split, ~ .x[5])\n",
    "  dt$clu <- map_chr(pid_split, ~ .x[4])\n",
    "  dt$clu <- str_extract(dt$clu, \"clu_[0-9]+\")\n",
    "\n",
    "  dt <- dt[, ctype := paste(sort(unique(itype)), collapse = \",\"), by = clu][]\n",
    "  return(dt)\n",
    "}\n"
   ]
  },
  {
   "cell_type": "code",
   "execution_count": 195,
   "metadata": {
    "vscode": {
     "languageId": "r"
    }
   },
   "outputs": [],
   "source": [
    "tissue <- \"Kidney-Cortex\"\n"
   ]
  },
  {
   "cell_type": "code",
   "execution_count": 196,
   "metadata": {
    "vscode": {
     "languageId": "r"
    }
   },
   "outputs": [
    {
     "data": {
      "text/html": [
       "'Kidney-Cortex'"
      ],
      "text/latex": [
       "'Kidney-Cortex'"
      ],
      "text/markdown": [
       "'Kidney-Cortex'"
      ],
      "text/plain": [
       "[1] \"Kidney-Cortex\""
      ]
     },
     "metadata": {},
     "output_type": "display_data"
    }
   ],
   "source": [
    "tissue\n"
   ]
  },
  {
   "cell_type": "code",
   "execution_count": 197,
   "metadata": {
    "vscode": {
     "languageId": "r"
    }
   },
   "outputs": [],
   "source": [
    "readGTExSQTL <- function(tissue) {\n",
    "  base1.gtex <- \"../code/results/qtl/noisy/GTEx/\"\n",
    "  base2.gtex <- \"/cis_100000/perm\"\n",
    "  suffix <- \"addQval.txt.gz\"\n",
    "  folder <- glue(\"{base1.gtex}/{tissue}/separateNoise{base2.gtex}\")\n",
    "  files <- glue(\"{folder}/chr{1:22}.{suffix}\")\n",
    "  dt <- map_dfr(files, fread)\n",
    "}\n"
   ]
  },
  {
   "cell_type": "code",
   "execution_count": 198,
   "metadata": {
    "vscode": {
     "languageId": "r"
    }
   },
   "outputs": [],
   "source": [
    "permDF <- readGTExSQTL(tissue) %>%\n",
    "  addLabels()\n"
   ]
  },
  {
   "cell_type": "code",
   "execution_count": 199,
   "metadata": {
    "vscode": {
     "languageId": "r"
    }
   },
   "outputs": [
    {
     "data": {
      "text/html": [
       "<table class=\"dataframe\">\n",
       "<caption>A data.table: 5 × 24</caption>\n",
       "<thead>\n",
       "\t<tr><th scope=col>phenotype_id</th><th scope=col>phenotype_chr</th><th scope=col>phenotype_start</th><th scope=col>phenotype_end</th><th scope=col>phenotype_strand</th><th scope=col>num_variants</th><th scope=col>best_nom_dist</th><th scope=col>best_genotype_id</th><th scope=col>best_genotype_chr</th><th scope=col>best_genotype_start</th><th scope=col>⋯</th><th scope=col>beta_ml2</th><th scope=col>pval_nom</th><th scope=col>pval_r2</th><th scope=col>slope</th><th scope=col>pval_emp</th><th scope=col>pval_adj</th><th scope=col>q</th><th scope=col>itype</th><th scope=col>clu</th><th scope=col>ctype</th></tr>\n",
       "\t<tr><th scope=col>&lt;chr&gt;</th><th scope=col>&lt;chr&gt;</th><th scope=col>&lt;int&gt;</th><th scope=col>&lt;int&gt;</th><th scope=col>&lt;chr&gt;</th><th scope=col>&lt;int&gt;</th><th scope=col>&lt;int&gt;</th><th scope=col>&lt;chr&gt;</th><th scope=col>&lt;chr&gt;</th><th scope=col>&lt;int&gt;</th><th scope=col>⋯</th><th scope=col>&lt;dbl&gt;</th><th scope=col>&lt;dbl&gt;</th><th scope=col>&lt;dbl&gt;</th><th scope=col>&lt;dbl&gt;</th><th scope=col>&lt;dbl&gt;</th><th scope=col>&lt;dbl&gt;</th><th scope=col>&lt;dbl&gt;</th><th scope=col>&lt;chr&gt;</th><th scope=col>&lt;chr&gt;</th><th scope=col>&lt;chr&gt;</th></tr>\n",
       "</thead>\n",
       "<tbody>\n",
       "\t<tr><td>chr1:168165:168609:clu_1788_-:IN</td><td>chr1</td><td>168166</td><td>168609</td><td>-</td><td>15</td><td> 33126</td><td>chr1_135040_T_C_b38  </td><td>chr1</td><td>135040</td><td>⋯</td><td>7.13806</td><td>0.119357</td><td>0.0338209</td><td> 0.359104</td><td>0.623377</td><td>0.633855</td><td>0.99914</td><td>IN</td><td>clu_1788</td><td>IN</td></tr>\n",
       "\t<tr><td>chr1:259025:261549:clu_1789_-:IN</td><td>chr1</td><td>259026</td><td>261549</td><td>-</td><td> 5</td><td> -2173</td><td>chr1_263722_C_G_b38  </td><td>chr1</td><td>263722</td><td>⋯</td><td>5.42814</td><td>0.264182</td><td>0.0175277</td><td>-0.202326</td><td>0.787213</td><td>0.793556</td><td>0.99914</td><td>IN</td><td>clu_1789</td><td>IN</td></tr>\n",
       "\t<tr><td>chr1:259025:267302:clu_1789_-:IN</td><td>chr1</td><td>259026</td><td>267302</td><td>-</td><td> 5</td><td> 77361</td><td>chr1_181665_A_ATC_b38</td><td>chr1</td><td>181665</td><td>⋯</td><td>4.70813</td><td>0.152596</td><td>0.0286044</td><td> 0.620455</td><td>0.542458</td><td>0.554457</td><td>0.99914</td><td>IN</td><td>clu_1789</td><td>IN</td></tr>\n",
       "\t<tr><td>chr1:261634:267302:clu_1789_-:IN</td><td>chr1</td><td>261635</td><td>267302</td><td>-</td><td> 5</td><td>-18084</td><td>chr1_285386_T_G_b38  </td><td>chr1</td><td>285386</td><td>⋯</td><td>4.81805</td><td>0.103228</td><td>0.0369569</td><td> 0.487364</td><td>0.452547</td><td>0.453207</td><td>0.99439</td><td>IN</td><td>clu_1789</td><td>IN</td></tr>\n",
       "\t<tr><td>chr1:497299:498046:clu_1791_-:IN</td><td>chr1</td><td>497300</td><td>498046</td><td>-</td><td> 2</td><td>-93414</td><td>chr1_591460_T_C_b38  </td><td>chr1</td><td>591460</td><td>⋯</td><td>1.91401</td><td>0.104412</td><td>0.0367092</td><td> 0.482783</td><td>0.210789</td><td>0.209782</td><td>0.91628</td><td>IN</td><td>clu_1791</td><td>IN</td></tr>\n",
       "</tbody>\n",
       "</table>\n"
      ],
      "text/latex": [
       "A data.table: 5 × 24\n",
       "\\begin{tabular}{lllllllllllllllllllll}\n",
       " phenotype\\_id & phenotype\\_chr & phenotype\\_start & phenotype\\_end & phenotype\\_strand & num\\_variants & best\\_nom\\_dist & best\\_genotype\\_id & best\\_genotype\\_chr & best\\_genotype\\_start & ⋯ & beta\\_ml2 & pval\\_nom & pval\\_r2 & slope & pval\\_emp & pval\\_adj & q & itype & clu & ctype\\\\\n",
       " <chr> & <chr> & <int> & <int> & <chr> & <int> & <int> & <chr> & <chr> & <int> & ⋯ & <dbl> & <dbl> & <dbl> & <dbl> & <dbl> & <dbl> & <dbl> & <chr> & <chr> & <chr>\\\\\n",
       "\\hline\n",
       "\t chr1:168165:168609:clu\\_1788\\_-:IN & chr1 & 168166 & 168609 & - & 15 &  33126 & chr1\\_135040\\_T\\_C\\_b38   & chr1 & 135040 & ⋯ & 7.13806 & 0.119357 & 0.0338209 &  0.359104 & 0.623377 & 0.633855 & 0.99914 & IN & clu\\_1788 & IN\\\\\n",
       "\t chr1:259025:261549:clu\\_1789\\_-:IN & chr1 & 259026 & 261549 & - &  5 &  -2173 & chr1\\_263722\\_C\\_G\\_b38   & chr1 & 263722 & ⋯ & 5.42814 & 0.264182 & 0.0175277 & -0.202326 & 0.787213 & 0.793556 & 0.99914 & IN & clu\\_1789 & IN\\\\\n",
       "\t chr1:259025:267302:clu\\_1789\\_-:IN & chr1 & 259026 & 267302 & - &  5 &  77361 & chr1\\_181665\\_A\\_ATC\\_b38 & chr1 & 181665 & ⋯ & 4.70813 & 0.152596 & 0.0286044 &  0.620455 & 0.542458 & 0.554457 & 0.99914 & IN & clu\\_1789 & IN\\\\\n",
       "\t chr1:261634:267302:clu\\_1789\\_-:IN & chr1 & 261635 & 267302 & - &  5 & -18084 & chr1\\_285386\\_T\\_G\\_b38   & chr1 & 285386 & ⋯ & 4.81805 & 0.103228 & 0.0369569 &  0.487364 & 0.452547 & 0.453207 & 0.99439 & IN & clu\\_1789 & IN\\\\\n",
       "\t chr1:497299:498046:clu\\_1791\\_-:IN & chr1 & 497300 & 498046 & - &  2 & -93414 & chr1\\_591460\\_T\\_C\\_b38   & chr1 & 591460 & ⋯ & 1.91401 & 0.104412 & 0.0367092 &  0.482783 & 0.210789 & 0.209782 & 0.91628 & IN & clu\\_1791 & IN\\\\\n",
       "\\end{tabular}\n"
      ],
      "text/markdown": [
       "\n",
       "A data.table: 5 × 24\n",
       "\n",
       "| phenotype_id &lt;chr&gt; | phenotype_chr &lt;chr&gt; | phenotype_start &lt;int&gt; | phenotype_end &lt;int&gt; | phenotype_strand &lt;chr&gt; | num_variants &lt;int&gt; | best_nom_dist &lt;int&gt; | best_genotype_id &lt;chr&gt; | best_genotype_chr &lt;chr&gt; | best_genotype_start &lt;int&gt; | ⋯ ⋯ | beta_ml2 &lt;dbl&gt; | pval_nom &lt;dbl&gt; | pval_r2 &lt;dbl&gt; | slope &lt;dbl&gt; | pval_emp &lt;dbl&gt; | pval_adj &lt;dbl&gt; | q &lt;dbl&gt; | itype &lt;chr&gt; | clu &lt;chr&gt; | ctype &lt;chr&gt; |\n",
       "|---|---|---|---|---|---|---|---|---|---|---|---|---|---|---|---|---|---|---|---|---|\n",
       "| chr1:168165:168609:clu_1788_-:IN | chr1 | 168166 | 168609 | - | 15 |  33126 | chr1_135040_T_C_b38   | chr1 | 135040 | ⋯ | 7.13806 | 0.119357 | 0.0338209 |  0.359104 | 0.623377 | 0.633855 | 0.99914 | IN | clu_1788 | IN |\n",
       "| chr1:259025:261549:clu_1789_-:IN | chr1 | 259026 | 261549 | - |  5 |  -2173 | chr1_263722_C_G_b38   | chr1 | 263722 | ⋯ | 5.42814 | 0.264182 | 0.0175277 | -0.202326 | 0.787213 | 0.793556 | 0.99914 | IN | clu_1789 | IN |\n",
       "| chr1:259025:267302:clu_1789_-:IN | chr1 | 259026 | 267302 | - |  5 |  77361 | chr1_181665_A_ATC_b38 | chr1 | 181665 | ⋯ | 4.70813 | 0.152596 | 0.0286044 |  0.620455 | 0.542458 | 0.554457 | 0.99914 | IN | clu_1789 | IN |\n",
       "| chr1:261634:267302:clu_1789_-:IN | chr1 | 261635 | 267302 | - |  5 | -18084 | chr1_285386_T_G_b38   | chr1 | 285386 | ⋯ | 4.81805 | 0.103228 | 0.0369569 |  0.487364 | 0.452547 | 0.453207 | 0.99439 | IN | clu_1789 | IN |\n",
       "| chr1:497299:498046:clu_1791_-:IN | chr1 | 497300 | 498046 | - |  2 | -93414 | chr1_591460_T_C_b38   | chr1 | 591460 | ⋯ | 1.91401 | 0.104412 | 0.0367092 |  0.482783 | 0.210789 | 0.209782 | 0.91628 | IN | clu_1791 | IN |\n",
       "\n"
      ],
      "text/plain": [
       "  phenotype_id                     phenotype_chr phenotype_start phenotype_end\n",
       "1 chr1:168165:168609:clu_1788_-:IN chr1          168166          168609       \n",
       "2 chr1:259025:261549:clu_1789_-:IN chr1          259026          261549       \n",
       "3 chr1:259025:267302:clu_1789_-:IN chr1          259026          267302       \n",
       "4 chr1:261634:267302:clu_1789_-:IN chr1          261635          267302       \n",
       "5 chr1:497299:498046:clu_1791_-:IN chr1          497300          498046       \n",
       "  phenotype_strand num_variants best_nom_dist best_genotype_id     \n",
       "1 -                15            33126        chr1_135040_T_C_b38  \n",
       "2 -                 5            -2173        chr1_263722_C_G_b38  \n",
       "3 -                 5            77361        chr1_181665_A_ATC_b38\n",
       "4 -                 5           -18084        chr1_285386_T_G_b38  \n",
       "5 -                 2           -93414        chr1_591460_T_C_b38  \n",
       "  best_genotype_chr best_genotype_start ⋯ beta_ml2 pval_nom pval_r2   slope    \n",
       "1 chr1              135040              ⋯ 7.13806  0.119357 0.0338209  0.359104\n",
       "2 chr1              263722              ⋯ 5.42814  0.264182 0.0175277 -0.202326\n",
       "3 chr1              181665              ⋯ 4.70813  0.152596 0.0286044  0.620455\n",
       "4 chr1              285386              ⋯ 4.81805  0.103228 0.0369569  0.487364\n",
       "5 chr1              591460              ⋯ 1.91401  0.104412 0.0367092  0.482783\n",
       "  pval_emp pval_adj q       itype clu      ctype\n",
       "1 0.623377 0.633855 0.99914 IN    clu_1788 IN   \n",
       "2 0.787213 0.793556 0.99914 IN    clu_1789 IN   \n",
       "3 0.542458 0.554457 0.99914 IN    clu_1789 IN   \n",
       "4 0.452547 0.453207 0.99439 IN    clu_1789 IN   \n",
       "5 0.210789 0.209782 0.91628 IN    clu_1791 IN   "
      ]
     },
     "metadata": {},
     "output_type": "display_data"
    },
    {
     "data": {
      "text/html": [
       "<style>\n",
       ".list-inline {list-style: none; margin:0; padding: 0}\n",
       ".list-inline>li {display: inline-block}\n",
       ".list-inline>li:not(:last-child)::after {content: \"\\00b7\"; padding: 0 .5ex}\n",
       "</style>\n",
       "<ol class=list-inline><li>88437</li><li>24</li></ol>\n"
      ],
      "text/latex": [
       "\\begin{enumerate*}\n",
       "\\item 88437\n",
       "\\item 24\n",
       "\\end{enumerate*}\n"
      ],
      "text/markdown": [
       "1. 88437\n",
       "2. 24\n",
       "\n",
       "\n"
      ],
      "text/plain": [
       "[1] 88437    24"
      ]
     },
     "metadata": {},
     "output_type": "display_data"
    }
   ],
   "source": [
    "permDF[1:5]\n",
    "permDF %>% dim()\n"
   ]
  },
  {
   "cell_type": "code",
   "execution_count": 200,
   "metadata": {
    "vscode": {
     "languageId": "r"
    }
   },
   "outputs": [],
   "source": [
    "readGTExNOM <- function(tissue) {\n",
    "  base1.gtex <- \"../code/results/eqtl/GTEx\"\n",
    "  paths <- glue(\"{base1.gtex}/{tissue}/nom/chr{1:22}.txt.gz\")\n",
    "  df <- map_dfr(paths, fread)\n",
    "  names(df) <- c(\n",
    "    \"pid\", \"pchr\", \"pstart\", \"pend\", \"pstrand\", \"nVar\", \"dist\",\n",
    "    \"vid\", \"vchr\", \"vstart\", \"vend\", \"pval\", \"r2\", \"slope\", \"topflag\"\n",
    "  )\n",
    "  return(df)\n",
    "}\n"
   ]
  },
  {
   "cell_type": "code",
   "execution_count": 201,
   "metadata": {
    "vscode": {
     "languageId": "r"
    }
   },
   "outputs": [],
   "source": [
    "nomDF <- readGTExNOM(tissue)\n"
   ]
  },
  {
   "cell_type": "code",
   "execution_count": 202,
   "metadata": {
    "vscode": {
     "languageId": "r"
    }
   },
   "outputs": [
    {
     "data": {
      "text/html": [
       "<table class=\"dataframe\">\n",
       "<caption>A data.table: 5 × 15</caption>\n",
       "<thead>\n",
       "\t<tr><th scope=col>pid</th><th scope=col>pchr</th><th scope=col>pstart</th><th scope=col>pend</th><th scope=col>pstrand</th><th scope=col>nVar</th><th scope=col>dist</th><th scope=col>vid</th><th scope=col>vchr</th><th scope=col>vstart</th><th scope=col>vend</th><th scope=col>pval</th><th scope=col>r2</th><th scope=col>slope</th><th scope=col>topflag</th></tr>\n",
       "\t<tr><th scope=col>&lt;chr&gt;</th><th scope=col>&lt;chr&gt;</th><th scope=col>&lt;int&gt;</th><th scope=col>&lt;int&gt;</th><th scope=col>&lt;chr&gt;</th><th scope=col>&lt;int&gt;</th><th scope=col>&lt;int&gt;</th><th scope=col>&lt;chr&gt;</th><th scope=col>&lt;chr&gt;</th><th scope=col>&lt;int&gt;</th><th scope=col>&lt;int&gt;</th><th scope=col>&lt;dbl&gt;</th><th scope=col>&lt;dbl&gt;</th><th scope=col>&lt;dbl&gt;</th><th scope=col>&lt;int&gt;</th></tr>\n",
       "</thead>\n",
       "<tbody>\n",
       "\t<tr><td>ENSG00000188157.15</td><td>chr1</td><td>1020120</td><td>1056118</td><td>+</td><td>239</td><td>-885080</td><td>chr1_135040_T_C_b38</td><td>chr1</td><td>135040</td><td>135040</td><td>0.390182</td><td>0.01041840</td><td>-0.1442450</td><td>0</td></tr>\n",
       "\t<tr><td>ENSG00000188976.11</td><td>chr1</td><td> 944203</td><td> 959309</td><td>-</td><td>235</td><td> 809163</td><td>chr1_135040_T_C_b38</td><td>chr1</td><td>135040</td><td>135040</td><td>0.393674</td><td>0.01026660</td><td>-0.0950633</td><td>0</td></tr>\n",
       "\t<tr><td>ENSG00000187583.11</td><td>chr1</td><td> 966482</td><td> 975865</td><td>+</td><td>235</td><td>-831442</td><td>chr1_135040_T_C_b38</td><td>chr1</td><td>135040</td><td>135040</td><td>0.404966</td><td>0.00978880</td><td>-0.1108080</td><td>0</td></tr>\n",
       "\t<tr><td>ENSG00000131591.17</td><td>chr1</td><td>1081818</td><td>1116361</td><td>-</td><td>244</td><td> 946778</td><td>chr1_135040_T_C_b38</td><td>chr1</td><td>135040</td><td>135040</td><td>0.549487</td><td>0.00506836</td><td> 0.0809281</td><td>0</td></tr>\n",
       "\t<tr><td>ENSG00000187608.10</td><td>chr1</td><td>1001138</td><td>1014540</td><td>+</td><td>238</td><td>-866098</td><td>chr1_135040_T_C_b38</td><td>chr1</td><td>135040</td><td>135040</td><td>0.636129</td><td>0.00316992</td><td>-0.0743253</td><td>0</td></tr>\n",
       "</tbody>\n",
       "</table>\n"
      ],
      "text/latex": [
       "A data.table: 5 × 15\n",
       "\\begin{tabular}{lllllllllllllll}\n",
       " pid & pchr & pstart & pend & pstrand & nVar & dist & vid & vchr & vstart & vend & pval & r2 & slope & topflag\\\\\n",
       " <chr> & <chr> & <int> & <int> & <chr> & <int> & <int> & <chr> & <chr> & <int> & <int> & <dbl> & <dbl> & <dbl> & <int>\\\\\n",
       "\\hline\n",
       "\t ENSG00000188157.15 & chr1 & 1020120 & 1056118 & + & 239 & -885080 & chr1\\_135040\\_T\\_C\\_b38 & chr1 & 135040 & 135040 & 0.390182 & 0.01041840 & -0.1442450 & 0\\\\\n",
       "\t ENSG00000188976.11 & chr1 &  944203 &  959309 & - & 235 &  809163 & chr1\\_135040\\_T\\_C\\_b38 & chr1 & 135040 & 135040 & 0.393674 & 0.01026660 & -0.0950633 & 0\\\\\n",
       "\t ENSG00000187583.11 & chr1 &  966482 &  975865 & + & 235 & -831442 & chr1\\_135040\\_T\\_C\\_b38 & chr1 & 135040 & 135040 & 0.404966 & 0.00978880 & -0.1108080 & 0\\\\\n",
       "\t ENSG00000131591.17 & chr1 & 1081818 & 1116361 & - & 244 &  946778 & chr1\\_135040\\_T\\_C\\_b38 & chr1 & 135040 & 135040 & 0.549487 & 0.00506836 &  0.0809281 & 0\\\\\n",
       "\t ENSG00000187608.10 & chr1 & 1001138 & 1014540 & + & 238 & -866098 & chr1\\_135040\\_T\\_C\\_b38 & chr1 & 135040 & 135040 & 0.636129 & 0.00316992 & -0.0743253 & 0\\\\\n",
       "\\end{tabular}\n"
      ],
      "text/markdown": [
       "\n",
       "A data.table: 5 × 15\n",
       "\n",
       "| pid &lt;chr&gt; | pchr &lt;chr&gt; | pstart &lt;int&gt; | pend &lt;int&gt; | pstrand &lt;chr&gt; | nVar &lt;int&gt; | dist &lt;int&gt; | vid &lt;chr&gt; | vchr &lt;chr&gt; | vstart &lt;int&gt; | vend &lt;int&gt; | pval &lt;dbl&gt; | r2 &lt;dbl&gt; | slope &lt;dbl&gt; | topflag &lt;int&gt; |\n",
       "|---|---|---|---|---|---|---|---|---|---|---|---|---|---|---|\n",
       "| ENSG00000188157.15 | chr1 | 1020120 | 1056118 | + | 239 | -885080 | chr1_135040_T_C_b38 | chr1 | 135040 | 135040 | 0.390182 | 0.01041840 | -0.1442450 | 0 |\n",
       "| ENSG00000188976.11 | chr1 |  944203 |  959309 | - | 235 |  809163 | chr1_135040_T_C_b38 | chr1 | 135040 | 135040 | 0.393674 | 0.01026660 | -0.0950633 | 0 |\n",
       "| ENSG00000187583.11 | chr1 |  966482 |  975865 | + | 235 | -831442 | chr1_135040_T_C_b38 | chr1 | 135040 | 135040 | 0.404966 | 0.00978880 | -0.1108080 | 0 |\n",
       "| ENSG00000131591.17 | chr1 | 1081818 | 1116361 | - | 244 |  946778 | chr1_135040_T_C_b38 | chr1 | 135040 | 135040 | 0.549487 | 0.00506836 |  0.0809281 | 0 |\n",
       "| ENSG00000187608.10 | chr1 | 1001138 | 1014540 | + | 238 | -866098 | chr1_135040_T_C_b38 | chr1 | 135040 | 135040 | 0.636129 | 0.00316992 | -0.0743253 | 0 |\n",
       "\n"
      ],
      "text/plain": [
       "  pid                pchr pstart  pend    pstrand nVar dist   \n",
       "1 ENSG00000188157.15 chr1 1020120 1056118 +       239  -885080\n",
       "2 ENSG00000188976.11 chr1  944203  959309 -       235   809163\n",
       "3 ENSG00000187583.11 chr1  966482  975865 +       235  -831442\n",
       "4 ENSG00000131591.17 chr1 1081818 1116361 -       244   946778\n",
       "5 ENSG00000187608.10 chr1 1001138 1014540 +       238  -866098\n",
       "  vid                 vchr vstart vend   pval     r2         slope      topflag\n",
       "1 chr1_135040_T_C_b38 chr1 135040 135040 0.390182 0.01041840 -0.1442450 0      \n",
       "2 chr1_135040_T_C_b38 chr1 135040 135040 0.393674 0.01026660 -0.0950633 0      \n",
       "3 chr1_135040_T_C_b38 chr1 135040 135040 0.404966 0.00978880 -0.1108080 0      \n",
       "4 chr1_135040_T_C_b38 chr1 135040 135040 0.549487 0.00506836  0.0809281 0      \n",
       "5 chr1_135040_T_C_b38 chr1 135040 135040 0.636129 0.00316992 -0.0743253 0      "
      ]
     },
     "metadata": {},
     "output_type": "display_data"
    },
    {
     "data": {
      "text/html": [
       "<style>\n",
       ".list-inline {list-style: none; margin:0; padding: 0}\n",
       ".list-inline>li {display: inline-block}\n",
       ".list-inline>li:not(:last-child)::after {content: \"\\00b7\"; padding: 0 .5ex}\n",
       "</style>\n",
       "<ol class=list-inline><li>1565576</li><li>15</li></ol>\n"
      ],
      "text/latex": [
       "\\begin{enumerate*}\n",
       "\\item 1565576\n",
       "\\item 15\n",
       "\\end{enumerate*}\n"
      ],
      "text/markdown": [
       "1. 1565576\n",
       "2. 15\n",
       "\n",
       "\n"
      ],
      "text/plain": [
       "[1] 1565576      15"
      ]
     },
     "metadata": {},
     "output_type": "display_data"
    }
   ],
   "source": [
    "nomDF[1:5]\n",
    "nomDF %>% dim()\n"
   ]
  },
  {
   "cell_type": "markdown",
   "metadata": {
    "vscode": {
     "languageId": "r"
    }
   },
   "source": [
    "# first determine p-sQTLs and u-sQTLs, select only 1 per cluster\n"
   ]
  },
  {
   "cell_type": "code",
   "execution_count": 203,
   "metadata": {
    "vscode": {
     "languageId": "r"
    }
   },
   "outputs": [],
   "source": [
    "sqtl <- permDF[q < FDR & itype %in% c(\"PR\", \"UP\") & ctype %in% c(\"PR\", \"PR,UP\")]\n"
   ]
  },
  {
   "cell_type": "code",
   "execution_count": 204,
   "metadata": {
    "vscode": {
     "languageId": "r"
    }
   },
   "outputs": [],
   "source": [
    "# select the best intron per cluster based on the largest effect size\n",
    "sqtl <- sqtl[, rk := frank(-abs(slope), ties.method = \"first\"), by = .(clu, itype)]\n"
   ]
  },
  {
   "cell_type": "code",
   "execution_count": 205,
   "metadata": {
    "vscode": {
     "languageId": "r"
    }
   },
   "outputs": [
    {
     "data": {
      "text/html": [
       "<table class=\"dataframe\">\n",
       "<caption>A data.table: 5 × 25</caption>\n",
       "<thead>\n",
       "\t<tr><th scope=col>phenotype_id</th><th scope=col>phenotype_chr</th><th scope=col>phenotype_start</th><th scope=col>phenotype_end</th><th scope=col>phenotype_strand</th><th scope=col>num_variants</th><th scope=col>best_nom_dist</th><th scope=col>best_genotype_id</th><th scope=col>best_genotype_chr</th><th scope=col>best_genotype_start</th><th scope=col>⋯</th><th scope=col>pval_nom</th><th scope=col>pval_r2</th><th scope=col>slope</th><th scope=col>pval_emp</th><th scope=col>pval_adj</th><th scope=col>q</th><th scope=col>itype</th><th scope=col>clu</th><th scope=col>ctype</th><th scope=col>rk</th></tr>\n",
       "\t<tr><th scope=col>&lt;chr&gt;</th><th scope=col>&lt;chr&gt;</th><th scope=col>&lt;int&gt;</th><th scope=col>&lt;int&gt;</th><th scope=col>&lt;chr&gt;</th><th scope=col>&lt;int&gt;</th><th scope=col>&lt;int&gt;</th><th scope=col>&lt;chr&gt;</th><th scope=col>&lt;chr&gt;</th><th scope=col>&lt;int&gt;</th><th scope=col>⋯</th><th scope=col>&lt;dbl&gt;</th><th scope=col>&lt;dbl&gt;</th><th scope=col>&lt;dbl&gt;</th><th scope=col>&lt;dbl&gt;</th><th scope=col>&lt;dbl&gt;</th><th scope=col>&lt;dbl&gt;</th><th scope=col>&lt;chr&gt;</th><th scope=col>&lt;chr&gt;</th><th scope=col>&lt;chr&gt;</th><th scope=col>&lt;int&gt;</th></tr>\n",
       "</thead>\n",
       "<tbody>\n",
       "\t<tr><td>chr1:1642508:1645125:clu_1833_-:PR </td><td>chr1</td><td> 1642509</td><td> 1645125</td><td>-</td><td>434</td><td> 15353</td><td>chr1_1627156_G_A_b38 </td><td>chr1</td><td> 1627156</td><td>⋯</td><td>5.91221e-06</td><td>0.252451</td><td> 0.951358</td><td>0.001998000</td><td>1.16070e-03</td><td>7.3056e-02</td><td>PR</td><td>clu_1833</td><td>PR,UP</td><td>1</td></tr>\n",
       "\t<tr><td>chr1:6637504:6638294:clu_1911_-:PR </td><td>chr1</td><td> 6637505</td><td> 6638294</td><td>-</td><td>421</td><td> -7590</td><td>chr1_6645884_C_T_b38 </td><td>chr1</td><td> 6645884</td><td>⋯</td><td>8.02547e-06</td><td>0.246229</td><td>-1.672810</td><td>0.000999001</td><td>1.18817e-03</td><td>7.4239e-02</td><td>PR</td><td>clu_1911</td><td>PR,UP</td><td>1</td></tr>\n",
       "\t<tr><td>chr1:7961735:7962762:clu_109_+:PR  </td><td>chr1</td><td> 7961736</td><td> 7962762</td><td>+</td><td>412</td><td>     0</td><td>chr1_7961913_G_T_b38 </td><td>chr1</td><td> 7961913</td><td>⋯</td><td>6.83059e-12</td><td>0.486989</td><td> 1.035680</td><td>0.000999001</td><td>2.75881e-08</td><td>5.6227e-06</td><td>PR</td><td>clu_109 </td><td>PR   </td><td>2</td></tr>\n",
       "\t<tr><td>chr1:7961793:7962762:clu_109_+:PR  </td><td>chr1</td><td> 7961794</td><td> 7962762</td><td>+</td><td>412</td><td>     0</td><td>chr1_7961913_G_T_b38 </td><td>chr1</td><td> 7961913</td><td>⋯</td><td>1.07484e-12</td><td>0.512693</td><td>-1.085290</td><td>0.000999001</td><td>4.40780e-09</td><td>1.0198e-06</td><td>PR</td><td>clu_109 </td><td>PR   </td><td>1</td></tr>\n",
       "\t<tr><td>chr1:16021513:16021619:clu_215_+:UP</td><td>chr1</td><td>16021514</td><td>16021619</td><td>+</td><td>774</td><td>-19893</td><td>chr1_16001621_C_T_b38</td><td>chr1</td><td>16001621</td><td>⋯</td><td>2.43948e-07</td><td>0.314707</td><td>-0.895701</td><td>0.001998000</td><td>1.62851e-04</td><td>1.4371e-02</td><td>UP</td><td>clu_215 </td><td>PR,UP</td><td>1</td></tr>\n",
       "</tbody>\n",
       "</table>\n"
      ],
      "text/latex": [
       "A data.table: 5 × 25\n",
       "\\begin{tabular}{lllllllllllllllllllll}\n",
       " phenotype\\_id & phenotype\\_chr & phenotype\\_start & phenotype\\_end & phenotype\\_strand & num\\_variants & best\\_nom\\_dist & best\\_genotype\\_id & best\\_genotype\\_chr & best\\_genotype\\_start & ⋯ & pval\\_nom & pval\\_r2 & slope & pval\\_emp & pval\\_adj & q & itype & clu & ctype & rk\\\\\n",
       " <chr> & <chr> & <int> & <int> & <chr> & <int> & <int> & <chr> & <chr> & <int> & ⋯ & <dbl> & <dbl> & <dbl> & <dbl> & <dbl> & <dbl> & <chr> & <chr> & <chr> & <int>\\\\\n",
       "\\hline\n",
       "\t chr1:1642508:1645125:clu\\_1833\\_-:PR  & chr1 &  1642509 &  1645125 & - & 434 &  15353 & chr1\\_1627156\\_G\\_A\\_b38  & chr1 &  1627156 & ⋯ & 5.91221e-06 & 0.252451 &  0.951358 & 0.001998000 & 1.16070e-03 & 7.3056e-02 & PR & clu\\_1833 & PR,UP & 1\\\\\n",
       "\t chr1:6637504:6638294:clu\\_1911\\_-:PR  & chr1 &  6637505 &  6638294 & - & 421 &  -7590 & chr1\\_6645884\\_C\\_T\\_b38  & chr1 &  6645884 & ⋯ & 8.02547e-06 & 0.246229 & -1.672810 & 0.000999001 & 1.18817e-03 & 7.4239e-02 & PR & clu\\_1911 & PR,UP & 1\\\\\n",
       "\t chr1:7961735:7962762:clu\\_109\\_+:PR   & chr1 &  7961736 &  7962762 & + & 412 &      0 & chr1\\_7961913\\_G\\_T\\_b38  & chr1 &  7961913 & ⋯ & 6.83059e-12 & 0.486989 &  1.035680 & 0.000999001 & 2.75881e-08 & 5.6227e-06 & PR & clu\\_109  & PR    & 2\\\\\n",
       "\t chr1:7961793:7962762:clu\\_109\\_+:PR   & chr1 &  7961794 &  7962762 & + & 412 &      0 & chr1\\_7961913\\_G\\_T\\_b38  & chr1 &  7961913 & ⋯ & 1.07484e-12 & 0.512693 & -1.085290 & 0.000999001 & 4.40780e-09 & 1.0198e-06 & PR & clu\\_109  & PR    & 1\\\\\n",
       "\t chr1:16021513:16021619:clu\\_215\\_+:UP & chr1 & 16021514 & 16021619 & + & 774 & -19893 & chr1\\_16001621\\_C\\_T\\_b38 & chr1 & 16001621 & ⋯ & 2.43948e-07 & 0.314707 & -0.895701 & 0.001998000 & 1.62851e-04 & 1.4371e-02 & UP & clu\\_215  & PR,UP & 1\\\\\n",
       "\\end{tabular}\n"
      ],
      "text/markdown": [
       "\n",
       "A data.table: 5 × 25\n",
       "\n",
       "| phenotype_id &lt;chr&gt; | phenotype_chr &lt;chr&gt; | phenotype_start &lt;int&gt; | phenotype_end &lt;int&gt; | phenotype_strand &lt;chr&gt; | num_variants &lt;int&gt; | best_nom_dist &lt;int&gt; | best_genotype_id &lt;chr&gt; | best_genotype_chr &lt;chr&gt; | best_genotype_start &lt;int&gt; | ⋯ ⋯ | pval_nom &lt;dbl&gt; | pval_r2 &lt;dbl&gt; | slope &lt;dbl&gt; | pval_emp &lt;dbl&gt; | pval_adj &lt;dbl&gt; | q &lt;dbl&gt; | itype &lt;chr&gt; | clu &lt;chr&gt; | ctype &lt;chr&gt; | rk &lt;int&gt; |\n",
       "|---|---|---|---|---|---|---|---|---|---|---|---|---|---|---|---|---|---|---|---|---|\n",
       "| chr1:1642508:1645125:clu_1833_-:PR  | chr1 |  1642509 |  1645125 | - | 434 |  15353 | chr1_1627156_G_A_b38  | chr1 |  1627156 | ⋯ | 5.91221e-06 | 0.252451 |  0.951358 | 0.001998000 | 1.16070e-03 | 7.3056e-02 | PR | clu_1833 | PR,UP | 1 |\n",
       "| chr1:6637504:6638294:clu_1911_-:PR  | chr1 |  6637505 |  6638294 | - | 421 |  -7590 | chr1_6645884_C_T_b38  | chr1 |  6645884 | ⋯ | 8.02547e-06 | 0.246229 | -1.672810 | 0.000999001 | 1.18817e-03 | 7.4239e-02 | PR | clu_1911 | PR,UP | 1 |\n",
       "| chr1:7961735:7962762:clu_109_+:PR   | chr1 |  7961736 |  7962762 | + | 412 |      0 | chr1_7961913_G_T_b38  | chr1 |  7961913 | ⋯ | 6.83059e-12 | 0.486989 |  1.035680 | 0.000999001 | 2.75881e-08 | 5.6227e-06 | PR | clu_109  | PR    | 2 |\n",
       "| chr1:7961793:7962762:clu_109_+:PR   | chr1 |  7961794 |  7962762 | + | 412 |      0 | chr1_7961913_G_T_b38  | chr1 |  7961913 | ⋯ | 1.07484e-12 | 0.512693 | -1.085290 | 0.000999001 | 4.40780e-09 | 1.0198e-06 | PR | clu_109  | PR    | 1 |\n",
       "| chr1:16021513:16021619:clu_215_+:UP | chr1 | 16021514 | 16021619 | + | 774 | -19893 | chr1_16001621_C_T_b38 | chr1 | 16001621 | ⋯ | 2.43948e-07 | 0.314707 | -0.895701 | 0.001998000 | 1.62851e-04 | 1.4371e-02 | UP | clu_215  | PR,UP | 1 |\n",
       "\n"
      ],
      "text/plain": [
       "  phenotype_id                        phenotype_chr phenotype_start\n",
       "1 chr1:1642508:1645125:clu_1833_-:PR  chr1           1642509       \n",
       "2 chr1:6637504:6638294:clu_1911_-:PR  chr1           6637505       \n",
       "3 chr1:7961735:7962762:clu_109_+:PR   chr1           7961736       \n",
       "4 chr1:7961793:7962762:clu_109_+:PR   chr1           7961794       \n",
       "5 chr1:16021513:16021619:clu_215_+:UP chr1          16021514       \n",
       "  phenotype_end phenotype_strand num_variants best_nom_dist\n",
       "1  1645125      -                434           15353       \n",
       "2  6638294      -                421           -7590       \n",
       "3  7962762      +                412               0       \n",
       "4  7962762      +                412               0       \n",
       "5 16021619      +                774          -19893       \n",
       "  best_genotype_id      best_genotype_chr best_genotype_start ⋯ pval_nom   \n",
       "1 chr1_1627156_G_A_b38  chr1               1627156            ⋯ 5.91221e-06\n",
       "2 chr1_6645884_C_T_b38  chr1               6645884            ⋯ 8.02547e-06\n",
       "3 chr1_7961913_G_T_b38  chr1               7961913            ⋯ 6.83059e-12\n",
       "4 chr1_7961913_G_T_b38  chr1               7961913            ⋯ 1.07484e-12\n",
       "5 chr1_16001621_C_T_b38 chr1              16001621            ⋯ 2.43948e-07\n",
       "  pval_r2  slope     pval_emp    pval_adj    q          itype clu      ctype rk\n",
       "1 0.252451  0.951358 0.001998000 1.16070e-03 7.3056e-02 PR    clu_1833 PR,UP 1 \n",
       "2 0.246229 -1.672810 0.000999001 1.18817e-03 7.4239e-02 PR    clu_1911 PR,UP 1 \n",
       "3 0.486989  1.035680 0.000999001 2.75881e-08 5.6227e-06 PR    clu_109  PR    2 \n",
       "4 0.512693 -1.085290 0.000999001 4.40780e-09 1.0198e-06 PR    clu_109  PR    1 \n",
       "5 0.314707 -0.895701 0.001998000 1.62851e-04 1.4371e-02 UP    clu_215  PR,UP 1 "
      ]
     },
     "metadata": {},
     "output_type": "display_data"
    },
    {
     "data": {
      "text/html": [
       "<style>\n",
       ".list-inline {list-style: none; margin:0; padding: 0}\n",
       ".list-inline>li {display: inline-block}\n",
       ".list-inline>li:not(:last-child)::after {content: \"\\00b7\"; padding: 0 .5ex}\n",
       "</style>\n",
       "<ol class=list-inline><li>1353</li><li>25</li></ol>\n"
      ],
      "text/latex": [
       "\\begin{enumerate*}\n",
       "\\item 1353\n",
       "\\item 25\n",
       "\\end{enumerate*}\n"
      ],
      "text/markdown": [
       "1. 1353\n",
       "2. 25\n",
       "\n",
       "\n"
      ],
      "text/plain": [
       "[1] 1353   25"
      ]
     },
     "metadata": {},
     "output_type": "display_data"
    }
   ],
   "source": [
    "sqtl[1:5]\n",
    "sqtl %>% dim()\n"
   ]
  },
  {
   "cell_type": "code",
   "execution_count": 206,
   "metadata": {
    "vscode": {
     "languageId": "r"
    }
   },
   "outputs": [],
   "source": [
    "sqtl <- rbind(\n",
    "  sqtl[ctype == \"PR\"][rk == 1][order(clu)], # best intron for PR cluster\n",
    "  sqtl[ctype == \"PR,UP\"][itype == \"UP\" & rk == 1][order(clu)] # best intron for PR,UP cluster\n",
    ") %>%\n",
    "  .[naturalsort::naturalorder(phenotype_id)]\n"
   ]
  },
  {
   "cell_type": "code",
   "execution_count": 207,
   "metadata": {
    "vscode": {
     "languageId": "r"
    }
   },
   "outputs": [
    {
     "data": {
      "text/html": [
       "<style>\n",
       ".list-inline {list-style: none; margin:0; padding: 0}\n",
       ".list-inline>li {display: inline-block}\n",
       ".list-inline>li:not(:last-child)::after {content: \"\\00b7\"; padding: 0 .5ex}\n",
       "</style>\n",
       "<ol class=list-inline><li>692</li><li>25</li></ol>\n"
      ],
      "text/latex": [
       "\\begin{enumerate*}\n",
       "\\item 692\n",
       "\\item 25\n",
       "\\end{enumerate*}\n"
      ],
      "text/markdown": [
       "1. 692\n",
       "2. 25\n",
       "\n",
       "\n"
      ],
      "text/plain": [
       "[1] 692  25"
      ]
     },
     "metadata": {},
     "output_type": "display_data"
    },
    {
     "data": {
      "text/html": [
       "<table class=\"dataframe\">\n",
       "<caption>A data.table: 5 × 25</caption>\n",
       "<thead>\n",
       "\t<tr><th scope=col>phenotype_id</th><th scope=col>phenotype_chr</th><th scope=col>phenotype_start</th><th scope=col>phenotype_end</th><th scope=col>phenotype_strand</th><th scope=col>num_variants</th><th scope=col>best_nom_dist</th><th scope=col>best_genotype_id</th><th scope=col>best_genotype_chr</th><th scope=col>best_genotype_start</th><th scope=col>⋯</th><th scope=col>pval_nom</th><th scope=col>pval_r2</th><th scope=col>slope</th><th scope=col>pval_emp</th><th scope=col>pval_adj</th><th scope=col>q</th><th scope=col>itype</th><th scope=col>clu</th><th scope=col>ctype</th><th scope=col>rk</th></tr>\n",
       "\t<tr><th scope=col>&lt;chr&gt;</th><th scope=col>&lt;chr&gt;</th><th scope=col>&lt;int&gt;</th><th scope=col>&lt;int&gt;</th><th scope=col>&lt;chr&gt;</th><th scope=col>&lt;int&gt;</th><th scope=col>&lt;int&gt;</th><th scope=col>&lt;chr&gt;</th><th scope=col>&lt;chr&gt;</th><th scope=col>&lt;int&gt;</th><th scope=col>⋯</th><th scope=col>&lt;dbl&gt;</th><th scope=col>&lt;dbl&gt;</th><th scope=col>&lt;dbl&gt;</th><th scope=col>&lt;dbl&gt;</th><th scope=col>&lt;dbl&gt;</th><th scope=col>&lt;dbl&gt;</th><th scope=col>&lt;chr&gt;</th><th scope=col>&lt;chr&gt;</th><th scope=col>&lt;chr&gt;</th><th scope=col>&lt;int&gt;</th></tr>\n",
       "</thead>\n",
       "<tbody>\n",
       "\t<tr><td>chr1:7961793:7962762:clu_109_+:PR   </td><td>chr1</td><td> 7961794</td><td> 7962762</td><td>+</td><td>412</td><td>     0</td><td>chr1_7961913_G_T_b38 </td><td>chr1</td><td> 7961913</td><td>⋯</td><td>1.07484e-12</td><td>0.512693</td><td>-1.085290</td><td>0.000999001</td><td>4.40780e-09</td><td>1.0198e-06</td><td>PR</td><td>clu_109 </td><td>PR   </td><td>1</td></tr>\n",
       "\t<tr><td>chr1:16021513:16021619:clu_215_+:UP </td><td>chr1</td><td>16021514</td><td>16021619</td><td>+</td><td>774</td><td>-19893</td><td>chr1_16001621_C_T_b38</td><td>chr1</td><td>16001621</td><td>⋯</td><td>2.43948e-07</td><td>0.314707</td><td>-0.895701</td><td>0.001998000</td><td>1.62851e-04</td><td>1.4371e-02</td><td>UP</td><td>clu_215 </td><td>PR,UP</td><td>1</td></tr>\n",
       "\t<tr><td>chr1:18875503:18877207:clu_1991_-:PR</td><td>chr1</td><td>18875504</td><td>18877207</td><td>-</td><td>768</td><td>     0</td><td>chr1_18876402_G_A_b38</td><td>chr1</td><td>18876402</td><td>⋯</td><td>9.57797e-16</td><td>0.599323</td><td> 1.103610</td><td>0.000999001</td><td>3.90564e-12</td><td>1.5920e-09</td><td>PR</td><td>clu_1991</td><td>PR   </td><td>1</td></tr>\n",
       "\t<tr><td>chr1:19326623:19327226:clu_244_+:PR </td><td>chr1</td><td>19326624</td><td>19327226</td><td>+</td><td>611</td><td> 23922</td><td>chr1_19351148_G_A_b38</td><td>chr1</td><td>19351148</td><td>⋯</td><td>7.92200e-06</td><td>0.246494</td><td>-0.723390</td><td>0.001998000</td><td>1.53902e-03</td><td>9.2775e-02</td><td>PR</td><td>clu_244 </td><td>PR   </td><td>1</td></tr>\n",
       "\t<tr><td>chr1:22052868:22078428:clu_265_+:PR </td><td>chr1</td><td>22052869</td><td>22078428</td><td>+</td><td>849</td><td>     0</td><td>chr1_22056246_A_G_b38</td><td>chr1</td><td>22056246</td><td>⋯</td><td>1.25723e-13</td><td>0.540947</td><td> 1.279770</td><td>0.000999001</td><td>1.23492e-08</td><td>2.6427e-06</td><td>PR</td><td>clu_265 </td><td>PR   </td><td>1</td></tr>\n",
       "</tbody>\n",
       "</table>\n"
      ],
      "text/latex": [
       "A data.table: 5 × 25\n",
       "\\begin{tabular}{lllllllllllllllllllll}\n",
       " phenotype\\_id & phenotype\\_chr & phenotype\\_start & phenotype\\_end & phenotype\\_strand & num\\_variants & best\\_nom\\_dist & best\\_genotype\\_id & best\\_genotype\\_chr & best\\_genotype\\_start & ⋯ & pval\\_nom & pval\\_r2 & slope & pval\\_emp & pval\\_adj & q & itype & clu & ctype & rk\\\\\n",
       " <chr> & <chr> & <int> & <int> & <chr> & <int> & <int> & <chr> & <chr> & <int> & ⋯ & <dbl> & <dbl> & <dbl> & <dbl> & <dbl> & <dbl> & <chr> & <chr> & <chr> & <int>\\\\\n",
       "\\hline\n",
       "\t chr1:7961793:7962762:clu\\_109\\_+:PR    & chr1 &  7961794 &  7962762 & + & 412 &      0 & chr1\\_7961913\\_G\\_T\\_b38  & chr1 &  7961913 & ⋯ & 1.07484e-12 & 0.512693 & -1.085290 & 0.000999001 & 4.40780e-09 & 1.0198e-06 & PR & clu\\_109  & PR    & 1\\\\\n",
       "\t chr1:16021513:16021619:clu\\_215\\_+:UP  & chr1 & 16021514 & 16021619 & + & 774 & -19893 & chr1\\_16001621\\_C\\_T\\_b38 & chr1 & 16001621 & ⋯ & 2.43948e-07 & 0.314707 & -0.895701 & 0.001998000 & 1.62851e-04 & 1.4371e-02 & UP & clu\\_215  & PR,UP & 1\\\\\n",
       "\t chr1:18875503:18877207:clu\\_1991\\_-:PR & chr1 & 18875504 & 18877207 & - & 768 &      0 & chr1\\_18876402\\_G\\_A\\_b38 & chr1 & 18876402 & ⋯ & 9.57797e-16 & 0.599323 &  1.103610 & 0.000999001 & 3.90564e-12 & 1.5920e-09 & PR & clu\\_1991 & PR    & 1\\\\\n",
       "\t chr1:19326623:19327226:clu\\_244\\_+:PR  & chr1 & 19326624 & 19327226 & + & 611 &  23922 & chr1\\_19351148\\_G\\_A\\_b38 & chr1 & 19351148 & ⋯ & 7.92200e-06 & 0.246494 & -0.723390 & 0.001998000 & 1.53902e-03 & 9.2775e-02 & PR & clu\\_244  & PR    & 1\\\\\n",
       "\t chr1:22052868:22078428:clu\\_265\\_+:PR  & chr1 & 22052869 & 22078428 & + & 849 &      0 & chr1\\_22056246\\_A\\_G\\_b38 & chr1 & 22056246 & ⋯ & 1.25723e-13 & 0.540947 &  1.279770 & 0.000999001 & 1.23492e-08 & 2.6427e-06 & PR & clu\\_265  & PR    & 1\\\\\n",
       "\\end{tabular}\n"
      ],
      "text/markdown": [
       "\n",
       "A data.table: 5 × 25\n",
       "\n",
       "| phenotype_id &lt;chr&gt; | phenotype_chr &lt;chr&gt; | phenotype_start &lt;int&gt; | phenotype_end &lt;int&gt; | phenotype_strand &lt;chr&gt; | num_variants &lt;int&gt; | best_nom_dist &lt;int&gt; | best_genotype_id &lt;chr&gt; | best_genotype_chr &lt;chr&gt; | best_genotype_start &lt;int&gt; | ⋯ ⋯ | pval_nom &lt;dbl&gt; | pval_r2 &lt;dbl&gt; | slope &lt;dbl&gt; | pval_emp &lt;dbl&gt; | pval_adj &lt;dbl&gt; | q &lt;dbl&gt; | itype &lt;chr&gt; | clu &lt;chr&gt; | ctype &lt;chr&gt; | rk &lt;int&gt; |\n",
       "|---|---|---|---|---|---|---|---|---|---|---|---|---|---|---|---|---|---|---|---|---|\n",
       "| chr1:7961793:7962762:clu_109_+:PR    | chr1 |  7961794 |  7962762 | + | 412 |      0 | chr1_7961913_G_T_b38  | chr1 |  7961913 | ⋯ | 1.07484e-12 | 0.512693 | -1.085290 | 0.000999001 | 4.40780e-09 | 1.0198e-06 | PR | clu_109  | PR    | 1 |\n",
       "| chr1:16021513:16021619:clu_215_+:UP  | chr1 | 16021514 | 16021619 | + | 774 | -19893 | chr1_16001621_C_T_b38 | chr1 | 16001621 | ⋯ | 2.43948e-07 | 0.314707 | -0.895701 | 0.001998000 | 1.62851e-04 | 1.4371e-02 | UP | clu_215  | PR,UP | 1 |\n",
       "| chr1:18875503:18877207:clu_1991_-:PR | chr1 | 18875504 | 18877207 | - | 768 |      0 | chr1_18876402_G_A_b38 | chr1 | 18876402 | ⋯ | 9.57797e-16 | 0.599323 |  1.103610 | 0.000999001 | 3.90564e-12 | 1.5920e-09 | PR | clu_1991 | PR    | 1 |\n",
       "| chr1:19326623:19327226:clu_244_+:PR  | chr1 | 19326624 | 19327226 | + | 611 |  23922 | chr1_19351148_G_A_b38 | chr1 | 19351148 | ⋯ | 7.92200e-06 | 0.246494 | -0.723390 | 0.001998000 | 1.53902e-03 | 9.2775e-02 | PR | clu_244  | PR    | 1 |\n",
       "| chr1:22052868:22078428:clu_265_+:PR  | chr1 | 22052869 | 22078428 | + | 849 |      0 | chr1_22056246_A_G_b38 | chr1 | 22056246 | ⋯ | 1.25723e-13 | 0.540947 |  1.279770 | 0.000999001 | 1.23492e-08 | 2.6427e-06 | PR | clu_265  | PR    | 1 |\n",
       "\n"
      ],
      "text/plain": [
       "  phenotype_id                         phenotype_chr phenotype_start\n",
       "1 chr1:7961793:7962762:clu_109_+:PR    chr1           7961794       \n",
       "2 chr1:16021513:16021619:clu_215_+:UP  chr1          16021514       \n",
       "3 chr1:18875503:18877207:clu_1991_-:PR chr1          18875504       \n",
       "4 chr1:19326623:19327226:clu_244_+:PR  chr1          19326624       \n",
       "5 chr1:22052868:22078428:clu_265_+:PR  chr1          22052869       \n",
       "  phenotype_end phenotype_strand num_variants best_nom_dist\n",
       "1  7962762      +                412               0       \n",
       "2 16021619      +                774          -19893       \n",
       "3 18877207      -                768               0       \n",
       "4 19327226      +                611           23922       \n",
       "5 22078428      +                849               0       \n",
       "  best_genotype_id      best_genotype_chr best_genotype_start ⋯ pval_nom   \n",
       "1 chr1_7961913_G_T_b38  chr1               7961913            ⋯ 1.07484e-12\n",
       "2 chr1_16001621_C_T_b38 chr1              16001621            ⋯ 2.43948e-07\n",
       "3 chr1_18876402_G_A_b38 chr1              18876402            ⋯ 9.57797e-16\n",
       "4 chr1_19351148_G_A_b38 chr1              19351148            ⋯ 7.92200e-06\n",
       "5 chr1_22056246_A_G_b38 chr1              22056246            ⋯ 1.25723e-13\n",
       "  pval_r2  slope     pval_emp    pval_adj    q          itype clu      ctype rk\n",
       "1 0.512693 -1.085290 0.000999001 4.40780e-09 1.0198e-06 PR    clu_109  PR    1 \n",
       "2 0.314707 -0.895701 0.001998000 1.62851e-04 1.4371e-02 UP    clu_215  PR,UP 1 \n",
       "3 0.599323  1.103610 0.000999001 3.90564e-12 1.5920e-09 PR    clu_1991 PR    1 \n",
       "4 0.246494 -0.723390 0.001998000 1.53902e-03 9.2775e-02 PR    clu_244  PR    1 \n",
       "5 0.540947  1.279770 0.000999001 1.23492e-08 2.6427e-06 PR    clu_265  PR    1 "
      ]
     },
     "metadata": {},
     "output_type": "display_data"
    }
   ],
   "source": [
    "dim(sqtl)\n",
    "sqtl[1:5]\n"
   ]
  },
  {
   "cell_type": "code",
   "execution_count": 208,
   "metadata": {
    "vscode": {
     "languageId": "r"
    }
   },
   "outputs": [],
   "source": [
    "sqtl.v <- sqtl[, best_genotype_id] %>% unique()\n"
   ]
  },
  {
   "cell_type": "code",
   "execution_count": 209,
   "metadata": {
    "vscode": {
     "languageId": "r"
    }
   },
   "outputs": [
    {
     "data": {
      "text/html": [
       "688"
      ],
      "text/latex": [
       "688"
      ],
      "text/markdown": [
       "688"
      ],
      "text/plain": [
       "[1] 688"
      ]
     },
     "metadata": {},
     "output_type": "display_data"
    },
    {
     "data": {
      "text/html": [
       "<style>\n",
       ".list-inline {list-style: none; margin:0; padding: 0}\n",
       ".list-inline>li {display: inline-block}\n",
       ".list-inline>li:not(:last-child)::after {content: \"\\00b7\"; padding: 0 .5ex}\n",
       "</style>\n",
       "<ol class=list-inline><li>'chr1_7961913_G_T_b38'</li><li>'chr1_16001621_C_T_b38'</li><li>'chr1_18876402_G_A_b38'</li><li>'chr1_19351148_G_A_b38'</li><li>'chr1_22056246_A_G_b38'</li></ol>\n"
      ],
      "text/latex": [
       "\\begin{enumerate*}\n",
       "\\item 'chr1\\_7961913\\_G\\_T\\_b38'\n",
       "\\item 'chr1\\_16001621\\_C\\_T\\_b38'\n",
       "\\item 'chr1\\_18876402\\_G\\_A\\_b38'\n",
       "\\item 'chr1\\_19351148\\_G\\_A\\_b38'\n",
       "\\item 'chr1\\_22056246\\_A\\_G\\_b38'\n",
       "\\end{enumerate*}\n"
      ],
      "text/markdown": [
       "1. 'chr1_7961913_G_T_b38'\n",
       "2. 'chr1_16001621_C_T_b38'\n",
       "3. 'chr1_18876402_G_A_b38'\n",
       "4. 'chr1_19351148_G_A_b38'\n",
       "5. 'chr1_22056246_A_G_b38'\n",
       "\n",
       "\n"
      ],
      "text/plain": [
       "[1] \"chr1_7961913_G_T_b38\"  \"chr1_16001621_C_T_b38\" \"chr1_18876402_G_A_b38\"\n",
       "[4] \"chr1_19351148_G_A_b38\" \"chr1_22056246_A_G_b38\""
      ]
     },
     "metadata": {},
     "output_type": "display_data"
    }
   ],
   "source": [
    "length(sqtl.v)\n",
    "sqtl.v[1:5]\n"
   ]
  },
  {
   "cell_type": "markdown",
   "metadata": {},
   "source": [
    "# select only snps that are top sQTLs from nominal file\n"
   ]
  },
  {
   "cell_type": "code",
   "execution_count": 210,
   "metadata": {
    "vscode": {
     "languageId": "r"
    }
   },
   "outputs": [],
   "source": [
    "nomDF <- nomDF[vid %in% sqtl.v]\n"
   ]
  },
  {
   "cell_type": "code",
   "execution_count": 211,
   "metadata": {
    "vscode": {
     "languageId": "r"
    }
   },
   "outputs": [
    {
     "data": {
      "text/html": [
       "<table class=\"dataframe\">\n",
       "<caption>A data.table: 5 × 15</caption>\n",
       "<thead>\n",
       "\t<tr><th scope=col>pid</th><th scope=col>pchr</th><th scope=col>pstart</th><th scope=col>pend</th><th scope=col>pstrand</th><th scope=col>nVar</th><th scope=col>dist</th><th scope=col>vid</th><th scope=col>vchr</th><th scope=col>vstart</th><th scope=col>vend</th><th scope=col>pval</th><th scope=col>r2</th><th scope=col>slope</th><th scope=col>topflag</th></tr>\n",
       "\t<tr><th scope=col>&lt;chr&gt;</th><th scope=col>&lt;chr&gt;</th><th scope=col>&lt;int&gt;</th><th scope=col>&lt;int&gt;</th><th scope=col>&lt;chr&gt;</th><th scope=col>&lt;int&gt;</th><th scope=col>&lt;int&gt;</th><th scope=col>&lt;chr&gt;</th><th scope=col>&lt;chr&gt;</th><th scope=col>&lt;int&gt;</th><th scope=col>&lt;int&gt;</th><th scope=col>&lt;dbl&gt;</th><th scope=col>&lt;dbl&gt;</th><th scope=col>&lt;dbl&gt;</th><th scope=col>&lt;int&gt;</th></tr>\n",
       "</thead>\n",
       "<tbody>\n",
       "\t<tr><td>ENSG00000142599.19</td><td>chr1</td><td>8352397</td><td>8848921</td><td>-</td><td> 55</td><td> 390484</td><td>chr1_7961913_G_T_b38</td><td>chr1</td><td>7961913</td><td>7961913</td><td>0.460400</td><td>0.00769938</td><td> 0.0755688</td><td>0</td></tr>\n",
       "\t<tr><td>ENSG00000162426.14</td><td>chr1</td><td>8317826</td><td>8344167</td><td>+</td><td> 38</td><td>-355913</td><td>chr1_7961913_G_T_b38</td><td>chr1</td><td>7961913</td><td>7961913</td><td>0.332440</td><td>0.01323560</td><td>-0.1038200</td><td>0</td></tr>\n",
       "\t<tr><td>ENSG00000171735.19</td><td>chr1</td><td>6785454</td><td>7769706</td><td>+</td><td>135</td><td> 192207</td><td>chr1_7961913_G_T_b38</td><td>chr1</td><td>7961913</td><td>7961913</td><td>0.187922</td><td>0.02429250</td><td>-0.0979608</td><td>0</td></tr>\n",
       "\t<tr><td>ENSG00000074800.16</td><td>chr1</td><td>8861000</td><td>8879190</td><td>-</td><td> 45</td><td> 899087</td><td>chr1_7961913_G_T_b38</td><td>chr1</td><td>7961913</td><td>7961913</td><td>0.264175</td><td>0.01752830</td><td> 0.0972782</td><td>0</td></tr>\n",
       "\t<tr><td>ENSG00000049245.13</td><td>chr1</td><td>7771296</td><td>7781432</td><td>+</td><td> 35</td><td> 180481</td><td>chr1_7961913_G_T_b38</td><td>chr1</td><td>7961913</td><td>7961913</td><td>0.470787</td><td>0.00735034</td><td>-0.0592743</td><td>0</td></tr>\n",
       "</tbody>\n",
       "</table>\n"
      ],
      "text/latex": [
       "A data.table: 5 × 15\n",
       "\\begin{tabular}{lllllllllllllll}\n",
       " pid & pchr & pstart & pend & pstrand & nVar & dist & vid & vchr & vstart & vend & pval & r2 & slope & topflag\\\\\n",
       " <chr> & <chr> & <int> & <int> & <chr> & <int> & <int> & <chr> & <chr> & <int> & <int> & <dbl> & <dbl> & <dbl> & <int>\\\\\n",
       "\\hline\n",
       "\t ENSG00000142599.19 & chr1 & 8352397 & 8848921 & - &  55 &  390484 & chr1\\_7961913\\_G\\_T\\_b38 & chr1 & 7961913 & 7961913 & 0.460400 & 0.00769938 &  0.0755688 & 0\\\\\n",
       "\t ENSG00000162426.14 & chr1 & 8317826 & 8344167 & + &  38 & -355913 & chr1\\_7961913\\_G\\_T\\_b38 & chr1 & 7961913 & 7961913 & 0.332440 & 0.01323560 & -0.1038200 & 0\\\\\n",
       "\t ENSG00000171735.19 & chr1 & 6785454 & 7769706 & + & 135 &  192207 & chr1\\_7961913\\_G\\_T\\_b38 & chr1 & 7961913 & 7961913 & 0.187922 & 0.02429250 & -0.0979608 & 0\\\\\n",
       "\t ENSG00000074800.16 & chr1 & 8861000 & 8879190 & - &  45 &  899087 & chr1\\_7961913\\_G\\_T\\_b38 & chr1 & 7961913 & 7961913 & 0.264175 & 0.01752830 &  0.0972782 & 0\\\\\n",
       "\t ENSG00000049245.13 & chr1 & 7771296 & 7781432 & + &  35 &  180481 & chr1\\_7961913\\_G\\_T\\_b38 & chr1 & 7961913 & 7961913 & 0.470787 & 0.00735034 & -0.0592743 & 0\\\\\n",
       "\\end{tabular}\n"
      ],
      "text/markdown": [
       "\n",
       "A data.table: 5 × 15\n",
       "\n",
       "| pid &lt;chr&gt; | pchr &lt;chr&gt; | pstart &lt;int&gt; | pend &lt;int&gt; | pstrand &lt;chr&gt; | nVar &lt;int&gt; | dist &lt;int&gt; | vid &lt;chr&gt; | vchr &lt;chr&gt; | vstart &lt;int&gt; | vend &lt;int&gt; | pval &lt;dbl&gt; | r2 &lt;dbl&gt; | slope &lt;dbl&gt; | topflag &lt;int&gt; |\n",
       "|---|---|---|---|---|---|---|---|---|---|---|---|---|---|---|\n",
       "| ENSG00000142599.19 | chr1 | 8352397 | 8848921 | - |  55 |  390484 | chr1_7961913_G_T_b38 | chr1 | 7961913 | 7961913 | 0.460400 | 0.00769938 |  0.0755688 | 0 |\n",
       "| ENSG00000162426.14 | chr1 | 8317826 | 8344167 | + |  38 | -355913 | chr1_7961913_G_T_b38 | chr1 | 7961913 | 7961913 | 0.332440 | 0.01323560 | -0.1038200 | 0 |\n",
       "| ENSG00000171735.19 | chr1 | 6785454 | 7769706 | + | 135 |  192207 | chr1_7961913_G_T_b38 | chr1 | 7961913 | 7961913 | 0.187922 | 0.02429250 | -0.0979608 | 0 |\n",
       "| ENSG00000074800.16 | chr1 | 8861000 | 8879190 | - |  45 |  899087 | chr1_7961913_G_T_b38 | chr1 | 7961913 | 7961913 | 0.264175 | 0.01752830 |  0.0972782 | 0 |\n",
       "| ENSG00000049245.13 | chr1 | 7771296 | 7781432 | + |  35 |  180481 | chr1_7961913_G_T_b38 | chr1 | 7961913 | 7961913 | 0.470787 | 0.00735034 | -0.0592743 | 0 |\n",
       "\n"
      ],
      "text/plain": [
       "  pid                pchr pstart  pend    pstrand nVar dist   \n",
       "1 ENSG00000142599.19 chr1 8352397 8848921 -        55   390484\n",
       "2 ENSG00000162426.14 chr1 8317826 8344167 +        38  -355913\n",
       "3 ENSG00000171735.19 chr1 6785454 7769706 +       135   192207\n",
       "4 ENSG00000074800.16 chr1 8861000 8879190 -        45   899087\n",
       "5 ENSG00000049245.13 chr1 7771296 7781432 +        35   180481\n",
       "  vid                  vchr vstart  vend    pval     r2         slope     \n",
       "1 chr1_7961913_G_T_b38 chr1 7961913 7961913 0.460400 0.00769938  0.0755688\n",
       "2 chr1_7961913_G_T_b38 chr1 7961913 7961913 0.332440 0.01323560 -0.1038200\n",
       "3 chr1_7961913_G_T_b38 chr1 7961913 7961913 0.187922 0.02429250 -0.0979608\n",
       "4 chr1_7961913_G_T_b38 chr1 7961913 7961913 0.264175 0.01752830  0.0972782\n",
       "5 chr1_7961913_G_T_b38 chr1 7961913 7961913 0.470787 0.00735034 -0.0592743\n",
       "  topflag\n",
       "1 0      \n",
       "2 0      \n",
       "3 0      \n",
       "4 0      \n",
       "5 0      "
      ]
     },
     "metadata": {},
     "output_type": "display_data"
    },
    {
     "data": {
      "text/html": [
       "<style>\n",
       ".list-inline {list-style: none; margin:0; padding: 0}\n",
       ".list-inline>li {display: inline-block}\n",
       ".list-inline>li:not(:last-child)::after {content: \"\\00b7\"; padding: 0 .5ex}\n",
       "</style>\n",
       "<ol class=list-inline><li>18523</li><li>15</li></ol>\n"
      ],
      "text/latex": [
       "\\begin{enumerate*}\n",
       "\\item 18523\n",
       "\\item 15\n",
       "\\end{enumerate*}\n"
      ],
      "text/markdown": [
       "1. 18523\n",
       "2. 15\n",
       "\n",
       "\n"
      ],
      "text/plain": [
       "[1] 18523    15"
      ]
     },
     "metadata": {},
     "output_type": "display_data"
    }
   ],
   "source": [
    "nomDF[1:5, ]\n",
    "dim(nomDF)\n"
   ]
  },
  {
   "cell_type": "markdown",
   "metadata": {},
   "source": [
    "# join the top SQTLs and eQTL nominal\n"
   ]
  },
  {
   "cell_type": "code",
   "execution_count": 212,
   "metadata": {
    "vscode": {
     "languageId": "r"
    }
   },
   "outputs": [],
   "source": [
    "mergeDF <- inner_join(sqtl[, .(phenotype_id, phenotype_chr, phenotype_start, phenotype_end, phenotype_strand, best_genotype_id, best_nom_dist, pval_nom, slope, itype, ctype)],\n",
    "  nomDF[, .(pid, pchr, pstart, pend, pstrand, vid, dist, pval, slope, topflag)],\n",
    "  by = c(\"best_genotype_id\" = \"vid\"),\n",
    "  suffix = c(\"_sqtl\", \"_eqtl\"),\n",
    "  relationship = \"many-to-many\"\n",
    ")\n"
   ]
  },
  {
   "cell_type": "code",
   "execution_count": 213,
   "metadata": {
    "vscode": {
     "languageId": "r"
    }
   },
   "outputs": [],
   "source": [
    "# a eQTL (gene) must encompass the sQTL (intron)\n",
    "# thus, the start and end of the eQTL must be within the start and end of the sQTL\n",
    "# the strand must be the same, and the chromosome must be the same\n",
    "\n",
    "mergeDF <- mergeDF[phenotype_chr == pchr & phenotype_strand == pstrand]\n",
    "mergeDF <- mergeDF[phenotype_start >= pstart & phenotype_end <= pend]\n"
   ]
  },
  {
   "cell_type": "code",
   "execution_count": 214,
   "metadata": {
    "vscode": {
     "languageId": "r"
    }
   },
   "outputs": [
    {
     "data": {
      "text/html": [
       "<style>\n",
       ".list-inline {list-style: none; margin:0; padding: 0}\n",
       ".list-inline>li {display: inline-block}\n",
       ".list-inline>li:not(:last-child)::after {content: \"\\00b7\"; padding: 0 .5ex}\n",
       "</style>\n",
       "<ol class=list-inline><li>692</li><li>25</li></ol>\n"
      ],
      "text/latex": [
       "\\begin{enumerate*}\n",
       "\\item 692\n",
       "\\item 25\n",
       "\\end{enumerate*}\n"
      ],
      "text/markdown": [
       "1. 692\n",
       "2. 25\n",
       "\n",
       "\n"
      ],
      "text/plain": [
       "[1] 692  25"
      ]
     },
     "metadata": {},
     "output_type": "display_data"
    }
   ],
   "source": [
    "dim(sqtl)\n"
   ]
  },
  {
   "cell_type": "code",
   "execution_count": 215,
   "metadata": {
    "vscode": {
     "languageId": "r"
    }
   },
   "outputs": [
    {
     "data": {
      "text/html": [
       "<table class=\"dataframe\">\n",
       "<caption>A data.table: 3 × 20</caption>\n",
       "<thead>\n",
       "\t<tr><th scope=col>phenotype_id</th><th scope=col>phenotype_chr</th><th scope=col>phenotype_start</th><th scope=col>phenotype_end</th><th scope=col>phenotype_strand</th><th scope=col>best_genotype_id</th><th scope=col>best_nom_dist</th><th scope=col>pval_nom</th><th scope=col>slope_sqtl</th><th scope=col>itype</th><th scope=col>ctype</th><th scope=col>pid</th><th scope=col>pchr</th><th scope=col>pstart</th><th scope=col>pend</th><th scope=col>pstrand</th><th scope=col>dist</th><th scope=col>pval</th><th scope=col>slope_eqtl</th><th scope=col>topflag</th></tr>\n",
       "\t<tr><th scope=col>&lt;chr&gt;</th><th scope=col>&lt;chr&gt;</th><th scope=col>&lt;int&gt;</th><th scope=col>&lt;int&gt;</th><th scope=col>&lt;chr&gt;</th><th scope=col>&lt;chr&gt;</th><th scope=col>&lt;int&gt;</th><th scope=col>&lt;dbl&gt;</th><th scope=col>&lt;dbl&gt;</th><th scope=col>&lt;chr&gt;</th><th scope=col>&lt;chr&gt;</th><th scope=col>&lt;chr&gt;</th><th scope=col>&lt;chr&gt;</th><th scope=col>&lt;int&gt;</th><th scope=col>&lt;int&gt;</th><th scope=col>&lt;chr&gt;</th><th scope=col>&lt;int&gt;</th><th scope=col>&lt;dbl&gt;</th><th scope=col>&lt;dbl&gt;</th><th scope=col>&lt;int&gt;</th></tr>\n",
       "</thead>\n",
       "<tbody>\n",
       "\t<tr><td>chr1:7961793:7962762:clu_109_+:PR   </td><td>chr1</td><td> 7961794</td><td> 7962762</td><td>+</td><td>chr1_7961913_G_T_b38 </td><td>     0</td><td>1.07484e-12</td><td>-1.085290</td><td>PR</td><td>PR   </td><td>ENSG00000116288.13</td><td>chr1</td><td> 7954291</td><td> 7985505</td><td>+</td><td>     0</td><td>0.7470150</td><td>-0.02253450</td><td>0</td></tr>\n",
       "\t<tr><td>chr1:16021513:16021619:clu_215_+:UP </td><td>chr1</td><td>16021514</td><td>16021619</td><td>+</td><td>chr1_16001621_C_T_b38</td><td>-19893</td><td>2.43948e-07</td><td>-0.895701</td><td>UP</td><td>PR,UP</td><td>ENSG00000186510.12</td><td>chr1</td><td>16018875</td><td>16034050</td><td>+</td><td>-17254</td><td>0.0354621</td><td>-0.15084900</td><td>0</td></tr>\n",
       "\t<tr><td>chr1:18875503:18877207:clu_1991_-:PR</td><td>chr1</td><td>18875504</td><td>18877207</td><td>-</td><td>chr1_18876402_G_A_b38</td><td>     0</td><td>9.57797e-16</td><td> 1.103610</td><td>PR</td><td>PR   </td><td>ENSG00000159423.17</td><td>chr1</td><td>18871430</td><td>18902724</td><td>-</td><td>     0</td><td>0.8887070</td><td> 0.00649479</td><td>0</td></tr>\n",
       "</tbody>\n",
       "</table>\n"
      ],
      "text/latex": [
       "A data.table: 3 × 20\n",
       "\\begin{tabular}{llllllllllllllllllll}\n",
       " phenotype\\_id & phenotype\\_chr & phenotype\\_start & phenotype\\_end & phenotype\\_strand & best\\_genotype\\_id & best\\_nom\\_dist & pval\\_nom & slope\\_sqtl & itype & ctype & pid & pchr & pstart & pend & pstrand & dist & pval & slope\\_eqtl & topflag\\\\\n",
       " <chr> & <chr> & <int> & <int> & <chr> & <chr> & <int> & <dbl> & <dbl> & <chr> & <chr> & <chr> & <chr> & <int> & <int> & <chr> & <int> & <dbl> & <dbl> & <int>\\\\\n",
       "\\hline\n",
       "\t chr1:7961793:7962762:clu\\_109\\_+:PR    & chr1 &  7961794 &  7962762 & + & chr1\\_7961913\\_G\\_T\\_b38  &      0 & 1.07484e-12 & -1.085290 & PR & PR    & ENSG00000116288.13 & chr1 &  7954291 &  7985505 & + &      0 & 0.7470150 & -0.02253450 & 0\\\\\n",
       "\t chr1:16021513:16021619:clu\\_215\\_+:UP  & chr1 & 16021514 & 16021619 & + & chr1\\_16001621\\_C\\_T\\_b38 & -19893 & 2.43948e-07 & -0.895701 & UP & PR,UP & ENSG00000186510.12 & chr1 & 16018875 & 16034050 & + & -17254 & 0.0354621 & -0.15084900 & 0\\\\\n",
       "\t chr1:18875503:18877207:clu\\_1991\\_-:PR & chr1 & 18875504 & 18877207 & - & chr1\\_18876402\\_G\\_A\\_b38 &      0 & 9.57797e-16 &  1.103610 & PR & PR    & ENSG00000159423.17 & chr1 & 18871430 & 18902724 & - &      0 & 0.8887070 &  0.00649479 & 0\\\\\n",
       "\\end{tabular}\n"
      ],
      "text/markdown": [
       "\n",
       "A data.table: 3 × 20\n",
       "\n",
       "| phenotype_id &lt;chr&gt; | phenotype_chr &lt;chr&gt; | phenotype_start &lt;int&gt; | phenotype_end &lt;int&gt; | phenotype_strand &lt;chr&gt; | best_genotype_id &lt;chr&gt; | best_nom_dist &lt;int&gt; | pval_nom &lt;dbl&gt; | slope_sqtl &lt;dbl&gt; | itype &lt;chr&gt; | ctype &lt;chr&gt; | pid &lt;chr&gt; | pchr &lt;chr&gt; | pstart &lt;int&gt; | pend &lt;int&gt; | pstrand &lt;chr&gt; | dist &lt;int&gt; | pval &lt;dbl&gt; | slope_eqtl &lt;dbl&gt; | topflag &lt;int&gt; |\n",
       "|---|---|---|---|---|---|---|---|---|---|---|---|---|---|---|---|---|---|---|---|\n",
       "| chr1:7961793:7962762:clu_109_+:PR    | chr1 |  7961794 |  7962762 | + | chr1_7961913_G_T_b38  |      0 | 1.07484e-12 | -1.085290 | PR | PR    | ENSG00000116288.13 | chr1 |  7954291 |  7985505 | + |      0 | 0.7470150 | -0.02253450 | 0 |\n",
       "| chr1:16021513:16021619:clu_215_+:UP  | chr1 | 16021514 | 16021619 | + | chr1_16001621_C_T_b38 | -19893 | 2.43948e-07 | -0.895701 | UP | PR,UP | ENSG00000186510.12 | chr1 | 16018875 | 16034050 | + | -17254 | 0.0354621 | -0.15084900 | 0 |\n",
       "| chr1:18875503:18877207:clu_1991_-:PR | chr1 | 18875504 | 18877207 | - | chr1_18876402_G_A_b38 |      0 | 9.57797e-16 |  1.103610 | PR | PR    | ENSG00000159423.17 | chr1 | 18871430 | 18902724 | - |      0 | 0.8887070 |  0.00649479 | 0 |\n",
       "\n"
      ],
      "text/plain": [
       "  phenotype_id                         phenotype_chr phenotype_start\n",
       "1 chr1:7961793:7962762:clu_109_+:PR    chr1           7961794       \n",
       "2 chr1:16021513:16021619:clu_215_+:UP  chr1          16021514       \n",
       "3 chr1:18875503:18877207:clu_1991_-:PR chr1          18875504       \n",
       "  phenotype_end phenotype_strand best_genotype_id      best_nom_dist\n",
       "1  7962762      +                chr1_7961913_G_T_b38       0       \n",
       "2 16021619      +                chr1_16001621_C_T_b38 -19893       \n",
       "3 18877207      -                chr1_18876402_G_A_b38      0       \n",
       "  pval_nom    slope_sqtl itype ctype pid                pchr pstart   pend    \n",
       "1 1.07484e-12 -1.085290  PR    PR    ENSG00000116288.13 chr1  7954291  7985505\n",
       "2 2.43948e-07 -0.895701  UP    PR,UP ENSG00000186510.12 chr1 16018875 16034050\n",
       "3 9.57797e-16  1.103610  PR    PR    ENSG00000159423.17 chr1 18871430 18902724\n",
       "  pstrand dist   pval      slope_eqtl  topflag\n",
       "1 +            0 0.7470150 -0.02253450 0      \n",
       "2 +       -17254 0.0354621 -0.15084900 0      \n",
       "3 -            0 0.8887070  0.00649479 0      "
      ]
     },
     "metadata": {},
     "output_type": "display_data"
    },
    {
     "data": {
      "text/html": [
       "<style>\n",
       ".list-inline {list-style: none; margin:0; padding: 0}\n",
       ".list-inline>li {display: inline-block}\n",
       ".list-inline>li:not(:last-child)::after {content: \"\\00b7\"; padding: 0 .5ex}\n",
       "</style>\n",
       "<ol class=list-inline><li>656</li><li>20</li></ol>\n"
      ],
      "text/latex": [
       "\\begin{enumerate*}\n",
       "\\item 656\n",
       "\\item 20\n",
       "\\end{enumerate*}\n"
      ],
      "text/markdown": [
       "1. 656\n",
       "2. 20\n",
       "\n",
       "\n"
      ],
      "text/plain": [
       "[1] 656  20"
      ]
     },
     "metadata": {},
     "output_type": "display_data"
    }
   ],
   "source": [
    "mergeDF[1:3]\n",
    "mergeDF %>% dim()\n"
   ]
  },
  {
   "cell_type": "code",
   "execution_count": 216,
   "metadata": {
    "vscode": {
     "languageId": "r"
    }
   },
   "outputs": [],
   "source": [
    "plotDF <- mergeDF[, .(\n",
    "  gid = best_genotype_id,\n",
    "  intron_id = phenotype_id,\n",
    "  gene_id = pid,\n",
    "  pval_sqtl = pval_nom,\n",
    "  pval_eqtl = pval,\n",
    "  slope_sqtl,\n",
    "  slope_eqtl,\n",
    "  ctype,\n",
    "  topflag\n",
    ")]\n"
   ]
  },
  {
   "cell_type": "code",
   "execution_count": 290,
   "metadata": {
    "vscode": {
     "languageId": "r"
    }
   },
   "outputs": [
    {
     "data": {
      "text/html": [
       "<style>\n",
       ".list-inline {list-style: none; margin:0; padding: 0}\n",
       ".list-inline>li {display: inline-block}\n",
       ".list-inline>li:not(:last-child)::after {content: \"\\00b7\"; padding: 0 .5ex}\n",
       "</style>\n",
       "<ol class=list-inline><li>656</li><li>9</li></ol>\n"
      ],
      "text/latex": [
       "\\begin{enumerate*}\n",
       "\\item 656\n",
       "\\item 9\n",
       "\\end{enumerate*}\n"
      ],
      "text/markdown": [
       "1. 656\n",
       "2. 9\n",
       "\n",
       "\n"
      ],
      "text/plain": [
       "[1] 656   9"
      ]
     },
     "metadata": {},
     "output_type": "display_data"
    },
    {
     "data": {
      "text/html": [
       "<table class=\"dataframe\">\n",
       "<caption>A data.table: 5 × 9</caption>\n",
       "<thead>\n",
       "\t<tr><th scope=col>gid</th><th scope=col>intron_id</th><th scope=col>gene_id</th><th scope=col>pval_sqtl</th><th scope=col>pval_eqtl</th><th scope=col>slope_sqtl</th><th scope=col>slope_eqtl</th><th scope=col>ctype</th><th scope=col>topflag</th></tr>\n",
       "\t<tr><th scope=col>&lt;chr&gt;</th><th scope=col>&lt;chr&gt;</th><th scope=col>&lt;chr&gt;</th><th scope=col>&lt;dbl&gt;</th><th scope=col>&lt;dbl&gt;</th><th scope=col>&lt;dbl&gt;</th><th scope=col>&lt;dbl&gt;</th><th scope=col>&lt;chr&gt;</th><th scope=col>&lt;int&gt;</th></tr>\n",
       "</thead>\n",
       "<tbody>\n",
       "\t<tr><td>chr1_7961913_G_T_b38 </td><td>chr1:7961793:7962762:clu_109_+:PR   </td><td>ENSG00000116288.13</td><td>1.07484e-12</td><td>0.7470150</td><td>-1.085290</td><td>-0.02253450</td><td>PR   </td><td>0</td></tr>\n",
       "\t<tr><td>chr1_16001621_C_T_b38</td><td>chr1:16021513:16021619:clu_215_+:UP </td><td>ENSG00000186510.12</td><td>2.43948e-07</td><td>0.0354621</td><td>-0.895701</td><td>-0.15084900</td><td>PR,UP</td><td>0</td></tr>\n",
       "\t<tr><td>chr1_18876402_G_A_b38</td><td>chr1:18875503:18877207:clu_1991_-:PR</td><td>ENSG00000159423.17</td><td>9.57797e-16</td><td>0.8887070</td><td> 1.103610</td><td> 0.00649479</td><td>PR   </td><td>0</td></tr>\n",
       "\t<tr><td>chr1_19351148_G_A_b38</td><td>chr1:19326623:19327226:clu_244_+:PR </td><td>ENSG00000040487.13</td><td>7.92200e-06</td><td>0.0137859</td><td>-0.723390</td><td> 0.21842200</td><td>PR   </td><td>1</td></tr>\n",
       "\t<tr><td>chr1_22056246_A_G_b38</td><td>chr1:22052868:22078428:clu_265_+:PR </td><td>ENSG00000070831.17</td><td>1.25723e-13</td><td>0.9492840</td><td> 1.279770</td><td>-0.00802366</td><td>PR   </td><td>0</td></tr>\n",
       "</tbody>\n",
       "</table>\n"
      ],
      "text/latex": [
       "A data.table: 5 × 9\n",
       "\\begin{tabular}{lllllllll}\n",
       " gid & intron\\_id & gene\\_id & pval\\_sqtl & pval\\_eqtl & slope\\_sqtl & slope\\_eqtl & ctype & topflag\\\\\n",
       " <chr> & <chr> & <chr> & <dbl> & <dbl> & <dbl> & <dbl> & <chr> & <int>\\\\\n",
       "\\hline\n",
       "\t chr1\\_7961913\\_G\\_T\\_b38  & chr1:7961793:7962762:clu\\_109\\_+:PR    & ENSG00000116288.13 & 1.07484e-12 & 0.7470150 & -1.085290 & -0.02253450 & PR    & 0\\\\\n",
       "\t chr1\\_16001621\\_C\\_T\\_b38 & chr1:16021513:16021619:clu\\_215\\_+:UP  & ENSG00000186510.12 & 2.43948e-07 & 0.0354621 & -0.895701 & -0.15084900 & PR,UP & 0\\\\\n",
       "\t chr1\\_18876402\\_G\\_A\\_b38 & chr1:18875503:18877207:clu\\_1991\\_-:PR & ENSG00000159423.17 & 9.57797e-16 & 0.8887070 &  1.103610 &  0.00649479 & PR    & 0\\\\\n",
       "\t chr1\\_19351148\\_G\\_A\\_b38 & chr1:19326623:19327226:clu\\_244\\_+:PR  & ENSG00000040487.13 & 7.92200e-06 & 0.0137859 & -0.723390 &  0.21842200 & PR    & 1\\\\\n",
       "\t chr1\\_22056246\\_A\\_G\\_b38 & chr1:22052868:22078428:clu\\_265\\_+:PR  & ENSG00000070831.17 & 1.25723e-13 & 0.9492840 &  1.279770 & -0.00802366 & PR    & 0\\\\\n",
       "\\end{tabular}\n"
      ],
      "text/markdown": [
       "\n",
       "A data.table: 5 × 9\n",
       "\n",
       "| gid &lt;chr&gt; | intron_id &lt;chr&gt; | gene_id &lt;chr&gt; | pval_sqtl &lt;dbl&gt; | pval_eqtl &lt;dbl&gt; | slope_sqtl &lt;dbl&gt; | slope_eqtl &lt;dbl&gt; | ctype &lt;chr&gt; | topflag &lt;int&gt; |\n",
       "|---|---|---|---|---|---|---|---|---|\n",
       "| chr1_7961913_G_T_b38  | chr1:7961793:7962762:clu_109_+:PR    | ENSG00000116288.13 | 1.07484e-12 | 0.7470150 | -1.085290 | -0.02253450 | PR    | 0 |\n",
       "| chr1_16001621_C_T_b38 | chr1:16021513:16021619:clu_215_+:UP  | ENSG00000186510.12 | 2.43948e-07 | 0.0354621 | -0.895701 | -0.15084900 | PR,UP | 0 |\n",
       "| chr1_18876402_G_A_b38 | chr1:18875503:18877207:clu_1991_-:PR | ENSG00000159423.17 | 9.57797e-16 | 0.8887070 |  1.103610 |  0.00649479 | PR    | 0 |\n",
       "| chr1_19351148_G_A_b38 | chr1:19326623:19327226:clu_244_+:PR  | ENSG00000040487.13 | 7.92200e-06 | 0.0137859 | -0.723390 |  0.21842200 | PR    | 1 |\n",
       "| chr1_22056246_A_G_b38 | chr1:22052868:22078428:clu_265_+:PR  | ENSG00000070831.17 | 1.25723e-13 | 0.9492840 |  1.279770 | -0.00802366 | PR    | 0 |\n",
       "\n"
      ],
      "text/plain": [
       "  gid                   intron_id                            gene_id           \n",
       "1 chr1_7961913_G_T_b38  chr1:7961793:7962762:clu_109_+:PR    ENSG00000116288.13\n",
       "2 chr1_16001621_C_T_b38 chr1:16021513:16021619:clu_215_+:UP  ENSG00000186510.12\n",
       "3 chr1_18876402_G_A_b38 chr1:18875503:18877207:clu_1991_-:PR ENSG00000159423.17\n",
       "4 chr1_19351148_G_A_b38 chr1:19326623:19327226:clu_244_+:PR  ENSG00000040487.13\n",
       "5 chr1_22056246_A_G_b38 chr1:22052868:22078428:clu_265_+:PR  ENSG00000070831.17\n",
       "  pval_sqtl   pval_eqtl slope_sqtl slope_eqtl  ctype topflag\n",
       "1 1.07484e-12 0.7470150 -1.085290  -0.02253450 PR    0      \n",
       "2 2.43948e-07 0.0354621 -0.895701  -0.15084900 PR,UP 0      \n",
       "3 9.57797e-16 0.8887070  1.103610   0.00649479 PR    0      \n",
       "4 7.92200e-06 0.0137859 -0.723390   0.21842200 PR    1      \n",
       "5 1.25723e-13 0.9492840  1.279770  -0.00802366 PR    0      "
      ]
     },
     "metadata": {},
     "output_type": "display_data"
    },
    {
     "data": {
      "text/html": [
       "<style>\n",
       ".list-inline {list-style: none; margin:0; padding: 0}\n",
       ".list-inline>li {display: inline-block}\n",
       ".list-inline>li:not(:last-child)::after {content: \"\\00b7\"; padding: 0 .5ex}\n",
       "</style>\n",
       "<ol class=list-inline><li>656</li><li>9</li></ol>\n"
      ],
      "text/latex": [
       "\\begin{enumerate*}\n",
       "\\item 656\n",
       "\\item 9\n",
       "\\end{enumerate*}\n"
      ],
      "text/markdown": [
       "1. 656\n",
       "2. 9\n",
       "\n",
       "\n"
      ],
      "text/plain": [
       "[1] 656   9"
      ]
     },
     "metadata": {},
     "output_type": "display_data"
    }
   ],
   "source": [
    "dim(plotDF)\n",
    "plotDF[1:5]\n",
    "unique(plotDF) %>% dim()\n"
   ]
  },
  {
   "cell_type": "code",
   "execution_count": 301,
   "metadata": {
    "vscode": {
     "languageId": "r"
    }
   },
   "outputs": [],
   "source": [
    "qqplot <- list(\n",
    "  Productive = plotDF[ctype == \"PR\" & slope_sqtl > 0, pval_eqtl],\n",
    "  Unproductive = plotDF[ctype == \"PR,UP\" & slope_sqtl > 0, pval_eqtl]\n",
    ") %>%\n",
    "  multiqq()\n"
   ]
  },
  {
   "cell_type": "code",
   "execution_count": 302,
   "metadata": {
    "vscode": {
     "languageId": "r"
    }
   },
   "outputs": [],
   "source": [
    "qqplotNeg <- list(\n",
    "  Productive = plotDF[ctype == \"PR\" & slope_sqtl < 0, pval_eqtl],\n",
    "  Unproductive = plotDF[ctype == \"PR,UP\" & slope_sqtl < 0, pval_eqtl]\n",
    ") %>%\n",
    "  multiqq(flipY = TRUE)\n"
   ]
  },
  {
   "cell_type": "code",
   "execution_count": 303,
   "metadata": {
    "vscode": {
     "languageId": "r"
    }
   },
   "outputs": [
    {
     "data": {
      "image/png": "[encoded data removed]",
      "text/plain": [
       "plot without title"
      ]
     },
     "metadata": {
      "image/png": {
       "height": 420,
       "width": 420
      }
     },
     "output_type": "display_data"
    }
   ],
   "source": [
    "Title <- glue(\"{tissue}\")\n",
    "\n",
    "qqplot + theme_cowplot() +\n",
    "  labs(title = Title) +\n",
    "  theme(legend.title = element_blank())\n"
   ]
  },
  {
   "cell_type": "code",
   "execution_count": 304,
   "metadata": {
    "vscode": {
     "languageId": "r"
    }
   },
   "outputs": [
    {
     "data": {
      "image/png": "[encoded data removed]",
      "text/plain": [
       "plot without title"
      ]
     },
     "metadata": {
      "image/png": {
       "height": 420,
       "width": 420
      }
     },
     "output_type": "display_data"
    }
   ],
   "source": [
    "Title <- glue(\"{tissue}\")\n",
    "\n",
    "qqplotNeg + theme_cowplot() +\n",
    "  labs(title = Title) +\n",
    "  theme(legend.title = element_blank())\n"
   ]
  },
  {
   "cell_type": "code",
   "execution_count": 335,
   "metadata": {
    "vscode": {
     "languageId": "r"
    }
   },
   "outputs": [],
   "source": [
    "# first plot sQTL_slope > 0\n",
    "qqplot <- list(\n",
    "  Productive = plotDF[ctype == \"PR\" & slope_sqtl > 0, pval_eqtl],\n",
    "  Unproductive = plotDF[ctype == \"PR,UP\" & slope_sqtl > 0, pval_eqtl]\n",
    ") %>%\n",
    "  multiqq()\n",
    "\n",
    "# then plot sQTL_slope < 0\n",
    "qqplotNeg <- list(\n",
    "  Productive = plotDF[ctype == \"PR\" & slope_sqtl < 0, pval_eqtl],\n",
    "  Unproductive = plotDF[ctype == \"PR,UP\" & slope_sqtl < 0, pval_eqtl]\n",
    ") %>%\n",
    "  multiqq(flipY = TRUE)\n",
    "\n",
    "Title <- glue(\"{tissue}\")\n",
    "COLORS <- RColorBrewer::brewer.pal(9, \"Blues\")[c(4,6)]\n",
    "names(COLORS) <- c(\"Productive\", \"Unproductive\")\n",
    "\n",
    "qqplot <- rbind(qqplot$data, qqplotNeg$data) %>%\n",
    "  ggplot(aes(x, y, col = group)) + geom_point() +\n",
    "    geom_abline(intercept = 0, slope = 1) +\n",
    "    labs(x = \"Expected -log10(p)\", y = \"Observed -log10(p)\") +\n",
    "    scale_color_manual(values = COLORS) + \n",
    "    theme_cowplot() +\n",
    "    theme(legend.title = element_blank())"
   ]
  },
  {
   "cell_type": "code",
   "execution_count": null,
   "metadata": {
    "vscode": {
     "languageId": "r"
    }
   },
   "outputs": [],
   "source": []
  },
  {
   "cell_type": "code",
   "execution_count": 336,
   "metadata": {
    "vscode": {
     "languageId": "r"
    }
   },
   "outputs": [
    {
     "data": {
      "image/png": "[encoded data removed]",
      "text/plain": [
       "plot without title"
      ]
     },
     "metadata": {
      "image/png": {
       "height": 420,
       "width": 420
      }
     },
     "output_type": "display_data"
    }
   ],
   "source": [
    "qqplot"
   ]
  },
  {
   "cell_type": "code",
   "execution_count": 220,
   "metadata": {
    "vscode": {
     "languageId": "r"
    }
   },
   "outputs": [
    {
     "data": {
      "text/html": [
       "<style>\n",
       ".list-inline {list-style: none; margin:0; padding: 0}\n",
       ".list-inline>li {display: inline-block}\n",
       ".list-inline>li:not(:last-child)::after {content: \"\\00b7\"; padding: 0 .5ex}\n",
       "</style>\n",
       "<ol class=list-inline><li>656</li><li>9</li></ol>\n"
      ],
      "text/latex": [
       "\\begin{enumerate*}\n",
       "\\item 656\n",
       "\\item 9\n",
       "\\end{enumerate*}\n"
      ],
      "text/markdown": [
       "1. 656\n",
       "2. 9\n",
       "\n",
       "\n"
      ],
      "text/plain": [
       "[1] 656   9"
      ]
     },
     "metadata": {},
     "output_type": "display_data"
    },
    {
     "data": {
      "text/html": [
       "<table class=\"dataframe\">\n",
       "<caption>A data.table: 5 × 9</caption>\n",
       "<thead>\n",
       "\t<tr><th scope=col>gid</th><th scope=col>intron_id</th><th scope=col>gene_id</th><th scope=col>pval_sqtl</th><th scope=col>pval_eqtl</th><th scope=col>slope_sqtl</th><th scope=col>slope_eqtl</th><th scope=col>ctype</th><th scope=col>topflag</th></tr>\n",
       "\t<tr><th scope=col>&lt;chr&gt;</th><th scope=col>&lt;chr&gt;</th><th scope=col>&lt;chr&gt;</th><th scope=col>&lt;dbl&gt;</th><th scope=col>&lt;dbl&gt;</th><th scope=col>&lt;dbl&gt;</th><th scope=col>&lt;dbl&gt;</th><th scope=col>&lt;chr&gt;</th><th scope=col>&lt;int&gt;</th></tr>\n",
       "</thead>\n",
       "<tbody>\n",
       "\t<tr><td>chr1_7961913_G_T_b38 </td><td>chr1:7961793:7962762:clu_109_+:PR   </td><td>ENSG00000116288.13</td><td>1.07484e-12</td><td>0.7470150</td><td>-1.085290</td><td>-0.02253450</td><td>PR   </td><td>0</td></tr>\n",
       "\t<tr><td>chr1_16001621_C_T_b38</td><td>chr1:16021513:16021619:clu_215_+:UP </td><td>ENSG00000186510.12</td><td>2.43948e-07</td><td>0.0354621</td><td>-0.895701</td><td>-0.15084900</td><td>PR,UP</td><td>0</td></tr>\n",
       "\t<tr><td>chr1_18876402_G_A_b38</td><td>chr1:18875503:18877207:clu_1991_-:PR</td><td>ENSG00000159423.17</td><td>9.57797e-16</td><td>0.8887070</td><td> 1.103610</td><td> 0.00649479</td><td>PR   </td><td>0</td></tr>\n",
       "\t<tr><td>chr1_19351148_G_A_b38</td><td>chr1:19326623:19327226:clu_244_+:PR </td><td>ENSG00000040487.13</td><td>7.92200e-06</td><td>0.0137859</td><td>-0.723390</td><td> 0.21842200</td><td>PR   </td><td>1</td></tr>\n",
       "\t<tr><td>chr1_22056246_A_G_b38</td><td>chr1:22052868:22078428:clu_265_+:PR </td><td>ENSG00000070831.17</td><td>1.25723e-13</td><td>0.9492840</td><td> 1.279770</td><td>-0.00802366</td><td>PR   </td><td>0</td></tr>\n",
       "</tbody>\n",
       "</table>\n"
      ],
      "text/latex": [
       "A data.table: 5 × 9\n",
       "\\begin{tabular}{lllllllll}\n",
       " gid & intron\\_id & gene\\_id & pval\\_sqtl & pval\\_eqtl & slope\\_sqtl & slope\\_eqtl & ctype & topflag\\\\\n",
       " <chr> & <chr> & <chr> & <dbl> & <dbl> & <dbl> & <dbl> & <chr> & <int>\\\\\n",
       "\\hline\n",
       "\t chr1\\_7961913\\_G\\_T\\_b38  & chr1:7961793:7962762:clu\\_109\\_+:PR    & ENSG00000116288.13 & 1.07484e-12 & 0.7470150 & -1.085290 & -0.02253450 & PR    & 0\\\\\n",
       "\t chr1\\_16001621\\_C\\_T\\_b38 & chr1:16021513:16021619:clu\\_215\\_+:UP  & ENSG00000186510.12 & 2.43948e-07 & 0.0354621 & -0.895701 & -0.15084900 & PR,UP & 0\\\\\n",
       "\t chr1\\_18876402\\_G\\_A\\_b38 & chr1:18875503:18877207:clu\\_1991\\_-:PR & ENSG00000159423.17 & 9.57797e-16 & 0.8887070 &  1.103610 &  0.00649479 & PR    & 0\\\\\n",
       "\t chr1\\_19351148\\_G\\_A\\_b38 & chr1:19326623:19327226:clu\\_244\\_+:PR  & ENSG00000040487.13 & 7.92200e-06 & 0.0137859 & -0.723390 &  0.21842200 & PR    & 1\\\\\n",
       "\t chr1\\_22056246\\_A\\_G\\_b38 & chr1:22052868:22078428:clu\\_265\\_+:PR  & ENSG00000070831.17 & 1.25723e-13 & 0.9492840 &  1.279770 & -0.00802366 & PR    & 0\\\\\n",
       "\\end{tabular}\n"
      ],
      "text/markdown": [
       "\n",
       "A data.table: 5 × 9\n",
       "\n",
       "| gid &lt;chr&gt; | intron_id &lt;chr&gt; | gene_id &lt;chr&gt; | pval_sqtl &lt;dbl&gt; | pval_eqtl &lt;dbl&gt; | slope_sqtl &lt;dbl&gt; | slope_eqtl &lt;dbl&gt; | ctype &lt;chr&gt; | topflag &lt;int&gt; |\n",
       "|---|---|---|---|---|---|---|---|---|\n",
       "| chr1_7961913_G_T_b38  | chr1:7961793:7962762:clu_109_+:PR    | ENSG00000116288.13 | 1.07484e-12 | 0.7470150 | -1.085290 | -0.02253450 | PR    | 0 |\n",
       "| chr1_16001621_C_T_b38 | chr1:16021513:16021619:clu_215_+:UP  | ENSG00000186510.12 | 2.43948e-07 | 0.0354621 | -0.895701 | -0.15084900 | PR,UP | 0 |\n",
       "| chr1_18876402_G_A_b38 | chr1:18875503:18877207:clu_1991_-:PR | ENSG00000159423.17 | 9.57797e-16 | 0.8887070 |  1.103610 |  0.00649479 | PR    | 0 |\n",
       "| chr1_19351148_G_A_b38 | chr1:19326623:19327226:clu_244_+:PR  | ENSG00000040487.13 | 7.92200e-06 | 0.0137859 | -0.723390 |  0.21842200 | PR    | 1 |\n",
       "| chr1_22056246_A_G_b38 | chr1:22052868:22078428:clu_265_+:PR  | ENSG00000070831.17 | 1.25723e-13 | 0.9492840 |  1.279770 | -0.00802366 | PR    | 0 |\n",
       "\n"
      ],
      "text/plain": [
       "  gid                   intron_id                            gene_id           \n",
       "1 chr1_7961913_G_T_b38  chr1:7961793:7962762:clu_109_+:PR    ENSG00000116288.13\n",
       "2 chr1_16001621_C_T_b38 chr1:16021513:16021619:clu_215_+:UP  ENSG00000186510.12\n",
       "3 chr1_18876402_G_A_b38 chr1:18875503:18877207:clu_1991_-:PR ENSG00000159423.17\n",
       "4 chr1_19351148_G_A_b38 chr1:19326623:19327226:clu_244_+:PR  ENSG00000040487.13\n",
       "5 chr1_22056246_A_G_b38 chr1:22052868:22078428:clu_265_+:PR  ENSG00000070831.17\n",
       "  pval_sqtl   pval_eqtl slope_sqtl slope_eqtl  ctype topflag\n",
       "1 1.07484e-12 0.7470150 -1.085290  -0.02253450 PR    0      \n",
       "2 2.43948e-07 0.0354621 -0.895701  -0.15084900 PR,UP 0      \n",
       "3 9.57797e-16 0.8887070  1.103610   0.00649479 PR    0      \n",
       "4 7.92200e-06 0.0137859 -0.723390   0.21842200 PR    1      \n",
       "5 1.25723e-13 0.9492840  1.279770  -0.00802366 PR    0      "
      ]
     },
     "metadata": {},
     "output_type": "display_data"
    },
    {
     "data": {
      "text/html": [
       "<style>\n",
       ".list-inline {list-style: none; margin:0; padding: 0}\n",
       ".list-inline>li {display: inline-block}\n",
       ".list-inline>li:not(:last-child)::after {content: \"\\00b7\"; padding: 0 .5ex}\n",
       "</style>\n",
       "<ol class=list-inline><li>656</li><li>9</li></ol>\n"
      ],
      "text/latex": [
       "\\begin{enumerate*}\n",
       "\\item 656\n",
       "\\item 9\n",
       "\\end{enumerate*}\n"
      ],
      "text/markdown": [
       "1. 656\n",
       "2. 9\n",
       "\n",
       "\n"
      ],
      "text/plain": [
       "[1] 656   9"
      ]
     },
     "metadata": {},
     "output_type": "display_data"
    }
   ],
   "source": [
    "dim(plotDF)\n",
    "plotDF[1:5]\n",
    "unique(plotDF) %>% dim()\n"
   ]
  },
  {
   "cell_type": "code",
   "execution_count": 226,
   "metadata": {
    "vscode": {
     "languageId": "r"
    }
   },
   "outputs": [],
   "source": [
    "corr <- plotDF[, .(slope_sqtl, slope_eqtl, ctype = if_else(ctype == \"PR\", \"PR\", \"UP\"))] %>%\n",
    "  split(by = \"ctype\") %>%\n",
    "  map(~ cor.test(x = .x$slope_eqtl, y = .x$slope_sqtl, method = \"pearson\"))\n"
   ]
  },
  {
   "cell_type": "code",
   "execution_count": 227,
   "metadata": {
    "vscode": {
     "languageId": "r"
    }
   },
   "outputs": [
    {
     "data": {
      "text/html": [
       "0.0354899431607431"
      ],
      "text/latex": [
       "0.0354899431607431"
      ],
      "text/markdown": [
       "0.0354899431607431"
      ],
      "text/plain": [
       "[1] 0.03548994"
      ]
     },
     "metadata": {},
     "output_type": "display_data"
    }
   ],
   "source": [
    "corr$UP$p.value\n"
   ]
  },
  {
   "cell_type": "code",
   "execution_count": 228,
   "metadata": {
    "vscode": {
     "languageId": "r"
    }
   },
   "outputs": [
    {
     "data": {
      "text/plain": [
       "$PR\n",
       "\n",
       "\tPearson's product-moment correlation\n",
       "\n",
       "data:  .x$slope_eqtl and .x$slope_sqtl\n",
       "t = 0.41427, df = 443, p-value = 0.6789\n",
       "alternative hypothesis: true correlation is not equal to 0\n",
       "95 percent confidence interval:\n",
       " -0.07341242  0.11242988\n",
       "sample estimates:\n",
       "      cor \n",
       "0.0196787 \n",
       "\n",
       "\n",
       "$UP\n",
       "\n",
       "\tPearson's product-moment correlation\n",
       "\n",
       "data:  .x$slope_eqtl and .x$slope_sqtl\n",
       "t = -2.1164, df = 209, p-value = 0.03549\n",
       "alternative hypothesis: true correlation is not equal to 0\n",
       "95 percent confidence interval:\n",
       " -0.274550534 -0.009980295\n",
       "sample estimates:\n",
       "       cor \n",
       "-0.1448536 \n",
       "\n"
      ]
     },
     "metadata": {},
     "output_type": "display_data"
    }
   ],
   "source": [
    "corr\n"
   ]
  },
  {
   "cell_type": "code",
   "execution_count": 229,
   "metadata": {
    "vscode": {
     "languageId": "r"
    }
   },
   "outputs": [],
   "source": [
    "library(ggpointdensity)\n"
   ]
  },
  {
   "cell_type": "code",
   "execution_count": 230,
   "metadata": {
    "vscode": {
     "languageId": "r"
    }
   },
   "outputs": [
    {
     "name": "stderr",
     "output_type": "stream",
     "text": [
      "Warning message in cor.test.default(x = .x$slope_eqtl, y = .x$slope_sqtl, method = \"s\"):\n",
      "“Cannot compute exact p-value with ties”\n",
      "Warning message in cor.test.default(x = .x$slope_eqtl, y = .x$slope_sqtl, method = \"s\"):\n",
      "“Cannot compute exact p-value with ties”\n"
     ]
    }
   ],
   "source": [
    "corr <- plotDF[, .(slope_sqtl, slope_eqtl, ctype = if_else(ctype == \"PR\", \"PR\", \"UP\"))] %>%\n",
    "  split(by = \"ctype\") %>%\n",
    "  map(~ cor.test(x = .x$slope_eqtl, y = .x$slope_sqtl, method = \"s\"))\n",
    "\n",
    "corr.pvals <- map(corr, ~ .x$p.value) %>% unlist()\n",
    "corr.estimates <- map(corr, ~ .x$estimate[[1]]) %>% unlist()\n",
    "\n",
    "if (all(names(corr.pvals) == names(corr.estimates))) {\n",
    "  corr.df <- data.frame(\n",
    "    ctype = if_else(names(corr.pvals) == \"PR\", \"Productive\", \"Unproductive\"),\n",
    "    pval = corr.pvals,\n",
    "    estimate = corr.estimates\n",
    "  )\n",
    "} else {\n",
    "  stop(\"names of pvals and estimates do not match\")\n",
    "}\n"
   ]
  },
  {
   "cell_type": "code",
   "execution_count": 231,
   "metadata": {
    "vscode": {
     "languageId": "r"
    }
   },
   "outputs": [
    {
     "data": {
      "text/html": [
       "<table class=\"dataframe\">\n",
       "<caption>A data.frame: 2 × 5</caption>\n",
       "<thead>\n",
       "\t<tr><th></th><th scope=col>ctype</th><th scope=col>pval</th><th scope=col>estimate</th><th scope=col>xpos</th><th scope=col>ypos</th></tr>\n",
       "\t<tr><th></th><th scope=col>&lt;chr&gt;</th><th scope=col>&lt;dbl&gt;</th><th scope=col>&lt;dbl&gt;</th><th scope=col>&lt;dbl&gt;</th><th scope=col>&lt;dbl&gt;</th></tr>\n",
       "</thead>\n",
       "<tbody>\n",
       "\t<tr><th scope=row>PR</th><td>Productive  </td><td>0.8618642</td><td>-0.00827159</td><td>0</td><td>0</td></tr>\n",
       "\t<tr><th scope=row>UP</th><td>Unproductive</td><td>0.2765704</td><td>-0.07524561</td><td>0</td><td>0</td></tr>\n",
       "</tbody>\n",
       "</table>\n"
      ],
      "text/latex": [
       "A data.frame: 2 × 5\n",
       "\\begin{tabular}{r|lllll}\n",
       "  & ctype & pval & estimate & xpos & ypos\\\\\n",
       "  & <chr> & <dbl> & <dbl> & <dbl> & <dbl>\\\\\n",
       "\\hline\n",
       "\tPR & Productive   & 0.8618642 & -0.00827159 & 0 & 0\\\\\n",
       "\tUP & Unproductive & 0.2765704 & -0.07524561 & 0 & 0\\\\\n",
       "\\end{tabular}\n"
      ],
      "text/markdown": [
       "\n",
       "A data.frame: 2 × 5\n",
       "\n",
       "| <!--/--> | ctype &lt;chr&gt; | pval &lt;dbl&gt; | estimate &lt;dbl&gt; | xpos &lt;dbl&gt; | ypos &lt;dbl&gt; |\n",
       "|---|---|---|---|---|---|\n",
       "| PR | Productive   | 0.8618642 | -0.00827159 | 0 | 0 |\n",
       "| UP | Unproductive | 0.2765704 | -0.07524561 | 0 | 0 |\n",
       "\n"
      ],
      "text/plain": [
       "   ctype        pval      estimate    xpos ypos\n",
       "PR Productive   0.8618642 -0.00827159 0    0   \n",
       "UP Unproductive 0.2765704 -0.07524561 0    0   "
      ]
     },
     "metadata": {},
     "output_type": "display_data"
    }
   ],
   "source": [
    "corr.df <- corr.df %>%\n",
    "  mutate(xpos = c(0, 0), ypos = c(0, 0))\n",
    "corr.df\n"
   ]
  },
  {
   "cell_type": "code",
   "execution_count": 277,
   "metadata": {
    "vscode": {
     "languageId": "r"
    }
   },
   "outputs": [
    {
     "data": {
      "image/png": "[encoded data removed]",
      "text/plain": [
       "plot without title"
      ]
     },
     "metadata": {
      "image/png": {
       "height": 420,
       "width": 420
      }
     },
     "output_type": "display_data"
    }
   ],
   "source": [
    "plotDF[, .(slope_sqtl, slope_eqtl, ctype)] %>%\n",
    "  mutate(ctype = if_else(ctype == \"PR\", \"Productive\", \"Unproductive\")) %>%\n",
    "  # .[ctype == \"Productive\"] %>%\n",
    "  ggplot() +\n",
    "  geom_pointdensity(aes(slope_eqtl, slope_sqtl), alpha = .8) +\n",
    "  geom_abline(aes(intercept = 0, slope = estimate), data = corr.df, linetype = \"dashed\", color = 'navy', linewidth = 1) +\n",
    "  scale_color_viridis_c() +\n",
    "  labs(x = \"eQTL effect size\", y = \"sQTL effect size\") +\n",
    "  geom_text(\n",
    "    aes(\n",
    "      x = xpos, y = ypos,\n",
    "      label = glue(\"cor: {corr}, p: {pvalue}\",\n",
    "        corr = if_else(abs(estimate) > .001, scales::number(estimate, .01), scales::scientific(estimate)),\n",
    "        pvalue = if_else(pval > .001, scales::number(pval, .01), scales::scientific(pval))\n",
    "      )\n",
    "    ),\n",
    "    data = corr.df, size = 6, hjust = .5, vjust = 1\n",
    "  ) +\n",
    "  theme_cowplot() +\n",
    "  facet_wrap(~ctype) +\n",
    "  theme(strip.background = element_rect(fill = \"white\"))\n"
   ]
  },
  {
   "cell_type": "code",
   "execution_count": null,
   "metadata": {
    "vscode": {
     "languageId": "r"
    }
   },
   "outputs": [],
   "source": []
  },
  {
   "cell_type": "code",
   "execution_count": null,
   "metadata": {
    "vscode": {
     "languageId": "r"
    }
   },
   "outputs": [],
   "source": []
  },
  {
   "cell_type": "code",
   "execution_count": null,
   "metadata": {
    "vscode": {
     "languageId": "r"
    }
   },
   "outputs": [],
   "source": []
  },
  {
   "cell_type": "code",
   "execution_count": 117,
   "metadata": {
    "vscode": {
     "languageId": "r"
    }
   },
   "outputs": [],
   "source": [
    "sqtl.gr <- sqtl[, .(phenotype_chr, phenotype_start, phenotype_end, phenotype_strand, phenotype_id)]\n",
    "sqtl.gr <- makeGRangesFromDataFrame(sqtl.gr,\n",
    "  keep.extra.columns = TRUE, seqnames.field = \"phenotype_chr\",\n",
    "  start.field = \"phenotype_start\", end.field = \"phenotype_end\",\n",
    "  strand.field = \"phenotype_strand\"\n",
    ")\n"
   ]
  },
  {
   "cell_type": "code",
   "execution_count": 132,
   "metadata": {
    "vscode": {
     "languageId": "r"
    }
   },
   "outputs": [
    {
     "data": {
      "text/plain": [
       "GRanges object with 2320 ranges and 1 metadata column:\n",
       "         seqnames            ranges strand |           phenotype_id\n",
       "            <Rle>         <IRanges>  <Rle> |            <character>\n",
       "     [1]     chr1     941307-942135      + | chr1:941306:942135:c..\n",
       "     [2]     chr1   2156093-2169517      + | chr1:2156092:2169517..\n",
       "     [3]     chr1   6448562-6448640      + | chr1:6448561:6448640..\n",
       "     [4]     chr1   6449092-6451602      + | chr1:6449091:6451602..\n",
       "     [5]     chr1   6580050-6580540      + | chr1:6580049:6580540..\n",
       "     ...      ...               ...    ... .                    ...\n",
       "  [2316]    chr22 50284666-50285799      - | chr22:50284665:50285..\n",
       "  [2317]    chr22 50526142-50526245      - | chr22:50526141:50526..\n",
       "  [2318]    chr22 50571293-50571374      - | chr22:50571292:50571..\n",
       "  [2319]    chr22 50571534-50572005      - | chr22:50571533:50572..\n",
       "  [2320]    chr22 50782348-50783500      - | chr22:50782347:50783..\n",
       "  -------\n",
       "  seqinfo: 22 sequences from an unspecified genome; no seqlengths"
      ]
     },
     "metadata": {},
     "output_type": "display_data"
    }
   ],
   "source": [
    "sqtl.gr %>% sort()\n"
   ]
  },
  {
   "cell_type": "code",
   "execution_count": 121,
   "metadata": {
    "vscode": {
     "languageId": "r"
    }
   },
   "outputs": [],
   "source": [
    "nom.gr <- nomDF[, .(pid, pchr, pstart, pend, pstrand)] %>% unique()\n",
    "nom.gr <- makeGRangesFromDataFrame(nom.gr,\n",
    "  keep.extra.columns = TRUE, seqnames.field = \"pchr\",\n",
    "  start.field = \"pstart\", end.field = \"pend\",\n",
    "  strand.field = \"pstrand\"\n",
    ")\n"
   ]
  },
  {
   "cell_type": "code",
   "execution_count": 124,
   "metadata": {
    "vscode": {
     "languageId": "r"
    }
   },
   "outputs": [
    {
     "data": {
      "text/plain": [
       "GRanges object with 2320 ranges and 1 metadata column:\n",
       "         seqnames            ranges strand |           phenotype_id\n",
       "            <Rle>         <IRanges>  <Rle> |            <character>\n",
       "     [1]     chr1     941307-942135      + | chr1:941306:942135:c..\n",
       "     [2]     chr1   2156093-2169517      + | chr1:2156092:2169517..\n",
       "     [3]     chr1   6448562-6448640      + | chr1:6448561:6448640..\n",
       "     [4]     chr1   6449092-6451602      + | chr1:6449091:6451602..\n",
       "     [5]     chr1   6580050-6580540      + | chr1:6580049:6580540..\n",
       "     ...      ...               ...    ... .                    ...\n",
       "  [2316]    chr22 50284666-50285799      - | chr22:50284665:50285..\n",
       "  [2317]    chr22 50526142-50526245      - | chr22:50526141:50526..\n",
       "  [2318]    chr22 50571293-50571374      - | chr22:50571292:50571..\n",
       "  [2319]    chr22 50571534-50572005      - | chr22:50571533:50572..\n",
       "  [2320]    chr22 50782348-50783500      - | chr22:50782347:50783..\n",
       "  -------\n",
       "  seqinfo: 22 sequences from an unspecified genome; no seqlengths"
      ]
     },
     "metadata": {},
     "output_type": "display_data"
    }
   ],
   "source": [
    "sort(sqtl.gr)\n"
   ]
  },
  {
   "cell_type": "code",
   "execution_count": 140,
   "metadata": {
    "vscode": {
     "languageId": "r"
    }
   },
   "outputs": [],
   "source": [
    "x <- GenomicRanges::distanceToNearest(sqtl.gr, nom.gr, select = \"arbitrary\", ignore.strand = TRUE)\n"
   ]
  },
  {
   "cell_type": "code",
   "execution_count": 141,
   "metadata": {
    "vscode": {
     "languageId": "r"
    }
   },
   "outputs": [
    {
     "data": {
      "text/plain": [
       "Hits object with 2320 hits and 1 metadata column:\n",
       "         queryHits subjectHits |  distance\n",
       "         <integer>   <integer> | <integer>\n",
       "     [1]         1          38 |      2067\n",
       "     [2]         2          31 |         0\n",
       "     [3]         3          31 |         0\n",
       "     [4]         4          22 |         0\n",
       "     [5]         5          15 |         0\n",
       "     ...       ...         ... .       ...\n",
       "  [2316]      2316       11556 |         0\n",
       "  [2317]      2317       11563 |         0\n",
       "  [2318]      2318       11558 |         0\n",
       "  [2319]      2319       11558 |         0\n",
       "  [2320]      2320       11560 |         0\n",
       "  -------\n",
       "  queryLength: 2320 / subjectLength: 11586"
      ]
     },
     "metadata": {},
     "output_type": "display_data"
    }
   ],
   "source": [
    "x\n"
   ]
  },
  {
   "cell_type": "code",
   "execution_count": 143,
   "metadata": {
    "vscode": {
     "languageId": "r"
    }
   },
   "outputs": [
    {
     "ename": "ERROR",
     "evalue": "Error in x$metadata: $ operator not defined for this S4 class\n",
     "output_type": "error",
     "traceback": [
      "Error in x$metadata: $ operator not defined for this S4 class\nTraceback:\n"
     ]
    }
   ],
   "source": [
    "x$metada\n"
   ]
  },
  {
   "cell_type": "code",
   "execution_count": null,
   "metadata": {
    "vscode": {
     "languageId": "r"
    }
   },
   "outputs": [],
   "source": []
  },
  {
   "cell_type": "code",
   "execution_count": 98,
   "metadata": {
    "vscode": {
     "languageId": "r"
    }
   },
   "outputs": [
    {
     "data": {
      "text/html": [
       "<table class=\"dataframe\">\n",
       "<caption>A data.table: 2 × 2</caption>\n",
       "<thead>\n",
       "\t<tr><th scope=col>ctype</th><th scope=col>Nclu</th></tr>\n",
       "\t<tr><th scope=col>&lt;chr&gt;</th><th scope=col>&lt;int&gt;</th></tr>\n",
       "</thead>\n",
       "<tbody>\n",
       "\t<tr><td>PR   </td><td>1313</td></tr>\n",
       "\t<tr><td>PR,UP</td><td>1007</td></tr>\n",
       "</tbody>\n",
       "</table>\n"
      ],
      "text/latex": [
       "A data.table: 2 × 2\n",
       "\\begin{tabular}{ll}\n",
       " ctype & Nclu\\\\\n",
       " <chr> & <int>\\\\\n",
       "\\hline\n",
       "\t PR    & 1313\\\\\n",
       "\t PR,UP & 1007\\\\\n",
       "\\end{tabular}\n"
      ],
      "text/markdown": [
       "\n",
       "A data.table: 2 × 2\n",
       "\n",
       "| ctype &lt;chr&gt; | Nclu &lt;int&gt; |\n",
       "|---|---|\n",
       "| PR    | 1313 |\n",
       "| PR,UP | 1007 |\n",
       "\n"
      ],
      "text/plain": [
       "  ctype Nclu\n",
       "1 PR    1313\n",
       "2 PR,UP 1007"
      ]
     },
     "metadata": {},
     "output_type": "display_data"
    },
    {
     "data": {
      "text/html": [
       "<table class=\"dataframe\">\n",
       "<caption>A data.table: 2 × 2</caption>\n",
       "<thead>\n",
       "\t<tr><th scope=col>qtl_type</th><th scope=col>Nclu</th></tr>\n",
       "\t<tr><th scope=col>&lt;chr&gt;</th><th scope=col>&lt;int&gt;</th></tr>\n",
       "</thead>\n",
       "<tbody>\n",
       "\t<tr><td>p-sQTL</td><td>1313</td></tr>\n",
       "\t<tr><td>u-sQTL</td><td>1007</td></tr>\n",
       "</tbody>\n",
       "</table>\n"
      ],
      "text/latex": [
       "A data.table: 2 × 2\n",
       "\\begin{tabular}{ll}\n",
       " qtl\\_type & Nclu\\\\\n",
       " <chr> & <int>\\\\\n",
       "\\hline\n",
       "\t p-sQTL & 1313\\\\\n",
       "\t u-sQTL & 1007\\\\\n",
       "\\end{tabular}\n"
      ],
      "text/markdown": [
       "\n",
       "A data.table: 2 × 2\n",
       "\n",
       "| qtl_type &lt;chr&gt; | Nclu &lt;int&gt; |\n",
       "|---|---|\n",
       "| p-sQTL | 1313 |\n",
       "| u-sQTL | 1007 |\n",
       "\n"
      ],
      "text/plain": [
       "  qtl_type Nclu\n",
       "1 p-sQTL   1313\n",
       "2 u-sQTL   1007"
      ]
     },
     "metadata": {},
     "output_type": "display_data"
    }
   ],
   "source": [
    "sqtl[, .(Nclu = uniqueN(clu)), by = .(ctype)]\n",
    "sqtl[, .(Nclu = uniqueN(clu)), by = .(qtl_type)]\n"
   ]
  },
  {
   "cell_type": "code",
   "execution_count": 95,
   "metadata": {
    "vscode": {
     "languageId": "r"
    }
   },
   "outputs": [
    {
     "data": {
      "text/html": [
       "<table class=\"dataframe\">\n",
       "<caption>A data.table: 2 × 2</caption>\n",
       "<thead>\n",
       "\t<tr><th scope=col>itype</th><th scope=col>N</th></tr>\n",
       "\t<tr><th scope=col>&lt;chr&gt;</th><th scope=col>&lt;int&gt;</th></tr>\n",
       "</thead>\n",
       "<tbody>\n",
       "\t<tr><td>PR</td><td>1041</td></tr>\n",
       "\t<tr><td>UP</td><td> 870</td></tr>\n",
       "</tbody>\n",
       "</table>\n"
      ],
      "text/latex": [
       "A data.table: 2 × 2\n",
       "\\begin{tabular}{ll}\n",
       " itype & N\\\\\n",
       " <chr> & <int>\\\\\n",
       "\\hline\n",
       "\t PR & 1041\\\\\n",
       "\t UP &  870\\\\\n",
       "\\end{tabular}\n"
      ],
      "text/markdown": [
       "\n",
       "A data.table: 2 × 2\n",
       "\n",
       "| itype &lt;chr&gt; | N &lt;int&gt; |\n",
       "|---|---|\n",
       "| PR | 1041 |\n",
       "| UP |  870 |\n",
       "\n"
      ],
      "text/plain": [
       "  itype N   \n",
       "1 PR    1041\n",
       "2 UP     870"
      ]
     },
     "metadata": {},
     "output_type": "display_data"
    }
   ],
   "source": [
    "sqtl[ctype == \"PR,UP\"][, .N, by = itype]\n"
   ]
  }
 ],
 "metadata": {
  "kernelspec": {
   "display_name": "R",
   "language": "R",
   "name": "ir"
  },
  "language_info": {
   "codemirror_mode": "r",
   "file_extension": ".r",
   "mimetype": "text/x-r-source",
   "name": "R",
   "pygments_lexer": "r",
   "version": "4.3.1"
  }
 },
 "nbformat": 4,
 "nbformat_minor": 2
}
